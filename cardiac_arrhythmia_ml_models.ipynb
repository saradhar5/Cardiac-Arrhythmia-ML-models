{
 "cells": [
  {
   "cell_type": "markdown",
   "metadata": {},
   "source": [
    "#### Exam 2 Solution \n",
    "\n",
    "The required packages are imported into the notebook."
   ]
  },
  {
   "cell_type": "code",
   "execution_count": 245,
   "metadata": {},
   "outputs": [],
   "source": [
    "import numpy as np\n",
    "import pandas as pd\n",
    "import matplotlib.pyplot as plt\n",
    "from pandas.plotting import scatter_matrix\n",
    "import seaborn as sns\n",
    "import warnings\n",
    "from sklearn.model_selection import train_test_split\n",
    "from sklearn.preprocessing import MinMaxScaler\n",
    "from sklearn.ensemble import VotingClassifier\n",
    "from sklearn.metrics import recall_score\n",
    "from  sklearn.metrics import accuracy_score\n",
    "from  sklearn.metrics import precision_score\n",
    "\n",
    "import warnings\n",
    "warnings.filterwarnings('ignore')"
   ]
  },
  {
   "cell_type": "code",
   "execution_count": 246,
   "metadata": {},
   "outputs": [],
   "source": [
    "from IPython.core.interactiveshell import InteractiveShell\n",
    "InteractiveShell.ast_node_interactivity = \"all\""
   ]
  },
  {
   "cell_type": "markdown",
   "metadata": {},
   "source": [
    "The train csv files for cardiac arrhythmia dataset is loaded into dataframes"
   ]
  },
  {
   "cell_type": "markdown",
   "metadata": {},
   "source": [
    "Since we have '?' in the dataset, we are replacing it by null values."
   ]
  },
  {
   "cell_type": "code",
   "execution_count": 247,
   "metadata": {},
   "outputs": [],
   "source": [
    "train=pd.read_csv(\"train.csv\", na_values='?')"
   ]
  },
  {
   "cell_type": "markdown",
   "metadata": {},
   "source": [
    "#### Preprocessing the Train dataset"
   ]
  },
  {
   "cell_type": "code",
   "execution_count": 248,
   "metadata": {},
   "outputs": [
    {
     "name": "stdout",
     "output_type": "stream",
     "text": [
      "<class 'pandas.core.frame.DataFrame'>\n",
      "RangeIndex: 400 entries, 0 to 399\n",
      "Data columns (total 281 columns):\n",
      " #   Column                        Dtype  \n",
      "---  ------                        -----  \n",
      " 0   Unnamed: 0                    int64  \n",
      " 1   age                           int64  \n",
      " 2   sex                           int64  \n",
      " 3   height                        int64  \n",
      " 4   weight                        int64  \n",
      " 5   QRSduration                   int64  \n",
      " 6   PRinterval                    int64  \n",
      " 7   Q-Tinterval                   int64  \n",
      " 8   Tinterval                     int64  \n",
      " 9   Pinterval                     int64  \n",
      " 10  QRS                           int64  \n",
      " 11  T                             float64\n",
      " 12  P                             float64\n",
      " 13  QRST                          float64\n",
      " 14  J                             float64\n",
      " 15  heartrate                     float64\n",
      " 16  chDI_Qwave                    int64  \n",
      " 17  chDI_Rwave                    int64  \n",
      " 18  chDI_Swave                    int64  \n",
      " 19  chDI_RPwave                   int64  \n",
      " 20  chDI_SPwave                   int64  \n",
      " 21  chDI_intrinsicReflecttions    int64  \n",
      " 22  chDI_RRwaveExists             int64  \n",
      " 23  chDI_DD_RRwaveExists          int64  \n",
      " 24  chDI_RPwaveExists             int64  \n",
      " 25  chDI_DD_RPwaveExists          int64  \n",
      " 26  chDI_RTwaveExists             int64  \n",
      " 27  chDI_DD_RTwaveExists          int64  \n",
      " 28  chDII_Qwave                   int64  \n",
      " 29  chDII_Rwave                   int64  \n",
      " 30  chDII_Swave                   int64  \n",
      " 31  chDII_RPwave                  int64  \n",
      " 32  chDII_SPwave                  int64  \n",
      " 33  chDII_intrinsicReflecttions   int64  \n",
      " 34  chDII_RRwaveExists            int64  \n",
      " 35  chDII_DD_RRwaveExists         int64  \n",
      " 36  chDII_RPwaveExists            int64  \n",
      " 37  chDII_DD_RPwaveExists         int64  \n",
      " 38  chDII_RTwaveExists            int64  \n",
      " 39  chDII_DD_RTwaveExists         int64  \n",
      " 40  chDIII_Qwave                  int64  \n",
      " 41  chDIII_Rwave                  int64  \n",
      " 42  chDIII_Swave                  int64  \n",
      " 43  chDIII_RPwave                 int64  \n",
      " 44  chDIII_SPwave                 int64  \n",
      " 45  chDIII_intrinsicReflecttions  int64  \n",
      " 46  chDIII_RRwaveExists           int64  \n",
      " 47  chDIII_DD_RRwaveExists        int64  \n",
      " 48  chDIII_RPwaveExists           int64  \n",
      " 49  chDIII_DD_RPwaveExists        int64  \n",
      " 50  chDIII_RTwaveExists           int64  \n",
      " 51  chDIII_DD_RTwaveExists        int64  \n",
      " 52  chAVR_Qwave                   int64  \n",
      " 53  chAVR_Rwave                   int64  \n",
      " 54  chAVR_Swave                   int64  \n",
      " 55  chAVR_RPwave                  int64  \n",
      " 56  chAVR_SPwave                  int64  \n",
      " 57  chAVR_intrinsicReflecttions   int64  \n",
      " 58  chAVR_RRwaveExists            int64  \n",
      " 59  chAVR_DD_RRwaveExists         int64  \n",
      " 60  chAVR_RPwaveExists            int64  \n",
      " 61  chAVR_DD_RPwaveExists         int64  \n",
      " 62  chAVR_RTwaveExists            int64  \n",
      " 63  chAVR_DD_RTwaveExists         int64  \n",
      " 64  chAVL_Qwave                   int64  \n",
      " 65  chAVL_Rwave                   int64  \n",
      " 66  chAVL_Swave                   int64  \n",
      " 67  chAVL_RPwave                  int64  \n",
      " 68  chAVL_SPwave                  int64  \n",
      " 69  chAVL_intrinsicReflecttions   int64  \n",
      " 70  chAVL_RRwaveExists            int64  \n",
      " 71  chAVL_DD_RRwaveExists         int64  \n",
      " 72  chAVL_RPwaveExists            int64  \n",
      " 73  chAVL_DD_RPwaveExists         int64  \n",
      " 74  chAVL_RTwaveExists            int64  \n",
      " 75  chAVL_DD_RTwaveExists         int64  \n",
      " 76  chAVF_Qwave                   int64  \n",
      " 77  chAVF_Rwave                   int64  \n",
      " 78  chAVF_Swave                   int64  \n",
      " 79  chAVF_RPwave                  int64  \n",
      " 80  chAVF_SPwave                  int64  \n",
      " 81  chAVF_intrinsicReflecttions   int64  \n",
      " 82  chAVF_RRwaveExists            int64  \n",
      " 83  chAVF_DD_RRwaveExists         int64  \n",
      " 84  chAVF_RPwaveExists            int64  \n",
      " 85  chAVF_DD_RPwaveExists         int64  \n",
      " 86  chAVF_RTwaveExists            int64  \n",
      " 87  chAVF_DD_RTwaveExists         int64  \n",
      " 88  chV1_Qwave                    int64  \n",
      " 89  chV1_Rwave                    int64  \n",
      " 90  chV1_Swave                    int64  \n",
      " 91  chV1_RPwave                   int64  \n",
      " 92  chV1_SPwave                   int64  \n",
      " 93  chV1_intrinsicReflecttions    int64  \n",
      " 94  chV1_RRwaveExists             int64  \n",
      " 95  chV1_DD_RRwaveExists          int64  \n",
      " 96  chV1_RPwaveExists             int64  \n",
      " 97  chV1_DD_RPwaveExists          int64  \n",
      " 98  chV1_RTwaveExists             int64  \n",
      " 99  chV1_DD_RTwaveExists          int64  \n",
      " 100 chV2_Qwave                    int64  \n",
      " 101 chV2_Rwave                    int64  \n",
      " 102 chV2_Swave                    int64  \n",
      " 103 chV2_RPwave                   int64  \n",
      " 104 chV2_SPwave                   int64  \n",
      " 105 chV2_intrinsicReflecttions    int64  \n",
      " 106 chV2_RRwaveExists             int64  \n",
      " 107 chV2_DD_RRwaveExists          int64  \n",
      " 108 chV2_RPwaveExists             int64  \n",
      " 109 chV2_DD_RPwaveExists          int64  \n",
      " 110 chV2_RTwaveExists             int64  \n",
      " 111 chV2_DD_RTwaveExists          int64  \n",
      " 112 chV3_Qwave                    int64  \n",
      " 113 chV3_Rwave                    int64  \n",
      " 114 chV3_Swave                    int64  \n",
      " 115 chV3_RPwave                   int64  \n",
      " 116 chV3_SPwave                   int64  \n",
      " 117 chV3_intrinsicReflecttions    int64  \n",
      " 118 chV3_RRwaveExists             int64  \n",
      " 119 chV3_DD_RRwaveExists          int64  \n",
      " 120 chV3_RPwaveExists             int64  \n",
      " 121 chV3_DD_RPwaveExists          int64  \n",
      " 122 chV3_RTwaveExists             int64  \n",
      " 123 chV3_DD_RTwaveExists          int64  \n",
      " 124 chV4_Qwave                    int64  \n",
      " 125 chV4_Rwave                    int64  \n",
      " 126 chV4_Swave                    int64  \n",
      " 127 chV4_RPwave                   int64  \n",
      " 128 chV4_SPwave                   int64  \n",
      " 129 chV4_intrinsicReflecttions    int64  \n",
      " 130 chV4_RRwaveExists             int64  \n",
      " 131 chV4_DD_RRwaveExists          int64  \n",
      " 132 chV4_RPwaveExists             int64  \n",
      " 133 chV4_DD_RPwaveExists          int64  \n",
      " 134 chV4_RTwaveExists             int64  \n",
      " 135 chV4_DD_RTwaveExists          int64  \n",
      " 136 chV5_Qwave                    int64  \n",
      " 137 chV5_Rwave                    int64  \n",
      " 138 chV5_Swave                    int64  \n",
      " 139 chV5_RPwave                   int64  \n",
      " 140 chV5_SPwave                   int64  \n",
      " 141 chV5_intrinsicReflecttions    int64  \n",
      " 142 chV5_RRwaveExists             int64  \n",
      " 143 chV5_DD_RRwaveExists          int64  \n",
      " 144 chV5_RPwaveExists             int64  \n",
      " 145 chV5_DD_RPwaveExists          int64  \n",
      " 146 chV5_RTwaveExists             int64  \n",
      " 147 chV5_DD_RTwaveExists          int64  \n",
      " 148 chV6_Qwave                    int64  \n",
      " 149 chV6_Rwave                    int64  \n",
      " 150 chV6_Swave                    int64  \n",
      " 151 chV6_RPwave                   int64  \n",
      " 152 chV6_SPwave                   int64  \n",
      " 153 chV6_intrinsicReflecttions    int64  \n",
      " 154 chV6_RRwaveExists             int64  \n",
      " 155 chV6_DD_RRwaveExists          int64  \n",
      " 156 chV6_RPwaveExists             int64  \n",
      " 157 chV6_DD_RPwaveExists          int64  \n",
      " 158 chV6_RTwaveExists             int64  \n",
      " 159 chV6_DD_RTwaveExists          int64  \n",
      " 160 chDI_JJwaveAmp                float64\n",
      " 161 chDI_QwaveAmp                 float64\n",
      " 162 chDI_RwaveAmp                 float64\n",
      " 163 chDI_SwaveAmp                 float64\n",
      " 164 chDI_RPwaveAmp                float64\n",
      " 165 chDI_SPwaveAmp                int64  \n",
      " 166 chDI_PwaveAmp                 float64\n",
      " 167 chDI_TwaveAmp                 float64\n",
      " 168 chDI_QRSA                     float64\n",
      " 169 chDI_QRSTA                    float64\n",
      " 170 chDII_JJwaveAmp               float64\n",
      " 171 chDII_QwaveAmp                float64\n",
      " 172 chDII_RwaveAmp                float64\n",
      " 173 chDII_SwaveAmp                float64\n",
      " 174 chDII_RPwaveAmp               float64\n",
      " 175 chDII_SPwaveAmp               float64\n",
      " 176 chDII_PwaveAmp                float64\n",
      " 177 chDII_TwaveAmp                float64\n",
      " 178 chDII_QRSA                    float64\n",
      " 179 chDII_QRSTA                   float64\n",
      " 180 chDIII_JJwaveAmp              float64\n",
      " 181 chDIII_QwaveAmp               float64\n",
      " 182 chDIII_RwaveAmp               float64\n",
      " 183 chDIII_SwaveAmp               float64\n",
      " 184 chDIII_RPwaveAmp              float64\n",
      " 185 chDIII_SPwaveAmp              float64\n",
      " 186 chDIII_PwaveAmp               float64\n",
      " 187 chDIII_TwaveAmp               float64\n",
      " 188 chDIII_QRSA                   float64\n",
      " 189 chDIII_QRSTA                  float64\n",
      " 190 chAVR_JJwaveAmp               float64\n",
      " 191 chAVR_QwaveAmp                float64\n",
      " 192 chAVR_RwaveAmp                float64\n",
      " 193 chAVR_SwaveAmp                float64\n",
      " 194 chAVR_RPwaveAmp               float64\n",
      " 195 chAVR_SPwaveAmp               float64\n",
      " 196 chAVR_PwaveAmp                float64\n",
      " 197 chAVR_TwaveAmp                float64\n",
      " 198 chAVR_QRSA                    float64\n",
      " 199 chAVR_QRSTA                   float64\n",
      " 200 chAVL_JJwaveAmp               float64\n",
      " 201 chAVL_QwaveAmp                float64\n",
      " 202 chAVL_RwaveAmp                float64\n",
      " 203 chAVL_SwaveAmp                float64\n",
      " 204 chAVL_RPwaveAmp               float64\n",
      " 205 chAVL_SPwaveAmp               int64  \n",
      " 206 chAVL_PwaveAmp                float64\n",
      " 207 chAVL_TwaveAmp                float64\n",
      " 208 chAVL_QRSA                    float64\n",
      " 209 chAVL_QRSTA                   float64\n",
      " 210 chAVF_JJwaveAmp               float64\n",
      " 211 chAVF_QwaveAmp                float64\n",
      " 212 chAVF_RwaveAmp                float64\n",
      " 213 chAVF_SwaveAmp                float64\n",
      " 214 chAVF_RPwaveAmp               float64\n",
      " 215 chAVF_SPwaveAmp               float64\n",
      " 216 chAVF_PwaveAmp                float64\n",
      " 217 chAVF_TwaveAmp                float64\n",
      " 218 chAVF_QRSA                    float64\n",
      " 219 chAVF_QRSTA                   float64\n",
      " 220 chV1_JJwaveAmp                float64\n",
      " 221 chV1_QwaveAmp                 float64\n",
      " 222 chV1_RwaveAmp                 float64\n",
      " 223 chV1_SwaveAmp                 float64\n",
      " 224 chV1_RPwaveAmp                float64\n",
      " 225 chV1_SPwaveAmp                float64\n",
      " 226 chV1_PwaveAmp                 float64\n",
      " 227 chV1_TwaveAmp                 float64\n",
      " 228 chV1_QRSA                     float64\n",
      " 229 chV1_QRSTA                    float64\n",
      " 230 chV2_JJwaveAmp                float64\n",
      " 231 chV2_QwaveAmp                 float64\n",
      " 232 chV2_RwaveAmp                 float64\n",
      " 233 chV2_SwaveAmp                 float64\n",
      " 234 chV2_RPwaveAmp                float64\n",
      " 235 chV2_SPwaveAmp                float64\n",
      " 236 chV2_PwaveAmp                 float64\n",
      " 237 chV2_TwaveAmp                 float64\n",
      " 238 chV2_QRSA                     float64\n",
      " 239 chV2_QRSTA                    float64\n",
      " 240 chV3_JJwaveAmp                float64\n",
      " 241 chV3_QwaveAmp                 float64\n",
      " 242 chV3_RwaveAmp                 float64\n",
      " 243 chV3_SwaveAmp                 float64\n",
      " 244 chV3_RPwaveAmp                float64\n",
      " 245 chV3_SPwaveAmp                float64\n",
      " 246 chV3_PwaveAmp                 float64\n",
      " 247 chV3_TwaveAmp                 float64\n",
      " 248 chV3_QRSA                     float64\n",
      " 249 chV3_QRSTA                    float64\n",
      " 250 chV4_JJwaveAmp                float64\n",
      " 251 chV4_QwaveAmp                 float64\n",
      " 252 chV4_RwaveAmp                 float64\n",
      " 253 chV4_SwaveAmp                 float64\n",
      " 254 chV4_RPwaveAmp                float64\n",
      " 255 chV4_SPwaveAmp                float64\n",
      " 256 chV4_PwaveAmp                 float64\n",
      " 257 chV4_TwaveAmp                 float64\n",
      " 258 chV4_QRSA                     float64\n",
      " 259 chV4_QRSTA                    float64\n",
      " 260 chV5_JJwaveAmp                float64\n",
      " 261 chV5_QwaveAmp                 float64\n",
      " 262 chV5_RwaveAmp                 float64\n",
      " 263 chV5_SwaveAmp                 float64\n",
      " 264 chV5_RPwaveAmp                float64\n",
      " 265 chV5_SPwaveAmp                int64  \n",
      " 266 chV5_PwaveAmp                 float64\n",
      " 267 chV5_TwaveAmp                 float64\n",
      " 268 chV5_QRSA                     float64\n",
      " 269 chV5_QRSTA                    float64\n",
      " 270 chV6_JJwaveAmp                float64\n",
      " 271 chV6_QwaveAmp                 float64\n",
      " 272 chV6_RwaveAmp                 float64\n",
      " 273 chV6_SwaveAmp                 float64\n",
      " 274 chV6_RPwaveAmp                float64\n",
      " 275 chV6_SPwaveAmp                int64  \n",
      " 276 chV6_PwaveAmp                 float64\n",
      " 277 chV6_TwaveAmp                 float64\n",
      " 278 chV6_QRSA                     float64\n",
      " 279 chV6_QRSTA                    float64\n",
      " 280 class                         int64  \n",
      "dtypes: float64(121), int64(160)\n",
      "memory usage: 878.2 KB\n"
     ]
    }
   ],
   "source": [
    "train.info(100)"
   ]
  },
  {
   "cell_type": "code",
   "execution_count": 249,
   "metadata": {},
   "outputs": [
    {
     "data": {
      "text/html": [
       "<div>\n",
       "<style scoped>\n",
       "    .dataframe tbody tr th:only-of-type {\n",
       "        vertical-align: middle;\n",
       "    }\n",
       "\n",
       "    .dataframe tbody tr th {\n",
       "        vertical-align: top;\n",
       "    }\n",
       "\n",
       "    .dataframe thead th {\n",
       "        text-align: right;\n",
       "    }\n",
       "</style>\n",
       "<table border=\"1\" class=\"dataframe\">\n",
       "  <thead>\n",
       "    <tr style=\"text-align: right;\">\n",
       "      <th></th>\n",
       "      <th>Unnamed: 0</th>\n",
       "      <th>age</th>\n",
       "      <th>sex</th>\n",
       "      <th>height</th>\n",
       "      <th>weight</th>\n",
       "      <th>QRSduration</th>\n",
       "      <th>PRinterval</th>\n",
       "      <th>Q-Tinterval</th>\n",
       "      <th>Tinterval</th>\n",
       "      <th>Pinterval</th>\n",
       "      <th>...</th>\n",
       "      <th>chV6_QwaveAmp</th>\n",
       "      <th>chV6_RwaveAmp</th>\n",
       "      <th>chV6_SwaveAmp</th>\n",
       "      <th>chV6_RPwaveAmp</th>\n",
       "      <th>chV6_SPwaveAmp</th>\n",
       "      <th>chV6_PwaveAmp</th>\n",
       "      <th>chV6_TwaveAmp</th>\n",
       "      <th>chV6_QRSA</th>\n",
       "      <th>chV6_QRSTA</th>\n",
       "      <th>class</th>\n",
       "    </tr>\n",
       "  </thead>\n",
       "  <tbody>\n",
       "    <tr>\n",
       "      <th>0</th>\n",
       "      <td>124</td>\n",
       "      <td>37</td>\n",
       "      <td>1</td>\n",
       "      <td>159</td>\n",
       "      <td>56</td>\n",
       "      <td>75</td>\n",
       "      <td>162</td>\n",
       "      <td>339</td>\n",
       "      <td>141</td>\n",
       "      <td>96</td>\n",
       "      <td>...</td>\n",
       "      <td>0.0</td>\n",
       "      <td>5.0</td>\n",
       "      <td>-1.3</td>\n",
       "      <td>0.0</td>\n",
       "      <td>0</td>\n",
       "      <td>0.4</td>\n",
       "      <td>1.2</td>\n",
       "      <td>9.4</td>\n",
       "      <td>16.6</td>\n",
       "      <td>1</td>\n",
       "    </tr>\n",
       "    <tr>\n",
       "      <th>1</th>\n",
       "      <td>54</td>\n",
       "      <td>52</td>\n",
       "      <td>0</td>\n",
       "      <td>165</td>\n",
       "      <td>80</td>\n",
       "      <td>88</td>\n",
       "      <td>202</td>\n",
       "      <td>369</td>\n",
       "      <td>113</td>\n",
       "      <td>97</td>\n",
       "      <td>...</td>\n",
       "      <td>-0.5</td>\n",
       "      <td>10.7</td>\n",
       "      <td>-1.7</td>\n",
       "      <td>0.0</td>\n",
       "      <td>0</td>\n",
       "      <td>0.4</td>\n",
       "      <td>-0.3</td>\n",
       "      <td>19.6</td>\n",
       "      <td>17.7</td>\n",
       "      <td>16</td>\n",
       "    </tr>\n",
       "    <tr>\n",
       "      <th>2</th>\n",
       "      <td>298</td>\n",
       "      <td>12</td>\n",
       "      <td>1</td>\n",
       "      <td>165</td>\n",
       "      <td>47</td>\n",
       "      <td>91</td>\n",
       "      <td>0</td>\n",
       "      <td>359</td>\n",
       "      <td>152</td>\n",
       "      <td>0</td>\n",
       "      <td>...</td>\n",
       "      <td>0.0</td>\n",
       "      <td>8.8</td>\n",
       "      <td>-0.6</td>\n",
       "      <td>0.0</td>\n",
       "      <td>0</td>\n",
       "      <td>-0.4</td>\n",
       "      <td>1.6</td>\n",
       "      <td>24.0</td>\n",
       "      <td>38.0</td>\n",
       "      <td>10</td>\n",
       "    </tr>\n",
       "    <tr>\n",
       "      <th>3</th>\n",
       "      <td>311</td>\n",
       "      <td>80</td>\n",
       "      <td>0</td>\n",
       "      <td>160</td>\n",
       "      <td>70</td>\n",
       "      <td>90</td>\n",
       "      <td>201</td>\n",
       "      <td>404</td>\n",
       "      <td>157</td>\n",
       "      <td>111</td>\n",
       "      <td>...</td>\n",
       "      <td>0.0</td>\n",
       "      <td>13.0</td>\n",
       "      <td>-1.9</td>\n",
       "      <td>0.0</td>\n",
       "      <td>0</td>\n",
       "      <td>0.9</td>\n",
       "      <td>0.4</td>\n",
       "      <td>26.7</td>\n",
       "      <td>30.3</td>\n",
       "      <td>1</td>\n",
       "    </tr>\n",
       "    <tr>\n",
       "      <th>4</th>\n",
       "      <td>230</td>\n",
       "      <td>72</td>\n",
       "      <td>0</td>\n",
       "      <td>171</td>\n",
       "      <td>74</td>\n",
       "      <td>77</td>\n",
       "      <td>172</td>\n",
       "      <td>330</td>\n",
       "      <td>140</td>\n",
       "      <td>104</td>\n",
       "      <td>...</td>\n",
       "      <td>0.0</td>\n",
       "      <td>6.8</td>\n",
       "      <td>0.0</td>\n",
       "      <td>0.0</td>\n",
       "      <td>0</td>\n",
       "      <td>0.7</td>\n",
       "      <td>0.8</td>\n",
       "      <td>25.8</td>\n",
       "      <td>31.4</td>\n",
       "      <td>1</td>\n",
       "    </tr>\n",
       "    <tr>\n",
       "      <th>5</th>\n",
       "      <td>134</td>\n",
       "      <td>41</td>\n",
       "      <td>1</td>\n",
       "      <td>155</td>\n",
       "      <td>56</td>\n",
       "      <td>80</td>\n",
       "      <td>134</td>\n",
       "      <td>362</td>\n",
       "      <td>156</td>\n",
       "      <td>58</td>\n",
       "      <td>...</td>\n",
       "      <td>0.0</td>\n",
       "      <td>7.1</td>\n",
       "      <td>-1.4</td>\n",
       "      <td>0.0</td>\n",
       "      <td>0</td>\n",
       "      <td>0.6</td>\n",
       "      <td>2.9</td>\n",
       "      <td>12.8</td>\n",
       "      <td>38.9</td>\n",
       "      <td>10</td>\n",
       "    </tr>\n",
       "    <tr>\n",
       "      <th>6</th>\n",
       "      <td>12</td>\n",
       "      <td>54</td>\n",
       "      <td>1</td>\n",
       "      <td>172</td>\n",
       "      <td>58</td>\n",
       "      <td>78</td>\n",
       "      <td>155</td>\n",
       "      <td>382</td>\n",
       "      <td>163</td>\n",
       "      <td>81</td>\n",
       "      <td>...</td>\n",
       "      <td>0.0</td>\n",
       "      <td>6.3</td>\n",
       "      <td>-2.1</td>\n",
       "      <td>0.0</td>\n",
       "      <td>0</td>\n",
       "      <td>0.8</td>\n",
       "      <td>0.5</td>\n",
       "      <td>8.8</td>\n",
       "      <td>12.1</td>\n",
       "      <td>10</td>\n",
       "    </tr>\n",
       "    <tr>\n",
       "      <th>7</th>\n",
       "      <td>388</td>\n",
       "      <td>44</td>\n",
       "      <td>0</td>\n",
       "      <td>170</td>\n",
       "      <td>84</td>\n",
       "      <td>188</td>\n",
       "      <td>125</td>\n",
       "      <td>458</td>\n",
       "      <td>261</td>\n",
       "      <td>75</td>\n",
       "      <td>...</td>\n",
       "      <td>0.0</td>\n",
       "      <td>12.0</td>\n",
       "      <td>0.0</td>\n",
       "      <td>0.0</td>\n",
       "      <td>0</td>\n",
       "      <td>0.5</td>\n",
       "      <td>-6.0</td>\n",
       "      <td>86.4</td>\n",
       "      <td>8.4</td>\n",
       "      <td>9</td>\n",
       "    </tr>\n",
       "    <tr>\n",
       "      <th>8</th>\n",
       "      <td>392</td>\n",
       "      <td>51</td>\n",
       "      <td>1</td>\n",
       "      <td>165</td>\n",
       "      <td>85</td>\n",
       "      <td>81</td>\n",
       "      <td>158</td>\n",
       "      <td>357</td>\n",
       "      <td>148</td>\n",
       "      <td>109</td>\n",
       "      <td>...</td>\n",
       "      <td>0.0</td>\n",
       "      <td>12.4</td>\n",
       "      <td>-1.9</td>\n",
       "      <td>0.0</td>\n",
       "      <td>0</td>\n",
       "      <td>0.5</td>\n",
       "      <td>1.0</td>\n",
       "      <td>31.3</td>\n",
       "      <td>37.5</td>\n",
       "      <td>1</td>\n",
       "    </tr>\n",
       "    <tr>\n",
       "      <th>9</th>\n",
       "      <td>76</td>\n",
       "      <td>45</td>\n",
       "      <td>0</td>\n",
       "      <td>177</td>\n",
       "      <td>72</td>\n",
       "      <td>94</td>\n",
       "      <td>164</td>\n",
       "      <td>431</td>\n",
       "      <td>158</td>\n",
       "      <td>81</td>\n",
       "      <td>...</td>\n",
       "      <td>-1.9</td>\n",
       "      <td>0.0</td>\n",
       "      <td>0.0</td>\n",
       "      <td>0.0</td>\n",
       "      <td>0</td>\n",
       "      <td>0.6</td>\n",
       "      <td>-2.2</td>\n",
       "      <td>-8.3</td>\n",
       "      <td>-38.6</td>\n",
       "      <td>3</td>\n",
       "    </tr>\n",
       "  </tbody>\n",
       "</table>\n",
       "<p>10 rows × 281 columns</p>\n",
       "</div>"
      ],
      "text/plain": [
       "   Unnamed: 0  age  sex  height  weight  QRSduration  PRinterval  Q-Tinterval  \\\n",
       "0         124   37    1     159      56           75         162          339   \n",
       "1          54   52    0     165      80           88         202          369   \n",
       "2         298   12    1     165      47           91           0          359   \n",
       "3         311   80    0     160      70           90         201          404   \n",
       "4         230   72    0     171      74           77         172          330   \n",
       "5         134   41    1     155      56           80         134          362   \n",
       "6          12   54    1     172      58           78         155          382   \n",
       "7         388   44    0     170      84          188         125          458   \n",
       "8         392   51    1     165      85           81         158          357   \n",
       "9          76   45    0     177      72           94         164          431   \n",
       "\n",
       "   Tinterval  Pinterval  ...  chV6_QwaveAmp  chV6_RwaveAmp  chV6_SwaveAmp  \\\n",
       "0        141         96  ...            0.0            5.0           -1.3   \n",
       "1        113         97  ...           -0.5           10.7           -1.7   \n",
       "2        152          0  ...            0.0            8.8           -0.6   \n",
       "3        157        111  ...            0.0           13.0           -1.9   \n",
       "4        140        104  ...            0.0            6.8            0.0   \n",
       "5        156         58  ...            0.0            7.1           -1.4   \n",
       "6        163         81  ...            0.0            6.3           -2.1   \n",
       "7        261         75  ...            0.0           12.0            0.0   \n",
       "8        148        109  ...            0.0           12.4           -1.9   \n",
       "9        158         81  ...           -1.9            0.0            0.0   \n",
       "\n",
       "   chV6_RPwaveAmp  chV6_SPwaveAmp  chV6_PwaveAmp  chV6_TwaveAmp  chV6_QRSA  \\\n",
       "0             0.0               0            0.4            1.2        9.4   \n",
       "1             0.0               0            0.4           -0.3       19.6   \n",
       "2             0.0               0           -0.4            1.6       24.0   \n",
       "3             0.0               0            0.9            0.4       26.7   \n",
       "4             0.0               0            0.7            0.8       25.8   \n",
       "5             0.0               0            0.6            2.9       12.8   \n",
       "6             0.0               0            0.8            0.5        8.8   \n",
       "7             0.0               0            0.5           -6.0       86.4   \n",
       "8             0.0               0            0.5            1.0       31.3   \n",
       "9             0.0               0            0.6           -2.2       -8.3   \n",
       "\n",
       "   chV6_QRSTA  class  \n",
       "0        16.6      1  \n",
       "1        17.7     16  \n",
       "2        38.0     10  \n",
       "3        30.3      1  \n",
       "4        31.4      1  \n",
       "5        38.9     10  \n",
       "6        12.1     10  \n",
       "7         8.4      9  \n",
       "8        37.5      1  \n",
       "9       -38.6      3  \n",
       "\n",
       "[10 rows x 281 columns]"
      ]
     },
     "execution_count": 249,
     "metadata": {},
     "output_type": "execute_result"
    }
   ],
   "source": [
    "train.head(10)"
   ]
  },
  {
   "cell_type": "code",
   "execution_count": 250,
   "metadata": {},
   "outputs": [
    {
     "data": {
      "text/html": [
       "<div>\n",
       "<style scoped>\n",
       "    .dataframe tbody tr th:only-of-type {\n",
       "        vertical-align: middle;\n",
       "    }\n",
       "\n",
       "    .dataframe tbody tr th {\n",
       "        vertical-align: top;\n",
       "    }\n",
       "\n",
       "    .dataframe thead th {\n",
       "        text-align: right;\n",
       "    }\n",
       "</style>\n",
       "<table border=\"1\" class=\"dataframe\">\n",
       "  <thead>\n",
       "    <tr style=\"text-align: right;\">\n",
       "      <th></th>\n",
       "      <th>Unnamed: 0</th>\n",
       "      <th>age</th>\n",
       "      <th>sex</th>\n",
       "      <th>height</th>\n",
       "      <th>weight</th>\n",
       "      <th>QRSduration</th>\n",
       "      <th>PRinterval</th>\n",
       "      <th>Q-Tinterval</th>\n",
       "      <th>Tinterval</th>\n",
       "      <th>Pinterval</th>\n",
       "      <th>...</th>\n",
       "      <th>chV6_QwaveAmp</th>\n",
       "      <th>chV6_RwaveAmp</th>\n",
       "      <th>chV6_SwaveAmp</th>\n",
       "      <th>chV6_RPwaveAmp</th>\n",
       "      <th>chV6_SPwaveAmp</th>\n",
       "      <th>chV6_PwaveAmp</th>\n",
       "      <th>chV6_TwaveAmp</th>\n",
       "      <th>chV6_QRSA</th>\n",
       "      <th>chV6_QRSTA</th>\n",
       "      <th>class</th>\n",
       "    </tr>\n",
       "  </thead>\n",
       "  <tbody>\n",
       "    <tr>\n",
       "      <th>count</th>\n",
       "      <td>400.000000</td>\n",
       "      <td>400.000000</td>\n",
       "      <td>400.000000</td>\n",
       "      <td>400.000000</td>\n",
       "      <td>400.000000</td>\n",
       "      <td>400.000000</td>\n",
       "      <td>400.000000</td>\n",
       "      <td>400.000000</td>\n",
       "      <td>400.000000</td>\n",
       "      <td>400.000000</td>\n",
       "      <td>...</td>\n",
       "      <td>400.000000</td>\n",
       "      <td>400.000000</td>\n",
       "      <td>400.000000</td>\n",
       "      <td>400.000000</td>\n",
       "      <td>400.0</td>\n",
       "      <td>400.000000</td>\n",
       "      <td>400.000000</td>\n",
       "      <td>400.000000</td>\n",
       "      <td>400.000000</td>\n",
       "      <td>400.000000</td>\n",
       "    </tr>\n",
       "    <tr>\n",
       "      <th>mean</th>\n",
       "      <td>225.977500</td>\n",
       "      <td>46.687500</td>\n",
       "      <td>0.552500</td>\n",
       "      <td>166.195000</td>\n",
       "      <td>67.857500</td>\n",
       "      <td>88.740000</td>\n",
       "      <td>155.955000</td>\n",
       "      <td>368.542500</td>\n",
       "      <td>169.597500</td>\n",
       "      <td>90.235000</td>\n",
       "      <td>...</td>\n",
       "      <td>-0.264250</td>\n",
       "      <td>9.025000</td>\n",
       "      <td>-1.491750</td>\n",
       "      <td>0.004500</td>\n",
       "      <td>0.0</td>\n",
       "      <td>0.520000</td>\n",
       "      <td>1.247250</td>\n",
       "      <td>19.149250</td>\n",
       "      <td>29.540750</td>\n",
       "      <td>3.902500</td>\n",
       "    </tr>\n",
       "    <tr>\n",
       "      <th>std</th>\n",
       "      <td>131.543019</td>\n",
       "      <td>16.858243</td>\n",
       "      <td>0.497859</td>\n",
       "      <td>39.398701</td>\n",
       "      <td>17.063708</td>\n",
       "      <td>15.321203</td>\n",
       "      <td>45.034634</td>\n",
       "      <td>33.225412</td>\n",
       "      <td>35.550317</td>\n",
       "      <td>25.326535</td>\n",
       "      <td>...</td>\n",
       "      <td>0.528768</td>\n",
       "      <td>3.490801</td>\n",
       "      <td>2.079596</td>\n",
       "      <td>0.053262</td>\n",
       "      <td>0.0</td>\n",
       "      <td>0.350367</td>\n",
       "      <td>1.429476</td>\n",
       "      <td>13.758867</td>\n",
       "      <td>19.119788</td>\n",
       "      <td>4.353202</td>\n",
       "    </tr>\n",
       "    <tr>\n",
       "      <th>min</th>\n",
       "      <td>0.000000</td>\n",
       "      <td>0.000000</td>\n",
       "      <td>0.000000</td>\n",
       "      <td>105.000000</td>\n",
       "      <td>6.000000</td>\n",
       "      <td>55.000000</td>\n",
       "      <td>0.000000</td>\n",
       "      <td>232.000000</td>\n",
       "      <td>108.000000</td>\n",
       "      <td>0.000000</td>\n",
       "      <td>...</td>\n",
       "      <td>-4.100000</td>\n",
       "      <td>0.000000</td>\n",
       "      <td>-28.600000</td>\n",
       "      <td>0.000000</td>\n",
       "      <td>0.0</td>\n",
       "      <td>-0.800000</td>\n",
       "      <td>-6.000000</td>\n",
       "      <td>-44.200000</td>\n",
       "      <td>-38.600000</td>\n",
       "      <td>1.000000</td>\n",
       "    </tr>\n",
       "    <tr>\n",
       "      <th>25%</th>\n",
       "      <td>110.750000</td>\n",
       "      <td>36.000000</td>\n",
       "      <td>0.000000</td>\n",
       "      <td>160.000000</td>\n",
       "      <td>59.000000</td>\n",
       "      <td>80.000000</td>\n",
       "      <td>142.000000</td>\n",
       "      <td>352.000000</td>\n",
       "      <td>148.000000</td>\n",
       "      <td>79.000000</td>\n",
       "      <td>...</td>\n",
       "      <td>-0.400000</td>\n",
       "      <td>6.500000</td>\n",
       "      <td>-2.100000</td>\n",
       "      <td>0.000000</td>\n",
       "      <td>0.0</td>\n",
       "      <td>0.400000</td>\n",
       "      <td>0.500000</td>\n",
       "      <td>11.000000</td>\n",
       "      <td>16.700000</td>\n",
       "      <td>1.000000</td>\n",
       "    </tr>\n",
       "    <tr>\n",
       "      <th>50%</th>\n",
       "      <td>227.500000</td>\n",
       "      <td>47.000000</td>\n",
       "      <td>1.000000</td>\n",
       "      <td>164.000000</td>\n",
       "      <td>68.000000</td>\n",
       "      <td>86.000000</td>\n",
       "      <td>157.000000</td>\n",
       "      <td>368.000000</td>\n",
       "      <td>162.000000</td>\n",
       "      <td>90.500000</td>\n",
       "      <td>...</td>\n",
       "      <td>0.000000</td>\n",
       "      <td>8.750000</td>\n",
       "      <td>-1.200000</td>\n",
       "      <td>0.000000</td>\n",
       "      <td>0.0</td>\n",
       "      <td>0.500000</td>\n",
       "      <td>1.300000</td>\n",
       "      <td>18.100000</td>\n",
       "      <td>27.900000</td>\n",
       "      <td>1.000000</td>\n",
       "    </tr>\n",
       "    <tr>\n",
       "      <th>75%</th>\n",
       "      <td>342.250000</td>\n",
       "      <td>59.000000</td>\n",
       "      <td>1.000000</td>\n",
       "      <td>170.000000</td>\n",
       "      <td>79.000000</td>\n",
       "      <td>94.000000</td>\n",
       "      <td>175.000000</td>\n",
       "      <td>386.000000</td>\n",
       "      <td>178.000000</td>\n",
       "      <td>102.000000</td>\n",
       "      <td>...</td>\n",
       "      <td>0.000000</td>\n",
       "      <td>11.200000</td>\n",
       "      <td>0.000000</td>\n",
       "      <td>0.000000</td>\n",
       "      <td>0.0</td>\n",
       "      <td>0.700000</td>\n",
       "      <td>2.100000</td>\n",
       "      <td>25.825000</td>\n",
       "      <td>41.400000</td>\n",
       "      <td>6.000000</td>\n",
       "    </tr>\n",
       "    <tr>\n",
       "      <th>max</th>\n",
       "      <td>451.000000</td>\n",
       "      <td>83.000000</td>\n",
       "      <td>1.000000</td>\n",
       "      <td>780.000000</td>\n",
       "      <td>176.000000</td>\n",
       "      <td>188.000000</td>\n",
       "      <td>524.000000</td>\n",
       "      <td>509.000000</td>\n",
       "      <td>381.000000</td>\n",
       "      <td>205.000000</td>\n",
       "      <td>...</td>\n",
       "      <td>0.000000</td>\n",
       "      <td>23.600000</td>\n",
       "      <td>0.000000</td>\n",
       "      <td>0.800000</td>\n",
       "      <td>0.0</td>\n",
       "      <td>2.400000</td>\n",
       "      <td>6.000000</td>\n",
       "      <td>88.800000</td>\n",
       "      <td>115.900000</td>\n",
       "      <td>16.000000</td>\n",
       "    </tr>\n",
       "  </tbody>\n",
       "</table>\n",
       "<p>8 rows × 281 columns</p>\n",
       "</div>"
      ],
      "text/plain": [
       "       Unnamed: 0         age         sex      height      weight  \\\n",
       "count  400.000000  400.000000  400.000000  400.000000  400.000000   \n",
       "mean   225.977500   46.687500    0.552500  166.195000   67.857500   \n",
       "std    131.543019   16.858243    0.497859   39.398701   17.063708   \n",
       "min      0.000000    0.000000    0.000000  105.000000    6.000000   \n",
       "25%    110.750000   36.000000    0.000000  160.000000   59.000000   \n",
       "50%    227.500000   47.000000    1.000000  164.000000   68.000000   \n",
       "75%    342.250000   59.000000    1.000000  170.000000   79.000000   \n",
       "max    451.000000   83.000000    1.000000  780.000000  176.000000   \n",
       "\n",
       "       QRSduration  PRinterval  Q-Tinterval   Tinterval   Pinterval  ...  \\\n",
       "count   400.000000  400.000000   400.000000  400.000000  400.000000  ...   \n",
       "mean     88.740000  155.955000   368.542500  169.597500   90.235000  ...   \n",
       "std      15.321203   45.034634    33.225412   35.550317   25.326535  ...   \n",
       "min      55.000000    0.000000   232.000000  108.000000    0.000000  ...   \n",
       "25%      80.000000  142.000000   352.000000  148.000000   79.000000  ...   \n",
       "50%      86.000000  157.000000   368.000000  162.000000   90.500000  ...   \n",
       "75%      94.000000  175.000000   386.000000  178.000000  102.000000  ...   \n",
       "max     188.000000  524.000000   509.000000  381.000000  205.000000  ...   \n",
       "\n",
       "       chV6_QwaveAmp  chV6_RwaveAmp  chV6_SwaveAmp  chV6_RPwaveAmp  \\\n",
       "count     400.000000     400.000000     400.000000      400.000000   \n",
       "mean       -0.264250       9.025000      -1.491750        0.004500   \n",
       "std         0.528768       3.490801       2.079596        0.053262   \n",
       "min        -4.100000       0.000000     -28.600000        0.000000   \n",
       "25%        -0.400000       6.500000      -2.100000        0.000000   \n",
       "50%         0.000000       8.750000      -1.200000        0.000000   \n",
       "75%         0.000000      11.200000       0.000000        0.000000   \n",
       "max         0.000000      23.600000       0.000000        0.800000   \n",
       "\n",
       "       chV6_SPwaveAmp  chV6_PwaveAmp  chV6_TwaveAmp   chV6_QRSA  chV6_QRSTA  \\\n",
       "count           400.0     400.000000     400.000000  400.000000  400.000000   \n",
       "mean              0.0       0.520000       1.247250   19.149250   29.540750   \n",
       "std               0.0       0.350367       1.429476   13.758867   19.119788   \n",
       "min               0.0      -0.800000      -6.000000  -44.200000  -38.600000   \n",
       "25%               0.0       0.400000       0.500000   11.000000   16.700000   \n",
       "50%               0.0       0.500000       1.300000   18.100000   27.900000   \n",
       "75%               0.0       0.700000       2.100000   25.825000   41.400000   \n",
       "max               0.0       2.400000       6.000000   88.800000  115.900000   \n",
       "\n",
       "            class  \n",
       "count  400.000000  \n",
       "mean     3.902500  \n",
       "std      4.353202  \n",
       "min      1.000000  \n",
       "25%      1.000000  \n",
       "50%      1.000000  \n",
       "75%      6.000000  \n",
       "max     16.000000  \n",
       "\n",
       "[8 rows x 281 columns]"
      ]
     },
     "execution_count": 250,
     "metadata": {},
     "output_type": "execute_result"
    }
   ],
   "source": [
    "train.describe()"
   ]
  },
  {
   "cell_type": "markdown",
   "metadata": {},
   "source": [
    "We have a column 'Unnamed' which has logically no significance to the dataset. We do not have knowledge on the column. I could only be an ID. Hence we're dropping that column. "
   ]
  },
  {
   "cell_type": "code",
   "execution_count": 251,
   "metadata": {},
   "outputs": [],
   "source": [
    "train.drop(train.columns[0], inplace = True, axis = 1)"
   ]
  },
  {
   "cell_type": "code",
   "execution_count": 252,
   "metadata": {},
   "outputs": [
    {
     "data": {
      "text/plain": [
       "Index(['T', 'P', 'QRST', 'J', 'heartrate'], dtype='object')"
      ]
     },
     "execution_count": 252,
     "metadata": {},
     "output_type": "execute_result"
    }
   ],
   "source": [
    "train.columns[train.isnull().any()]"
   ]
  },
  {
   "cell_type": "code",
   "execution_count": 253,
   "metadata": {},
   "outputs": [
    {
     "data": {
      "text/plain": [
       "359"
      ]
     },
     "execution_count": 253,
     "metadata": {},
     "output_type": "execute_result"
    }
   ],
   "source": [
    "train.isnull().sum().sum()"
   ]
  },
  {
   "cell_type": "code",
   "execution_count": 254,
   "metadata": {},
   "outputs": [
    {
     "data": {
      "text/plain": [
       "age              0\n",
       "sex              0\n",
       "height           0\n",
       "weight           0\n",
       "QRSduration      0\n",
       "PRinterval       0\n",
       "Q-Tinterval      0\n",
       "Tinterval        0\n",
       "Pinterval        0\n",
       "QRS              0\n",
       "T                7\n",
       "P               17\n",
       "QRST             1\n",
       "J              333\n",
       "heartrate        1\n",
       "chDI_Qwave       0\n",
       "chDI_Rwave       0\n",
       "chDI_Swave       0\n",
       "chDI_RPwave      0\n",
       "chDI_SPwave      0\n",
       "dtype: int64"
      ]
     },
     "execution_count": 254,
     "metadata": {},
     "output_type": "execute_result"
    }
   ],
   "source": [
    "train.isnull().sum().head(20)"
   ]
  },
  {
   "cell_type": "code",
   "execution_count": 255,
   "metadata": {},
   "outputs": [
    {
     "data": {
      "text/plain": [
       "<matplotlib.axes._subplots.AxesSubplot at 0x201f2e05c08>"
      ]
     },
     "execution_count": 255,
     "metadata": {},
     "output_type": "execute_result"
    },
    {
     "data": {
      "image/png": "[encoded data removed]",
      "text/plain": [
       "<Figure size 432x288 with 1 Axes>"
      ]
     },
     "metadata": {
      "needs_background": "light"
     },
     "output_type": "display_data"
    }
   ],
   "source": [
    "sns.scatterplot(x='class',y='T',data=train)"
   ]
  },
  {
   "cell_type": "markdown",
   "metadata": {},
   "source": [
    "There are outliers in column T. Hence we are choosing median to fill the null values. "
   ]
  },
  {
   "cell_type": "code",
   "execution_count": 256,
   "metadata": {},
   "outputs": [],
   "source": [
    "train['T']=train['T'].fillna(train['T'].median())"
   ]
  },
  {
   "cell_type": "code",
   "execution_count": 257,
   "metadata": {},
   "outputs": [
    {
     "data": {
      "text/plain": [
       "<matplotlib.axes._subplots.AxesSubplot at 0x201f29cd188>"
      ]
     },
     "execution_count": 257,
     "metadata": {},
     "output_type": "execute_result"
    },
    {
     "data": {
      "image/png": "[encoded data removed]",
      "text/plain": [
       "<Figure size 432x288 with 1 Axes>"
      ]
     },
     "metadata": {
      "needs_background": "light"
     },
     "output_type": "display_data"
    }
   ],
   "source": [
    "sns.scatterplot(x='class',y='P',data=train)"
   ]
  },
  {
   "cell_type": "markdown",
   "metadata": {},
   "source": [
    "There is not much outliers in the column P. So we're using mean to fill null values."
   ]
  },
  {
   "cell_type": "code",
   "execution_count": 258,
   "metadata": {},
   "outputs": [],
   "source": [
    "train['P']=train['P'].fillna(train['P'].mean())"
   ]
  },
  {
   "cell_type": "code",
   "execution_count": 259,
   "metadata": {},
   "outputs": [
    {
     "data": {
      "text/plain": [
       "<matplotlib.axes._subplots.AxesSubplot at 0x201f2945148>"
      ]
     },
     "execution_count": 259,
     "metadata": {},
     "output_type": "execute_result"
    },
    {
     "data": {
      "image/png": "[encoded data removed]",
      "text/plain": [
       "<Figure size 432x288 with 1 Axes>"
      ]
     },
     "metadata": {
      "needs_background": "light"
     },
     "output_type": "display_data"
    }
   ],
   "source": [
    "sns.scatterplot(x='class',y='QRST',data=train)"
   ]
  },
  {
   "cell_type": "markdown",
   "metadata": {},
   "source": [
    "There is a significant number of outliers in this columns. Hence we're using median for filling null values."
   ]
  },
  {
   "cell_type": "code",
   "execution_count": 260,
   "metadata": {},
   "outputs": [],
   "source": [
    "train['QRST']=train['QRST'].fillna(train['QRST'].median())"
   ]
  },
  {
   "cell_type": "code",
   "execution_count": 261,
   "metadata": {},
   "outputs": [
    {
     "data": {
      "text/plain": [
       "333"
      ]
     },
     "execution_count": 261,
     "metadata": {},
     "output_type": "execute_result"
    }
   ],
   "source": [
    "train['J'].isnull().sum()"
   ]
  },
  {
   "cell_type": "markdown",
   "metadata": {},
   "source": [
    "More than 75% of the values in column J is null values. Hence we're doppping that column."
   ]
  },
  {
   "cell_type": "code",
   "execution_count": 262,
   "metadata": {},
   "outputs": [],
   "source": [
    "train.drop(['J'], inplace = True, axis = 1)"
   ]
  },
  {
   "cell_type": "code",
   "execution_count": 263,
   "metadata": {},
   "outputs": [
    {
     "data": {
      "text/plain": [
       "<matplotlib.axes._subplots.AxesSubplot at 0x201d940f708>"
      ]
     },
     "execution_count": 263,
     "metadata": {},
     "output_type": "execute_result"
    },
    {
     "data": {
      "image/png": "[encoded data removed]",
      "text/plain": [
       "<Figure size 432x288 with 1 Axes>"
      ]
     },
     "metadata": {
      "needs_background": "light"
     },
     "output_type": "display_data"
    }
   ],
   "source": [
    "sns.scatterplot(x='class',y='heartrate',data=train)"
   ]
  },
  {
   "cell_type": "markdown",
   "metadata": {},
   "source": [
    "There is not much outliers in this columns. Hence we are using mean to fill null values. "
   ]
  },
  {
   "cell_type": "code",
   "execution_count": 264,
   "metadata": {},
   "outputs": [],
   "source": [
    "train['heartrate']=train['heartrate'].fillna(train['heartrate'].mean())"
   ]
  },
  {
   "cell_type": "code",
   "execution_count": 265,
   "metadata": {},
   "outputs": [
    {
     "data": {
      "text/html": [
       "<div>\n",
       "<style scoped>\n",
       "    .dataframe tbody tr th:only-of-type {\n",
       "        vertical-align: middle;\n",
       "    }\n",
       "\n",
       "    .dataframe tbody tr th {\n",
       "        vertical-align: top;\n",
       "    }\n",
       "\n",
       "    .dataframe thead th {\n",
       "        text-align: right;\n",
       "    }\n",
       "</style>\n",
       "<table border=\"1\" class=\"dataframe\">\n",
       "  <thead>\n",
       "    <tr style=\"text-align: right;\">\n",
       "      <th></th>\n",
       "      <th>age</th>\n",
       "      <th>sex</th>\n",
       "      <th>height</th>\n",
       "      <th>weight</th>\n",
       "      <th>QRSduration</th>\n",
       "      <th>PRinterval</th>\n",
       "      <th>Q-Tinterval</th>\n",
       "      <th>Tinterval</th>\n",
       "      <th>Pinterval</th>\n",
       "      <th>QRS</th>\n",
       "      <th>...</th>\n",
       "      <th>chV6_QwaveAmp</th>\n",
       "      <th>chV6_RwaveAmp</th>\n",
       "      <th>chV6_SwaveAmp</th>\n",
       "      <th>chV6_RPwaveAmp</th>\n",
       "      <th>chV6_SPwaveAmp</th>\n",
       "      <th>chV6_PwaveAmp</th>\n",
       "      <th>chV6_TwaveAmp</th>\n",
       "      <th>chV6_QRSA</th>\n",
       "      <th>chV6_QRSTA</th>\n",
       "      <th>class</th>\n",
       "    </tr>\n",
       "  </thead>\n",
       "  <tbody>\n",
       "    <tr>\n",
       "      <th>count</th>\n",
       "      <td>400.000000</td>\n",
       "      <td>400.000000</td>\n",
       "      <td>400.000000</td>\n",
       "      <td>400.000000</td>\n",
       "      <td>400.000000</td>\n",
       "      <td>400.000000</td>\n",
       "      <td>400.000000</td>\n",
       "      <td>400.000000</td>\n",
       "      <td>400.000000</td>\n",
       "      <td>400.000000</td>\n",
       "      <td>...</td>\n",
       "      <td>400.000000</td>\n",
       "      <td>400.000000</td>\n",
       "      <td>400.000000</td>\n",
       "      <td>400.000000</td>\n",
       "      <td>400.0</td>\n",
       "      <td>400.000000</td>\n",
       "      <td>400.000000</td>\n",
       "      <td>400.000000</td>\n",
       "      <td>400.000000</td>\n",
       "      <td>400.000000</td>\n",
       "    </tr>\n",
       "    <tr>\n",
       "      <th>mean</th>\n",
       "      <td>46.687500</td>\n",
       "      <td>0.552500</td>\n",
       "      <td>166.195000</td>\n",
       "      <td>67.857500</td>\n",
       "      <td>88.740000</td>\n",
       "      <td>155.955000</td>\n",
       "      <td>368.542500</td>\n",
       "      <td>169.597500</td>\n",
       "      <td>90.235000</td>\n",
       "      <td>34.252500</td>\n",
       "      <td>...</td>\n",
       "      <td>-0.264250</td>\n",
       "      <td>9.025000</td>\n",
       "      <td>-1.491750</td>\n",
       "      <td>0.004500</td>\n",
       "      <td>0.0</td>\n",
       "      <td>0.520000</td>\n",
       "      <td>1.247250</td>\n",
       "      <td>19.149250</td>\n",
       "      <td>29.540750</td>\n",
       "      <td>3.902500</td>\n",
       "    </tr>\n",
       "    <tr>\n",
       "      <th>std</th>\n",
       "      <td>16.858243</td>\n",
       "      <td>0.497859</td>\n",
       "      <td>39.398701</td>\n",
       "      <td>17.063708</td>\n",
       "      <td>15.321203</td>\n",
       "      <td>45.034634</td>\n",
       "      <td>33.225412</td>\n",
       "      <td>35.550317</td>\n",
       "      <td>25.326535</td>\n",
       "      <td>46.381049</td>\n",
       "      <td>...</td>\n",
       "      <td>0.528768</td>\n",
       "      <td>3.490801</td>\n",
       "      <td>2.079596</td>\n",
       "      <td>0.053262</td>\n",
       "      <td>0.0</td>\n",
       "      <td>0.350367</td>\n",
       "      <td>1.429476</td>\n",
       "      <td>13.758867</td>\n",
       "      <td>19.119788</td>\n",
       "      <td>4.353202</td>\n",
       "    </tr>\n",
       "    <tr>\n",
       "      <th>min</th>\n",
       "      <td>0.000000</td>\n",
       "      <td>0.000000</td>\n",
       "      <td>105.000000</td>\n",
       "      <td>6.000000</td>\n",
       "      <td>55.000000</td>\n",
       "      <td>0.000000</td>\n",
       "      <td>232.000000</td>\n",
       "      <td>108.000000</td>\n",
       "      <td>0.000000</td>\n",
       "      <td>-172.000000</td>\n",
       "      <td>...</td>\n",
       "      <td>-4.100000</td>\n",
       "      <td>0.000000</td>\n",
       "      <td>-28.600000</td>\n",
       "      <td>0.000000</td>\n",
       "      <td>0.0</td>\n",
       "      <td>-0.800000</td>\n",
       "      <td>-6.000000</td>\n",
       "      <td>-44.200000</td>\n",
       "      <td>-38.600000</td>\n",
       "      <td>1.000000</td>\n",
       "    </tr>\n",
       "    <tr>\n",
       "      <th>25%</th>\n",
       "      <td>36.000000</td>\n",
       "      <td>0.000000</td>\n",
       "      <td>160.000000</td>\n",
       "      <td>59.000000</td>\n",
       "      <td>80.000000</td>\n",
       "      <td>142.000000</td>\n",
       "      <td>352.000000</td>\n",
       "      <td>148.000000</td>\n",
       "      <td>79.000000</td>\n",
       "      <td>2.750000</td>\n",
       "      <td>...</td>\n",
       "      <td>-0.400000</td>\n",
       "      <td>6.500000</td>\n",
       "      <td>-2.100000</td>\n",
       "      <td>0.000000</td>\n",
       "      <td>0.0</td>\n",
       "      <td>0.400000</td>\n",
       "      <td>0.500000</td>\n",
       "      <td>11.000000</td>\n",
       "      <td>16.700000</td>\n",
       "      <td>1.000000</td>\n",
       "    </tr>\n",
       "    <tr>\n",
       "      <th>50%</th>\n",
       "      <td>47.000000</td>\n",
       "      <td>1.000000</td>\n",
       "      <td>164.000000</td>\n",
       "      <td>68.000000</td>\n",
       "      <td>86.000000</td>\n",
       "      <td>157.000000</td>\n",
       "      <td>368.000000</td>\n",
       "      <td>162.000000</td>\n",
       "      <td>90.500000</td>\n",
       "      <td>42.000000</td>\n",
       "      <td>...</td>\n",
       "      <td>0.000000</td>\n",
       "      <td>8.750000</td>\n",
       "      <td>-1.200000</td>\n",
       "      <td>0.000000</td>\n",
       "      <td>0.0</td>\n",
       "      <td>0.500000</td>\n",
       "      <td>1.300000</td>\n",
       "      <td>18.100000</td>\n",
       "      <td>27.900000</td>\n",
       "      <td>1.000000</td>\n",
       "    </tr>\n",
       "    <tr>\n",
       "      <th>75%</th>\n",
       "      <td>59.000000</td>\n",
       "      <td>1.000000</td>\n",
       "      <td>170.000000</td>\n",
       "      <td>79.000000</td>\n",
       "      <td>94.000000</td>\n",
       "      <td>175.000000</td>\n",
       "      <td>386.000000</td>\n",
       "      <td>178.000000</td>\n",
       "      <td>102.000000</td>\n",
       "      <td>67.000000</td>\n",
       "      <td>...</td>\n",
       "      <td>0.000000</td>\n",
       "      <td>11.200000</td>\n",
       "      <td>0.000000</td>\n",
       "      <td>0.000000</td>\n",
       "      <td>0.0</td>\n",
       "      <td>0.700000</td>\n",
       "      <td>2.100000</td>\n",
       "      <td>25.825000</td>\n",
       "      <td>41.400000</td>\n",
       "      <td>6.000000</td>\n",
       "    </tr>\n",
       "    <tr>\n",
       "      <th>max</th>\n",
       "      <td>83.000000</td>\n",
       "      <td>1.000000</td>\n",
       "      <td>780.000000</td>\n",
       "      <td>176.000000</td>\n",
       "      <td>188.000000</td>\n",
       "      <td>524.000000</td>\n",
       "      <td>509.000000</td>\n",
       "      <td>381.000000</td>\n",
       "      <td>205.000000</td>\n",
       "      <td>169.000000</td>\n",
       "      <td>...</td>\n",
       "      <td>0.000000</td>\n",
       "      <td>23.600000</td>\n",
       "      <td>0.000000</td>\n",
       "      <td>0.800000</td>\n",
       "      <td>0.0</td>\n",
       "      <td>2.400000</td>\n",
       "      <td>6.000000</td>\n",
       "      <td>88.800000</td>\n",
       "      <td>115.900000</td>\n",
       "      <td>16.000000</td>\n",
       "    </tr>\n",
       "  </tbody>\n",
       "</table>\n",
       "<p>8 rows × 279 columns</p>\n",
       "</div>"
      ],
      "text/plain": [
       "              age         sex      height      weight  QRSduration  \\\n",
       "count  400.000000  400.000000  400.000000  400.000000   400.000000   \n",
       "mean    46.687500    0.552500  166.195000   67.857500    88.740000   \n",
       "std     16.858243    0.497859   39.398701   17.063708    15.321203   \n",
       "min      0.000000    0.000000  105.000000    6.000000    55.000000   \n",
       "25%     36.000000    0.000000  160.000000   59.000000    80.000000   \n",
       "50%     47.000000    1.000000  164.000000   68.000000    86.000000   \n",
       "75%     59.000000    1.000000  170.000000   79.000000    94.000000   \n",
       "max     83.000000    1.000000  780.000000  176.000000   188.000000   \n",
       "\n",
       "       PRinterval  Q-Tinterval   Tinterval   Pinterval         QRS  ...  \\\n",
       "count  400.000000   400.000000  400.000000  400.000000  400.000000  ...   \n",
       "mean   155.955000   368.542500  169.597500   90.235000   34.252500  ...   \n",
       "std     45.034634    33.225412   35.550317   25.326535   46.381049  ...   \n",
       "min      0.000000   232.000000  108.000000    0.000000 -172.000000  ...   \n",
       "25%    142.000000   352.000000  148.000000   79.000000    2.750000  ...   \n",
       "50%    157.000000   368.000000  162.000000   90.500000   42.000000  ...   \n",
       "75%    175.000000   386.000000  178.000000  102.000000   67.000000  ...   \n",
       "max    524.000000   509.000000  381.000000  205.000000  169.000000  ...   \n",
       "\n",
       "       chV6_QwaveAmp  chV6_RwaveAmp  chV6_SwaveAmp  chV6_RPwaveAmp  \\\n",
       "count     400.000000     400.000000     400.000000      400.000000   \n",
       "mean       -0.264250       9.025000      -1.491750        0.004500   \n",
       "std         0.528768       3.490801       2.079596        0.053262   \n",
       "min        -4.100000       0.000000     -28.600000        0.000000   \n",
       "25%        -0.400000       6.500000      -2.100000        0.000000   \n",
       "50%         0.000000       8.750000      -1.200000        0.000000   \n",
       "75%         0.000000      11.200000       0.000000        0.000000   \n",
       "max         0.000000      23.600000       0.000000        0.800000   \n",
       "\n",
       "       chV6_SPwaveAmp  chV6_PwaveAmp  chV6_TwaveAmp   chV6_QRSA  chV6_QRSTA  \\\n",
       "count           400.0     400.000000     400.000000  400.000000  400.000000   \n",
       "mean              0.0       0.520000       1.247250   19.149250   29.540750   \n",
       "std               0.0       0.350367       1.429476   13.758867   19.119788   \n",
       "min               0.0      -0.800000      -6.000000  -44.200000  -38.600000   \n",
       "25%               0.0       0.400000       0.500000   11.000000   16.700000   \n",
       "50%               0.0       0.500000       1.300000   18.100000   27.900000   \n",
       "75%               0.0       0.700000       2.100000   25.825000   41.400000   \n",
       "max               0.0       2.400000       6.000000   88.800000  115.900000   \n",
       "\n",
       "            class  \n",
       "count  400.000000  \n",
       "mean     3.902500  \n",
       "std      4.353202  \n",
       "min      1.000000  \n",
       "25%      1.000000  \n",
       "50%      1.000000  \n",
       "75%      6.000000  \n",
       "max     16.000000  \n",
       "\n",
       "[8 rows x 279 columns]"
      ]
     },
     "execution_count": 265,
     "metadata": {},
     "output_type": "execute_result"
    }
   ],
   "source": [
    "train.describe()"
   ]
  },
  {
   "cell_type": "code",
   "execution_count": 266,
   "metadata": {
    "scrolled": true
   },
   "outputs": [
    {
     "data": {
      "text/html": [
       "<div>\n",
       "<style scoped>\n",
       "    .dataframe tbody tr th:only-of-type {\n",
       "        vertical-align: middle;\n",
       "    }\n",
       "\n",
       "    .dataframe tbody tr th {\n",
       "        vertical-align: top;\n",
       "    }\n",
       "\n",
       "    .dataframe thead th {\n",
       "        text-align: right;\n",
       "    }\n",
       "</style>\n",
       "<table border=\"1\" class=\"dataframe\">\n",
       "  <thead>\n",
       "    <tr style=\"text-align: right;\">\n",
       "      <th></th>\n",
       "      <th>age</th>\n",
       "      <th>sex</th>\n",
       "      <th>height</th>\n",
       "      <th>weight</th>\n",
       "      <th>QRSduration</th>\n",
       "      <th>PRinterval</th>\n",
       "      <th>Q-Tinterval</th>\n",
       "      <th>Tinterval</th>\n",
       "      <th>Pinterval</th>\n",
       "      <th>QRS</th>\n",
       "      <th>...</th>\n",
       "      <th>chV6_QwaveAmp</th>\n",
       "      <th>chV6_RwaveAmp</th>\n",
       "      <th>chV6_SwaveAmp</th>\n",
       "      <th>chV6_RPwaveAmp</th>\n",
       "      <th>chV6_SPwaveAmp</th>\n",
       "      <th>chV6_PwaveAmp</th>\n",
       "      <th>chV6_TwaveAmp</th>\n",
       "      <th>chV6_QRSA</th>\n",
       "      <th>chV6_QRSTA</th>\n",
       "      <th>class</th>\n",
       "    </tr>\n",
       "  </thead>\n",
       "  <tbody>\n",
       "    <tr>\n",
       "      <th>0</th>\n",
       "      <td>37</td>\n",
       "      <td>1</td>\n",
       "      <td>159</td>\n",
       "      <td>56</td>\n",
       "      <td>75</td>\n",
       "      <td>162</td>\n",
       "      <td>339</td>\n",
       "      <td>141</td>\n",
       "      <td>96</td>\n",
       "      <td>60</td>\n",
       "      <td>...</td>\n",
       "      <td>0.0</td>\n",
       "      <td>5.0</td>\n",
       "      <td>-1.3</td>\n",
       "      <td>0.0</td>\n",
       "      <td>0</td>\n",
       "      <td>0.4</td>\n",
       "      <td>1.2</td>\n",
       "      <td>9.4</td>\n",
       "      <td>16.6</td>\n",
       "      <td>1</td>\n",
       "    </tr>\n",
       "    <tr>\n",
       "      <th>1</th>\n",
       "      <td>52</td>\n",
       "      <td>0</td>\n",
       "      <td>165</td>\n",
       "      <td>80</td>\n",
       "      <td>88</td>\n",
       "      <td>202</td>\n",
       "      <td>369</td>\n",
       "      <td>113</td>\n",
       "      <td>97</td>\n",
       "      <td>58</td>\n",
       "      <td>...</td>\n",
       "      <td>-0.5</td>\n",
       "      <td>10.7</td>\n",
       "      <td>-1.7</td>\n",
       "      <td>0.0</td>\n",
       "      <td>0</td>\n",
       "      <td>0.4</td>\n",
       "      <td>-0.3</td>\n",
       "      <td>19.6</td>\n",
       "      <td>17.7</td>\n",
       "      <td>16</td>\n",
       "    </tr>\n",
       "    <tr>\n",
       "      <th>2</th>\n",
       "      <td>12</td>\n",
       "      <td>1</td>\n",
       "      <td>165</td>\n",
       "      <td>47</td>\n",
       "      <td>91</td>\n",
       "      <td>0</td>\n",
       "      <td>359</td>\n",
       "      <td>152</td>\n",
       "      <td>0</td>\n",
       "      <td>8</td>\n",
       "      <td>...</td>\n",
       "      <td>0.0</td>\n",
       "      <td>8.8</td>\n",
       "      <td>-0.6</td>\n",
       "      <td>0.0</td>\n",
       "      <td>0</td>\n",
       "      <td>-0.4</td>\n",
       "      <td>1.6</td>\n",
       "      <td>24.0</td>\n",
       "      <td>38.0</td>\n",
       "      <td>10</td>\n",
       "    </tr>\n",
       "    <tr>\n",
       "      <th>3</th>\n",
       "      <td>80</td>\n",
       "      <td>0</td>\n",
       "      <td>160</td>\n",
       "      <td>70</td>\n",
       "      <td>90</td>\n",
       "      <td>201</td>\n",
       "      <td>404</td>\n",
       "      <td>157</td>\n",
       "      <td>111</td>\n",
       "      <td>21</td>\n",
       "      <td>...</td>\n",
       "      <td>0.0</td>\n",
       "      <td>13.0</td>\n",
       "      <td>-1.9</td>\n",
       "      <td>0.0</td>\n",
       "      <td>0</td>\n",
       "      <td>0.9</td>\n",
       "      <td>0.4</td>\n",
       "      <td>26.7</td>\n",
       "      <td>30.3</td>\n",
       "      <td>1</td>\n",
       "    </tr>\n",
       "    <tr>\n",
       "      <th>4</th>\n",
       "      <td>72</td>\n",
       "      <td>0</td>\n",
       "      <td>171</td>\n",
       "      <td>74</td>\n",
       "      <td>77</td>\n",
       "      <td>172</td>\n",
       "      <td>330</td>\n",
       "      <td>140</td>\n",
       "      <td>104</td>\n",
       "      <td>33</td>\n",
       "      <td>...</td>\n",
       "      <td>0.0</td>\n",
       "      <td>6.8</td>\n",
       "      <td>0.0</td>\n",
       "      <td>0.0</td>\n",
       "      <td>0</td>\n",
       "      <td>0.7</td>\n",
       "      <td>0.8</td>\n",
       "      <td>25.8</td>\n",
       "      <td>31.4</td>\n",
       "      <td>1</td>\n",
       "    </tr>\n",
       "    <tr>\n",
       "      <th>5</th>\n",
       "      <td>41</td>\n",
       "      <td>1</td>\n",
       "      <td>155</td>\n",
       "      <td>56</td>\n",
       "      <td>80</td>\n",
       "      <td>134</td>\n",
       "      <td>362</td>\n",
       "      <td>156</td>\n",
       "      <td>58</td>\n",
       "      <td>59</td>\n",
       "      <td>...</td>\n",
       "      <td>0.0</td>\n",
       "      <td>7.1</td>\n",
       "      <td>-1.4</td>\n",
       "      <td>0.0</td>\n",
       "      <td>0</td>\n",
       "      <td>0.6</td>\n",
       "      <td>2.9</td>\n",
       "      <td>12.8</td>\n",
       "      <td>38.9</td>\n",
       "      <td>10</td>\n",
       "    </tr>\n",
       "    <tr>\n",
       "      <th>6</th>\n",
       "      <td>54</td>\n",
       "      <td>1</td>\n",
       "      <td>172</td>\n",
       "      <td>58</td>\n",
       "      <td>78</td>\n",
       "      <td>155</td>\n",
       "      <td>382</td>\n",
       "      <td>163</td>\n",
       "      <td>81</td>\n",
       "      <td>-24</td>\n",
       "      <td>...</td>\n",
       "      <td>0.0</td>\n",
       "      <td>6.3</td>\n",
       "      <td>-2.1</td>\n",
       "      <td>0.0</td>\n",
       "      <td>0</td>\n",
       "      <td>0.8</td>\n",
       "      <td>0.5</td>\n",
       "      <td>8.8</td>\n",
       "      <td>12.1</td>\n",
       "      <td>10</td>\n",
       "    </tr>\n",
       "    <tr>\n",
       "      <th>7</th>\n",
       "      <td>44</td>\n",
       "      <td>0</td>\n",
       "      <td>170</td>\n",
       "      <td>84</td>\n",
       "      <td>188</td>\n",
       "      <td>125</td>\n",
       "      <td>458</td>\n",
       "      <td>261</td>\n",
       "      <td>75</td>\n",
       "      <td>-12</td>\n",
       "      <td>...</td>\n",
       "      <td>0.0</td>\n",
       "      <td>12.0</td>\n",
       "      <td>0.0</td>\n",
       "      <td>0.0</td>\n",
       "      <td>0</td>\n",
       "      <td>0.5</td>\n",
       "      <td>-6.0</td>\n",
       "      <td>86.4</td>\n",
       "      <td>8.4</td>\n",
       "      <td>9</td>\n",
       "    </tr>\n",
       "    <tr>\n",
       "      <th>8</th>\n",
       "      <td>51</td>\n",
       "      <td>1</td>\n",
       "      <td>165</td>\n",
       "      <td>85</td>\n",
       "      <td>81</td>\n",
       "      <td>158</td>\n",
       "      <td>357</td>\n",
       "      <td>148</td>\n",
       "      <td>109</td>\n",
       "      <td>64</td>\n",
       "      <td>...</td>\n",
       "      <td>0.0</td>\n",
       "      <td>12.4</td>\n",
       "      <td>-1.9</td>\n",
       "      <td>0.0</td>\n",
       "      <td>0</td>\n",
       "      <td>0.5</td>\n",
       "      <td>1.0</td>\n",
       "      <td>31.3</td>\n",
       "      <td>37.5</td>\n",
       "      <td>1</td>\n",
       "    </tr>\n",
       "    <tr>\n",
       "      <th>9</th>\n",
       "      <td>45</td>\n",
       "      <td>0</td>\n",
       "      <td>177</td>\n",
       "      <td>72</td>\n",
       "      <td>94</td>\n",
       "      <td>164</td>\n",
       "      <td>431</td>\n",
       "      <td>158</td>\n",
       "      <td>81</td>\n",
       "      <td>116</td>\n",
       "      <td>...</td>\n",
       "      <td>-1.9</td>\n",
       "      <td>0.0</td>\n",
       "      <td>0.0</td>\n",
       "      <td>0.0</td>\n",
       "      <td>0</td>\n",
       "      <td>0.6</td>\n",
       "      <td>-2.2</td>\n",
       "      <td>-8.3</td>\n",
       "      <td>-38.6</td>\n",
       "      <td>3</td>\n",
       "    </tr>\n",
       "    <tr>\n",
       "      <th>10</th>\n",
       "      <td>57</td>\n",
       "      <td>0</td>\n",
       "      <td>165</td>\n",
       "      <td>74</td>\n",
       "      <td>82</td>\n",
       "      <td>205</td>\n",
       "      <td>293</td>\n",
       "      <td>187</td>\n",
       "      <td>115</td>\n",
       "      <td>92</td>\n",
       "      <td>...</td>\n",
       "      <td>0.0</td>\n",
       "      <td>9.3</td>\n",
       "      <td>-2.6</td>\n",
       "      <td>0.0</td>\n",
       "      <td>0</td>\n",
       "      <td>0.9</td>\n",
       "      <td>0.6</td>\n",
       "      <td>17.1</td>\n",
       "      <td>22.0</td>\n",
       "      <td>3</td>\n",
       "    </tr>\n",
       "    <tr>\n",
       "      <th>11</th>\n",
       "      <td>60</td>\n",
       "      <td>1</td>\n",
       "      <td>160</td>\n",
       "      <td>83</td>\n",
       "      <td>93</td>\n",
       "      <td>121</td>\n",
       "      <td>383</td>\n",
       "      <td>140</td>\n",
       "      <td>86</td>\n",
       "      <td>94</td>\n",
       "      <td>...</td>\n",
       "      <td>0.0</td>\n",
       "      <td>9.4</td>\n",
       "      <td>-2.0</td>\n",
       "      <td>0.0</td>\n",
       "      <td>0</td>\n",
       "      <td>0.8</td>\n",
       "      <td>0.5</td>\n",
       "      <td>19.6</td>\n",
       "      <td>21.8</td>\n",
       "      <td>2</td>\n",
       "    </tr>\n",
       "    <tr>\n",
       "      <th>12</th>\n",
       "      <td>53</td>\n",
       "      <td>1</td>\n",
       "      <td>160</td>\n",
       "      <td>70</td>\n",
       "      <td>80</td>\n",
       "      <td>199</td>\n",
       "      <td>382</td>\n",
       "      <td>154</td>\n",
       "      <td>117</td>\n",
       "      <td>-37</td>\n",
       "      <td>...</td>\n",
       "      <td>0.0</td>\n",
       "      <td>4.3</td>\n",
       "      <td>-5.0</td>\n",
       "      <td>0.0</td>\n",
       "      <td>0</td>\n",
       "      <td>0.7</td>\n",
       "      <td>0.6</td>\n",
       "      <td>-4.4</td>\n",
       "      <td>-0.5</td>\n",
       "      <td>1</td>\n",
       "    </tr>\n",
       "    <tr>\n",
       "      <th>13</th>\n",
       "      <td>40</td>\n",
       "      <td>1</td>\n",
       "      <td>165</td>\n",
       "      <td>53</td>\n",
       "      <td>81</td>\n",
       "      <td>160</td>\n",
       "      <td>347</td>\n",
       "      <td>154</td>\n",
       "      <td>81</td>\n",
       "      <td>67</td>\n",
       "      <td>...</td>\n",
       "      <td>-0.4</td>\n",
       "      <td>9.6</td>\n",
       "      <td>0.0</td>\n",
       "      <td>0.0</td>\n",
       "      <td>0</td>\n",
       "      <td>0.5</td>\n",
       "      <td>2.1</td>\n",
       "      <td>22.7</td>\n",
       "      <td>37.8</td>\n",
       "      <td>1</td>\n",
       "    </tr>\n",
       "    <tr>\n",
       "      <th>14</th>\n",
       "      <td>53</td>\n",
       "      <td>1</td>\n",
       "      <td>156</td>\n",
       "      <td>65</td>\n",
       "      <td>73</td>\n",
       "      <td>160</td>\n",
       "      <td>359</td>\n",
       "      <td>248</td>\n",
       "      <td>37</td>\n",
       "      <td>33</td>\n",
       "      <td>...</td>\n",
       "      <td>0.0</td>\n",
       "      <td>8.1</td>\n",
       "      <td>0.0</td>\n",
       "      <td>0.0</td>\n",
       "      <td>0</td>\n",
       "      <td>0.1</td>\n",
       "      <td>-0.8</td>\n",
       "      <td>22.6</td>\n",
       "      <td>10.8</td>\n",
       "      <td>2</td>\n",
       "    </tr>\n",
       "    <tr>\n",
       "      <th>15</th>\n",
       "      <td>45</td>\n",
       "      <td>0</td>\n",
       "      <td>169</td>\n",
       "      <td>67</td>\n",
       "      <td>90</td>\n",
       "      <td>122</td>\n",
       "      <td>336</td>\n",
       "      <td>177</td>\n",
       "      <td>78</td>\n",
       "      <td>81</td>\n",
       "      <td>...</td>\n",
       "      <td>-0.6</td>\n",
       "      <td>8.3</td>\n",
       "      <td>-1.8</td>\n",
       "      <td>0.0</td>\n",
       "      <td>0</td>\n",
       "      <td>0.8</td>\n",
       "      <td>1.1</td>\n",
       "      <td>11.7</td>\n",
       "      <td>19.6</td>\n",
       "      <td>1</td>\n",
       "    </tr>\n",
       "    <tr>\n",
       "      <th>16</th>\n",
       "      <td>24</td>\n",
       "      <td>1</td>\n",
       "      <td>162</td>\n",
       "      <td>75</td>\n",
       "      <td>88</td>\n",
       "      <td>150</td>\n",
       "      <td>353</td>\n",
       "      <td>156</td>\n",
       "      <td>96</td>\n",
       "      <td>-21</td>\n",
       "      <td>...</td>\n",
       "      <td>0.0</td>\n",
       "      <td>5.3</td>\n",
       "      <td>-1.6</td>\n",
       "      <td>0.0</td>\n",
       "      <td>0</td>\n",
       "      <td>0.7</td>\n",
       "      <td>1.2</td>\n",
       "      <td>7.4</td>\n",
       "      <td>15.5</td>\n",
       "      <td>1</td>\n",
       "    </tr>\n",
       "    <tr>\n",
       "      <th>17</th>\n",
       "      <td>56</td>\n",
       "      <td>1</td>\n",
       "      <td>165</td>\n",
       "      <td>64</td>\n",
       "      <td>81</td>\n",
       "      <td>174</td>\n",
       "      <td>401</td>\n",
       "      <td>149</td>\n",
       "      <td>39</td>\n",
       "      <td>25</td>\n",
       "      <td>...</td>\n",
       "      <td>0.0</td>\n",
       "      <td>8.5</td>\n",
       "      <td>0.0</td>\n",
       "      <td>0.0</td>\n",
       "      <td>0</td>\n",
       "      <td>0.2</td>\n",
       "      <td>2.1</td>\n",
       "      <td>20.4</td>\n",
       "      <td>38.8</td>\n",
       "      <td>6</td>\n",
       "    </tr>\n",
       "    <tr>\n",
       "      <th>18</th>\n",
       "      <td>62</td>\n",
       "      <td>0</td>\n",
       "      <td>170</td>\n",
       "      <td>72</td>\n",
       "      <td>102</td>\n",
       "      <td>135</td>\n",
       "      <td>401</td>\n",
       "      <td>156</td>\n",
       "      <td>83</td>\n",
       "      <td>72</td>\n",
       "      <td>...</td>\n",
       "      <td>-0.5</td>\n",
       "      <td>9.0</td>\n",
       "      <td>-2.0</td>\n",
       "      <td>0.0</td>\n",
       "      <td>0</td>\n",
       "      <td>0.8</td>\n",
       "      <td>0.9</td>\n",
       "      <td>12.3</td>\n",
       "      <td>19.3</td>\n",
       "      <td>3</td>\n",
       "    </tr>\n",
       "    <tr>\n",
       "      <th>19</th>\n",
       "      <td>46</td>\n",
       "      <td>0</td>\n",
       "      <td>170</td>\n",
       "      <td>80</td>\n",
       "      <td>87</td>\n",
       "      <td>150</td>\n",
       "      <td>346</td>\n",
       "      <td>251</td>\n",
       "      <td>96</td>\n",
       "      <td>-63</td>\n",
       "      <td>...</td>\n",
       "      <td>0.0</td>\n",
       "      <td>2.3</td>\n",
       "      <td>-2.3</td>\n",
       "      <td>0.0</td>\n",
       "      <td>0</td>\n",
       "      <td>0.5</td>\n",
       "      <td>0.5</td>\n",
       "      <td>-0.9</td>\n",
       "      <td>5.7</td>\n",
       "      <td>3</td>\n",
       "    </tr>\n",
       "  </tbody>\n",
       "</table>\n",
       "<p>20 rows × 279 columns</p>\n",
       "</div>"
      ],
      "text/plain": [
       "    age  sex  height  weight  QRSduration  PRinterval  Q-Tinterval  Tinterval  \\\n",
       "0    37    1     159      56           75         162          339        141   \n",
       "1    52    0     165      80           88         202          369        113   \n",
       "2    12    1     165      47           91           0          359        152   \n",
       "3    80    0     160      70           90         201          404        157   \n",
       "4    72    0     171      74           77         172          330        140   \n",
       "5    41    1     155      56           80         134          362        156   \n",
       "6    54    1     172      58           78         155          382        163   \n",
       "7    44    0     170      84          188         125          458        261   \n",
       "8    51    1     165      85           81         158          357        148   \n",
       "9    45    0     177      72           94         164          431        158   \n",
       "10   57    0     165      74           82         205          293        187   \n",
       "11   60    1     160      83           93         121          383        140   \n",
       "12   53    1     160      70           80         199          382        154   \n",
       "13   40    1     165      53           81         160          347        154   \n",
       "14   53    1     156      65           73         160          359        248   \n",
       "15   45    0     169      67           90         122          336        177   \n",
       "16   24    1     162      75           88         150          353        156   \n",
       "17   56    1     165      64           81         174          401        149   \n",
       "18   62    0     170      72          102         135          401        156   \n",
       "19   46    0     170      80           87         150          346        251   \n",
       "\n",
       "    Pinterval  QRS  ...  chV6_QwaveAmp  chV6_RwaveAmp  chV6_SwaveAmp  \\\n",
       "0          96   60  ...            0.0            5.0           -1.3   \n",
       "1          97   58  ...           -0.5           10.7           -1.7   \n",
       "2           0    8  ...            0.0            8.8           -0.6   \n",
       "3         111   21  ...            0.0           13.0           -1.9   \n",
       "4         104   33  ...            0.0            6.8            0.0   \n",
       "5          58   59  ...            0.0            7.1           -1.4   \n",
       "6          81  -24  ...            0.0            6.3           -2.1   \n",
       "7          75  -12  ...            0.0           12.0            0.0   \n",
       "8         109   64  ...            0.0           12.4           -1.9   \n",
       "9          81  116  ...           -1.9            0.0            0.0   \n",
       "10        115   92  ...            0.0            9.3           -2.6   \n",
       "11         86   94  ...            0.0            9.4           -2.0   \n",
       "12        117  -37  ...            0.0            4.3           -5.0   \n",
       "13         81   67  ...           -0.4            9.6            0.0   \n",
       "14         37   33  ...            0.0            8.1            0.0   \n",
       "15         78   81  ...           -0.6            8.3           -1.8   \n",
       "16         96  -21  ...            0.0            5.3           -1.6   \n",
       "17         39   25  ...            0.0            8.5            0.0   \n",
       "18         83   72  ...           -0.5            9.0           -2.0   \n",
       "19         96  -63  ...            0.0            2.3           -2.3   \n",
       "\n",
       "    chV6_RPwaveAmp  chV6_SPwaveAmp  chV6_PwaveAmp  chV6_TwaveAmp  chV6_QRSA  \\\n",
       "0              0.0               0            0.4            1.2        9.4   \n",
       "1              0.0               0            0.4           -0.3       19.6   \n",
       "2              0.0               0           -0.4            1.6       24.0   \n",
       "3              0.0               0            0.9            0.4       26.7   \n",
       "4              0.0               0            0.7            0.8       25.8   \n",
       "5              0.0               0            0.6            2.9       12.8   \n",
       "6              0.0               0            0.8            0.5        8.8   \n",
       "7              0.0               0            0.5           -6.0       86.4   \n",
       "8              0.0               0            0.5            1.0       31.3   \n",
       "9              0.0               0            0.6           -2.2       -8.3   \n",
       "10             0.0               0            0.9            0.6       17.1   \n",
       "11             0.0               0            0.8            0.5       19.6   \n",
       "12             0.0               0            0.7            0.6       -4.4   \n",
       "13             0.0               0            0.5            2.1       22.7   \n",
       "14             0.0               0            0.1           -0.8       22.6   \n",
       "15             0.0               0            0.8            1.1       11.7   \n",
       "16             0.0               0            0.7            1.2        7.4   \n",
       "17             0.0               0            0.2            2.1       20.4   \n",
       "18             0.0               0            0.8            0.9       12.3   \n",
       "19             0.0               0            0.5            0.5       -0.9   \n",
       "\n",
       "    chV6_QRSTA  class  \n",
       "0         16.6      1  \n",
       "1         17.7     16  \n",
       "2         38.0     10  \n",
       "3         30.3      1  \n",
       "4         31.4      1  \n",
       "5         38.9     10  \n",
       "6         12.1     10  \n",
       "7          8.4      9  \n",
       "8         37.5      1  \n",
       "9        -38.6      3  \n",
       "10        22.0      3  \n",
       "11        21.8      2  \n",
       "12        -0.5      1  \n",
       "13        37.8      1  \n",
       "14        10.8      2  \n",
       "15        19.6      1  \n",
       "16        15.5      1  \n",
       "17        38.8      6  \n",
       "18        19.3      3  \n",
       "19         5.7      3  \n",
       "\n",
       "[20 rows x 279 columns]"
      ]
     },
     "execution_count": 266,
     "metadata": {},
     "output_type": "execute_result"
    }
   ],
   "source": [
    "train.head(20)"
   ]
  },
  {
   "cell_type": "code",
   "execution_count": 267,
   "metadata": {},
   "outputs": [
    {
     "data": {
      "text/plain": [
       "age                           0\n",
       "sex                           0\n",
       "height                        0\n",
       "weight                        0\n",
       "QRSduration                   0\n",
       "PRinterval                    0\n",
       "Q-Tinterval                   0\n",
       "Tinterval                     0\n",
       "Pinterval                     0\n",
       "QRS                           0\n",
       "T                             0\n",
       "P                             0\n",
       "QRST                          0\n",
       "heartrate                     0\n",
       "chDI_Qwave                    0\n",
       "chDI_Rwave                    0\n",
       "chDI_Swave                    0\n",
       "chDI_RPwave                   0\n",
       "chDI_SPwave                   0\n",
       "chDI_intrinsicReflecttions    0\n",
       "dtype: int64"
      ]
     },
     "execution_count": 267,
     "metadata": {},
     "output_type": "execute_result"
    }
   ],
   "source": [
    "train.isnull().sum().head(20)"
   ]
  },
  {
   "cell_type": "code",
   "execution_count": 268,
   "metadata": {},
   "outputs": [
    {
     "data": {
      "text/plain": [
       "0"
      ]
     },
     "execution_count": 268,
     "metadata": {},
     "output_type": "execute_result"
    }
   ],
   "source": [
    "train.isnull().sum().sum()"
   ]
  },
  {
   "cell_type": "code",
   "execution_count": 269,
   "metadata": {},
   "outputs": [
    {
     "data": {
      "text/html": [
       "<div>\n",
       "<style scoped>\n",
       "    .dataframe tbody tr th:only-of-type {\n",
       "        vertical-align: middle;\n",
       "    }\n",
       "\n",
       "    .dataframe tbody tr th {\n",
       "        vertical-align: top;\n",
       "    }\n",
       "\n",
       "    .dataframe thead th {\n",
       "        text-align: right;\n",
       "    }\n",
       "</style>\n",
       "<table border=\"1\" class=\"dataframe\">\n",
       "  <thead>\n",
       "    <tr style=\"text-align: right;\">\n",
       "      <th></th>\n",
       "      <th>age</th>\n",
       "      <th>sex</th>\n",
       "      <th>height</th>\n",
       "      <th>weight</th>\n",
       "      <th>QRSduration</th>\n",
       "      <th>PRinterval</th>\n",
       "      <th>Q-Tinterval</th>\n",
       "      <th>Tinterval</th>\n",
       "      <th>Pinterval</th>\n",
       "      <th>QRS</th>\n",
       "      <th>...</th>\n",
       "      <th>chV6_QwaveAmp</th>\n",
       "      <th>chV6_RwaveAmp</th>\n",
       "      <th>chV6_SwaveAmp</th>\n",
       "      <th>chV6_RPwaveAmp</th>\n",
       "      <th>chV6_SPwaveAmp</th>\n",
       "      <th>chV6_PwaveAmp</th>\n",
       "      <th>chV6_TwaveAmp</th>\n",
       "      <th>chV6_QRSA</th>\n",
       "      <th>chV6_QRSTA</th>\n",
       "      <th>class</th>\n",
       "    </tr>\n",
       "  </thead>\n",
       "  <tbody>\n",
       "    <tr>\n",
       "      <th>0</th>\n",
       "      <td>37</td>\n",
       "      <td>1</td>\n",
       "      <td>159</td>\n",
       "      <td>56</td>\n",
       "      <td>75</td>\n",
       "      <td>162</td>\n",
       "      <td>339</td>\n",
       "      <td>141</td>\n",
       "      <td>96</td>\n",
       "      <td>60</td>\n",
       "      <td>...</td>\n",
       "      <td>0.0</td>\n",
       "      <td>5.0</td>\n",
       "      <td>-1.3</td>\n",
       "      <td>0.0</td>\n",
       "      <td>0</td>\n",
       "      <td>0.4</td>\n",
       "      <td>1.2</td>\n",
       "      <td>9.4</td>\n",
       "      <td>16.6</td>\n",
       "      <td>1</td>\n",
       "    </tr>\n",
       "    <tr>\n",
       "      <th>1</th>\n",
       "      <td>52</td>\n",
       "      <td>0</td>\n",
       "      <td>165</td>\n",
       "      <td>80</td>\n",
       "      <td>88</td>\n",
       "      <td>202</td>\n",
       "      <td>369</td>\n",
       "      <td>113</td>\n",
       "      <td>97</td>\n",
       "      <td>58</td>\n",
       "      <td>...</td>\n",
       "      <td>-0.5</td>\n",
       "      <td>10.7</td>\n",
       "      <td>-1.7</td>\n",
       "      <td>0.0</td>\n",
       "      <td>0</td>\n",
       "      <td>0.4</td>\n",
       "      <td>-0.3</td>\n",
       "      <td>19.6</td>\n",
       "      <td>17.7</td>\n",
       "      <td>16</td>\n",
       "    </tr>\n",
       "    <tr>\n",
       "      <th>2</th>\n",
       "      <td>12</td>\n",
       "      <td>1</td>\n",
       "      <td>165</td>\n",
       "      <td>47</td>\n",
       "      <td>91</td>\n",
       "      <td>0</td>\n",
       "      <td>359</td>\n",
       "      <td>152</td>\n",
       "      <td>0</td>\n",
       "      <td>8</td>\n",
       "      <td>...</td>\n",
       "      <td>0.0</td>\n",
       "      <td>8.8</td>\n",
       "      <td>-0.6</td>\n",
       "      <td>0.0</td>\n",
       "      <td>0</td>\n",
       "      <td>-0.4</td>\n",
       "      <td>1.6</td>\n",
       "      <td>24.0</td>\n",
       "      <td>38.0</td>\n",
       "      <td>10</td>\n",
       "    </tr>\n",
       "    <tr>\n",
       "      <th>3</th>\n",
       "      <td>80</td>\n",
       "      <td>0</td>\n",
       "      <td>160</td>\n",
       "      <td>70</td>\n",
       "      <td>90</td>\n",
       "      <td>201</td>\n",
       "      <td>404</td>\n",
       "      <td>157</td>\n",
       "      <td>111</td>\n",
       "      <td>21</td>\n",
       "      <td>...</td>\n",
       "      <td>0.0</td>\n",
       "      <td>13.0</td>\n",
       "      <td>-1.9</td>\n",
       "      <td>0.0</td>\n",
       "      <td>0</td>\n",
       "      <td>0.9</td>\n",
       "      <td>0.4</td>\n",
       "      <td>26.7</td>\n",
       "      <td>30.3</td>\n",
       "      <td>1</td>\n",
       "    </tr>\n",
       "    <tr>\n",
       "      <th>4</th>\n",
       "      <td>72</td>\n",
       "      <td>0</td>\n",
       "      <td>171</td>\n",
       "      <td>74</td>\n",
       "      <td>77</td>\n",
       "      <td>172</td>\n",
       "      <td>330</td>\n",
       "      <td>140</td>\n",
       "      <td>104</td>\n",
       "      <td>33</td>\n",
       "      <td>...</td>\n",
       "      <td>0.0</td>\n",
       "      <td>6.8</td>\n",
       "      <td>0.0</td>\n",
       "      <td>0.0</td>\n",
       "      <td>0</td>\n",
       "      <td>0.7</td>\n",
       "      <td>0.8</td>\n",
       "      <td>25.8</td>\n",
       "      <td>31.4</td>\n",
       "      <td>1</td>\n",
       "    </tr>\n",
       "    <tr>\n",
       "      <th>5</th>\n",
       "      <td>41</td>\n",
       "      <td>1</td>\n",
       "      <td>155</td>\n",
       "      <td>56</td>\n",
       "      <td>80</td>\n",
       "      <td>134</td>\n",
       "      <td>362</td>\n",
       "      <td>156</td>\n",
       "      <td>58</td>\n",
       "      <td>59</td>\n",
       "      <td>...</td>\n",
       "      <td>0.0</td>\n",
       "      <td>7.1</td>\n",
       "      <td>-1.4</td>\n",
       "      <td>0.0</td>\n",
       "      <td>0</td>\n",
       "      <td>0.6</td>\n",
       "      <td>2.9</td>\n",
       "      <td>12.8</td>\n",
       "      <td>38.9</td>\n",
       "      <td>10</td>\n",
       "    </tr>\n",
       "    <tr>\n",
       "      <th>6</th>\n",
       "      <td>54</td>\n",
       "      <td>1</td>\n",
       "      <td>172</td>\n",
       "      <td>58</td>\n",
       "      <td>78</td>\n",
       "      <td>155</td>\n",
       "      <td>382</td>\n",
       "      <td>163</td>\n",
       "      <td>81</td>\n",
       "      <td>-24</td>\n",
       "      <td>...</td>\n",
       "      <td>0.0</td>\n",
       "      <td>6.3</td>\n",
       "      <td>-2.1</td>\n",
       "      <td>0.0</td>\n",
       "      <td>0</td>\n",
       "      <td>0.8</td>\n",
       "      <td>0.5</td>\n",
       "      <td>8.8</td>\n",
       "      <td>12.1</td>\n",
       "      <td>10</td>\n",
       "    </tr>\n",
       "    <tr>\n",
       "      <th>7</th>\n",
       "      <td>44</td>\n",
       "      <td>0</td>\n",
       "      <td>170</td>\n",
       "      <td>84</td>\n",
       "      <td>188</td>\n",
       "      <td>125</td>\n",
       "      <td>458</td>\n",
       "      <td>261</td>\n",
       "      <td>75</td>\n",
       "      <td>-12</td>\n",
       "      <td>...</td>\n",
       "      <td>0.0</td>\n",
       "      <td>12.0</td>\n",
       "      <td>0.0</td>\n",
       "      <td>0.0</td>\n",
       "      <td>0</td>\n",
       "      <td>0.5</td>\n",
       "      <td>-6.0</td>\n",
       "      <td>86.4</td>\n",
       "      <td>8.4</td>\n",
       "      <td>9</td>\n",
       "    </tr>\n",
       "    <tr>\n",
       "      <th>8</th>\n",
       "      <td>51</td>\n",
       "      <td>1</td>\n",
       "      <td>165</td>\n",
       "      <td>85</td>\n",
       "      <td>81</td>\n",
       "      <td>158</td>\n",
       "      <td>357</td>\n",
       "      <td>148</td>\n",
       "      <td>109</td>\n",
       "      <td>64</td>\n",
       "      <td>...</td>\n",
       "      <td>0.0</td>\n",
       "      <td>12.4</td>\n",
       "      <td>-1.9</td>\n",
       "      <td>0.0</td>\n",
       "      <td>0</td>\n",
       "      <td>0.5</td>\n",
       "      <td>1.0</td>\n",
       "      <td>31.3</td>\n",
       "      <td>37.5</td>\n",
       "      <td>1</td>\n",
       "    </tr>\n",
       "    <tr>\n",
       "      <th>9</th>\n",
       "      <td>45</td>\n",
       "      <td>0</td>\n",
       "      <td>177</td>\n",
       "      <td>72</td>\n",
       "      <td>94</td>\n",
       "      <td>164</td>\n",
       "      <td>431</td>\n",
       "      <td>158</td>\n",
       "      <td>81</td>\n",
       "      <td>116</td>\n",
       "      <td>...</td>\n",
       "      <td>-1.9</td>\n",
       "      <td>0.0</td>\n",
       "      <td>0.0</td>\n",
       "      <td>0.0</td>\n",
       "      <td>0</td>\n",
       "      <td>0.6</td>\n",
       "      <td>-2.2</td>\n",
       "      <td>-8.3</td>\n",
       "      <td>-38.6</td>\n",
       "      <td>3</td>\n",
       "    </tr>\n",
       "  </tbody>\n",
       "</table>\n",
       "<p>10 rows × 279 columns</p>\n",
       "</div>"
      ],
      "text/plain": [
       "   age  sex  height  weight  QRSduration  PRinterval  Q-Tinterval  Tinterval  \\\n",
       "0   37    1     159      56           75         162          339        141   \n",
       "1   52    0     165      80           88         202          369        113   \n",
       "2   12    1     165      47           91           0          359        152   \n",
       "3   80    0     160      70           90         201          404        157   \n",
       "4   72    0     171      74           77         172          330        140   \n",
       "5   41    1     155      56           80         134          362        156   \n",
       "6   54    1     172      58           78         155          382        163   \n",
       "7   44    0     170      84          188         125          458        261   \n",
       "8   51    1     165      85           81         158          357        148   \n",
       "9   45    0     177      72           94         164          431        158   \n",
       "\n",
       "   Pinterval  QRS  ...  chV6_QwaveAmp  chV6_RwaveAmp  chV6_SwaveAmp  \\\n",
       "0         96   60  ...            0.0            5.0           -1.3   \n",
       "1         97   58  ...           -0.5           10.7           -1.7   \n",
       "2          0    8  ...            0.0            8.8           -0.6   \n",
       "3        111   21  ...            0.0           13.0           -1.9   \n",
       "4        104   33  ...            0.0            6.8            0.0   \n",
       "5         58   59  ...            0.0            7.1           -1.4   \n",
       "6         81  -24  ...            0.0            6.3           -2.1   \n",
       "7         75  -12  ...            0.0           12.0            0.0   \n",
       "8        109   64  ...            0.0           12.4           -1.9   \n",
       "9         81  116  ...           -1.9            0.0            0.0   \n",
       "\n",
       "   chV6_RPwaveAmp  chV6_SPwaveAmp  chV6_PwaveAmp  chV6_TwaveAmp  chV6_QRSA  \\\n",
       "0             0.0               0            0.4            1.2        9.4   \n",
       "1             0.0               0            0.4           -0.3       19.6   \n",
       "2             0.0               0           -0.4            1.6       24.0   \n",
       "3             0.0               0            0.9            0.4       26.7   \n",
       "4             0.0               0            0.7            0.8       25.8   \n",
       "5             0.0               0            0.6            2.9       12.8   \n",
       "6             0.0               0            0.8            0.5        8.8   \n",
       "7             0.0               0            0.5           -6.0       86.4   \n",
       "8             0.0               0            0.5            1.0       31.3   \n",
       "9             0.0               0            0.6           -2.2       -8.3   \n",
       "\n",
       "   chV6_QRSTA  class  \n",
       "0        16.6      1  \n",
       "1        17.7     16  \n",
       "2        38.0     10  \n",
       "3        30.3      1  \n",
       "4        31.4      1  \n",
       "5        38.9     10  \n",
       "6        12.1     10  \n",
       "7         8.4      9  \n",
       "8        37.5      1  \n",
       "9       -38.6      3  \n",
       "\n",
       "[10 rows x 279 columns]"
      ]
     },
     "execution_count": 269,
     "metadata": {},
     "output_type": "execute_result"
    }
   ],
   "source": [
    "train.head(10)"
   ]
  },
  {
   "cell_type": "code",
   "execution_count": 270,
   "metadata": {},
   "outputs": [
    {
     "data": {
      "text/plain": [
       "array([159, 165, 160, 171, 155, 172, 170, 177, 156, 169, 162, 167, 132,\n",
       "       130, 175, 164, 173, 176, 124, 168, 180, 185, 166, 182, 163, 153,\n",
       "       150, 110, 127, 157, 178, 780, 161, 190, 158, 181, 154, 119, 188,\n",
       "       120, 133, 186, 140, 148, 174, 608, 184, 105, 149, 138, 179, 152,\n",
       "       146], dtype=int64)"
      ]
     },
     "execution_count": 270,
     "metadata": {},
     "output_type": "execute_result"
    }
   ],
   "source": [
    "train['height'].unique()"
   ]
  },
  {
   "cell_type": "markdown",
   "metadata": {},
   "source": [
    "Height cannot be of values 608 and 780. Hence we're dropping those records."
   ]
  },
  {
   "cell_type": "code",
   "execution_count": 271,
   "metadata": {},
   "outputs": [],
   "source": [
    "train.drop(train.loc[train['height']==608].index, inplace=True)\n",
    "train.drop(train.loc[train['height']==780].index, inplace=True)"
   ]
  },
  {
   "cell_type": "code",
   "execution_count": 272,
   "metadata": {},
   "outputs": [
    {
     "data": {
      "text/plain": [
       "array([159, 165, 160, 171, 155, 172, 170, 177, 156, 169, 162, 167, 132,\n",
       "       130, 175, 164, 173, 176, 124, 168, 180, 185, 166, 182, 163, 153,\n",
       "       150, 110, 127, 157, 178, 161, 190, 158, 181, 154, 119, 188, 120,\n",
       "       133, 186, 140, 148, 174, 184, 105, 149, 138, 179, 152, 146],\n",
       "      dtype=int64)"
      ]
     },
     "execution_count": 272,
     "metadata": {},
     "output_type": "execute_result"
    }
   ],
   "source": [
    "train['height'].unique()"
   ]
  },
  {
   "cell_type": "code",
   "execution_count": 273,
   "metadata": {},
   "outputs": [
    {
     "data": {
      "text/plain": [
       "array([ 56,  80,  47,  70,  74,  58,  84,  85,  72,  83,  53,  65,  67,\n",
       "        75,  64,  52,  68,  33,  30,  60,  54, 176,  94,  25,  71,  77,\n",
       "        88,  95,  66,  73,  48,  90,  61,  10,  22,  63,  40,  55, 104,\n",
       "        82,  89,  51,  81,  78,  76,  38, 110,  21,  91,  98,  93,  28,\n",
       "        62,  59,  43,  50,  69,  45,  79,  18,  24,  86, 100,  42, 124,\n",
       "       105,  57,  96,  12, 106,  97,  29,  44,  46], dtype=int64)"
      ]
     },
     "execution_count": 273,
     "metadata": {},
     "output_type": "execute_result"
    }
   ],
   "source": [
    "train['weight'].unique()"
   ]
  },
  {
   "cell_type": "code",
   "execution_count": 274,
   "metadata": {},
   "outputs": [
    {
     "data": {
      "text/plain": [
       "array([37, 52, 12, 80, 72, 41, 54, 44, 51, 45, 57, 60, 53, 40, 24, 56, 62,\n",
       "       46, 59, 63,  9,  7, 66, 81, 47, 42, 67, 33, 35, 43, 61, 11, 77, 36,\n",
       "       65, 49, 48, 50,  1, 34, 64, 38, 22, 19, 78, 30, 32, 27, 21, 39, 75,\n",
       "       13, 31, 15, 28, 55, 69, 73,  8, 25, 26, 18, 70, 29, 74, 68, 58, 71,\n",
       "       17, 20, 83,  3, 14, 76, 16, 79], dtype=int64)"
      ]
     },
     "execution_count": 274,
     "metadata": {},
     "output_type": "execute_result"
    }
   ],
   "source": [
    "train['age'].unique()"
   ]
  },
  {
   "cell_type": "code",
   "execution_count": 275,
   "metadata": {},
   "outputs": [
    {
     "data": {
      "text/plain": [
       "array([ 81.        ,  59.        ,  68.        ,  67.        ,\n",
       "        84.        ,  70.        ,  73.        ,  77.        ,\n",
       "        75.        ,  63.        , 107.        ,  80.        ,\n",
       "        72.        ,  65.        ,  66.        ,  93.        ,\n",
       "        53.        ,  97.        ,  78.        ,  87.        ,\n",
       "        71.        ,  76.        ,  74.        ,  61.        ,\n",
       "        62.        ,  91.        , 103.        ,  64.        ,\n",
       "        60.        ,  85.        , 102.        ,  58.        ,\n",
       "        69.        , 104.        , 122.        , 101.        ,\n",
       "        79.        ,  92.        ,  56.        ,  55.        ,\n",
       "        82.        ,  89.        ,  98.        ,  83.        ,\n",
       "        74.30075188,  86.        ,  54.        ,  96.        ,\n",
       "       100.        ,  57.        ,  49.        ,  88.        ,\n",
       "        50.        , 117.        , 123.        ,  51.        ,\n",
       "        44.        ,  94.        , 124.        , 112.        ,\n",
       "       120.        ])"
      ]
     },
     "execution_count": 275,
     "metadata": {},
     "output_type": "execute_result"
    }
   ],
   "source": [
    "train['heartrate'].unique()"
   ]
  },
  {
   "cell_type": "markdown",
   "metadata": {},
   "source": [
    "In all other columns, the values seem good. "
   ]
  },
  {
   "cell_type": "code",
   "execution_count": 276,
   "metadata": {},
   "outputs": [
    {
     "data": {
      "text/html": [
       "<div>\n",
       "<style scoped>\n",
       "    .dataframe tbody tr th:only-of-type {\n",
       "        vertical-align: middle;\n",
       "    }\n",
       "\n",
       "    .dataframe tbody tr th {\n",
       "        vertical-align: top;\n",
       "    }\n",
       "\n",
       "    .dataframe thead th {\n",
       "        text-align: right;\n",
       "    }\n",
       "</style>\n",
       "<table border=\"1\" class=\"dataframe\">\n",
       "  <thead>\n",
       "    <tr style=\"text-align: right;\">\n",
       "      <th></th>\n",
       "      <th>age</th>\n",
       "      <th>sex</th>\n",
       "      <th>height</th>\n",
       "      <th>weight</th>\n",
       "      <th>QRSduration</th>\n",
       "      <th>PRinterval</th>\n",
       "      <th>Q-Tinterval</th>\n",
       "      <th>Tinterval</th>\n",
       "      <th>Pinterval</th>\n",
       "      <th>QRS</th>\n",
       "      <th>...</th>\n",
       "      <th>chV6_QwaveAmp</th>\n",
       "      <th>chV6_RwaveAmp</th>\n",
       "      <th>chV6_SwaveAmp</th>\n",
       "      <th>chV6_RPwaveAmp</th>\n",
       "      <th>chV6_SPwaveAmp</th>\n",
       "      <th>chV6_PwaveAmp</th>\n",
       "      <th>chV6_TwaveAmp</th>\n",
       "      <th>chV6_QRSA</th>\n",
       "      <th>chV6_QRSTA</th>\n",
       "      <th>class</th>\n",
       "    </tr>\n",
       "  </thead>\n",
       "  <tbody>\n",
       "    <tr>\n",
       "      <th>0</th>\n",
       "      <td>37</td>\n",
       "      <td>1</td>\n",
       "      <td>159</td>\n",
       "      <td>56</td>\n",
       "      <td>75</td>\n",
       "      <td>162</td>\n",
       "      <td>339</td>\n",
       "      <td>141</td>\n",
       "      <td>96</td>\n",
       "      <td>60</td>\n",
       "      <td>...</td>\n",
       "      <td>0.0</td>\n",
       "      <td>5.0</td>\n",
       "      <td>-1.3</td>\n",
       "      <td>0.0</td>\n",
       "      <td>0</td>\n",
       "      <td>0.4</td>\n",
       "      <td>1.2</td>\n",
       "      <td>9.4</td>\n",
       "      <td>16.6</td>\n",
       "      <td>1</td>\n",
       "    </tr>\n",
       "    <tr>\n",
       "      <th>1</th>\n",
       "      <td>52</td>\n",
       "      <td>0</td>\n",
       "      <td>165</td>\n",
       "      <td>80</td>\n",
       "      <td>88</td>\n",
       "      <td>202</td>\n",
       "      <td>369</td>\n",
       "      <td>113</td>\n",
       "      <td>97</td>\n",
       "      <td>58</td>\n",
       "      <td>...</td>\n",
       "      <td>-0.5</td>\n",
       "      <td>10.7</td>\n",
       "      <td>-1.7</td>\n",
       "      <td>0.0</td>\n",
       "      <td>0</td>\n",
       "      <td>0.4</td>\n",
       "      <td>-0.3</td>\n",
       "      <td>19.6</td>\n",
       "      <td>17.7</td>\n",
       "      <td>16</td>\n",
       "    </tr>\n",
       "    <tr>\n",
       "      <th>2</th>\n",
       "      <td>12</td>\n",
       "      <td>1</td>\n",
       "      <td>165</td>\n",
       "      <td>47</td>\n",
       "      <td>91</td>\n",
       "      <td>0</td>\n",
       "      <td>359</td>\n",
       "      <td>152</td>\n",
       "      <td>0</td>\n",
       "      <td>8</td>\n",
       "      <td>...</td>\n",
       "      <td>0.0</td>\n",
       "      <td>8.8</td>\n",
       "      <td>-0.6</td>\n",
       "      <td>0.0</td>\n",
       "      <td>0</td>\n",
       "      <td>-0.4</td>\n",
       "      <td>1.6</td>\n",
       "      <td>24.0</td>\n",
       "      <td>38.0</td>\n",
       "      <td>10</td>\n",
       "    </tr>\n",
       "    <tr>\n",
       "      <th>3</th>\n",
       "      <td>80</td>\n",
       "      <td>0</td>\n",
       "      <td>160</td>\n",
       "      <td>70</td>\n",
       "      <td>90</td>\n",
       "      <td>201</td>\n",
       "      <td>404</td>\n",
       "      <td>157</td>\n",
       "      <td>111</td>\n",
       "      <td>21</td>\n",
       "      <td>...</td>\n",
       "      <td>0.0</td>\n",
       "      <td>13.0</td>\n",
       "      <td>-1.9</td>\n",
       "      <td>0.0</td>\n",
       "      <td>0</td>\n",
       "      <td>0.9</td>\n",
       "      <td>0.4</td>\n",
       "      <td>26.7</td>\n",
       "      <td>30.3</td>\n",
       "      <td>1</td>\n",
       "    </tr>\n",
       "    <tr>\n",
       "      <th>4</th>\n",
       "      <td>72</td>\n",
       "      <td>0</td>\n",
       "      <td>171</td>\n",
       "      <td>74</td>\n",
       "      <td>77</td>\n",
       "      <td>172</td>\n",
       "      <td>330</td>\n",
       "      <td>140</td>\n",
       "      <td>104</td>\n",
       "      <td>33</td>\n",
       "      <td>...</td>\n",
       "      <td>0.0</td>\n",
       "      <td>6.8</td>\n",
       "      <td>0.0</td>\n",
       "      <td>0.0</td>\n",
       "      <td>0</td>\n",
       "      <td>0.7</td>\n",
       "      <td>0.8</td>\n",
       "      <td>25.8</td>\n",
       "      <td>31.4</td>\n",
       "      <td>1</td>\n",
       "    </tr>\n",
       "    <tr>\n",
       "      <th>5</th>\n",
       "      <td>41</td>\n",
       "      <td>1</td>\n",
       "      <td>155</td>\n",
       "      <td>56</td>\n",
       "      <td>80</td>\n",
       "      <td>134</td>\n",
       "      <td>362</td>\n",
       "      <td>156</td>\n",
       "      <td>58</td>\n",
       "      <td>59</td>\n",
       "      <td>...</td>\n",
       "      <td>0.0</td>\n",
       "      <td>7.1</td>\n",
       "      <td>-1.4</td>\n",
       "      <td>0.0</td>\n",
       "      <td>0</td>\n",
       "      <td>0.6</td>\n",
       "      <td>2.9</td>\n",
       "      <td>12.8</td>\n",
       "      <td>38.9</td>\n",
       "      <td>10</td>\n",
       "    </tr>\n",
       "    <tr>\n",
       "      <th>6</th>\n",
       "      <td>54</td>\n",
       "      <td>1</td>\n",
       "      <td>172</td>\n",
       "      <td>58</td>\n",
       "      <td>78</td>\n",
       "      <td>155</td>\n",
       "      <td>382</td>\n",
       "      <td>163</td>\n",
       "      <td>81</td>\n",
       "      <td>-24</td>\n",
       "      <td>...</td>\n",
       "      <td>0.0</td>\n",
       "      <td>6.3</td>\n",
       "      <td>-2.1</td>\n",
       "      <td>0.0</td>\n",
       "      <td>0</td>\n",
       "      <td>0.8</td>\n",
       "      <td>0.5</td>\n",
       "      <td>8.8</td>\n",
       "      <td>12.1</td>\n",
       "      <td>10</td>\n",
       "    </tr>\n",
       "    <tr>\n",
       "      <th>7</th>\n",
       "      <td>44</td>\n",
       "      <td>0</td>\n",
       "      <td>170</td>\n",
       "      <td>84</td>\n",
       "      <td>188</td>\n",
       "      <td>125</td>\n",
       "      <td>458</td>\n",
       "      <td>261</td>\n",
       "      <td>75</td>\n",
       "      <td>-12</td>\n",
       "      <td>...</td>\n",
       "      <td>0.0</td>\n",
       "      <td>12.0</td>\n",
       "      <td>0.0</td>\n",
       "      <td>0.0</td>\n",
       "      <td>0</td>\n",
       "      <td>0.5</td>\n",
       "      <td>-6.0</td>\n",
       "      <td>86.4</td>\n",
       "      <td>8.4</td>\n",
       "      <td>9</td>\n",
       "    </tr>\n",
       "    <tr>\n",
       "      <th>8</th>\n",
       "      <td>51</td>\n",
       "      <td>1</td>\n",
       "      <td>165</td>\n",
       "      <td>85</td>\n",
       "      <td>81</td>\n",
       "      <td>158</td>\n",
       "      <td>357</td>\n",
       "      <td>148</td>\n",
       "      <td>109</td>\n",
       "      <td>64</td>\n",
       "      <td>...</td>\n",
       "      <td>0.0</td>\n",
       "      <td>12.4</td>\n",
       "      <td>-1.9</td>\n",
       "      <td>0.0</td>\n",
       "      <td>0</td>\n",
       "      <td>0.5</td>\n",
       "      <td>1.0</td>\n",
       "      <td>31.3</td>\n",
       "      <td>37.5</td>\n",
       "      <td>1</td>\n",
       "    </tr>\n",
       "    <tr>\n",
       "      <th>9</th>\n",
       "      <td>45</td>\n",
       "      <td>0</td>\n",
       "      <td>177</td>\n",
       "      <td>72</td>\n",
       "      <td>94</td>\n",
       "      <td>164</td>\n",
       "      <td>431</td>\n",
       "      <td>158</td>\n",
       "      <td>81</td>\n",
       "      <td>116</td>\n",
       "      <td>...</td>\n",
       "      <td>-1.9</td>\n",
       "      <td>0.0</td>\n",
       "      <td>0.0</td>\n",
       "      <td>0.0</td>\n",
       "      <td>0</td>\n",
       "      <td>0.6</td>\n",
       "      <td>-2.2</td>\n",
       "      <td>-8.3</td>\n",
       "      <td>-38.6</td>\n",
       "      <td>3</td>\n",
       "    </tr>\n",
       "  </tbody>\n",
       "</table>\n",
       "<p>10 rows × 279 columns</p>\n",
       "</div>"
      ],
      "text/plain": [
       "   age  sex  height  weight  QRSduration  PRinterval  Q-Tinterval  Tinterval  \\\n",
       "0   37    1     159      56           75         162          339        141   \n",
       "1   52    0     165      80           88         202          369        113   \n",
       "2   12    1     165      47           91           0          359        152   \n",
       "3   80    0     160      70           90         201          404        157   \n",
       "4   72    0     171      74           77         172          330        140   \n",
       "5   41    1     155      56           80         134          362        156   \n",
       "6   54    1     172      58           78         155          382        163   \n",
       "7   44    0     170      84          188         125          458        261   \n",
       "8   51    1     165      85           81         158          357        148   \n",
       "9   45    0     177      72           94         164          431        158   \n",
       "\n",
       "   Pinterval  QRS  ...  chV6_QwaveAmp  chV6_RwaveAmp  chV6_SwaveAmp  \\\n",
       "0         96   60  ...            0.0            5.0           -1.3   \n",
       "1         97   58  ...           -0.5           10.7           -1.7   \n",
       "2          0    8  ...            0.0            8.8           -0.6   \n",
       "3        111   21  ...            0.0           13.0           -1.9   \n",
       "4        104   33  ...            0.0            6.8            0.0   \n",
       "5         58   59  ...            0.0            7.1           -1.4   \n",
       "6         81  -24  ...            0.0            6.3           -2.1   \n",
       "7         75  -12  ...            0.0           12.0            0.0   \n",
       "8        109   64  ...            0.0           12.4           -1.9   \n",
       "9         81  116  ...           -1.9            0.0            0.0   \n",
       "\n",
       "   chV6_RPwaveAmp  chV6_SPwaveAmp  chV6_PwaveAmp  chV6_TwaveAmp  chV6_QRSA  \\\n",
       "0             0.0               0            0.4            1.2        9.4   \n",
       "1             0.0               0            0.4           -0.3       19.6   \n",
       "2             0.0               0           -0.4            1.6       24.0   \n",
       "3             0.0               0            0.9            0.4       26.7   \n",
       "4             0.0               0            0.7            0.8       25.8   \n",
       "5             0.0               0            0.6            2.9       12.8   \n",
       "6             0.0               0            0.8            0.5        8.8   \n",
       "7             0.0               0            0.5           -6.0       86.4   \n",
       "8             0.0               0            0.5            1.0       31.3   \n",
       "9             0.0               0            0.6           -2.2       -8.3   \n",
       "\n",
       "   chV6_QRSTA  class  \n",
       "0        16.6      1  \n",
       "1        17.7     16  \n",
       "2        38.0     10  \n",
       "3        30.3      1  \n",
       "4        31.4      1  \n",
       "5        38.9     10  \n",
       "6        12.1     10  \n",
       "7         8.4      9  \n",
       "8        37.5      1  \n",
       "9       -38.6      3  \n",
       "\n",
       "[10 rows x 279 columns]"
      ]
     },
     "execution_count": 276,
     "metadata": {},
     "output_type": "execute_result"
    }
   ],
   "source": [
    "train.head(10)"
   ]
  },
  {
   "cell_type": "markdown",
   "metadata": {},
   "source": [
    "#### Splitting the dataset"
   ]
  },
  {
   "cell_type": "code",
   "execution_count": 277,
   "metadata": {},
   "outputs": [],
   "source": [
    "X = train.iloc[:,:278]\n",
    "y =  train['class']\n",
    "\n",
    "X_train_org, X_test_org, y_train, y_test = train_test_split(X,y, random_state = 0)"
   ]
  },
  {
   "cell_type": "code",
   "execution_count": 278,
   "metadata": {},
   "outputs": [
    {
     "data": {
      "text/html": [
       "<div>\n",
       "<style scoped>\n",
       "    .dataframe tbody tr th:only-of-type {\n",
       "        vertical-align: middle;\n",
       "    }\n",
       "\n",
       "    .dataframe tbody tr th {\n",
       "        vertical-align: top;\n",
       "    }\n",
       "\n",
       "    .dataframe thead th {\n",
       "        text-align: right;\n",
       "    }\n",
       "</style>\n",
       "<table border=\"1\" class=\"dataframe\">\n",
       "  <thead>\n",
       "    <tr style=\"text-align: right;\">\n",
       "      <th></th>\n",
       "      <th>age</th>\n",
       "      <th>sex</th>\n",
       "      <th>height</th>\n",
       "      <th>weight</th>\n",
       "      <th>QRSduration</th>\n",
       "      <th>PRinterval</th>\n",
       "      <th>Q-Tinterval</th>\n",
       "      <th>Tinterval</th>\n",
       "      <th>Pinterval</th>\n",
       "      <th>QRS</th>\n",
       "      <th>...</th>\n",
       "      <th>chV6_JJwaveAmp</th>\n",
       "      <th>chV6_QwaveAmp</th>\n",
       "      <th>chV6_RwaveAmp</th>\n",
       "      <th>chV6_SwaveAmp</th>\n",
       "      <th>chV6_RPwaveAmp</th>\n",
       "      <th>chV6_SPwaveAmp</th>\n",
       "      <th>chV6_PwaveAmp</th>\n",
       "      <th>chV6_TwaveAmp</th>\n",
       "      <th>chV6_QRSA</th>\n",
       "      <th>chV6_QRSTA</th>\n",
       "    </tr>\n",
       "  </thead>\n",
       "  <tbody>\n",
       "    <tr>\n",
       "      <th>255</th>\n",
       "      <td>66</td>\n",
       "      <td>1</td>\n",
       "      <td>160</td>\n",
       "      <td>124</td>\n",
       "      <td>99</td>\n",
       "      <td>154</td>\n",
       "      <td>329</td>\n",
       "      <td>172</td>\n",
       "      <td>95</td>\n",
       "      <td>-48</td>\n",
       "      <td>...</td>\n",
       "      <td>0.0</td>\n",
       "      <td>0.0</td>\n",
       "      <td>4.3</td>\n",
       "      <td>-5.2</td>\n",
       "      <td>0.0</td>\n",
       "      <td>0</td>\n",
       "      <td>0.6</td>\n",
       "      <td>1.7</td>\n",
       "      <td>-7.2</td>\n",
       "      <td>4.7</td>\n",
       "    </tr>\n",
       "    <tr>\n",
       "      <th>247</th>\n",
       "      <td>63</td>\n",
       "      <td>0</td>\n",
       "      <td>174</td>\n",
       "      <td>79</td>\n",
       "      <td>91</td>\n",
       "      <td>151</td>\n",
       "      <td>410</td>\n",
       "      <td>198</td>\n",
       "      <td>86</td>\n",
       "      <td>16</td>\n",
       "      <td>...</td>\n",
       "      <td>-0.7</td>\n",
       "      <td>0.0</td>\n",
       "      <td>4.7</td>\n",
       "      <td>-1.5</td>\n",
       "      <td>0.0</td>\n",
       "      <td>0</td>\n",
       "      <td>0.4</td>\n",
       "      <td>-1.4</td>\n",
       "      <td>7.6</td>\n",
       "      <td>-5.0</td>\n",
       "    </tr>\n",
       "    <tr>\n",
       "      <th>283</th>\n",
       "      <td>17</td>\n",
       "      <td>1</td>\n",
       "      <td>160</td>\n",
       "      <td>54</td>\n",
       "      <td>85</td>\n",
       "      <td>137</td>\n",
       "      <td>323</td>\n",
       "      <td>143</td>\n",
       "      <td>87</td>\n",
       "      <td>72</td>\n",
       "      <td>...</td>\n",
       "      <td>-0.6</td>\n",
       "      <td>-0.8</td>\n",
       "      <td>8.3</td>\n",
       "      <td>-1.8</td>\n",
       "      <td>0.0</td>\n",
       "      <td>0</td>\n",
       "      <td>0.9</td>\n",
       "      <td>1.3</td>\n",
       "      <td>10.4</td>\n",
       "      <td>18.4</td>\n",
       "    </tr>\n",
       "    <tr>\n",
       "      <th>82</th>\n",
       "      <td>27</td>\n",
       "      <td>1</td>\n",
       "      <td>161</td>\n",
       "      <td>51</td>\n",
       "      <td>70</td>\n",
       "      <td>142</td>\n",
       "      <td>413</td>\n",
       "      <td>158</td>\n",
       "      <td>51</td>\n",
       "      <td>70</td>\n",
       "      <td>...</td>\n",
       "      <td>0.2</td>\n",
       "      <td>0.0</td>\n",
       "      <td>8.6</td>\n",
       "      <td>0.0</td>\n",
       "      <td>0.0</td>\n",
       "      <td>0</td>\n",
       "      <td>0.4</td>\n",
       "      <td>2.2</td>\n",
       "      <td>29.2</td>\n",
       "      <td>49.8</td>\n",
       "    </tr>\n",
       "    <tr>\n",
       "      <th>349</th>\n",
       "      <td>27</td>\n",
       "      <td>1</td>\n",
       "      <td>160</td>\n",
       "      <td>42</td>\n",
       "      <td>78</td>\n",
       "      <td>153</td>\n",
       "      <td>374</td>\n",
       "      <td>165</td>\n",
       "      <td>85</td>\n",
       "      <td>23</td>\n",
       "      <td>...</td>\n",
       "      <td>1.4</td>\n",
       "      <td>-0.7</td>\n",
       "      <td>12.2</td>\n",
       "      <td>-2.4</td>\n",
       "      <td>0.0</td>\n",
       "      <td>0</td>\n",
       "      <td>0.5</td>\n",
       "      <td>1.9</td>\n",
       "      <td>11.0</td>\n",
       "      <td>25.0</td>\n",
       "    </tr>\n",
       "  </tbody>\n",
       "</table>\n",
       "<p>5 rows × 278 columns</p>\n",
       "</div>"
      ],
      "text/plain": [
       "     age  sex  height  weight  QRSduration  PRinterval  Q-Tinterval  \\\n",
       "255   66    1     160     124           99         154          329   \n",
       "247   63    0     174      79           91         151          410   \n",
       "283   17    1     160      54           85         137          323   \n",
       "82    27    1     161      51           70         142          413   \n",
       "349   27    1     160      42           78         153          374   \n",
       "\n",
       "     Tinterval  Pinterval  QRS  ...  chV6_JJwaveAmp  chV6_QwaveAmp  \\\n",
       "255        172         95  -48  ...             0.0            0.0   \n",
       "247        198         86   16  ...            -0.7            0.0   \n",
       "283        143         87   72  ...            -0.6           -0.8   \n",
       "82         158         51   70  ...             0.2            0.0   \n",
       "349        165         85   23  ...             1.4           -0.7   \n",
       "\n",
       "     chV6_RwaveAmp  chV6_SwaveAmp  chV6_RPwaveAmp  chV6_SPwaveAmp  \\\n",
       "255            4.3           -5.2             0.0               0   \n",
       "247            4.7           -1.5             0.0               0   \n",
       "283            8.3           -1.8             0.0               0   \n",
       "82             8.6            0.0             0.0               0   \n",
       "349           12.2           -2.4             0.0               0   \n",
       "\n",
       "     chV6_PwaveAmp  chV6_TwaveAmp  chV6_QRSA  chV6_QRSTA  \n",
       "255            0.6            1.7       -7.2         4.7  \n",
       "247            0.4           -1.4        7.6        -5.0  \n",
       "283            0.9            1.3       10.4        18.4  \n",
       "82             0.4            2.2       29.2        49.8  \n",
       "349            0.5            1.9       11.0        25.0  \n",
       "\n",
       "[5 rows x 278 columns]"
      ]
     },
     "execution_count": 278,
     "metadata": {},
     "output_type": "execute_result"
    }
   ],
   "source": [
    "X_train_org.head()"
   ]
  },
  {
   "cell_type": "markdown",
   "metadata": {},
   "source": [
    "#### Scaling the dataset"
   ]
  },
  {
   "cell_type": "code",
   "execution_count": 279,
   "metadata": {},
   "outputs": [],
   "source": [
    "scaler = MinMaxScaler()\n",
    "X_train = scaler.fit_transform(X_train_org)\n",
    "X_test = scaler.transform(X_test_org)\n"
   ]
  },
  {
   "cell_type": "code",
   "execution_count": 282,
   "metadata": {},
   "outputs": [
    {
     "data": {
      "text/plain": [
       "array([[0.79268293, 1.        , 0.625     , ..., 0.55670103, 0.27819549,\n",
       "        0.2802589 ],\n",
       "       [0.75609756, 0.        , 0.8       , ..., 0.2371134 , 0.38947368,\n",
       "        0.21747573],\n",
       "       [0.19512195, 1.        , 0.625     , ..., 0.51546392, 0.41052632,\n",
       "        0.36893204],\n",
       "       ...,\n",
       "       [0.74390244, 1.        , 0.75      , ..., 0.40206186, 0.60827068,\n",
       "        0.50161812],\n",
       "       [0.58536585, 0.        , 0.7       , ..., 0.55670103, 0.41578947,\n",
       "        0.41359223],\n",
       "       [0.84146341, 1.        , 0.625     , ..., 0.42268041, 0.39172932,\n",
       "        0.31779935]])"
      ]
     },
     "execution_count": 282,
     "metadata": {},
     "output_type": "execute_result"
    }
   ],
   "source": [
    "X_train"
   ]
  },
  {
   "cell_type": "markdown",
   "metadata": {},
   "source": [
    "### KNN-Classifier"
   ]
  },
  {
   "cell_type": "code",
   "execution_count": 36,
   "metadata": {},
   "outputs": [
    {
     "name": "stdout",
     "output_type": "stream",
     "text": [
      "Fitting 3 folds for each of 5 candidates, totalling 15 fits\n"
     ]
    },
    {
     "name": "stderr",
     "output_type": "stream",
     "text": [
      "[Parallel(n_jobs=-1)]: Using backend LokyBackend with 8 concurrent workers.\n",
      "[Parallel(n_jobs=-1)]: Done  15 out of  15 | elapsed:    3.6s finished\n"
     ]
    },
    {
     "data": {
      "text/plain": [
       "GridSearchCV(cv=3, error_score='raise-deprecating',\n",
       "             estimator=KNeighborsClassifier(algorithm='auto', leaf_size=30,\n",
       "                                            metric='minkowski',\n",
       "                                            metric_params=None, n_jobs=None,\n",
       "                                            n_neighbors=5, p=2,\n",
       "                                            weights='uniform'),\n",
       "             iid='warn', n_jobs=-1,\n",
       "             param_grid={'n_neighbors': [1, 5, 10, 15, 20]},\n",
       "             pre_dispatch='2*n_jobs', refit=True, return_train_score=False,\n",
       "             scoring=None, verbose=1)"
      ]
     },
     "execution_count": 36,
     "metadata": {},
     "output_type": "execute_result"
    },
    {
     "name": "stdout",
     "output_type": "stream",
     "text": [
      "Best parameters: {'n_neighbors': 5}\n",
      "Best cross-validation score: 0.57\n"
     ]
    }
   ],
   "source": [
    "from sklearn.neighbors import KNeighborsClassifier\n",
    "from sklearn.model_selection import GridSearchCV\n",
    "\n",
    "grid_parms_knn = {'n_neighbors':[1,5,10,15,20]}\n",
    "knn = KNeighborsClassifier()\n",
    "grid_search = GridSearchCV(KNeighborsClassifier(), grid_parms_knn,verbose = 1,cv = 3, n_jobs=-1)\n",
    "grid_search.fit(X_train, y_train)\n",
    "print(\"Best parameters: {}\".format(grid_search.best_params_))\n",
    "print(\"Best cross-validation score: {:.2f}\".format(grid_search.best_score_))"
   ]
  },
  {
   "cell_type": "code",
   "execution_count": 37,
   "metadata": {},
   "outputs": [
    {
     "data": {
      "text/plain": [
       "KNeighborsClassifier(algorithm='auto', leaf_size=30, metric='minkowski',\n",
       "                     metric_params=None, n_jobs=None, n_neighbors=5, p=2,\n",
       "                     weights='uniform')"
      ]
     },
     "execution_count": 37,
     "metadata": {},
     "output_type": "execute_result"
    },
    {
     "name": "stdout",
     "output_type": "stream",
     "text": [
      "Train score: 0.6309\n",
      "Test score: 0.5600\n"
     ]
    }
   ],
   "source": [
    "knn = KNeighborsClassifier(5)\n",
    "knn.fit(X_train, y_train)\n",
    "print('Train score: {:.4f}'.format(knn.score(X_train, y_train)))\n",
    "print('Test score: {:.4f}'.format(knn.score(X_test, y_test)))"
   ]
  },
  {
   "cell_type": "code",
   "execution_count": 38,
   "metadata": {},
   "outputs": [
    {
     "name": "stdout",
     "output_type": "stream",
     "text": [
      "Cross-validation scores:\n",
      "[0.48       0.44       0.66       0.62       0.63265306 0.6122449 ]\n",
      "0.5741496598639456\n"
     ]
    }
   ],
   "source": [
    "from sklearn.model_selection import KFold\n",
    "from sklearn.model_selection import cross_val_score\n",
    "\n",
    "kfold = KFold(n_splits=6)\n",
    "print(\"Cross-validation scores:\\n{}\".format(cross_val_score(knn , X_train, y_train, cv=kfold)))\n",
    "scores = cross_val_score(knn , X_train, y_train, cv=kfold)\n",
    "print(np.mean(scores))"
   ]
  },
  {
   "cell_type": "code",
   "execution_count": 39,
   "metadata": {},
   "outputs": [
    {
     "data": {
      "text/plain": [
       "0.56"
      ]
     },
     "execution_count": 39,
     "metadata": {},
     "output_type": "execute_result"
    },
    {
     "data": {
      "text/plain": [
       "0.2313797313797314"
      ]
     },
     "execution_count": 39,
     "metadata": {},
     "output_type": "execute_result"
    }
   ],
   "source": [
    "y_pred = knn.predict(X_test)\n",
    "accuracy_score(y_test,y_pred)\n",
    "precision_score(y_test, y_pred,average='macro')"
   ]
  },
  {
   "cell_type": "code",
   "execution_count": 40,
   "metadata": {},
   "outputs": [
    {
     "data": {
      "text/plain": [
       "KNeighborsClassifier(algorithm='auto', leaf_size=30, metric='minkowski',\n",
       "                     metric_params=None, n_jobs=None, n_neighbors=5, p=2,\n",
       "                     weights='uniform')"
      ]
     },
     "execution_count": 40,
     "metadata": {},
     "output_type": "execute_result"
    },
    {
     "name": "stdout",
     "output_type": "stream",
     "text": [
      "[[53  9  2  3  6  1 12  1  4]\n",
      " [ 1  0  0  0  0  1  0  0  0]\n",
      " [ 0  0  1  0  0  0  0  0  0]\n",
      " [ 0  0  0  0  0  0  0  0  0]\n",
      " [ 0  0  0  0  0  0  2  0  0]\n",
      " [ 0  0  0  0  0  0  0  0  0]\n",
      " [ 1  0  0  1  0  0  2  0  0]\n",
      " [ 0  0  0  0  0  0  0  0  0]\n",
      " [ 0  0  0  0  0  0  0  0  0]]\n",
      "[0.7260274 0.        0.5       0.        0.        0.        0.2\n",
      " 0.        0.       ]\n"
     ]
    }
   ],
   "source": [
    "from sklearn.metrics import f1_score\n",
    "from sklearn.metrics import confusion_matrix\n",
    " \n",
    "knn = KNeighborsClassifier(5)\n",
    "knn.fit(X_train, y_train)\n",
    "ypred = knn.predict(X_test)\n",
    "cm = confusion_matrix(ypred,y_test)\n",
    "f = f1_score(ypred,y_test, average = None)\n",
    "print(cm)\n",
    "print(f)"
   ]
  },
  {
   "cell_type": "markdown",
   "metadata": {},
   "source": [
    "#### Logistic Regression "
   ]
  },
  {
   "cell_type": "code",
   "execution_count": 41,
   "metadata": {},
   "outputs": [
    {
     "data": {
      "text/plain": [
       "GridSearchCV(cv=6, error_score='raise-deprecating',\n",
       "             estimator=LogisticRegression(C=1.0, class_weight=None, dual=False,\n",
       "                                          fit_intercept=True,\n",
       "                                          intercept_scaling=1, l1_ratio=None,\n",
       "                                          max_iter=100, multi_class='warn',\n",
       "                                          n_jobs=None, penalty='l2',\n",
       "                                          random_state=None, solver='warn',\n",
       "                                          tol=0.0001, verbose=0,\n",
       "                                          warm_start=False),\n",
       "             iid='warn', n_jobs=None,\n",
       "             param_grid={'C': [0.01, 0.1, 1, 10, 100], 'penalty': ['l1', 'l2']},\n",
       "             pre_dispatch='2*n_jobs', refit=True, return_train_score=True,\n",
       "             scoring=None, verbose=0)"
      ]
     },
     "execution_count": 41,
     "metadata": {},
     "output_type": "execute_result"
    }
   ],
   "source": [
    "from sklearn.linear_model import LogisticRegression\n",
    "model = LogisticRegression()\n",
    "penalty = ['l1', 'l2']\n",
    "C = [0.01,0.1,1,10,100]\n",
    "parameters = dict(C=C, penalty=penalty)\n",
    "\n",
    "grid_search = GridSearchCV(model,parameters, cv=6, return_train_score=True)\n",
    "X_train1, X_test1, y_train1, y_test1 = train_test_split(X, y, random_state=0)\n",
    "grid_search.fit(X_train1, y_train1)"
   ]
  },
  {
   "cell_type": "code",
   "execution_count": 42,
   "metadata": {},
   "outputs": [
    {
     "name": "stdout",
     "output_type": "stream",
     "text": [
      "Best parameters: {'C': 0.1, 'penalty': 'l1'}\n",
      "Best cross-validation score: 0.69\n"
     ]
    }
   ],
   "source": [
    "print(\"Best parameters: {}\".format(grid_search.best_params_))\n",
    "print(\"Best cross-validation score: {:.2f}\".format(grid_search.best_score_))"
   ]
  },
  {
   "cell_type": "code",
   "execution_count": 43,
   "metadata": {},
   "outputs": [
    {
     "data": {
      "text/plain": [
       "LogisticRegression(C=0.1, class_weight=None, dual=False, fit_intercept=True,\n",
       "                   intercept_scaling=1, l1_ratio=None, max_iter=100,\n",
       "                   multi_class='warn', n_jobs=None, penalty='l1',\n",
       "                   random_state=None, solver='warn', tol=0.0001, verbose=0,\n",
       "                   warm_start=False)"
      ]
     },
     "execution_count": 43,
     "metadata": {},
     "output_type": "execute_result"
    },
    {
     "name": "stdout",
     "output_type": "stream",
     "text": [
      "0.5335570469798657\n",
      "0.55\n"
     ]
    }
   ],
   "source": [
    "log_l1 = LogisticRegression(penalty = 'l1', C = 0.1)\n",
    "log_l1.fit(X_train, y_train)\n",
    "print(log_l1.score(X_train, y_train))\n",
    "print(log_l1.score(X_test, y_test))"
   ]
  },
  {
   "cell_type": "code",
   "execution_count": 44,
   "metadata": {},
   "outputs": [
    {
     "data": {
      "text/plain": [
       "0.55"
      ]
     },
     "execution_count": 44,
     "metadata": {},
     "output_type": "execute_result"
    },
    {
     "data": {
      "text/plain": [
       "0.0617283950617284"
      ]
     },
     "execution_count": 44,
     "metadata": {},
     "output_type": "execute_result"
    }
   ],
   "source": [
    "y_pred = log_l1.predict(X_test)\n",
    "accuracy_score(y_test,y_pred)\n",
    "precision_score(y_test, y_pred,average='macro')"
   ]
  },
  {
   "cell_type": "code",
   "execution_count": 45,
   "metadata": {},
   "outputs": [
    {
     "name": "stdout",
     "output_type": "stream",
     "text": [
      "Cross-validation scores:\n",
      "[0.48       0.44       0.64       0.56       0.51020408 0.57142857]\n",
      "0.5336054421768708\n"
     ]
    }
   ],
   "source": [
    "from sklearn.model_selection import KFold\n",
    "from sklearn.model_selection import cross_val_score\n",
    "log_l1 = LogisticRegression(penalty = 'l1', C = 0.01)\n",
    "kfold = KFold(n_splits=6)\n",
    "print(\"Cross-validation scores:\\n{}\".format(cross_val_score(log_l1 , X_train, y_train, cv=kfold)))\n",
    "scores = cross_val_score(log_l1 , X_train, y_train, cv=kfold)\n",
    "print(np.mean(scores))"
   ]
  },
  {
   "cell_type": "code",
   "execution_count": 46,
   "metadata": {},
   "outputs": [
    {
     "data": {
      "text/plain": [
       "LogisticRegression(C=0.01, class_weight=None, dual=False, fit_intercept=True,\n",
       "                   intercept_scaling=1, l1_ratio=None, max_iter=100,\n",
       "                   multi_class='warn', n_jobs=None, penalty='l1',\n",
       "                   random_state=None, solver='warn', tol=0.0001, verbose=0,\n",
       "                   warm_start=False)"
      ]
     },
     "execution_count": 46,
     "metadata": {},
     "output_type": "execute_result"
    },
    {
     "name": "stdout",
     "output_type": "stream",
     "text": [
      "[0.70967742 0.         0.         0.         0.         0.\n",
      " 0.         0.         0.        ]\n",
      "[[55  9  3  4  6  2 16  1  4]\n",
      " [ 0  0  0  0  0  0  0  0  0]\n",
      " [ 0  0  0  0  0  0  0  0  0]\n",
      " [ 0  0  0  0  0  0  0  0  0]\n",
      " [ 0  0  0  0  0  0  0  0  0]\n",
      " [ 0  0  0  0  0  0  0  0  0]\n",
      " [ 0  0  0  0  0  0  0  0  0]\n",
      " [ 0  0  0  0  0  0  0  0  0]\n",
      " [ 0  0  0  0  0  0  0  0  0]]\n"
     ]
    }
   ],
   "source": [
    "from sklearn.metrics import f1_score\n",
    "from sklearn.metrics import confusion_matrix\n",
    "\n",
    "from sklearn.metrics import f1_score\n",
    "log_l1 = LogisticRegression(penalty = 'l1', C = 0.01)\n",
    "log_l1.fit(X_train, y_train)\n",
    "ypred = log_l1.predict(X_test)\n",
    "ft = f1_score(ypred,y_test, average = None)\n",
    "cm = confusion_matrix(ypred,y_test)\n",
    "print(ft)\n",
    "print(cm)"
   ]
  },
  {
   "cell_type": "markdown",
   "metadata": {},
   "source": [
    "#### Linear SVC "
   ]
  },
  {
   "cell_type": "markdown",
   "metadata": {},
   "source": [
    "Since Linear SVC does not have any paramater, we don't need to run grid search."
   ]
  },
  {
   "cell_type": "code",
   "execution_count": 47,
   "metadata": {},
   "outputs": [
    {
     "data": {
      "text/plain": [
       "LinearSVC(C=1.0, class_weight=None, dual=True, fit_intercept=True,\n",
       "          intercept_scaling=1, loss='squared_hinge', max_iter=1000,\n",
       "          multi_class='ovr', penalty='l2', random_state=None, tol=0.0001,\n",
       "          verbose=0)"
      ]
     },
     "execution_count": 47,
     "metadata": {},
     "output_type": "execute_result"
    },
    {
     "name": "stdout",
     "output_type": "stream",
     "text": [
      "0.9530201342281879\n",
      "0.73\n"
     ]
    }
   ],
   "source": [
    "from sklearn.svm import LinearSVC\n",
    "\n",
    "clf = LinearSVC()\n",
    "clf.fit(X_train,y_train)\n",
    "\n",
    "print(clf.score(X_train,y_train))\n",
    "print(clf.score(X_test,y_test))"
   ]
  },
  {
   "cell_type": "code",
   "execution_count": 48,
   "metadata": {},
   "outputs": [
    {
     "data": {
      "text/plain": [
       "0.73"
      ]
     },
     "execution_count": 48,
     "metadata": {},
     "output_type": "execute_result"
    },
    {
     "data": {
      "text/plain": [
       "0.37979166666666664"
      ]
     },
     "execution_count": 48,
     "metadata": {},
     "output_type": "execute_result"
    }
   ],
   "source": [
    "y_pred = clf.predict(X_test)\n",
    "accuracy_score(y_test,y_pred)\n",
    "precision_score(y_test, y_pred,average='macro')"
   ]
  },
  {
   "cell_type": "code",
   "execution_count": 49,
   "metadata": {},
   "outputs": [
    {
     "name": "stdout",
     "output_type": "stream",
     "text": [
      "Cross-validation scores:\n",
      "[0.62       0.56       0.7        0.66       0.7755102  0.73469388]\n",
      "0.6750340136054422\n"
     ]
    }
   ],
   "source": [
    "kfold = KFold(n_splits=6)\n",
    "print(\"Cross-validation scores:\\n{}\".format(cross_val_score(clf , X_train, y_train, cv=kfold)))\n",
    "scores = cross_val_score(clf , X_train, y_train, cv=kfold)\n",
    "print(np.mean(scores))"
   ]
  },
  {
   "cell_type": "markdown",
   "metadata": {},
   "source": [
    "#### SVC - Linear Kernel  "
   ]
  },
  {
   "cell_type": "code",
   "execution_count": 50,
   "metadata": {},
   "outputs": [
    {
     "data": {
      "text/plain": [
       "GridSearchCV(cv=3, error_score='raise-deprecating',\n",
       "             estimator=SVC(C=1.0, cache_size=200, class_weight=None, coef0=0.0,\n",
       "                           decision_function_shape='ovr', degree=3,\n",
       "                           gamma='auto_deprecated', kernel='linear',\n",
       "                           max_iter=-1, probability=False, random_state=None,\n",
       "                           shrinking=True, tol=0.001, verbose=False),\n",
       "             iid='warn', n_jobs=None, param_grid={'C': [0.01, 0.1, 1, 10, 100]},\n",
       "             pre_dispatch='2*n_jobs', refit=True, return_train_score=True,\n",
       "             scoring=None, verbose=0)"
      ]
     },
     "execution_count": 50,
     "metadata": {},
     "output_type": "execute_result"
    }
   ],
   "source": [
    "from sklearn.svm import SVC\n",
    "from sklearn.model_selection import GridSearchCV\n",
    "model = SVC(kernel = 'linear')\n",
    "\n",
    "parameters = {'C': [0.01, 0.1, 1, 10, 100]}\n",
    "\n",
    "grid_search = GridSearchCV(model,parameters, cv=3, return_train_score=True)\n",
    "grid_search.fit(X_train, y_train)"
   ]
  },
  {
   "cell_type": "code",
   "execution_count": 51,
   "metadata": {},
   "outputs": [
    {
     "name": "stdout",
     "output_type": "stream",
     "text": [
      "Best parameters: {'C': 1}\n",
      "Best cross-validation score: 0.66\n"
     ]
    }
   ],
   "source": [
    "print(\"Best parameters: {}\".format(grid_search.best_params_))\n",
    "print(\"Best cross-validation score: {:.2f}\".format(grid_search.best_score_))"
   ]
  },
  {
   "cell_type": "code",
   "execution_count": 52,
   "metadata": {},
   "outputs": [
    {
     "data": {
      "text/plain": [
       "SVC(C=1, cache_size=200, class_weight=None, coef0=0.0,\n",
       "    decision_function_shape='ovr', degree=3, gamma='auto_deprecated',\n",
       "    kernel='linear', max_iter=-1, probability=False, random_state=None,\n",
       "    shrinking=True, tol=0.001, verbose=False)"
      ]
     },
     "execution_count": 52,
     "metadata": {},
     "output_type": "execute_result"
    },
    {
     "name": "stdout",
     "output_type": "stream",
     "text": [
      "0.8959731543624161\n",
      "0.74\n"
     ]
    }
   ],
   "source": [
    "svc = SVC(kernel='linear', C=1)\n",
    "svc.fit(X_train,y_train)\n",
    "\n",
    "print(svc.score(X_train,y_train))\n",
    "print(svc.score(X_test,y_test))"
   ]
  },
  {
   "cell_type": "code",
   "execution_count": 53,
   "metadata": {},
   "outputs": [
    {
     "data": {
      "text/plain": [
       "0.74"
      ]
     },
     "execution_count": 53,
     "metadata": {},
     "output_type": "execute_result"
    },
    {
     "data": {
      "text/plain": [
       "0.4831168831168831"
      ]
     },
     "execution_count": 53,
     "metadata": {},
     "output_type": "execute_result"
    }
   ],
   "source": [
    "y_pred = svc.predict(X_test)\n",
    "accuracy_score(y_test,y_pred)\n",
    "precision_score(y_test, y_pred,average='macro')"
   ]
  },
  {
   "cell_type": "code",
   "execution_count": 54,
   "metadata": {},
   "outputs": [
    {
     "name": "stdout",
     "output_type": "stream",
     "text": [
      "[0.62       0.62       0.74       0.66       0.71428571 0.73469388]\n",
      "0.6814965986394559\n"
     ]
    }
   ],
   "source": [
    "from sklearn.model_selection import KFold\n",
    "from sklearn.model_selection import cross_val_score\n",
    "kfold = KFold(n_splits=6)\n",
    "#print(\"Cross-validation scores:\\n{}\".format(cross_val_score(svc , X_train, y_train, cv=kfold)))\n",
    "scores = cross_val_score(svc , X_train, y_train, cv=kfold)\n",
    "print(scores)\n",
    "print(np.mean(scores))"
   ]
  },
  {
   "cell_type": "code",
   "execution_count": 55,
   "metadata": {},
   "outputs": [
    {
     "data": {
      "text/plain": [
       "SVC(C=1, cache_size=200, class_weight=None, coef0=0.0,\n",
       "    decision_function_shape='ovr', degree=3, gamma='auto_deprecated',\n",
       "    kernel='linear', max_iter=-1, probability=False, random_state=None,\n",
       "    shrinking=True, tol=0.001, verbose=False)"
      ]
     },
     "execution_count": 55,
     "metadata": {},
     "output_type": "execute_result"
    },
    {
     "name": "stdout",
     "output_type": "stream",
     "text": [
      "[[52  3  0  0  3  5  0  0  5  0  2]\n",
      " [ 0  6  0  0  0  0  0  0  0  1  0]\n",
      " [ 0  0  3  0  0  0  0  0  0  0  0]\n",
      " [ 1  0  0  0  0  0  0  0  1  0  0]\n",
      " [ 0  0  0  0  0  0  0  0  0  0  0]\n",
      " [ 0  0  0  0  0  1  0  0  0  0  0]\n",
      " [ 1  0  0  0  0  0  0  0  0  0  0]\n",
      " [ 0  0  0  0  0  0  0  2  0  0  0]\n",
      " [ 1  0  0  0  1  0  0  0 10  0  2]\n",
      " [ 0  0  0  0  0  0  0  0  0  0  0]\n",
      " [ 0  0  0  0  0  0  0  0  0  0  0]]\n",
      "[0.832      0.75       1.         0.         0.         0.28571429\n",
      " 0.         1.         0.66666667 0.         0.        ]\n"
     ]
    }
   ],
   "source": [
    "from sklearn.metrics import f1_score\n",
    "svc = SVC(kernel = 'linear', C = 1 )\n",
    "svc.fit(X_train, y_train)\n",
    "ypred = svc.predict(X_test)\n",
    "cm = confusion_matrix(ypred,y_test)\n",
    "f = f1_score(ypred,y_test, average = None)\n",
    "print(cm)\n",
    "print(f)"
   ]
  },
  {
   "cell_type": "markdown",
   "metadata": {},
   "source": [
    "#### SVC - RBF Kernel "
   ]
  },
  {
   "cell_type": "code",
   "execution_count": 56,
   "metadata": {},
   "outputs": [
    {
     "data": {
      "text/plain": [
       "GridSearchCV(cv=6, error_score='raise-deprecating',\n",
       "             estimator=SVC(C=1.0, cache_size=200, class_weight=None, coef0=0.0,\n",
       "                           decision_function_shape='ovr', degree=3,\n",
       "                           gamma='auto_deprecated', kernel='rbf', max_iter=-1,\n",
       "                           probability=False, random_state=None, shrinking=True,\n",
       "                           tol=0.001, verbose=False),\n",
       "             iid='warn', n_jobs=None,\n",
       "             param_grid={'C': [0.01, 0.1, 1, 10, 100],\n",
       "                         'gamma': [0.01, 0.1, 1, 10, 100]},\n",
       "             pre_dispatch='2*n_jobs', refit=True, return_train_score=True,\n",
       "             scoring=None, verbose=0)"
      ]
     },
     "execution_count": 56,
     "metadata": {},
     "output_type": "execute_result"
    }
   ],
   "source": [
    "from sklearn.model_selection import GridSearchCV\n",
    "model = SVC(kernel = 'rbf')\n",
    "\n",
    "parameters = {'C': [0.01, 0.1, 1, 10, 100], 'gamma' : [0.01, 0.1, 1, 10, 100]}\n",
    "\n",
    "grid_search = GridSearchCV(model,parameters, cv=6, return_train_score=True)\n",
    "grid_search.fit(X_train, y_train)"
   ]
  },
  {
   "cell_type": "code",
   "execution_count": 57,
   "metadata": {},
   "outputs": [
    {
     "name": "stdout",
     "output_type": "stream",
     "text": [
      "Best parameters: {'C': 100, 'gamma': 0.01}\n",
      "Best cross-validation score: 0.70\n"
     ]
    }
   ],
   "source": [
    "print(\"Best parameters: {}\".format(grid_search.best_params_))\n",
    "print(\"Best cross-validation score: {:.2f}\".format(grid_search.best_score_))"
   ]
  },
  {
   "cell_type": "code",
   "execution_count": 58,
   "metadata": {},
   "outputs": [
    {
     "data": {
      "text/plain": [
       "SVC(C=100, cache_size=200, class_weight=None, coef0=0.0,\n",
       "    decision_function_shape='ovr', degree=3, gamma=0.01, kernel='rbf',\n",
       "    max_iter=-1, probability=False, random_state=None, shrinking=True,\n",
       "    tol=0.001, verbose=False)"
      ]
     },
     "execution_count": 58,
     "metadata": {},
     "output_type": "execute_result"
    },
    {
     "name": "stdout",
     "output_type": "stream",
     "text": [
      "0.9563758389261745\n",
      "0.72\n"
     ]
    }
   ],
   "source": [
    "svc1 = SVC(kernel='rbf', gamma=0.01, C=100)\n",
    "svc1.fit(X_train,y_train)\n",
    "\n",
    "print(svc1.score(X_train,y_train))\n",
    "print(svc1.score(X_test,y_test))"
   ]
  },
  {
   "cell_type": "code",
   "execution_count": 59,
   "metadata": {},
   "outputs": [
    {
     "data": {
      "text/plain": [
       "0.72"
      ]
     },
     "execution_count": 59,
     "metadata": {},
     "output_type": "execute_result"
    },
    {
     "data": {
      "text/plain": [
       "0.45722610722610724"
      ]
     },
     "execution_count": 59,
     "metadata": {},
     "output_type": "execute_result"
    }
   ],
   "source": [
    "y_pred = svc1.predict(X_test)\n",
    "accuracy_score(y_test,y_pred)\n",
    "precision_score(y_test, y_pred,average='macro')"
   ]
  },
  {
   "cell_type": "code",
   "execution_count": 60,
   "metadata": {},
   "outputs": [
    {
     "name": "stdout",
     "output_type": "stream",
     "text": [
      "[0.64       0.64       0.72       0.66       0.71428571 0.71428571]\n",
      "0.6814285714285715\n"
     ]
    }
   ],
   "source": [
    "from sklearn.model_selection import KFold\n",
    "from sklearn.model_selection import cross_val_score\n",
    "kfold = KFold(n_splits=6)\n",
    "#print(\"Cross-validation scores:\\n{}\".format(cross_val_score(svc , X_train, y_train, cv=kfold)))\n",
    "scores = cross_val_score(svc1 , X_train, y_train, cv=kfold)\n",
    "print(scores)\n",
    "print(np.mean(scores))"
   ]
  },
  {
   "cell_type": "code",
   "execution_count": 61,
   "metadata": {},
   "outputs": [
    {
     "data": {
      "text/plain": [
       "SVC(C=100, cache_size=200, class_weight=None, coef0=0.0,\n",
       "    decision_function_shape='ovr', degree=3, gamma=0.01, kernel='rbf',\n",
       "    max_iter=-1, probability=False, random_state=None, shrinking=True,\n",
       "    tol=0.001, verbose=False)"
      ]
     },
     "execution_count": 61,
     "metadata": {},
     "output_type": "execute_result"
    },
    {
     "name": "stdout",
     "output_type": "stream",
     "text": [
      "[[49  3  0  0  2  4  0  0  5  0  2]\n",
      " [ 1  6  0  0  0  0  0  0  0  1  0]\n",
      " [ 0  0  3  0  0  0  0  0  0  0  0]\n",
      " [ 1  0  0  0  0  0  0  0  0  0  0]\n",
      " [ 0  0  0  0  1  0  0  0  1  0  0]\n",
      " [ 1  0  0  0  0  2  0  0  0  0  0]\n",
      " [ 1  0  0  0  0  0  0  0  0  0  0]\n",
      " [ 0  0  0  0  0  0  0  2  1  0  0]\n",
      " [ 2  0  0  0  0  0  0  0  9  0  2]\n",
      " [ 0  0  0  0  0  0  0  0  0  0  0]\n",
      " [ 0  0  0  0  1  0  0  0  0  0  0]]\n",
      "[0.81666667 0.70588235 1.         0.         0.33333333 0.44444444\n",
      " 0.         0.8        0.62068966 0.         0.        ]\n"
     ]
    }
   ],
   "source": [
    "from sklearn.metrics import f1_score\n",
    "svc1 = SVC(kernel = 'rbf', C = 100 , gamma = 0.01)\n",
    "svc1.fit(X_train, y_train)\n",
    "ypred = svc1.predict(X_test)\n",
    "f = f1_score(ypred,y_test, average = None)\n",
    "cm = confusion_matrix(ypred,y_test)\n",
    "print(cm)\n",
    "print(f)\n"
   ]
  },
  {
   "cell_type": "markdown",
   "metadata": {},
   "source": [
    "#### SVC - Poly Kernel "
   ]
  },
  {
   "cell_type": "code",
   "execution_count": 62,
   "metadata": {},
   "outputs": [
    {
     "data": {
      "text/plain": [
       "GridSearchCV(cv=6, error_score='raise-deprecating',\n",
       "             estimator=SVC(C=1.0, cache_size=200, class_weight=None, coef0=0.0,\n",
       "                           decision_function_shape='ovr', degree=3,\n",
       "                           gamma='auto_deprecated', kernel='poly', max_iter=-1,\n",
       "                           probability=False, random_state=None, shrinking=True,\n",
       "                           tol=0.001, verbose=False),\n",
       "             iid='warn', n_jobs=None,\n",
       "             param_grid={'C': [0.01, 0.1, 1, 10, 100], 'degree': [2, 3, 4, 5]},\n",
       "             pre_dispatch='2*n_jobs', refit=True, return_train_score=True,\n",
       "             scoring=None, verbose=0)"
      ]
     },
     "execution_count": 62,
     "metadata": {},
     "output_type": "execute_result"
    }
   ],
   "source": [
    "from sklearn.model_selection import GridSearchCV\n",
    "model = SVC(kernel = 'poly')\n",
    "\n",
    "parameters = {'C': [0.01, 0.1, 1, 10, 100], 'degree' : [2,3,4,5]}\n",
    "\n",
    "grid_search = GridSearchCV(model,parameters, cv=6, return_train_score=True)\n",
    "grid_search.fit(X_train, y_train)"
   ]
  },
  {
   "cell_type": "code",
   "execution_count": 63,
   "metadata": {},
   "outputs": [
    {
     "name": "stdout",
     "output_type": "stream",
     "text": [
      "Best parameters: {'C': 100, 'degree': 2}\n",
      "Best cross-validation score: 0.64\n"
     ]
    }
   ],
   "source": [
    "print(\"Best parameters: {}\".format(grid_search.best_params_))\n",
    "print(\"Best cross-validation score: {:.2f}\".format(grid_search.best_score_))"
   ]
  },
  {
   "cell_type": "code",
   "execution_count": 64,
   "metadata": {},
   "outputs": [
    {
     "data": {
      "text/plain": [
       "SVC(C=100, cache_size=200, class_weight=None, coef0=0.0,\n",
       "    decision_function_shape='ovr', degree=2, gamma='auto_deprecated',\n",
       "    kernel='poly', max_iter=-1, probability=False, random_state=None,\n",
       "    shrinking=True, tol=0.001, verbose=False)"
      ]
     },
     "execution_count": 64,
     "metadata": {},
     "output_type": "execute_result"
    },
    {
     "name": "stdout",
     "output_type": "stream",
     "text": [
      "0.7348993288590604\n",
      "0.63\n"
     ]
    }
   ],
   "source": [
    "svc2 = SVC(kernel='poly', degree=2, C=100)\n",
    "svc2.fit(X_train,y_train)\n",
    "\n",
    "print(svc2.score(X_train,y_train))\n",
    "print(svc2.score(X_test,y_test))"
   ]
  },
  {
   "cell_type": "code",
   "execution_count": 65,
   "metadata": {},
   "outputs": [
    {
     "data": {
      "text/plain": [
       "0.63"
      ]
     },
     "execution_count": 65,
     "metadata": {},
     "output_type": "execute_result"
    },
    {
     "data": {
      "text/plain": [
       "0.4213636363636364"
      ]
     },
     "execution_count": 65,
     "metadata": {},
     "output_type": "execute_result"
    }
   ],
   "source": [
    "y_pred = svc2.predict(X_test)\n",
    "accuracy_score(y_test,y_pred)\n",
    "precision_score(y_test, y_pred,average='macro')"
   ]
  },
  {
   "cell_type": "code",
   "execution_count": 66,
   "metadata": {},
   "outputs": [
    {
     "name": "stdout",
     "output_type": "stream",
     "text": [
      "[0.56       0.52       0.7        0.66       0.65306122 0.69387755]\n",
      "0.631156462585034\n"
     ]
    }
   ],
   "source": [
    "from sklearn.model_selection import KFold\n",
    "from sklearn.model_selection import cross_val_score\n",
    "kfold = KFold(n_splits=6)\n",
    "#print(\"Cross-validation scores:\\n{}\".format(cross_val_score(svc , X_train, y_train, cv=kfold)))\n",
    "scores = cross_val_score(svc2 , X_train, y_train, cv=kfold)\n",
    "print(scores)\n",
    "print(np.mean(scores))"
   ]
  },
  {
   "cell_type": "code",
   "execution_count": 67,
   "metadata": {},
   "outputs": [
    {
     "data": {
      "text/plain": [
       "SVC(C=100, cache_size=200, class_weight=None, coef0=0.0,\n",
       "    decision_function_shape='ovr', degree=2, gamma='auto_deprecated',\n",
       "    kernel='poly', max_iter=-1, probability=False, random_state=None,\n",
       "    shrinking=True, tol=0.001, verbose=False)"
      ]
     },
     "execution_count": 67,
     "metadata": {},
     "output_type": "execute_result"
    },
    {
     "name": "stdout",
     "output_type": "stream",
     "text": [
      "[[54  8  0  0  3  6  0 13  1  3]\n",
      " [ 0  1  0  0  0  0  0  0  0  0]\n",
      " [ 0  0  3  0  0  0  0  0  0  0]\n",
      " [ 1  0  0  0  0  0  0  0  0  0]\n",
      " [ 0  0  0  0  0  0  0  0  0  0]\n",
      " [ 0  0  0  0  0  0  0  0  0  0]\n",
      " [ 0  0  0  0  0  0  2  0  0  0]\n",
      " [ 0  0  0  0  1  0  0  3  0  1]\n",
      " [ 0  0  0  0  0  0  0  0  0  0]\n",
      " [ 0  0  0  0  0  0  0  0  0  0]]\n",
      "[0.75524476 0.2        1.         0.         0.         0.\n",
      " 1.         0.28571429 0.         0.        ]\n"
     ]
    }
   ],
   "source": [
    "from sklearn.metrics import f1_score\n",
    "svc2 = SVC(kernel = 'poly', C = 100 , degree = 2)\n",
    "svc2.fit(X_train, y_train)\n",
    "ypred = svc2.predict(X_test)\n",
    "f = f1_score(ypred,y_test, average = None)\n",
    "cm = confusion_matrix(ypred,y_test)\n",
    "print(cm)\n",
    "print(f)\n"
   ]
  },
  {
   "cell_type": "markdown",
   "metadata": {},
   "source": [
    "#### Decision Tree Classifier"
   ]
  },
  {
   "cell_type": "code",
   "execution_count": 68,
   "metadata": {},
   "outputs": [
    {
     "data": {
      "text/plain": [
       "DecisionTreeClassifier(class_weight=None, criterion='gini', max_depth=None,\n",
       "                       max_features=None, max_leaf_nodes=None,\n",
       "                       min_impurity_decrease=0.0, min_impurity_split=None,\n",
       "                       min_samples_leaf=1, min_samples_split=2,\n",
       "                       min_weight_fraction_leaf=0.0, presort=False,\n",
       "                       random_state=0, splitter='best')"
      ]
     },
     "execution_count": 68,
     "metadata": {},
     "output_type": "execute_result"
    },
    {
     "name": "stdout",
     "output_type": "stream",
     "text": [
      "Accuracy on training set: 1.000\n",
      "Accuracy on test set: 0.670\n"
     ]
    }
   ],
   "source": [
    "from sklearn.tree import DecisionTreeClassifier\n",
    "dtree = DecisionTreeClassifier(random_state=0)\n",
    "\n",
    "dtree.fit(X_train, y_train)\n",
    "print(\"Accuracy on training set: {:.3f}\".format(dtree.score(X_train, y_train)))\n",
    "print(\"Accuracy on test set: {:.3f}\".format(dtree.score(X_test, y_test)))"
   ]
  },
  {
   "cell_type": "code",
   "execution_count": 69,
   "metadata": {},
   "outputs": [],
   "source": [
    "dtree_clf = DecisionTreeClassifier(random_state=0)\n",
    "parameters = { 'max_depth' : [1,2,3,4,5,6,7,8,9,10]}"
   ]
  },
  {
   "cell_type": "code",
   "execution_count": 70,
   "metadata": {},
   "outputs": [
    {
     "data": {
      "text/plain": [
       "GridSearchCV(cv=6, error_score='raise-deprecating',\n",
       "             estimator=DecisionTreeClassifier(class_weight=None,\n",
       "                                              criterion='gini', max_depth=None,\n",
       "                                              max_features=None,\n",
       "                                              max_leaf_nodes=None,\n",
       "                                              min_impurity_decrease=0.0,\n",
       "                                              min_impurity_split=None,\n",
       "                                              min_samples_leaf=1,\n",
       "                                              min_samples_split=2,\n",
       "                                              min_weight_fraction_leaf=0.0,\n",
       "                                              presort=False, random_state=0,\n",
       "                                              splitter='best'),\n",
       "             iid='warn', n_jobs=None,\n",
       "             param_grid={'max_depth': [1, 2, 3, 4, 5, 6, 7, 8, 9, 10]},\n",
       "             pre_dispatch='2*n_jobs', refit=True, return_train_score=True,\n",
       "             scoring=None, verbose=0)"
      ]
     },
     "execution_count": 70,
     "metadata": {},
     "output_type": "execute_result"
    }
   ],
   "source": [
    "grid_search = GridSearchCV(dtree_clf,parameters, cv=6, return_train_score=True)\n",
    "grid_search.fit(X_train, y_train)"
   ]
  },
  {
   "cell_type": "code",
   "execution_count": 71,
   "metadata": {},
   "outputs": [
    {
     "name": "stdout",
     "output_type": "stream",
     "text": [
      "Best parameters: {'max_depth': 5}\n",
      "Best cross-validation score: 0.63\n"
     ]
    }
   ],
   "source": [
    "print(\"Best parameters: {}\".format(grid_search.best_params_))\n",
    "print(\"Best cross-validation score: {:.2f}\".format(grid_search.best_score_))"
   ]
  },
  {
   "cell_type": "code",
   "execution_count": 283,
   "metadata": {},
   "outputs": [
    {
     "data": {
      "text/plain": [
       "DecisionTreeClassifier(class_weight=None, criterion='gini', max_depth=5,\n",
       "                       max_features=None, max_leaf_nodes=None,\n",
       "                       min_impurity_decrease=0.0, min_impurity_split=None,\n",
       "                       min_samples_leaf=1, min_samples_split=2,\n",
       "                       min_weight_fraction_leaf=0.0, presort=False,\n",
       "                       random_state=0, splitter='best')"
      ]
     },
     "execution_count": 283,
     "metadata": {},
     "output_type": "execute_result"
    },
    {
     "name": "stdout",
     "output_type": "stream",
     "text": [
      "Accuracy on training set: 0.809\n",
      "Accuracy on test set: 0.750\n"
     ]
    }
   ],
   "source": [
    "dtree = DecisionTreeClassifier(max_depth=5, random_state=0)\n",
    "dtree.fit(X_train, y_train)\n",
    "\n",
    "print(\"Accuracy on training set: {:.3f}\".format(dtree.score(X_train, y_train)))\n",
    "print(\"Accuracy on test set: {:.3f}\".format(dtree.score(X_test, y_test)))"
   ]
  },
  {
   "cell_type": "code",
   "execution_count": 284,
   "metadata": {},
   "outputs": [
    {
     "data": {
      "text/plain": [
       "0.75"
      ]
     },
     "execution_count": 284,
     "metadata": {},
     "output_type": "execute_result"
    },
    {
     "data": {
      "text/plain": [
       "0.5172516025641025"
      ]
     },
     "execution_count": 284,
     "metadata": {},
     "output_type": "execute_result"
    }
   ],
   "source": [
    "y_pred = dtree.predict(X_test)\n",
    "accuracy_score(y_test,y_pred)\n",
    "precision_score(y_test, y_pred,average='macro')"
   ]
  },
  {
   "cell_type": "code",
   "execution_count": 74,
   "metadata": {},
   "outputs": [
    {
     "name": "stdout",
     "output_type": "stream",
     "text": [
      "[0.52       0.56       0.7        0.62       0.63265306 0.53061224]\n",
      "0.5938775510204082\n"
     ]
    }
   ],
   "source": [
    "from sklearn.model_selection import KFold\n",
    "from sklearn.model_selection import cross_val_score\n",
    "kfold = KFold(n_splits=6)\n",
    "#print(\"Cross-validation scores:\\n{}\".format(cross_val_score(svc , X_train, y_train, cv=kfold)))\n",
    "scores = cross_val_score(dtree , X_train, y_train, cv=kfold)\n",
    "print(scores)\n",
    "print(np.mean(scores))"
   ]
  },
  {
   "cell_type": "code",
   "execution_count": 75,
   "metadata": {},
   "outputs": [
    {
     "data": {
      "text/plain": [
       "DecisionTreeClassifier(class_weight=None, criterion='gini', max_depth=5,\n",
       "                       max_features=None, max_leaf_nodes=None,\n",
       "                       min_impurity_decrease=0.0, min_impurity_split=None,\n",
       "                       min_samples_leaf=1, min_samples_split=2,\n",
       "                       min_weight_fraction_leaf=0.0, presort=False,\n",
       "                       random_state=0, splitter='best')"
      ]
     },
     "execution_count": 75,
     "metadata": {},
     "output_type": "execute_result"
    },
    {
     "name": "stdout",
     "output_type": "stream",
     "text": [
      "[[51  3  0  0  1  2  0  5  0  2]\n",
      " [ 1  6  0  0  1  0  0  1  1  0]\n",
      " [ 0  0  2  0  0  1  0  0  0  0]\n",
      " [ 0  0  0  0  0  0  0  1  0  0]\n",
      " [ 0  0  1  0  2  0  0  0  0  0]\n",
      " [ 0  0  0  0  0  3  0  0  0  1]\n",
      " [ 0  0  0  0  0  0  2  0  0  0]\n",
      " [ 3  0  0  0  0  0  0  9  0  1]\n",
      " [ 0  0  0  0  0  0  0  0  0  0]\n",
      " [ 0  0  0  0  0  0  0  0  0  0]]\n",
      "[0.85714286 0.63157895 0.66666667 0.         0.57142857 0.6\n",
      " 1.         0.62068966 0.         0.        ]\n"
     ]
    }
   ],
   "source": [
    "from sklearn.metrics import f1_score\n",
    "from sklearn.metrics import confusion_matrix\n",
    "\n",
    "from sklearn.metrics import f1_score\n",
    "dtree = DecisionTreeClassifier(max_depth=5, random_state=0)\n",
    "dtree.fit(X_train, y_train)\n",
    "ypred = dtree.predict(X_test)\n",
    "cm = confusion_matrix(ypred,y_test)\n",
    "ft = f1_score(ypred,y_test,average = None)\n",
    "print(cm)\n",
    "print(ft)"
   ]
  },
  {
   "cell_type": "markdown",
   "metadata": {},
   "source": [
    "### Voting Methods"
   ]
  },
  {
   "cell_type": "code",
   "execution_count": 76,
   "metadata": {},
   "outputs": [
    {
     "data": {
      "text/plain": [
       "VotingClassifier(estimators=[('dtree',\n",
       "                              DecisionTreeClassifier(class_weight=None,\n",
       "                                                     criterion='gini',\n",
       "                                                     max_depth=5,\n",
       "                                                     max_features=None,\n",
       "                                                     max_leaf_nodes=None,\n",
       "                                                     min_impurity_decrease=0.0,\n",
       "                                                     min_impurity_split=None,\n",
       "                                                     min_samples_leaf=1,\n",
       "                                                     min_samples_split=2,\n",
       "                                                     min_weight_fraction_leaf=0.0,\n",
       "                                                     presort=False,\n",
       "                                                     random_state=0,\n",
       "                                                     splitter='best')),\n",
       "                             ('knn',\n",
       "                              KNeighborsClassifier(algorithm='...\n",
       "                                                   metric_params=None,\n",
       "                                                   n_jobs=None, n_neighbors=5,\n",
       "                                                   p=2, weights='uniform')),\n",
       "                             ('svc',\n",
       "                              SVC(C=1, cache_size=200, class_weight=None,\n",
       "                                  coef0=0.0, decision_function_shape='ovr',\n",
       "                                  degree=3, gamma='auto_deprecated',\n",
       "                                  kernel='linear', max_iter=-1,\n",
       "                                  probability=False, random_state=None,\n",
       "                                  shrinking=True, tol=0.001, verbose=False))],\n",
       "                 flatten_transform=True, n_jobs=None, voting='hard',\n",
       "                 weights=None)"
      ]
     },
     "execution_count": 76,
     "metadata": {},
     "output_type": "execute_result"
    },
    {
     "data": {
      "text/plain": [
       "array([ 1,  1,  1,  1,  1,  1,  1, 10,  1,  1,  1,  1,  1, 10,  1,  2,  9,\n",
       "        1,  1,  1,  1,  1,  1,  1,  1,  1,  1,  1,  2, 10,  1,  1,  1,  6,\n",
       "        1, 10,  1,  1,  1,  1,  4,  1,  1,  1,  2, 10,  1, 10,  1,  1,  2,\n",
       "        1,  1,  1,  1,  1,  1,  1,  1,  1, 10,  1,  1,  1,  1,  1,  1,  1,\n",
       "        1,  9, 10,  1,  1,  1,  2,  1,  1,  1,  1,  1,  2,  1,  1,  3,  1,\n",
       "        1,  1,  2,  1,  1,  1,  1,  3, 10,  1,  1,  1,  1,  1,  1],\n",
       "      dtype=int64)"
      ]
     },
     "execution_count": 76,
     "metadata": {},
     "output_type": "execute_result"
    },
    {
     "data": {
      "text/plain": [
       "0.802013422818792"
      ]
     },
     "execution_count": 76,
     "metadata": {},
     "output_type": "execute_result"
    },
    {
     "data": {
      "text/plain": [
       "0.69"
      ]
     },
     "execution_count": 76,
     "metadata": {},
     "output_type": "execute_result"
    },
    {
     "data": {
      "text/plain": [
       "0.75"
      ]
     },
     "execution_count": 76,
     "metadata": {},
     "output_type": "execute_result"
    },
    {
     "data": {
      "text/plain": [
       "0.5172516025641025"
      ]
     },
     "execution_count": 76,
     "metadata": {},
     "output_type": "execute_result"
    }
   ],
   "source": [
    "voting_clf = VotingClassifier(estimators=[('dtree', dtree), ('knn', knn), ('svc', svc)], voting='hard')\n",
    "voting_clf.fit(X_train, y_train)\n",
    "\n",
    "voting_clf.predict(X_test)\n",
    "voting_clf.score(X_train,y_train)\n",
    "voting_clf.score(X_test,y_test)\n",
    "accuracy_score(y_test, y_pred)\n",
    "precision_score(y_test,y_pred,average='macro')"
   ]
  },
  {
   "cell_type": "code",
   "execution_count": 77,
   "metadata": {},
   "outputs": [
    {
     "data": {
      "text/plain": [
       "DecisionTreeClassifier(class_weight=None, criterion='gini', max_depth=5,\n",
       "                       max_features=None, max_leaf_nodes=None,\n",
       "                       min_impurity_decrease=0.0, min_impurity_split=None,\n",
       "                       min_samples_leaf=1, min_samples_split=2,\n",
       "                       min_weight_fraction_leaf=0.0, presort=False,\n",
       "                       random_state=0, splitter='best')"
      ]
     },
     "execution_count": 77,
     "metadata": {},
     "output_type": "execute_result"
    },
    {
     "data": {
      "text/plain": [
       "KNeighborsClassifier(algorithm='auto', leaf_size=30, metric='minkowski',\n",
       "                     metric_params=None, n_jobs=None, n_neighbors=5, p=2,\n",
       "                     weights='uniform')"
      ]
     },
     "execution_count": 77,
     "metadata": {},
     "output_type": "execute_result"
    },
    {
     "data": {
      "text/plain": [
       "SVC(C=1, cache_size=200, class_weight=None, coef0=0.0,\n",
       "    decision_function_shape='ovr', degree=3, gamma='auto_deprecated',\n",
       "    kernel='linear', max_iter=-1, probability=True, random_state=None,\n",
       "    shrinking=True, tol=0.001, verbose=False)"
      ]
     },
     "execution_count": 77,
     "metadata": {},
     "output_type": "execute_result"
    },
    {
     "data": {
      "text/plain": [
       "VotingClassifier(estimators=[('dtree',\n",
       "                              DecisionTreeClassifier(class_weight=None,\n",
       "                                                     criterion='gini',\n",
       "                                                     max_depth=5,\n",
       "                                                     max_features=None,\n",
       "                                                     max_leaf_nodes=None,\n",
       "                                                     min_impurity_decrease=0.0,\n",
       "                                                     min_impurity_split=None,\n",
       "                                                     min_samples_leaf=1,\n",
       "                                                     min_samples_split=2,\n",
       "                                                     min_weight_fraction_leaf=0.0,\n",
       "                                                     presort=False,\n",
       "                                                     random_state=0,\n",
       "                                                     splitter='best')),\n",
       "                             ('knn',\n",
       "                              KNeighborsClassifier(algorithm='...\n",
       "                                                   metric_params=None,\n",
       "                                                   n_jobs=None, n_neighbors=5,\n",
       "                                                   p=2, weights='uniform')),\n",
       "                             ('svc',\n",
       "                              SVC(C=1, cache_size=200, class_weight=None,\n",
       "                                  coef0=0.0, decision_function_shape='ovr',\n",
       "                                  degree=3, gamma='auto_deprecated',\n",
       "                                  kernel='linear', max_iter=-1,\n",
       "                                  probability=True, random_state=None,\n",
       "                                  shrinking=True, tol=0.001, verbose=False))],\n",
       "                 flatten_transform=True, n_jobs=None, voting='soft',\n",
       "                 weights=None)"
      ]
     },
     "execution_count": 77,
     "metadata": {},
     "output_type": "execute_result"
    },
    {
     "data": {
      "text/plain": [
       "array([ 1,  1,  1,  1,  1,  1,  1, 10,  1,  1,  1,  1,  1, 10,  1,  2,  9,\n",
       "        1,  1,  1,  1,  1,  1,  1,  1,  1,  1,  1,  2, 10,  1,  1,  1,  6,\n",
       "        1, 10,  1,  1,  1, 10, 10,  1,  1,  1,  2, 10,  1, 10,  1,  1,  1,\n",
       "        1,  1,  1,  5,  1,  1,  1,  1,  1, 10,  1,  1,  1,  1,  1,  1,  1,\n",
       "        1,  9, 10,  1,  1,  1,  2,  1,  1,  1,  6,  1,  2,  1,  1,  3,  1,\n",
       "        6,  1,  1,  1, 10,  1,  1,  3, 10,  1,  1,  1,  1,  1,  1],\n",
       "      dtype=int64)"
      ]
     },
     "execution_count": 77,
     "metadata": {},
     "output_type": "execute_result"
    },
    {
     "data": {
      "text/plain": [
       "0.8187919463087249"
      ]
     },
     "execution_count": 77,
     "metadata": {},
     "output_type": "execute_result"
    },
    {
     "data": {
      "text/plain": [
       "0.71"
      ]
     },
     "execution_count": 77,
     "metadata": {},
     "output_type": "execute_result"
    },
    {
     "data": {
      "text/plain": [
       "0.75"
      ]
     },
     "execution_count": 77,
     "metadata": {},
     "output_type": "execute_result"
    },
    {
     "data": {
      "text/plain": [
       "0.5172516025641025"
      ]
     },
     "execution_count": 77,
     "metadata": {},
     "output_type": "execute_result"
    }
   ],
   "source": [
    "dtree = DecisionTreeClassifier(max_depth = 5, random_state=0)\n",
    "dtree.fit(X_train,y_train)\n",
    "knn = KNeighborsClassifier(5)\n",
    "knn.fit(X_train, y_train)\n",
    "svc = SVC(kernel = 'linear', C = 1, probability = True)\n",
    "svc.fit(X_train, y_train)\n",
    "\n",
    "voting_clf = VotingClassifier(estimators=[('dtree', dtree), ('knn', knn), ('svc', svc)], voting='soft')\n",
    "voting_clf.fit(X_train, y_train)\n",
    "\n",
    "voting_clf.predict(X_test)\n",
    "voting_clf.score(X_train,y_train)\n",
    "voting_clf.score(X_test,y_test)\n",
    "accuracy_score(y_test, y_pred)\n",
    "precision_score(y_test,y_pred,average='macro')"
   ]
  },
  {
   "cell_type": "markdown",
   "metadata": {},
   "source": [
    "#### Random Forest "
   ]
  },
  {
   "cell_type": "code",
   "execution_count": 78,
   "metadata": {},
   "outputs": [
    {
     "data": {
      "text/plain": [
       "GridSearchCV(cv=6, error_score='raise-deprecating',\n",
       "             estimator=RandomForestClassifier(bootstrap=True, class_weight=None,\n",
       "                                              criterion='gini', max_depth=None,\n",
       "                                              max_features='auto',\n",
       "                                              max_leaf_nodes=None,\n",
       "                                              min_impurity_decrease=0.0,\n",
       "                                              min_impurity_split=None,\n",
       "                                              min_samples_leaf=1,\n",
       "                                              min_samples_split=2,\n",
       "                                              min_weight_fraction_leaf=0.0,\n",
       "                                              n_estimators='warn', n_jobs=-1,\n",
       "                                              oob_score=False, random_state=0,\n",
       "                                              verbose=0, warm_start=False),\n",
       "             iid='warn', n_jobs=None,\n",
       "             param_grid={'max_depth': [6, 8, 10, 12, 14],\n",
       "                         'n_estimators': [100, 200, 300, 400, 500]},\n",
       "             pre_dispatch='2*n_jobs', refit=True, return_train_score=False,\n",
       "             scoring=None, verbose=0)"
      ]
     },
     "execution_count": 78,
     "metadata": {},
     "output_type": "execute_result"
    }
   ],
   "source": [
    "from sklearn.ensemble import RandomForestClassifier\n",
    "rf = RandomForestClassifier(n_jobs= -1,random_state=0)\n",
    "\n",
    "param_grid = { 'n_estimators' : [100,200,300,400,500],\n",
    "          'max_depth': [6,8,10,12,14]\n",
    "             }\n",
    "\n",
    "grid_search = GridSearchCV(rf, param_grid,cv=6)\n",
    "grid_search.fit(X_train,y_train)"
   ]
  },
  {
   "cell_type": "code",
   "execution_count": 79,
   "metadata": {},
   "outputs": [
    {
     "data": {
      "text/plain": [
       "{'max_depth': 14, 'n_estimators': 400}"
      ]
     },
     "execution_count": 79,
     "metadata": {},
     "output_type": "execute_result"
    }
   ],
   "source": [
    "grid_search.best_params_"
   ]
  },
  {
   "cell_type": "code",
   "execution_count": 80,
   "metadata": {},
   "outputs": [
    {
     "data": {
      "text/plain": [
       "RandomForestClassifier(bootstrap=True, class_weight=None, criterion='gini',\n",
       "                       max_depth=12, max_features='auto', max_leaf_nodes=None,\n",
       "                       min_impurity_decrease=0.0, min_impurity_split=None,\n",
       "                       min_samples_leaf=1, min_samples_split=2,\n",
       "                       min_weight_fraction_leaf=0.0, n_estimators=100,\n",
       "                       n_jobs=-1, oob_score=False, random_state=None, verbose=0,\n",
       "                       warm_start=False)"
      ]
     },
     "execution_count": 80,
     "metadata": {},
     "output_type": "execute_result"
    }
   ],
   "source": [
    "rf = RandomForestClassifier(n_estimators=100,max_depth=12,n_jobs=-1)\n",
    "rf.fit(X_train, y_train)"
   ]
  },
  {
   "cell_type": "code",
   "execution_count": 81,
   "metadata": {},
   "outputs": [
    {
     "data": {
      "text/plain": [
       "0.74"
      ]
     },
     "execution_count": 81,
     "metadata": {},
     "output_type": "execute_result"
    },
    {
     "data": {
      "text/plain": [
       "0.5373548922056385"
      ]
     },
     "execution_count": 81,
     "metadata": {},
     "output_type": "execute_result"
    }
   ],
   "source": [
    "y_pred = rf.predict(X_test)\n",
    "accuracy_score(y_test,y_pred)\n",
    "precision_score(y_test, y_pred,average='macro')"
   ]
  },
  {
   "cell_type": "code",
   "execution_count": 82,
   "metadata": {},
   "outputs": [
    {
     "name": "stdout",
     "output_type": "stream",
     "text": [
      "0.9832214765100671\n",
      "0.74\n"
     ]
    }
   ],
   "source": [
    "print(rf.score(X_train,y_train))\n",
    "print(rf.score(X_test,y_test))"
   ]
  },
  {
   "cell_type": "markdown",
   "metadata": {},
   "source": [
    "#### Bagging with KNN - Classifier "
   ]
  },
  {
   "cell_type": "code",
   "execution_count": 83,
   "metadata": {},
   "outputs": [
    {
     "data": {
      "text/plain": [
       "BaggingClassifier(base_estimator=KNeighborsClassifier(algorithm='auto',\n",
       "                                                      leaf_size=30,\n",
       "                                                      metric='minkowski',\n",
       "                                                      metric_params=None,\n",
       "                                                      n_jobs=None,\n",
       "                                                      n_neighbors=5, p=2,\n",
       "                                                      weights='uniform'),\n",
       "                  bootstrap=True, bootstrap_features=False, max_features=1.0,\n",
       "                  max_samples=100, n_estimators=500, n_jobs=-1, oob_score=False,\n",
       "                  random_state=0, verbose=0, warm_start=False)"
      ]
     },
     "execution_count": 83,
     "metadata": {},
     "output_type": "execute_result"
    },
    {
     "name": "stdout",
     "output_type": "stream",
     "text": [
      "Train score: 0.55\n",
      "Test score: 0.54\n"
     ]
    },
    {
     "data": {
      "text/plain": [
       "0.54"
      ]
     },
     "execution_count": 83,
     "metadata": {},
     "output_type": "execute_result"
    },
    {
     "data": {
      "text/plain": [
       "0.061855670103092786"
      ]
     },
     "execution_count": 83,
     "metadata": {},
     "output_type": "execute_result"
    }
   ],
   "source": [
    "from sklearn.ensemble import BaggingClassifier\n",
    "\n",
    "bag_clf = BaggingClassifier(knn, n_estimators=500, max_samples=100, bootstrap=True, n_jobs=-1, random_state=0)\n",
    "\n",
    "bag_clf.fit(X_train, y_train)\n",
    "y_pred = bag_clf.predict(X_test)\n",
    "\n",
    "print('Train score: {:.2f}'.format(bag_clf.score(X_train, y_train)))\n",
    "print('Test score: {:.2f}'.format(bag_clf.score(X_test, y_test)))\n",
    "accuracy_score(y_test,y_pred)\n",
    "precision_score(y_test, y_pred,average='macro')"
   ]
  },
  {
   "cell_type": "markdown",
   "metadata": {},
   "source": [
    "#### Bagging with Logistic Regression"
   ]
  },
  {
   "cell_type": "code",
   "execution_count": 84,
   "metadata": {},
   "outputs": [
    {
     "data": {
      "text/plain": [
       "BaggingClassifier(base_estimator=LogisticRegression(C=0.01, class_weight=None,\n",
       "                                                    dual=False,\n",
       "                                                    fit_intercept=True,\n",
       "                                                    intercept_scaling=1,\n",
       "                                                    l1_ratio=None, max_iter=100,\n",
       "                                                    multi_class='warn',\n",
       "                                                    n_jobs=None, penalty='l1',\n",
       "                                                    random_state=None,\n",
       "                                                    solver='warn', tol=0.0001,\n",
       "                                                    verbose=0,\n",
       "                                                    warm_start=False),\n",
       "                  bootstrap=True, bootstrap_features=False, max_features=1.0,\n",
       "                  max_samples=100, n_estimators=500, n_jobs=-1, oob_score=False,\n",
       "                  random_state=0, verbose=0, warm_start=False)"
      ]
     },
     "execution_count": 84,
     "metadata": {},
     "output_type": "execute_result"
    },
    {
     "name": "stdout",
     "output_type": "stream",
     "text": [
      "Train score: 0.53\n",
      "Test score: 0.55\n"
     ]
    },
    {
     "data": {
      "text/plain": [
       "0.55"
      ]
     },
     "execution_count": 84,
     "metadata": {},
     "output_type": "execute_result"
    },
    {
     "data": {
      "text/plain": [
       "0.061111111111111116"
      ]
     },
     "execution_count": 84,
     "metadata": {},
     "output_type": "execute_result"
    }
   ],
   "source": [
    "bag_clf = BaggingClassifier(log_l1, n_estimators=500, max_samples=100, bootstrap=True, n_jobs=-1, random_state=0)\n",
    "\n",
    "bag_clf.fit(X_train, y_train)\n",
    "y_pred = bag_clf.predict(X_test)\n",
    "\n",
    "print('Train score: {:.2f}'.format(bag_clf.score(X_train, y_train)))\n",
    "print('Test score: {:.2f}'.format(bag_clf.score(X_test, y_test)))\n",
    "accuracy_score(y_test,y_pred)\n",
    "precision_score(y_test, y_pred,average='macro')"
   ]
  },
  {
   "cell_type": "markdown",
   "metadata": {},
   "source": [
    "#### Bagging with Linear SVC"
   ]
  },
  {
   "cell_type": "code",
   "execution_count": 85,
   "metadata": {},
   "outputs": [
    {
     "data": {
      "text/plain": [
       "LinearSVC(C=1.0, class_weight=None, dual=True, fit_intercept=True,\n",
       "          intercept_scaling=1, loss='squared_hinge', max_iter=1000,\n",
       "          multi_class='ovr', penalty='l2', random_state=None, tol=0.0001,\n",
       "          verbose=0)"
      ]
     },
     "execution_count": 85,
     "metadata": {},
     "output_type": "execute_result"
    },
    {
     "data": {
      "text/plain": [
       "BaggingClassifier(base_estimator=LinearSVC(C=1.0, class_weight=None, dual=True,\n",
       "                                           fit_intercept=True,\n",
       "                                           intercept_scaling=1,\n",
       "                                           loss='squared_hinge', max_iter=1000,\n",
       "                                           multi_class='ovr', penalty='l2',\n",
       "                                           random_state=None, tol=0.0001,\n",
       "                                           verbose=0),\n",
       "                  bootstrap=True, bootstrap_features=False, max_features=1.0,\n",
       "                  max_samples=100, n_estimators=500, n_jobs=-1, oob_score=False,\n",
       "                  random_state=0, verbose=0, warm_start=False)"
      ]
     },
     "execution_count": 85,
     "metadata": {},
     "output_type": "execute_result"
    },
    {
     "name": "stdout",
     "output_type": "stream",
     "text": [
      "Train score: 0.95\n",
      "Test score: 0.73\n"
     ]
    },
    {
     "data": {
      "text/plain": [
       "0.73"
      ]
     },
     "execution_count": 85,
     "metadata": {},
     "output_type": "execute_result"
    },
    {
     "data": {
      "text/plain": [
       "0.37979166666666664"
      ]
     },
     "execution_count": 85,
     "metadata": {},
     "output_type": "execute_result"
    }
   ],
   "source": [
    "clf=LinearSVC()\n",
    "clf.fit(X_train,y_train)\n",
    "bag_clf = BaggingClassifier(clf, n_estimators=500, max_samples=100, bootstrap=True, n_jobs=-1, random_state=0)\n",
    "\n",
    "bag_clf.fit(X_train, y_train)\n",
    "y_pred = bag_clf.predict(X_test)\n",
    "\n",
    "print('Train score: {:.2f}'.format(bag_clf.score(X_train, y_train)))\n",
    "print('Test score: {:.2f}'.format(bag_clf.score(X_test, y_test)))\n",
    "accuracy_score(y_test,y_pred)\n",
    "precision_score(y_test, y_pred,average='macro')"
   ]
  },
  {
   "cell_type": "markdown",
   "metadata": {},
   "source": [
    "#### Bagging with SVC - Linear Kernel "
   ]
  },
  {
   "cell_type": "code",
   "execution_count": 86,
   "metadata": {},
   "outputs": [
    {
     "data": {
      "text/plain": [
       "SVC(C=1, cache_size=200, class_weight=None, coef0=0.0,\n",
       "    decision_function_shape='ovr', degree=3, gamma='auto_deprecated',\n",
       "    kernel='linear', max_iter=-1, probability=False, random_state=None,\n",
       "    shrinking=True, tol=0.001, verbose=False)"
      ]
     },
     "execution_count": 86,
     "metadata": {},
     "output_type": "execute_result"
    },
    {
     "data": {
      "text/plain": [
       "BaggingClassifier(base_estimator=SVC(C=1, cache_size=200, class_weight=None,\n",
       "                                     coef0=0.0, decision_function_shape='ovr',\n",
       "                                     degree=3, gamma='auto_deprecated',\n",
       "                                     kernel='linear', max_iter=-1,\n",
       "                                     probability=False, random_state=None,\n",
       "                                     shrinking=True, tol=0.001, verbose=False),\n",
       "                  bootstrap=True, bootstrap_features=False, max_features=1.0,\n",
       "                  max_samples=100, n_estimators=500, n_jobs=-1, oob_score=False,\n",
       "                  random_state=0, verbose=0, warm_start=False)"
      ]
     },
     "execution_count": 86,
     "metadata": {},
     "output_type": "execute_result"
    },
    {
     "name": "stdout",
     "output_type": "stream",
     "text": [
      "Train score: 0.63\n",
      "Test score: 0.59\n"
     ]
    },
    {
     "data": {
      "text/plain": [
       "0.59"
      ]
     },
     "execution_count": 86,
     "metadata": {},
     "output_type": "execute_result"
    },
    {
     "data": {
      "text/plain": [
       "0.19344608879492603"
      ]
     },
     "execution_count": 86,
     "metadata": {},
     "output_type": "execute_result"
    }
   ],
   "source": [
    "svc=SVC(kernel = 'linear', C=1)\n",
    "svc.fit(X_train,y_train)\n",
    "bag_clf = BaggingClassifier(svc, n_estimators=500, max_samples=100, bootstrap=True, n_jobs=-1, random_state=0)\n",
    "\n",
    "bag_clf.fit(X_train, y_train)\n",
    "y_pred = bag_clf.predict(X_test)\n",
    "\n",
    "print('Train score: {:.2f}'.format(bag_clf.score(X_train, y_train)))\n",
    "print('Test score: {:.2f}'.format(bag_clf.score(X_test, y_test)))\n",
    "accuracy_score(y_test,y_pred)\n",
    "precision_score(y_test, y_pred,average='macro')"
   ]
  },
  {
   "cell_type": "markdown",
   "metadata": {},
   "source": [
    "#### Bagging with SVC - RBF Kernel "
   ]
  },
  {
   "cell_type": "code",
   "execution_count": 87,
   "metadata": {},
   "outputs": [
    {
     "data": {
      "text/plain": [
       "SVC(C=100, cache_size=200, class_weight=None, coef0=0.0,\n",
       "    decision_function_shape='ovr', degree=3, gamma=0.01, kernel='rbf',\n",
       "    max_iter=-1, probability=False, random_state=None, shrinking=True,\n",
       "    tol=0.001, verbose=False)"
      ]
     },
     "execution_count": 87,
     "metadata": {},
     "output_type": "execute_result"
    },
    {
     "data": {
      "text/plain": [
       "BaggingClassifier(base_estimator=SVC(C=100, cache_size=200, class_weight=None,\n",
       "                                     coef0=0.0, decision_function_shape='ovr',\n",
       "                                     degree=3, gamma=0.01, kernel='rbf',\n",
       "                                     max_iter=-1, probability=False,\n",
       "                                     random_state=None, shrinking=True,\n",
       "                                     tol=0.001, verbose=False),\n",
       "                  bootstrap=True, bootstrap_features=False, max_features=1.0,\n",
       "                  max_samples=100, n_estimators=500, n_jobs=-1, oob_score=False,\n",
       "                  random_state=0, verbose=0, warm_start=False)"
      ]
     },
     "execution_count": 87,
     "metadata": {},
     "output_type": "execute_result"
    },
    {
     "name": "stdout",
     "output_type": "stream",
     "text": [
      "Train score: 0.64\n",
      "Test score: 0.59\n"
     ]
    },
    {
     "data": {
      "text/plain": [
       "0.59"
      ]
     },
     "execution_count": 87,
     "metadata": {},
     "output_type": "execute_result"
    },
    {
     "data": {
      "text/plain": [
       "0.18435517970401694"
      ]
     },
     "execution_count": 87,
     "metadata": {},
     "output_type": "execute_result"
    }
   ],
   "source": [
    "svc1=SVC(kernel = 'rbf', C=100, gamma = 0.01)\n",
    "svc1.fit(X_train,y_train)\n",
    "bag_clf = BaggingClassifier(svc1, n_estimators=500, max_samples=100, bootstrap=True, n_jobs=-1, random_state=0)\n",
    "\n",
    "bag_clf.fit(X_train, y_train)\n",
    "y_pred = bag_clf.predict(X_test)\n",
    "\n",
    "print('Train score: {:.2f}'.format(bag_clf.score(X_train, y_train)))\n",
    "print('Test score: {:.2f}'.format(bag_clf.score(X_test, y_test)))\n",
    "accuracy_score(y_test,y_pred)\n",
    "precision_score(y_test, y_pred,average='macro')"
   ]
  },
  {
   "cell_type": "markdown",
   "metadata": {},
   "source": [
    "#### Bagging with SVC - Poly Kernel"
   ]
  },
  {
   "cell_type": "code",
   "execution_count": 88,
   "metadata": {},
   "outputs": [
    {
     "data": {
      "text/plain": [
       "SVC(C=100, cache_size=200, class_weight=None, coef0=0.0,\n",
       "    decision_function_shape='ovr', degree=2, gamma='auto_deprecated',\n",
       "    kernel='poly', max_iter=-1, probability=False, random_state=None,\n",
       "    shrinking=True, tol=0.001, verbose=False)"
      ]
     },
     "execution_count": 88,
     "metadata": {},
     "output_type": "execute_result"
    },
    {
     "data": {
      "text/plain": [
       "BaggingClassifier(base_estimator=SVC(C=100, cache_size=200, class_weight=None,\n",
       "                                     coef0=0.0, decision_function_shape='ovr',\n",
       "                                     degree=2, gamma='auto_deprecated',\n",
       "                                     kernel='poly', max_iter=-1,\n",
       "                                     probability=False, random_state=None,\n",
       "                                     shrinking=True, tol=0.001, verbose=False),\n",
       "                  bootstrap=True, bootstrap_features=False, max_features=1.0,\n",
       "                  max_samples=100, n_estimators=500, n_jobs=-1, oob_score=False,\n",
       "                  random_state=0, verbose=0, warm_start=False)"
      ]
     },
     "execution_count": 88,
     "metadata": {},
     "output_type": "execute_result"
    },
    {
     "name": "stdout",
     "output_type": "stream",
     "text": [
      "Train score: 0.55\n",
      "Test score: 0.55\n"
     ]
    },
    {
     "data": {
      "text/plain": [
       "0.55"
      ]
     },
     "execution_count": 88,
     "metadata": {},
     "output_type": "execute_result"
    },
    {
     "data": {
      "text/plain": [
       "0.05555555555555556"
      ]
     },
     "execution_count": 88,
     "metadata": {},
     "output_type": "execute_result"
    }
   ],
   "source": [
    "svc2=SVC(kernel = 'poly', C=100, degree = 2)\n",
    "svc2.fit(X_train,y_train)\n",
    "bag_clf = BaggingClassifier(svc2, n_estimators=500, max_samples=100, bootstrap=True, n_jobs=-1, random_state=0)\n",
    "\n",
    "bag_clf.fit(X_train, y_train)\n",
    "y_pred = bag_clf.predict(X_test)\n",
    "\n",
    "print('Train score: {:.2f}'.format(bag_clf.score(X_train, y_train)))\n",
    "print('Test score: {:.2f}'.format(bag_clf.score(X_test, y_test)))\n",
    "accuracy_score(y_test,y_pred)\n",
    "precision_score(y_test, y_pred,average='macro')"
   ]
  },
  {
   "cell_type": "markdown",
   "metadata": {},
   "source": [
    "#### Bagging with Decision Tree"
   ]
  },
  {
   "cell_type": "code",
   "execution_count": 285,
   "metadata": {},
   "outputs": [
    {
     "data": {
      "text/plain": [
       "BaggingClassifier(base_estimator=DecisionTreeClassifier(class_weight=None,\n",
       "                                                        criterion='gini',\n",
       "                                                        max_depth=5,\n",
       "                                                        max_features=None,\n",
       "                                                        max_leaf_nodes=None,\n",
       "                                                        min_impurity_decrease=0.0,\n",
       "                                                        min_impurity_split=None,\n",
       "                                                        min_samples_leaf=1,\n",
       "                                                        min_samples_split=2,\n",
       "                                                        min_weight_fraction_leaf=0.0,\n",
       "                                                        presort=False,\n",
       "                                                        random_state=0,\n",
       "                                                        splitter='best'),\n",
       "                  bootstrap=True, bootstrap_features=False, max_features=1.0,\n",
       "                  max_samples=100, n_estimators=500, n_jobs=-1, oob_score=False,\n",
       "                  random_state=0, verbose=0, warm_start=False)"
      ]
     },
     "execution_count": 285,
     "metadata": {},
     "output_type": "execute_result"
    },
    {
     "name": "stdout",
     "output_type": "stream",
     "text": [
      "Train score: 0.81\n",
      "Test score: 0.77\n"
     ]
    },
    {
     "data": {
      "text/plain": [
       "0.77"
      ]
     },
     "execution_count": 285,
     "metadata": {},
     "output_type": "execute_result"
    },
    {
     "data": {
      "text/plain": [
       "0.5656565656565656"
      ]
     },
     "execution_count": 285,
     "metadata": {},
     "output_type": "execute_result"
    }
   ],
   "source": [
    "bag_clf = BaggingClassifier(dtree, n_estimators=500, max_samples=100, bootstrap=True, n_jobs=-1, random_state=0)\n",
    "\n",
    "bag_clf.fit(X_train, y_train)\n",
    "y_pred = bag_clf.predict(X_test)\n",
    "\n",
    "print('Train score: {:.2f}'.format(bag_clf.score(X_train, y_train)))\n",
    "print('Test score: {:.2f}'.format(bag_clf.score(X_test, y_test)))\n",
    "accuracy_score(y_test,y_pred)\n",
    "precision_score(y_test, y_pred,average='macro')"
   ]
  },
  {
   "cell_type": "markdown",
   "metadata": {},
   "source": [
    "#### Bagging with Random Forest\n"
   ]
  },
  {
   "cell_type": "code",
   "execution_count": 90,
   "metadata": {},
   "outputs": [
    {
     "data": {
      "text/plain": [
       "BaggingClassifier(base_estimator=RandomForestClassifier(bootstrap=True,\n",
       "                                                        class_weight=None,\n",
       "                                                        criterion='gini',\n",
       "                                                        max_depth=12,\n",
       "                                                        max_features='auto',\n",
       "                                                        max_leaf_nodes=None,\n",
       "                                                        min_impurity_decrease=0.0,\n",
       "                                                        min_impurity_split=None,\n",
       "                                                        min_samples_leaf=1,\n",
       "                                                        min_samples_split=2,\n",
       "                                                        min_weight_fraction_leaf=0.0,\n",
       "                                                        n_estimators=100,\n",
       "                                                        n_jobs=-1,\n",
       "                                                        oob_score=False,\n",
       "                                                        random_state=None,\n",
       "                                                        verbose=0,\n",
       "                                                        warm_start=False),\n",
       "                  bootstrap=True, bootstrap_features=False, max_features=1.0,\n",
       "                  max_samples=100, n_estimators=500, n_jobs=-1, oob_score=False,\n",
       "                  random_state=0, verbose=0, warm_start=False)"
      ]
     },
     "execution_count": 90,
     "metadata": {},
     "output_type": "execute_result"
    },
    {
     "name": "stdout",
     "output_type": "stream",
     "text": [
      "Train score: 0.76\n",
      "Test score: 0.66\n"
     ]
    },
    {
     "data": {
      "text/plain": [
       "0.66"
      ]
     },
     "execution_count": 90,
     "metadata": {},
     "output_type": "execute_result"
    },
    {
     "data": {
      "text/plain": [
       "0.451984126984127"
      ]
     },
     "execution_count": 90,
     "metadata": {},
     "output_type": "execute_result"
    }
   ],
   "source": [
    "bag_clf = BaggingClassifier(rf, n_estimators=500, max_samples=100, bootstrap=True, n_jobs=-1, random_state=0)\n",
    "\n",
    "bag_clf.fit(X_train, y_train)\n",
    "y_pred = bag_clf.predict(X_test)\n",
    "\n",
    "print('Train score: {:.2f}'.format(bag_clf.score(X_train, y_train)))\n",
    "print('Test score: {:.2f}'.format(bag_clf.score(X_test, y_test)))\n",
    "accuracy_score(y_test,y_pred)\n",
    "precision_score(y_test, y_pred,average='macro')"
   ]
  },
  {
   "cell_type": "markdown",
   "metadata": {},
   "source": [
    "#### Pasting with KNN Classifier"
   ]
  },
  {
   "cell_type": "code",
   "execution_count": 91,
   "metadata": {},
   "outputs": [
    {
     "data": {
      "text/plain": [
       "BaggingClassifier(base_estimator=KNeighborsClassifier(algorithm='auto',\n",
       "                                                      leaf_size=30,\n",
       "                                                      metric='minkowski',\n",
       "                                                      metric_params=None,\n",
       "                                                      n_jobs=None,\n",
       "                                                      n_neighbors=5, p=2,\n",
       "                                                      weights='uniform'),\n",
       "                  bootstrap=False, bootstrap_features=False, max_features=1.0,\n",
       "                  max_samples=100, n_estimators=500, n_jobs=-1, oob_score=False,\n",
       "                  random_state=0, verbose=0, warm_start=False)"
      ]
     },
     "execution_count": 91,
     "metadata": {},
     "output_type": "execute_result"
    },
    {
     "name": "stdout",
     "output_type": "stream",
     "text": [
      "Train score: 0.55\n",
      "Test score: 0.54\n"
     ]
    },
    {
     "data": {
      "text/plain": [
       "0.54"
      ]
     },
     "execution_count": 91,
     "metadata": {},
     "output_type": "execute_result"
    },
    {
     "data": {
      "text/plain": [
       "0.061855670103092786"
      ]
     },
     "execution_count": 91,
     "metadata": {},
     "output_type": "execute_result"
    }
   ],
   "source": [
    "bag_clf = BaggingClassifier(knn, n_estimators=500, max_samples=100, bootstrap=False, n_jobs=-1, random_state=0)\n",
    "\n",
    "bag_clf.fit(X_train, y_train)\n",
    "y_pred = bag_clf.predict(X_test)\n",
    "\n",
    "print('Train score: {:.2f}'.format(bag_clf.score(X_train, y_train)))\n",
    "print('Test score: {:.2f}'.format(bag_clf.score(X_test, y_test)))\n",
    "accuracy_score(y_test,y_pred)\n",
    "precision_score(y_test, y_pred,average='macro')"
   ]
  },
  {
   "cell_type": "markdown",
   "metadata": {},
   "source": [
    "#### Pasting with Logistic Regression"
   ]
  },
  {
   "cell_type": "code",
   "execution_count": 92,
   "metadata": {},
   "outputs": [
    {
     "data": {
      "text/plain": [
       "BaggingClassifier(base_estimator=LogisticRegression(C=0.01, class_weight=None,\n",
       "                                                    dual=False,\n",
       "                                                    fit_intercept=True,\n",
       "                                                    intercept_scaling=1,\n",
       "                                                    l1_ratio=None, max_iter=100,\n",
       "                                                    multi_class='warn',\n",
       "                                                    n_jobs=None, penalty='l1',\n",
       "                                                    random_state=None,\n",
       "                                                    solver='warn', tol=0.0001,\n",
       "                                                    verbose=0,\n",
       "                                                    warm_start=False),\n",
       "                  bootstrap=False, bootstrap_features=False, max_features=1.0,\n",
       "                  max_samples=100, n_estimators=500, n_jobs=-1, oob_score=False,\n",
       "                  random_state=0, verbose=0, warm_start=False)"
      ]
     },
     "execution_count": 92,
     "metadata": {},
     "output_type": "execute_result"
    },
    {
     "name": "stdout",
     "output_type": "stream",
     "text": [
      "Train score: 0.53\n",
      "Test score: 0.55\n"
     ]
    },
    {
     "data": {
      "text/plain": [
       "0.55"
      ]
     },
     "execution_count": 92,
     "metadata": {},
     "output_type": "execute_result"
    },
    {
     "data": {
      "text/plain": [
       "0.061111111111111116"
      ]
     },
     "execution_count": 92,
     "metadata": {},
     "output_type": "execute_result"
    }
   ],
   "source": [
    "bag_clf = BaggingClassifier(log_l1, n_estimators=500, max_samples=100, bootstrap=False, n_jobs=-1, random_state=0)\n",
    "\n",
    "bag_clf.fit(X_train, y_train)\n",
    "y_pred = bag_clf.predict(X_test)\n",
    "\n",
    "print('Train score: {:.2f}'.format(bag_clf.score(X_train, y_train)))\n",
    "print('Test score: {:.2f}'.format(bag_clf.score(X_test, y_test)))\n",
    "accuracy_score(y_test,y_pred)\n",
    "precision_score(y_test, y_pred,average='macro')"
   ]
  },
  {
   "cell_type": "markdown",
   "metadata": {},
   "source": [
    "#### Pasting with Linear SVC"
   ]
  },
  {
   "cell_type": "code",
   "execution_count": 93,
   "metadata": {},
   "outputs": [
    {
     "data": {
      "text/plain": [
       "LinearSVC(C=1.0, class_weight=None, dual=True, fit_intercept=True,\n",
       "          intercept_scaling=1, loss='squared_hinge', max_iter=1000,\n",
       "          multi_class='ovr', penalty='l2', random_state=None, tol=0.0001,\n",
       "          verbose=0)"
      ]
     },
     "execution_count": 93,
     "metadata": {},
     "output_type": "execute_result"
    },
    {
     "data": {
      "text/plain": [
       "BaggingClassifier(base_estimator=LinearSVC(C=1.0, class_weight=None, dual=True,\n",
       "                                           fit_intercept=True,\n",
       "                                           intercept_scaling=1,\n",
       "                                           loss='squared_hinge', max_iter=1000,\n",
       "                                           multi_class='ovr', penalty='l2',\n",
       "                                           random_state=None, tol=0.0001,\n",
       "                                           verbose=0),\n",
       "                  bootstrap=False, bootstrap_features=False, max_features=1.0,\n",
       "                  max_samples=100, n_estimators=500, n_jobs=-1, oob_score=False,\n",
       "                  random_state=0, verbose=0, warm_start=False)"
      ]
     },
     "execution_count": 93,
     "metadata": {},
     "output_type": "execute_result"
    },
    {
     "name": "stdout",
     "output_type": "stream",
     "text": [
      "Train score: 0.95\n",
      "Test score: 0.73\n"
     ]
    },
    {
     "data": {
      "text/plain": [
       "0.73"
      ]
     },
     "execution_count": 93,
     "metadata": {},
     "output_type": "execute_result"
    },
    {
     "data": {
      "text/plain": [
       "0.37979166666666664"
      ]
     },
     "execution_count": 93,
     "metadata": {},
     "output_type": "execute_result"
    }
   ],
   "source": [
    "clf=LinearSVC()\n",
    "clf.fit(X_train,y_train)\n",
    "bag_clf = BaggingClassifier(clf, n_estimators=500, max_samples=100, bootstrap=False, n_jobs=-1, random_state=0)\n",
    "\n",
    "bag_clf.fit(X_train, y_train)\n",
    "y_pred = bag_clf.predict(X_test)\n",
    "\n",
    "print('Train score: {:.2f}'.format(bag_clf.score(X_train, y_train)))\n",
    "print('Test score: {:.2f}'.format(bag_clf.score(X_test, y_test)))\n",
    "accuracy_score(y_test,y_pred)\n",
    "precision_score(y_test, y_pred,average='macro')"
   ]
  },
  {
   "cell_type": "markdown",
   "metadata": {},
   "source": [
    "#### Pasting with SVC - Linear Kernel"
   ]
  },
  {
   "cell_type": "code",
   "execution_count": 94,
   "metadata": {},
   "outputs": [
    {
     "data": {
      "text/plain": [
       "SVC(C=1, cache_size=200, class_weight=None, coef0=0.0,\n",
       "    decision_function_shape='ovr', degree=3, gamma='auto_deprecated',\n",
       "    kernel='linear', max_iter=-1, probability=False, random_state=None,\n",
       "    shrinking=True, tol=0.001, verbose=False)"
      ]
     },
     "execution_count": 94,
     "metadata": {},
     "output_type": "execute_result"
    },
    {
     "data": {
      "text/plain": [
       "BaggingClassifier(base_estimator=SVC(C=1, cache_size=200, class_weight=None,\n",
       "                                     coef0=0.0, decision_function_shape='ovr',\n",
       "                                     degree=3, gamma='auto_deprecated',\n",
       "                                     kernel='linear', max_iter=-1,\n",
       "                                     probability=False, random_state=None,\n",
       "                                     shrinking=True, tol=0.001, verbose=False),\n",
       "                  bootstrap=False, bootstrap_features=False, max_features=1.0,\n",
       "                  max_samples=100, n_estimators=500, n_jobs=-1, oob_score=False,\n",
       "                  random_state=0, verbose=0, warm_start=False)"
      ]
     },
     "execution_count": 94,
     "metadata": {},
     "output_type": "execute_result"
    },
    {
     "name": "stdout",
     "output_type": "stream",
     "text": [
      "Train score: 0.65\n",
      "Test score: 0.60\n"
     ]
    },
    {
     "data": {
      "text/plain": [
       "0.6"
      ]
     },
     "execution_count": 94,
     "metadata": {},
     "output_type": "execute_result"
    },
    {
     "data": {
      "text/plain": [
       "0.21684491978609624"
      ]
     },
     "execution_count": 94,
     "metadata": {},
     "output_type": "execute_result"
    }
   ],
   "source": [
    "svc=SVC(kernel = 'linear', C=1)\n",
    "svc.fit(X_train,y_train)\n",
    "bag_clf = BaggingClassifier(svc, n_estimators=500, max_samples=100, bootstrap=False, n_jobs=-1, random_state=0)\n",
    "\n",
    "bag_clf.fit(X_train, y_train)\n",
    "y_pred = bag_clf.predict(X_test)\n",
    "\n",
    "print('Train score: {:.2f}'.format(bag_clf.score(X_train, y_train)))\n",
    "print('Test score: {:.2f}'.format(bag_clf.score(X_test, y_test)))\n",
    "accuracy_score(y_test,y_pred)\n",
    "precision_score(y_test, y_pred,average='macro')"
   ]
  },
  {
   "cell_type": "markdown",
   "metadata": {},
   "source": [
    "#### Pasting with SVC - RBF kernel"
   ]
  },
  {
   "cell_type": "code",
   "execution_count": 95,
   "metadata": {},
   "outputs": [
    {
     "data": {
      "text/plain": [
       "SVC(C=100, cache_size=200, class_weight=None, coef0=0.0,\n",
       "    decision_function_shape='ovr', degree=3, gamma=0.01, kernel='rbf',\n",
       "    max_iter=-1, probability=False, random_state=None, shrinking=True,\n",
       "    tol=0.001, verbose=False)"
      ]
     },
     "execution_count": 95,
     "metadata": {},
     "output_type": "execute_result"
    },
    {
     "data": {
      "text/plain": [
       "BaggingClassifier(base_estimator=SVC(C=100, cache_size=200, class_weight=None,\n",
       "                                     coef0=0.0, decision_function_shape='ovr',\n",
       "                                     degree=3, gamma=0.01, kernel='rbf',\n",
       "                                     max_iter=-1, probability=False,\n",
       "                                     random_state=None, shrinking=True,\n",
       "                                     tol=0.001, verbose=False),\n",
       "                  bootstrap=False, bootstrap_features=False, max_features=1.0,\n",
       "                  max_samples=100, n_estimators=500, n_jobs=-1, oob_score=False,\n",
       "                  random_state=0, verbose=0, warm_start=False)"
      ]
     },
     "execution_count": 95,
     "metadata": {},
     "output_type": "execute_result"
    },
    {
     "name": "stdout",
     "output_type": "stream",
     "text": [
      "Train score: 0.67\n",
      "Test score: 0.61\n"
     ]
    },
    {
     "data": {
      "text/plain": [
       "0.61"
      ]
     },
     "execution_count": 95,
     "metadata": {},
     "output_type": "execute_result"
    },
    {
     "data": {
      "text/plain": [
       "0.21066082511865644"
      ]
     },
     "execution_count": 95,
     "metadata": {},
     "output_type": "execute_result"
    }
   ],
   "source": [
    "svc1=SVC(kernel = 'rbf', C=100, gamma = 0.01)\n",
    "svc1.fit(X_train,y_train)\n",
    "bag_clf = BaggingClassifier(svc1, n_estimators=500, max_samples=100, bootstrap=False, n_jobs=-1, random_state=0)\n",
    "\n",
    "bag_clf.fit(X_train, y_train)\n",
    "y_pred = bag_clf.predict(X_test)\n",
    "\n",
    "print('Train score: {:.2f}'.format(bag_clf.score(X_train, y_train)))\n",
    "print('Test score: {:.2f}'.format(bag_clf.score(X_test, y_test)))\n",
    "accuracy_score(y_test,y_pred)\n",
    "precision_score(y_test, y_pred,average='macro')"
   ]
  },
  {
   "cell_type": "markdown",
   "metadata": {},
   "source": [
    "#### Pasting with SVC - Poly Kernel"
   ]
  },
  {
   "cell_type": "code",
   "execution_count": 96,
   "metadata": {},
   "outputs": [
    {
     "data": {
      "text/plain": [
       "SVC(C=100, cache_size=200, class_weight=None, coef0=0.0,\n",
       "    decision_function_shape='ovr', degree=2, gamma='auto_deprecated',\n",
       "    kernel='poly', max_iter=-1, probability=False, random_state=None,\n",
       "    shrinking=True, tol=0.001, verbose=False)"
      ]
     },
     "execution_count": 96,
     "metadata": {},
     "output_type": "execute_result"
    },
    {
     "data": {
      "text/plain": [
       "BaggingClassifier(base_estimator=SVC(C=100, cache_size=200, class_weight=None,\n",
       "                                     coef0=0.0, decision_function_shape='ovr',\n",
       "                                     degree=2, gamma='auto_deprecated',\n",
       "                                     kernel='poly', max_iter=-1,\n",
       "                                     probability=False, random_state=None,\n",
       "                                     shrinking=True, tol=0.001, verbose=False),\n",
       "                  bootstrap=False, bootstrap_features=False, max_features=1.0,\n",
       "                  max_samples=100, n_estimators=500, n_jobs=-1, oob_score=False,\n",
       "                  random_state=0, verbose=0, warm_start=False)"
      ]
     },
     "execution_count": 96,
     "metadata": {},
     "output_type": "execute_result"
    },
    {
     "name": "stdout",
     "output_type": "stream",
     "text": [
      "Train score: 0.56\n",
      "Test score: 0.56\n"
     ]
    },
    {
     "data": {
      "text/plain": [
       "0.56"
      ]
     },
     "execution_count": 96,
     "metadata": {},
     "output_type": "execute_result"
    },
    {
     "data": {
      "text/plain": [
       "0.15670103092783505"
      ]
     },
     "execution_count": 96,
     "metadata": {},
     "output_type": "execute_result"
    }
   ],
   "source": [
    "svc2=SVC(kernel = 'poly', C=100, degree = 2)\n",
    "svc2.fit(X_train,y_train)\n",
    "bag_clf = BaggingClassifier(svc2, n_estimators=500, max_samples=100, bootstrap=False, n_jobs=-1, random_state=0)\n",
    "\n",
    "bag_clf.fit(X_train, y_train)\n",
    "y_pred = bag_clf.predict(X_test)\n",
    "\n",
    "print('Train score: {:.2f}'.format(bag_clf.score(X_train, y_train)))\n",
    "print('Test score: {:.2f}'.format(bag_clf.score(X_test, y_test)))\n",
    "accuracy_score(y_test,y_pred)\n",
    "precision_score(y_test, y_pred,average='macro')"
   ]
  },
  {
   "cell_type": "markdown",
   "metadata": {},
   "source": [
    "#### Pasting with Decision Tree"
   ]
  },
  {
   "cell_type": "code",
   "execution_count": 97,
   "metadata": {},
   "outputs": [
    {
     "data": {
      "text/plain": [
       "BaggingClassifier(base_estimator=DecisionTreeClassifier(class_weight=None,\n",
       "                                                        criterion='gini',\n",
       "                                                        max_depth=5,\n",
       "                                                        max_features=None,\n",
       "                                                        max_leaf_nodes=None,\n",
       "                                                        min_impurity_decrease=0.0,\n",
       "                                                        min_impurity_split=None,\n",
       "                                                        min_samples_leaf=1,\n",
       "                                                        min_samples_split=2,\n",
       "                                                        min_weight_fraction_leaf=0.0,\n",
       "                                                        presort=False,\n",
       "                                                        random_state=0,\n",
       "                                                        splitter='best'),\n",
       "                  bootstrap=False, bootstrap_features=False, max_features=1.0,\n",
       "                  max_samples=100, n_estimators=500, n_jobs=-1, oob_score=False,\n",
       "                  random_state=0, verbose=0, warm_start=False)"
      ]
     },
     "execution_count": 97,
     "metadata": {},
     "output_type": "execute_result"
    },
    {
     "name": "stdout",
     "output_type": "stream",
     "text": [
      "Train score: 0.81\n",
      "Test score: 0.78\n"
     ]
    },
    {
     "data": {
      "text/plain": [
       "0.78"
      ]
     },
     "execution_count": 97,
     "metadata": {},
     "output_type": "execute_result"
    },
    {
     "data": {
      "text/plain": [
       "0.5648148148148149"
      ]
     },
     "execution_count": 97,
     "metadata": {},
     "output_type": "execute_result"
    }
   ],
   "source": [
    "bag_clf = BaggingClassifier(dtree, n_estimators=500, max_samples=100, bootstrap=False, n_jobs=-1, random_state=0)\n",
    "\n",
    "bag_clf.fit(X_train, y_train)\n",
    "y_pred = bag_clf.predict(X_test)\n",
    "\n",
    "print('Train score: {:.2f}'.format(bag_clf.score(X_train, y_train)))\n",
    "print('Test score: {:.2f}'.format(bag_clf.score(X_test, y_test)))\n",
    "accuracy_score(y_test,y_pred)\n",
    "precision_score(y_test, y_pred,average='macro')"
   ]
  },
  {
   "cell_type": "markdown",
   "metadata": {},
   "source": [
    "#### Pasting with Random Forest"
   ]
  },
  {
   "cell_type": "code",
   "execution_count": 98,
   "metadata": {},
   "outputs": [
    {
     "data": {
      "text/plain": [
       "BaggingClassifier(base_estimator=RandomForestClassifier(bootstrap=True,\n",
       "                                                        class_weight=None,\n",
       "                                                        criterion='gini',\n",
       "                                                        max_depth=12,\n",
       "                                                        max_features='auto',\n",
       "                                                        max_leaf_nodes=None,\n",
       "                                                        min_impurity_decrease=0.0,\n",
       "                                                        min_impurity_split=None,\n",
       "                                                        min_samples_leaf=1,\n",
       "                                                        min_samples_split=2,\n",
       "                                                        min_weight_fraction_leaf=0.0,\n",
       "                                                        n_estimators=100,\n",
       "                                                        n_jobs=-1,\n",
       "                                                        oob_score=False,\n",
       "                                                        random_state=None,\n",
       "                                                        verbose=0,\n",
       "                                                        warm_start=False),\n",
       "                  bootstrap=False, bootstrap_features=False, max_features=1.0,\n",
       "                  max_samples=100, n_estimators=500, n_jobs=-1, oob_score=False,\n",
       "                  random_state=0, verbose=0, warm_start=False)"
      ]
     },
     "execution_count": 98,
     "metadata": {},
     "output_type": "execute_result"
    },
    {
     "name": "stdout",
     "output_type": "stream",
     "text": [
      "Train score: 0.81\n",
      "Test score: 0.70\n"
     ]
    },
    {
     "data": {
      "text/plain": [
       "0.7"
      ]
     },
     "execution_count": 98,
     "metadata": {},
     "output_type": "execute_result"
    },
    {
     "data": {
      "text/plain": [
       "0.45928270042194086"
      ]
     },
     "execution_count": 98,
     "metadata": {},
     "output_type": "execute_result"
    }
   ],
   "source": [
    "bag_clf = BaggingClassifier(rf, n_estimators=500, max_samples=100, bootstrap=False, n_jobs=-1, random_state=0)\n",
    "\n",
    "bag_clf.fit(X_train, y_train)\n",
    "y_pred = bag_clf.predict(X_test)\n",
    "\n",
    "print('Train score: {:.2f}'.format(bag_clf.score(X_train, y_train)))\n",
    "print('Test score: {:.2f}'.format(bag_clf.score(X_test, y_test)))\n",
    "accuracy_score(y_test,y_pred)\n",
    "precision_score(y_test, y_pred,average='macro')"
   ]
  },
  {
   "cell_type": "markdown",
   "metadata": {},
   "source": [
    "#### Adaboosting with Logistic Regression"
   ]
  },
  {
   "cell_type": "code",
   "execution_count": 99,
   "metadata": {},
   "outputs": [
    {
     "data": {
      "text/plain": [
       "AdaBoostClassifier(algorithm='SAMME',\n",
       "                   base_estimator=LogisticRegression(C=0.1, class_weight=None,\n",
       "                                                     dual=False,\n",
       "                                                     fit_intercept=True,\n",
       "                                                     intercept_scaling=1,\n",
       "                                                     l1_ratio=None,\n",
       "                                                     max_iter=100,\n",
       "                                                     multi_class='warn',\n",
       "                                                     n_jobs=None, penalty='l1',\n",
       "                                                     random_state=None,\n",
       "                                                     solver='warn', tol=0.0001,\n",
       "                                                     verbose=0,\n",
       "                                                     warm_start=False),\n",
       "                   learning_rate=0.5, n_estimators=500, random_state=0)"
      ]
     },
     "execution_count": 99,
     "metadata": {},
     "output_type": "execute_result"
    },
    {
     "name": "stdout",
     "output_type": "stream",
     "text": [
      "Train score: 0.5336\n",
      "Test score: 0.5500\n"
     ]
    },
    {
     "data": {
      "text/plain": [
       "0.55"
      ]
     },
     "execution_count": 99,
     "metadata": {},
     "output_type": "execute_result"
    },
    {
     "data": {
      "text/plain": [
       "0.061111111111111116"
      ]
     },
     "execution_count": 99,
     "metadata": {},
     "output_type": "execute_result"
    }
   ],
   "source": [
    "from sklearn.ensemble import AdaBoostClassifier\n",
    "\n",
    "ada_clf = AdaBoostClassifier(\n",
    "    LogisticRegression(penalty = 'l1', C = 0.1), n_estimators = 500, learning_rate = 0.5,\n",
    "    algorithm=\"SAMME\", random_state=0)\n",
    "ada_clf.fit(X_train, y_train)\n",
    "print('Train score: {:.4f}'.format(ada_clf.score(X_train, y_train)))\n",
    "print('Test score: {:.4f}'.format(ada_clf.score(X_test, y_test)))\n",
    "\n",
    "y_pred = ada_clf.predict(X_test)\n",
    "\n",
    "accuracy_score(y_test,y_pred)\n",
    "precision_score(y_test, y_pred,average='macro')\n"
   ]
  },
  {
   "cell_type": "markdown",
   "metadata": {},
   "source": [
    "#### Adaboosting with LinearSVC"
   ]
  },
  {
   "cell_type": "code",
   "execution_count": 100,
   "metadata": {},
   "outputs": [
    {
     "data": {
      "text/plain": [
       "AdaBoostClassifier(algorithm='SAMME',\n",
       "                   base_estimator=LinearSVC(C=1.0, class_weight=None, dual=True,\n",
       "                                            fit_intercept=True,\n",
       "                                            intercept_scaling=1,\n",
       "                                            loss='squared_hinge', max_iter=1000,\n",
       "                                            multi_class='ovr', penalty='l2',\n",
       "                                            random_state=None, tol=0.0001,\n",
       "                                            verbose=0),\n",
       "                   learning_rate=0.5, n_estimators=500, random_state=0)"
      ]
     },
     "execution_count": 100,
     "metadata": {},
     "output_type": "execute_result"
    },
    {
     "name": "stdout",
     "output_type": "stream",
     "text": [
      "Train score: 0.9530\n",
      "Test score: 0.7300\n"
     ]
    },
    {
     "data": {
      "text/plain": [
       "0.73"
      ]
     },
     "execution_count": 100,
     "metadata": {},
     "output_type": "execute_result"
    },
    {
     "data": {
      "text/plain": [
       "0.37979166666666664"
      ]
     },
     "execution_count": 100,
     "metadata": {},
     "output_type": "execute_result"
    }
   ],
   "source": [
    "ada_clf = AdaBoostClassifier(\n",
    "    LinearSVC(),n_estimators = 500, learning_rate = 0.5,\n",
    "    algorithm=\"SAMME\", random_state=0)\n",
    "\n",
    "ada_clf.fit(X_train, y_train)\n",
    "print('Train score: {:.4f}'.format(ada_clf.score(X_train, y_train)))\n",
    "print('Test score: {:.4f}'.format(ada_clf.score(X_test, y_test)))\n",
    "\n",
    "y_pred = ada_clf.predict(X_test)\n",
    "\n",
    "accuracy_score(y_test,y_pred)\n",
    "precision_score(y_test, y_pred,average='macro')"
   ]
  },
  {
   "cell_type": "markdown",
   "metadata": {},
   "source": [
    "#### Adaboosting with SVC Linear"
   ]
  },
  {
   "cell_type": "code",
   "execution_count": 101,
   "metadata": {},
   "outputs": [
    {
     "data": {
      "text/plain": [
       "AdaBoostClassifier(algorithm='SAMME',\n",
       "                   base_estimator=SVC(C=1, cache_size=200, class_weight=None,\n",
       "                                      coef0=0.0, decision_function_shape='ovr',\n",
       "                                      degree=3, gamma='auto_deprecated',\n",
       "                                      kernel='linear', max_iter=-1,\n",
       "                                      probability=False, random_state=None,\n",
       "                                      shrinking=True, tol=0.001,\n",
       "                                      verbose=False),\n",
       "                   learning_rate=0.5, n_estimators=500, random_state=0)"
      ]
     },
     "execution_count": 101,
     "metadata": {},
     "output_type": "execute_result"
    },
    {
     "name": "stdout",
     "output_type": "stream",
     "text": [
      "Train score: 0.5336\n",
      "Test score: 0.5600\n"
     ]
    },
    {
     "data": {
      "text/plain": [
       "0.56"
      ]
     },
     "execution_count": 101,
     "metadata": {},
     "output_type": "execute_result"
    },
    {
     "data": {
      "text/plain": [
       "0.1728395061728395"
      ]
     },
     "execution_count": 101,
     "metadata": {},
     "output_type": "execute_result"
    }
   ],
   "source": [
    "ada_clf = AdaBoostClassifier(\n",
    "    SVC(kernel = 'linear', C=1), n_estimators = 500, learning_rate = 0.5,\n",
    "    algorithm=\"SAMME\", random_state=0)\n",
    "\n",
    "ada_clf.fit(X_train, y_train)\n",
    "print('Train score: {:.4f}'.format(ada_clf.score(X_train, y_train)))\n",
    "print('Test score: {:.4f}'.format(ada_clf.score(X_test, y_test)))\n",
    "\n",
    "y_pred = ada_clf.predict(X_test)\n",
    "\n",
    "accuracy_score(y_test,y_pred)\n",
    "precision_score(y_test, y_pred,average='macro')"
   ]
  },
  {
   "cell_type": "markdown",
   "metadata": {},
   "source": [
    "#### Adaboosting with SVC RBF Kernel "
   ]
  },
  {
   "cell_type": "code",
   "execution_count": 102,
   "metadata": {},
   "outputs": [
    {
     "data": {
      "text/plain": [
       "AdaBoostClassifier(algorithm='SAMME',\n",
       "                   base_estimator=SVC(C=100, cache_size=200, class_weight=None,\n",
       "                                      coef0=0.0, decision_function_shape='ovr',\n",
       "                                      degree=3, gamma=0.01, kernel='rbf',\n",
       "                                      max_iter=-1, probability=False,\n",
       "                                      random_state=None, shrinking=True,\n",
       "                                      tol=0.001, verbose=False),\n",
       "                   learning_rate=0.5, n_estimators=500, random_state=0)"
      ]
     },
     "execution_count": 102,
     "metadata": {},
     "output_type": "execute_result"
    },
    {
     "name": "stdout",
     "output_type": "stream",
     "text": [
      "Train score: 0.5436\n",
      "Test score: 0.5600\n"
     ]
    },
    {
     "data": {
      "text/plain": [
       "0.56"
      ]
     },
     "execution_count": 102,
     "metadata": {},
     "output_type": "execute_result"
    },
    {
     "data": {
      "text/plain": [
       "0.1728395061728395"
      ]
     },
     "execution_count": 102,
     "metadata": {},
     "output_type": "execute_result"
    }
   ],
   "source": [
    "ada_clf = AdaBoostClassifier(\n",
    "    SVC(kernel = 'rbf', C=100, gamma = 0.01), n_estimators = 500, learning_rate = 0.5,\n",
    "    algorithm=\"SAMME\", random_state=0)\n",
    "\n",
    "ada_clf.fit(X_train, y_train)\n",
    "print('Train score: {:.4f}'.format(ada_clf.score(X_train, y_train)))\n",
    "print('Test score: {:.4f}'.format(ada_clf.score(X_test, y_test)))\n",
    "\n",
    "y_pred = ada_clf.predict(X_test)\n",
    "\n",
    "accuracy_score(y_test,y_pred)\n",
    "precision_score(y_test, y_pred,average='macro')"
   ]
  },
  {
   "cell_type": "markdown",
   "metadata": {},
   "source": [
    "#### Adaboosting with SVC Poly Kernel "
   ]
  },
  {
   "cell_type": "code",
   "execution_count": 103,
   "metadata": {},
   "outputs": [
    {
     "data": {
      "text/plain": [
       "AdaBoostClassifier(algorithm='SAMME',\n",
       "                   base_estimator=SVC(C=100, cache_size=200, class_weight=None,\n",
       "                                      coef0=0.0, decision_function_shape='ovr',\n",
       "                                      degree=2, gamma='auto_deprecated',\n",
       "                                      kernel='poly', max_iter=-1,\n",
       "                                      probability=False, random_state=None,\n",
       "                                      shrinking=True, tol=0.001,\n",
       "                                      verbose=False),\n",
       "                   learning_rate=0.5, n_estimators=500, random_state=0)"
      ]
     },
     "execution_count": 103,
     "metadata": {},
     "output_type": "execute_result"
    },
    {
     "name": "stdout",
     "output_type": "stream",
     "text": [
      "Train score: 0.5336\n",
      "Test score: 0.5500\n"
     ]
    },
    {
     "data": {
      "text/plain": [
       "0.55"
      ]
     },
     "execution_count": 103,
     "metadata": {},
     "output_type": "execute_result"
    },
    {
     "data": {
      "text/plain": [
       "0.061111111111111116"
      ]
     },
     "execution_count": 103,
     "metadata": {},
     "output_type": "execute_result"
    }
   ],
   "source": [
    "ada_clf = AdaBoostClassifier(\n",
    "    SVC(kernel = 'poly', C=100, degree = 2), n_estimators = 500, learning_rate = 0.5,\n",
    "    algorithm=\"SAMME\", random_state=0)\n",
    "\n",
    "ada_clf.fit(X_train, y_train)\n",
    "print('Train score: {:.4f}'.format(ada_clf.score(X_train, y_train)))\n",
    "print('Test score: {:.4f}'.format(ada_clf.score(X_test, y_test)))\n",
    "\n",
    "y_pred = ada_clf.predict(X_test)\n",
    "\n",
    "accuracy_score(y_test,y_pred)\n",
    "precision_score(y_test, y_pred,average='macro')"
   ]
  },
  {
   "cell_type": "markdown",
   "metadata": {},
   "source": [
    "#### Adaboosting with Decision Tree"
   ]
  },
  {
   "cell_type": "code",
   "execution_count": 104,
   "metadata": {},
   "outputs": [
    {
     "data": {
      "text/plain": [
       "AdaBoostClassifier(algorithm='SAMME',\n",
       "                   base_estimator=DecisionTreeClassifier(class_weight=None,\n",
       "                                                         criterion='gini',\n",
       "                                                         max_depth=5,\n",
       "                                                         max_features=None,\n",
       "                                                         max_leaf_nodes=None,\n",
       "                                                         min_impurity_decrease=0.0,\n",
       "                                                         min_impurity_split=None,\n",
       "                                                         min_samples_leaf=1,\n",
       "                                                         min_samples_split=2,\n",
       "                                                         min_weight_fraction_leaf=0.0,\n",
       "                                                         presort=False,\n",
       "                                                         random_state=None,\n",
       "                                                         splitter='best'),\n",
       "                   learning_rate=0.5, n_estimators=500, random_state=0)"
      ]
     },
     "execution_count": 104,
     "metadata": {},
     "output_type": "execute_result"
    },
    {
     "name": "stdout",
     "output_type": "stream",
     "text": [
      "Train score: 1.0000\n",
      "Test score: 0.6900\n"
     ]
    },
    {
     "data": {
      "text/plain": [
       "0.69"
      ]
     },
     "execution_count": 104,
     "metadata": {},
     "output_type": "execute_result"
    },
    {
     "data": {
      "text/plain": [
       "0.533994708994709"
      ]
     },
     "execution_count": 104,
     "metadata": {},
     "output_type": "execute_result"
    }
   ],
   "source": [
    "ada_clf = AdaBoostClassifier(\n",
    "    DecisionTreeClassifier(max_depth = 5), n_estimators = 500, learning_rate = 0.5,\n",
    "    algorithm=\"SAMME\", random_state=0)\n",
    "\n",
    "ada_clf.fit(X_train, y_train)\n",
    "print('Train score: {:.4f}'.format(ada_clf.score(X_train, y_train)))\n",
    "print('Test score: {:.4f}'.format(ada_clf.score(X_test, y_test)))\n",
    "\n",
    "y_pred = ada_clf.predict(X_test)\n",
    "\n",
    "accuracy_score(y_test,y_pred)\n",
    "precision_score(y_test, y_pred,average='macro')"
   ]
  },
  {
   "cell_type": "markdown",
   "metadata": {},
   "source": [
    "#### Adaboosting with Random Forest "
   ]
  },
  {
   "cell_type": "code",
   "execution_count": 105,
   "metadata": {},
   "outputs": [
    {
     "data": {
      "text/plain": [
       "AdaBoostClassifier(algorithm='SAMME',\n",
       "                   base_estimator=RandomForestClassifier(bootstrap=True,\n",
       "                                                         class_weight=None,\n",
       "                                                         criterion='gini',\n",
       "                                                         max_depth=12,\n",
       "                                                         max_features='auto',\n",
       "                                                         max_leaf_nodes=None,\n",
       "                                                         min_impurity_decrease=0.0,\n",
       "                                                         min_impurity_split=None,\n",
       "                                                         min_samples_leaf=1,\n",
       "                                                         min_samples_split=2,\n",
       "                                                         min_weight_fraction_leaf=0.0,\n",
       "                                                         n_estimators=100,\n",
       "                                                         n_jobs=-1,\n",
       "                                                         oob_score=False,\n",
       "                                                         random_state=None,\n",
       "                                                         verbose=0,\n",
       "                                                         warm_start=False),\n",
       "                   learning_rate=0.5, n_estimators=500, random_state=0)"
      ]
     },
     "execution_count": 105,
     "metadata": {},
     "output_type": "execute_result"
    },
    {
     "name": "stdout",
     "output_type": "stream",
     "text": [
      "Train score: 1.0000\n",
      "Test score: 0.7300\n"
     ]
    },
    {
     "data": {
      "text/plain": [
       "0.73"
      ]
     },
     "execution_count": 105,
     "metadata": {},
     "output_type": "execute_result"
    },
    {
     "data": {
      "text/plain": [
       "0.46514463181129845"
      ]
     },
     "execution_count": 105,
     "metadata": {},
     "output_type": "execute_result"
    }
   ],
   "source": [
    "ada_clf = AdaBoostClassifier(\n",
    "    rf, n_estimators = 500, learning_rate = 0.5,\n",
    "    algorithm=\"SAMME\", random_state=0)\n",
    "\n",
    "ada_clf.fit(X_train, y_train)\n",
    "print('Train score: {:.4f}'.format(ada_clf.score(X_train, y_train)))\n",
    "print('Test score: {:.4f}'.format(ada_clf.score(X_test, y_test)))\n",
    "\n",
    "y_pred = ada_clf.predict(X_test)\n",
    "\n",
    "accuracy_score(y_test,y_pred)\n",
    "precision_score(y_test, y_pred,average='macro')"
   ]
  },
  {
   "cell_type": "markdown",
   "metadata": {},
   "source": [
    "#### Gradient Boosting "
   ]
  },
  {
   "cell_type": "code",
   "execution_count": 106,
   "metadata": {},
   "outputs": [
    {
     "data": {
      "text/plain": [
       "GridSearchCV(cv=5, error_score='raise-deprecating',\n",
       "             estimator=GradientBoostingClassifier(criterion='friedman_mse',\n",
       "                                                  init=None, learning_rate=0.1,\n",
       "                                                  loss='deviance', max_depth=3,\n",
       "                                                  max_features=None,\n",
       "                                                  max_leaf_nodes=None,\n",
       "                                                  min_impurity_decrease=0.0,\n",
       "                                                  min_impurity_split=None,\n",
       "                                                  min_samples_leaf=1,\n",
       "                                                  min_samples_split=2,\n",
       "                                                  min_weight_fraction_leaf=0.0,\n",
       "                                                  n_estimators=100,\n",
       "                                                  n_iter_no_change=None,\n",
       "                                                  presort='auto',\n",
       "                                                  random_state=0, subsample=1.0,\n",
       "                                                  tol=0.0001,\n",
       "                                                  validation_fraction=0.1,\n",
       "                                                  verbose=0, warm_start=False),\n",
       "             iid=False, n_jobs=None,\n",
       "             param_grid={'learning_rate': [0.1, 0.25, 0.5, 0.75, 1],\n",
       "                         'max_features': [2, 5, 7],\n",
       "                         'n_estimators': [50, 100, 200, 500]},\n",
       "             pre_dispatch='2*n_jobs', refit=True, return_train_score=False,\n",
       "             scoring=None, verbose=0)"
      ]
     },
     "execution_count": 106,
     "metadata": {},
     "output_type": "execute_result"
    },
    {
     "name": "stdout",
     "output_type": "stream",
     "text": [
      "{'learning_rate': 0.1, 'max_features': 7, 'n_estimators': 100}\n"
     ]
    }
   ],
   "source": [
    "from sklearn.ensemble import GradientBoostingClassifier\n",
    "\n",
    "params = {\n",
    "    'n_estimators': [50, 100, 200,500],\n",
    "    'learning_rate':[0.1, 0.25, 0.5, 0.75, 1],\n",
    "    'max_features':[2, 5,7 ]\n",
    "    }\n",
    "gc = GradientBoostingClassifier(random_state=0)\n",
    "\n",
    "gc_grid = GridSearchCV(estimator=gc, param_grid=params, cv=5,iid = False)\n",
    "gc_grid.fit(X_train, y_train)\n",
    "best_params = gc_grid.best_params_\n",
    "print(best_params)"
   ]
  },
  {
   "cell_type": "code",
   "execution_count": 107,
   "metadata": {},
   "outputs": [
    {
     "data": {
      "text/plain": [
       "GradientBoostingClassifier(criterion='friedman_mse', init=None,\n",
       "                           learning_rate=0.1, loss='deviance', max_depth=3,\n",
       "                           max_features=7, max_leaf_nodes=None,\n",
       "                           min_impurity_decrease=0.0, min_impurity_split=None,\n",
       "                           min_samples_leaf=1, min_samples_split=2,\n",
       "                           min_weight_fraction_leaf=0.0, n_estimators=500,\n",
       "                           n_iter_no_change=None, presort='auto',\n",
       "                           random_state=0, subsample=1.0, tol=0.0001,\n",
       "                           validation_fraction=0.1, verbose=0,\n",
       "                           warm_start=False)"
      ]
     },
     "execution_count": 107,
     "metadata": {},
     "output_type": "execute_result"
    },
    {
     "name": "stdout",
     "output_type": "stream",
     "text": [
      "Best recall score: 0.4976\n",
      "Train score: 1.0000\n",
      "Test score: 0.7700\n"
     ]
    },
    {
     "data": {
      "text/plain": [
       "0.77"
      ]
     },
     "execution_count": 107,
     "metadata": {},
     "output_type": "execute_result"
    },
    {
     "data": {
      "text/plain": [
       "0.6120738636363636"
      ]
     },
     "execution_count": 107,
     "metadata": {},
     "output_type": "execute_result"
    }
   ],
   "source": [
    "gc = GradientBoostingClassifier(random_state=0,learning_rate= 0.1, max_features = 7, n_estimators = 500)\n",
    "gc.fit(X_train, y_train)\n",
    "y_pred= gc.predict(X_test)\n",
    "print(\"Best recall score: {:.4f}\".format(recall_score(y_test,y_pred,average='macro')))\n",
    "print('Train score: {:.4f}'.format(gc.score(X_train, y_train)))\n",
    "print('Test score: {:.4f}'.format(gc.score(X_test, y_test)))\n",
    "accuracy_score(y_test,y_pred)\n",
    "precision_score(y_test, y_pred,average='macro')"
   ]
  },
  {
   "cell_type": "markdown",
   "metadata": {},
   "source": [
    "#### PCA on the dataset"
   ]
  },
  {
   "cell_type": "code",
   "execution_count": 219,
   "metadata": {},
   "outputs": [
    {
     "data": {
      "text/plain": [
       "PCA(copy=True, iterated_power='auto', n_components=0.95, random_state=0,\n",
       "    svd_solver='auto', tol=0.0, whiten=False)"
      ]
     },
     "execution_count": 219,
     "metadata": {},
     "output_type": "execute_result"
    }
   ],
   "source": [
    "from sklearn.decomposition import PCA\n",
    "\n",
    "#create model\n",
    "pca = PCA(n_components=0.95,random_state = 0)\n",
    "\n",
    "#train pca model\n",
    "pca.fit(X_train)\n",
    "\n",
    "#transforming X_train and X_test\n",
    "X_train_reduced = pca.transform(X_train)\n",
    "X_test_reduced = pca.transform(X_test)"
   ]
  },
  {
   "cell_type": "code",
   "execution_count": 220,
   "metadata": {},
   "outputs": [
    {
     "data": {
      "text/plain": [
       "array([[ 1.27506965,  0.06657152, -0.44440545, ..., -0.13152783,\n",
       "        -0.03206905,  0.05622573],\n",
       "       [ 0.63099134,  0.72454346,  0.03170194, ...,  0.03817072,\n",
       "         0.07496283, -0.09587763],\n",
       "       [-0.10655438,  0.34305526, -0.62442008, ..., -0.03403769,\n",
       "         0.02954435, -0.13419361],\n",
       "       ...,\n",
       "       [-0.19214908, -1.04152724,  0.21272763, ...,  0.06401791,\n",
       "         0.08963282, -0.0329051 ],\n",
       "       [ 0.77043882,  0.27406785, -0.12287997, ...,  0.02546653,\n",
       "        -0.03532328,  0.01192646],\n",
       "       [ 0.70512265,  0.00701267, -0.4115547 , ..., -0.02907335,\n",
       "        -0.04011251,  0.03636604]])"
      ]
     },
     "execution_count": 220,
     "metadata": {},
     "output_type": "execute_result"
    }
   ],
   "source": [
    "X_train_reduced"
   ]
  },
  {
   "cell_type": "code",
   "execution_count": 221,
   "metadata": {},
   "outputs": [
    {
     "data": {
      "text/plain": [
       "78"
      ]
     },
     "execution_count": 221,
     "metadata": {},
     "output_type": "execute_result"
    }
   ],
   "source": [
    "pca.n_components_"
   ]
  },
  {
   "cell_type": "code",
   "execution_count": 222,
   "metadata": {},
   "outputs": [
    {
     "data": {
      "text/plain": [
       "array([0.53092337, 0.41684078, 0.29922818, 0.26663102, 0.25527222,\n",
       "       0.19609571, 0.18403104, 0.12555008, 0.11357812, 0.10263491,\n",
       "       0.09690259, 0.08605908, 0.07735262, 0.06979408, 0.06613052,\n",
       "       0.06343986, 0.05893054, 0.05520218, 0.05095756, 0.04960097,\n",
       "       0.04499321, 0.04291305, 0.0414073 , 0.03911167, 0.03799917,\n",
       "       0.03546297, 0.03501903, 0.03362393, 0.03333271, 0.03221498,\n",
       "       0.03073648, 0.02825759, 0.02738438, 0.0267711 , 0.02632382,\n",
       "       0.02588614, 0.02421257, 0.02389847, 0.02314441, 0.02233391,\n",
       "       0.02166138, 0.02113309, 0.02009621, 0.01927716, 0.01858286,\n",
       "       0.01821159, 0.01775868, 0.0173376 , 0.01667553, 0.01613717,\n",
       "       0.0153988 , 0.01527592, 0.0148854 , 0.01421633, 0.01378104,\n",
       "       0.01320084, 0.01309189, 0.01250458, 0.01201506, 0.01161749,\n",
       "       0.01132078, 0.01108168, 0.01063459, 0.01042914, 0.01028844,\n",
       "       0.01010784, 0.00938868, 0.0090942 , 0.00892381, 0.00879603,\n",
       "       0.00852582, 0.00846382, 0.00813215, 0.00802343, 0.0077765 ,\n",
       "       0.00744913, 0.00724639, 0.00697201])"
      ]
     },
     "execution_count": 222,
     "metadata": {},
     "output_type": "execute_result"
    }
   ],
   "source": [
    "pca.explained_variance_"
   ]
  },
  {
   "cell_type": "code",
   "execution_count": 223,
   "metadata": {},
   "outputs": [
    {
     "data": {
      "text/plain": [
       "array([0.11783901, 0.09251826, 0.06641401, 0.05917904, 0.05665794,\n",
       "       0.04352365, 0.04084589, 0.02786597, 0.02520878, 0.02277993,\n",
       "       0.02150763, 0.0191009 , 0.0171685 , 0.01549087, 0.01467774,\n",
       "       0.01408054, 0.0130797 , 0.01225218, 0.01131008, 0.01100899,\n",
       "       0.00998629, 0.0095246 , 0.00919039, 0.00868088, 0.00843396,\n",
       "       0.00787104, 0.00777251, 0.00746287, 0.00739823, 0.00715015,\n",
       "       0.00682199, 0.0062718 , 0.00607799, 0.00594187, 0.0058426 ,\n",
       "       0.00574546, 0.00537401, 0.00530429, 0.00513693, 0.00495704,\n",
       "       0.00480777, 0.00469051, 0.00446037, 0.00427859, 0.00412449,\n",
       "       0.00404208, 0.00394156, 0.0038481 , 0.00370115, 0.00358166,\n",
       "       0.00341778, 0.00339051, 0.00330383, 0.00315533, 0.00305872,\n",
       "       0.00292994, 0.00290576, 0.0027754 , 0.00266676, 0.00257851,\n",
       "       0.00251266, 0.00245959, 0.00236036, 0.00231476, 0.00228353,\n",
       "       0.00224345, 0.00208383, 0.00201847, 0.00198065, 0.00195229,\n",
       "       0.00189231, 0.00187855, 0.00180494, 0.00178081, 0.001726  ,\n",
       "       0.00165334, 0.00160834, 0.00154744])"
      ]
     },
     "execution_count": 223,
     "metadata": {},
     "output_type": "execute_result"
    }
   ],
   "source": [
    "pca.explained_variance_ratio_"
   ]
  },
  {
   "cell_type": "code",
   "execution_count": 225,
   "metadata": {},
   "outputs": [],
   "source": [
    "scaler = MinMaxScaler()\n",
    "X_train_pca = scaler.fit_transform(X_train_reduced)\n",
    "X_test_pca = scaler.transform(X_test_reduced)"
   ]
  },
  {
   "cell_type": "markdown",
   "metadata": {},
   "source": [
    "### Running all the models after PCA"
   ]
  },
  {
   "cell_type": "markdown",
   "metadata": {},
   "source": [
    "#### KNN Classifier "
   ]
  },
  {
   "cell_type": "code",
   "execution_count": 114,
   "metadata": {},
   "outputs": [
    {
     "name": "stdout",
     "output_type": "stream",
     "text": [
      "Fitting 3 folds for each of 5 candidates, totalling 15 fits\n"
     ]
    },
    {
     "name": "stderr",
     "output_type": "stream",
     "text": [
      "[Parallel(n_jobs=-1)]: Using backend LokyBackend with 8 concurrent workers.\n",
      "[Parallel(n_jobs=-1)]: Done  15 out of  15 | elapsed:    4.6s finished\n"
     ]
    },
    {
     "data": {
      "text/plain": [
       "GridSearchCV(cv=3, error_score='raise-deprecating',\n",
       "             estimator=KNeighborsClassifier(algorithm='auto', leaf_size=30,\n",
       "                                            metric='minkowski',\n",
       "                                            metric_params=None, n_jobs=None,\n",
       "                                            n_neighbors=5, p=2,\n",
       "                                            weights='uniform'),\n",
       "             iid='warn', n_jobs=-1,\n",
       "             param_grid={'n_neighbors': [1, 5, 10, 15, 20]},\n",
       "             pre_dispatch='2*n_jobs', refit=True, return_train_score=False,\n",
       "             scoring=None, verbose=1)"
      ]
     },
     "execution_count": 114,
     "metadata": {},
     "output_type": "execute_result"
    },
    {
     "name": "stdout",
     "output_type": "stream",
     "text": [
      "Best parameters: {'n_neighbors': 5}\n",
      "Best cross-validation score: 0.54\n"
     ]
    }
   ],
   "source": [
    "from sklearn.neighbors import KNeighborsClassifier\n",
    "from sklearn.model_selection import GridSearchCV\n",
    "\n",
    "grid_parms_knn = {'n_neighbors':[1,5,10,15,20]}\n",
    "knn = KNeighborsClassifier()\n",
    "grid_search = GridSearchCV(KNeighborsClassifier(), grid_parms_knn,verbose = 1,cv = 3, n_jobs=-1)\n",
    "grid_search.fit(X_train_pca, y_train)\n",
    "print(\"Best parameters: {}\".format(grid_search.best_params_))\n",
    "print(\"Best cross-validation score: {:.2f}\".format(grid_search.best_score_))"
   ]
  },
  {
   "cell_type": "code",
   "execution_count": 115,
   "metadata": {},
   "outputs": [
    {
     "data": {
      "text/plain": [
       "KNeighborsClassifier(algorithm='auto', leaf_size=30, metric='minkowski',\n",
       "                     metric_params=None, n_jobs=None, n_neighbors=5, p=2,\n",
       "                     weights='uniform')"
      ]
     },
     "execution_count": 115,
     "metadata": {},
     "output_type": "execute_result"
    },
    {
     "name": "stdout",
     "output_type": "stream",
     "text": [
      "Train score: 0.5705\n",
      "Test score: 0.5600\n"
     ]
    }
   ],
   "source": [
    "knn = KNeighborsClassifier(5)\n",
    "knn.fit(X_train_pca, y_train)\n",
    "print('Train score: {:.4f}'.format(knn.score(X_train_pca, y_train)))\n",
    "print('Test score: {:.4f}'.format(knn.score(X_test_pca, y_test)))"
   ]
  },
  {
   "cell_type": "code",
   "execution_count": 116,
   "metadata": {},
   "outputs": [
    {
     "name": "stdout",
     "output_type": "stream",
     "text": [
      "Cross-validation scores:\n",
      "[0.48       0.42       0.62       0.56       0.51020408 0.57142857]\n",
      "0.5269387755102041\n"
     ]
    }
   ],
   "source": [
    "from sklearn.model_selection import KFold\n",
    "from sklearn.model_selection import cross_val_score\n",
    "\n",
    "kfold = KFold(n_splits=6)\n",
    "print(\"Cross-validation scores:\\n{}\".format(cross_val_score(knn , X_train_pca, y_train, cv=kfold)))\n",
    "scores = cross_val_score(knn , X_train_pca, y_train, cv=kfold)\n",
    "print(np.mean(scores))"
   ]
  },
  {
   "cell_type": "code",
   "execution_count": 117,
   "metadata": {},
   "outputs": [
    {
     "data": {
      "text/plain": [
       "0.56"
      ]
     },
     "execution_count": 117,
     "metadata": {},
     "output_type": "execute_result"
    },
    {
     "data": {
      "text/plain": [
       "0.17411225658648338"
      ]
     },
     "execution_count": 117,
     "metadata": {},
     "output_type": "execute_result"
    }
   ],
   "source": [
    "y_pred = knn.predict(X_test_pca)\n",
    "accuracy_score(y_test,y_pred)\n",
    "precision_score(y_test, y_pred,average='macro')"
   ]
  },
  {
   "cell_type": "markdown",
   "metadata": {},
   "source": [
    "#### Logistic Regression "
   ]
  },
  {
   "cell_type": "code",
   "execution_count": 118,
   "metadata": {},
   "outputs": [
    {
     "data": {
      "text/plain": [
       "GridSearchCV(cv=6, error_score='raise-deprecating',\n",
       "             estimator=LogisticRegression(C=1.0, class_weight=None, dual=False,\n",
       "                                          fit_intercept=True,\n",
       "                                          intercept_scaling=1, l1_ratio=None,\n",
       "                                          max_iter=100, multi_class='warn',\n",
       "                                          n_jobs=None, penalty='l2',\n",
       "                                          random_state=None, solver='warn',\n",
       "                                          tol=0.0001, verbose=0,\n",
       "                                          warm_start=False),\n",
       "             iid='warn', n_jobs=None,\n",
       "             param_grid={'C': [0.01, 0.1, 1, 10, 100], 'penalty': ['l1', 'l2']},\n",
       "             pre_dispatch='2*n_jobs', refit=True, return_train_score=True,\n",
       "             scoring=None, verbose=0)"
      ]
     },
     "execution_count": 118,
     "metadata": {},
     "output_type": "execute_result"
    }
   ],
   "source": [
    "from sklearn.linear_model import LogisticRegression\n",
    "model = LogisticRegression()\n",
    "penalty = ['l1', 'l2']\n",
    "C = [0.01,0.1,1,10,100]\n",
    "parameters = dict(C=C, penalty=penalty)\n",
    "\n",
    "grid_search = GridSearchCV(model,parameters, cv=6, return_train_score=True)\n",
    "grid_search.fit(X_train_pca, y_train)"
   ]
  },
  {
   "cell_type": "code",
   "execution_count": 119,
   "metadata": {},
   "outputs": [
    {
     "name": "stdout",
     "output_type": "stream",
     "text": [
      "Best parameters: {'C': 10, 'penalty': 'l1'}\n",
      "Best cross-validation score: 0.64\n"
     ]
    }
   ],
   "source": [
    "print(\"Best parameters: {}\".format(grid_search.best_params_))\n",
    "print(\"Best cross-validation score: {:.2f}\".format(grid_search.best_score_))"
   ]
  },
  {
   "cell_type": "code",
   "execution_count": 120,
   "metadata": {},
   "outputs": [
    {
     "data": {
      "text/plain": [
       "LogisticRegression(C=10, class_weight=None, dual=False, fit_intercept=True,\n",
       "                   intercept_scaling=1, l1_ratio=None, max_iter=100,\n",
       "                   multi_class='warn', n_jobs=None, penalty='l1',\n",
       "                   random_state=None, solver='warn', tol=0.0001, verbose=0,\n",
       "                   warm_start=False)"
      ]
     },
     "execution_count": 120,
     "metadata": {},
     "output_type": "execute_result"
    },
    {
     "name": "stdout",
     "output_type": "stream",
     "text": [
      "0.8926174496644296\n",
      "0.71\n"
     ]
    }
   ],
   "source": [
    "log_l1 = LogisticRegression(penalty = 'l1', C = 10)\n",
    "log_l1.fit(X_train_pca, y_train)\n",
    "print(log_l1.score(X_train_pca, y_train))\n",
    "print(log_l1.score(X_test_pca, y_test))"
   ]
  },
  {
   "cell_type": "code",
   "execution_count": 121,
   "metadata": {},
   "outputs": [
    {
     "data": {
      "text/plain": [
       "0.71"
      ]
     },
     "execution_count": 121,
     "metadata": {},
     "output_type": "execute_result"
    },
    {
     "data": {
      "text/plain": [
       "0.44597285067873305"
      ]
     },
     "execution_count": 121,
     "metadata": {},
     "output_type": "execute_result"
    }
   ],
   "source": [
    "y_pred = log_l1.predict(X_test_pca)\n",
    "accuracy_score(y_test,y_pred)\n",
    "precision_score(y_test, y_pred,average='macro')"
   ]
  },
  {
   "cell_type": "code",
   "execution_count": 122,
   "metadata": {},
   "outputs": [
    {
     "name": "stdout",
     "output_type": "stream",
     "text": [
      "Cross-validation scores:\n",
      "[0.62       0.56       0.64       0.7        0.67346939 0.6122449 ]\n",
      "0.6342857142857143\n"
     ]
    }
   ],
   "source": [
    "from sklearn.model_selection import KFold\n",
    "from sklearn.model_selection import cross_val_score\n",
    "log_l1 = LogisticRegression(penalty = 'l1', C = 10)\n",
    "kfold = KFold(n_splits=6)\n",
    "print(\"Cross-validation scores:\\n{}\".format(cross_val_score(log_l1 , X_train_pca, y_train, cv=kfold)))\n",
    "scores = cross_val_score(log_l1 , X_train_pca, y_train, cv=kfold)\n",
    "print(np.mean(scores))"
   ]
  },
  {
   "cell_type": "code",
   "execution_count": 123,
   "metadata": {},
   "outputs": [
    {
     "data": {
      "text/plain": [
       "LogisticRegression(C=10, class_weight=None, dual=False, fit_intercept=True,\n",
       "                   intercept_scaling=1, l1_ratio=None, max_iter=100,\n",
       "                   multi_class='warn', n_jobs=None, penalty='l1',\n",
       "                   random_state=None, solver='warn', tol=0.0001, verbose=0,\n",
       "                   warm_start=False)"
      ]
     },
     "execution_count": 123,
     "metadata": {},
     "output_type": "execute_result"
    },
    {
     "name": "stdout",
     "output_type": "stream",
     "text": [
      "[0.81666667 0.47058824 1.         0.         0.         0.25\n",
      " 1.         0.72727273 0.         0.        ]\n",
      "[[49  4  0  0  3  5  0  3  0  1]\n",
      " [ 2  4  0  0  0  0  0  1  1  0]\n",
      " [ 0  0  3  0  0  0  0  0  0  0]\n",
      " [ 1  0  0  0  0  0  0  0  0  0]\n",
      " [ 0  0  0  0  0  0  0  0  0  0]\n",
      " [ 0  0  0  0  0  1  0  0  0  1]\n",
      " [ 0  0  0  0  0  0  2  0  0  0]\n",
      " [ 2  0  0  0  1  0  0 12  0  2]\n",
      " [ 0  0  0  0  0  0  0  0  0  0]\n",
      " [ 1  1  0  0  0  0  0  0  0  0]]\n"
     ]
    }
   ],
   "source": [
    "from sklearn.metrics import f1_score\n",
    "from sklearn.metrics import confusion_matrix\n",
    "\n",
    "from sklearn.metrics import f1_score\n",
    "log_l1 = LogisticRegression(penalty = 'l1', C = 10)\n",
    "log_l1.fit(X_train_pca, y_train)\n",
    "ypred = log_l1.predict(X_test_pca)\n",
    "ft = f1_score(ypred,y_test, average = None)\n",
    "cm = confusion_matrix(ypred,y_test)\n",
    "print(ft)\n",
    "print(cm)"
   ]
  },
  {
   "cell_type": "markdown",
   "metadata": {},
   "source": [
    "#### Linear SVC"
   ]
  },
  {
   "cell_type": "code",
   "execution_count": 124,
   "metadata": {},
   "outputs": [
    {
     "data": {
      "text/plain": [
       "LinearSVC(C=1.0, class_weight=None, dual=True, fit_intercept=True,\n",
       "          intercept_scaling=1, loss='squared_hinge', max_iter=1000,\n",
       "          multi_class='ovr', penalty='l2', random_state=None, tol=0.0001,\n",
       "          verbose=0)"
      ]
     },
     "execution_count": 124,
     "metadata": {},
     "output_type": "execute_result"
    }
   ],
   "source": [
    "clf = LinearSVC()\n",
    "clf.fit(X_train_pca,y_train)"
   ]
  },
  {
   "cell_type": "code",
   "execution_count": 125,
   "metadata": {},
   "outputs": [
    {
     "name": "stdout",
     "output_type": "stream",
     "text": [
      "0.8557046979865772\n",
      "0.72\n"
     ]
    }
   ],
   "source": [
    "print(clf.score(X_train_pca,y_train))\n",
    "print(clf.score(X_test_pca,y_test))"
   ]
  },
  {
   "cell_type": "code",
   "execution_count": 126,
   "metadata": {},
   "outputs": [
    {
     "data": {
      "text/plain": [
       "0.72"
      ]
     },
     "execution_count": 126,
     "metadata": {},
     "output_type": "execute_result"
    },
    {
     "data": {
      "text/plain": [
       "0.5018108651911468"
      ]
     },
     "execution_count": 126,
     "metadata": {},
     "output_type": "execute_result"
    }
   ],
   "source": [
    "y_pred = clf.predict(X_test_pca)\n",
    "accuracy_score(y_test,y_pred)\n",
    "precision_score(y_test, y_pred,average='macro')"
   ]
  },
  {
   "cell_type": "code",
   "execution_count": 127,
   "metadata": {},
   "outputs": [
    {
     "name": "stdout",
     "output_type": "stream",
     "text": [
      "Cross-validation scores:\n",
      "[0.58       0.5        0.66       0.66       0.67346939 0.6122449 ]\n",
      "0.6142857142857143\n"
     ]
    }
   ],
   "source": [
    "kfold = KFold(n_splits=6)\n",
    "print(\"Cross-validation scores:\\n{}\".format(cross_val_score(clf , X_train_pca, y_train, cv=kfold)))\n",
    "scores = cross_val_score(clf , X_train_pca, y_train, cv=kfold)\n",
    "print(np.mean(scores))"
   ]
  },
  {
   "cell_type": "markdown",
   "metadata": {},
   "source": [
    "#### SVC - Linear Kernel "
   ]
  },
  {
   "cell_type": "code",
   "execution_count": 128,
   "metadata": {},
   "outputs": [
    {
     "data": {
      "text/plain": [
       "GridSearchCV(cv=3, error_score='raise-deprecating',\n",
       "             estimator=SVC(C=1.0, cache_size=200, class_weight=None, coef0=0.0,\n",
       "                           decision_function_shape='ovr', degree=3,\n",
       "                           gamma='auto_deprecated', kernel='linear',\n",
       "                           max_iter=-1, probability=False, random_state=None,\n",
       "                           shrinking=True, tol=0.001, verbose=False),\n",
       "             iid='warn', n_jobs=None, param_grid={'C': [0.01, 0.1, 1, 10, 100]},\n",
       "             pre_dispatch='2*n_jobs', refit=True, return_train_score=True,\n",
       "             scoring=None, verbose=0)"
      ]
     },
     "execution_count": 128,
     "metadata": {},
     "output_type": "execute_result"
    }
   ],
   "source": [
    "model = SVC(kernel = 'linear')\n",
    "\n",
    "parameters = {'C': [0.01, 0.1, 1, 10, 100]}\n",
    "\n",
    "grid_search = GridSearchCV(model,parameters, cv=3, return_train_score=True)\n",
    "grid_search.fit(X_train_pca, y_train)"
   ]
  },
  {
   "cell_type": "code",
   "execution_count": 129,
   "metadata": {},
   "outputs": [
    {
     "name": "stdout",
     "output_type": "stream",
     "text": [
      "Best parameters: {'C': 1}\n",
      "Best cross-validation score: 0.59\n"
     ]
    }
   ],
   "source": [
    "print(\"Best parameters: {}\".format(grid_search.best_params_))\n",
    "print(\"Best cross-validation score: {:.2f}\".format(grid_search.best_score_))"
   ]
  },
  {
   "cell_type": "code",
   "execution_count": 130,
   "metadata": {},
   "outputs": [
    {
     "data": {
      "text/plain": [
       "SVC(C=1, cache_size=200, class_weight=None, coef0=0.0,\n",
       "    decision_function_shape='ovr', degree=3, gamma='auto_deprecated',\n",
       "    kernel='linear', max_iter=-1, probability=False, random_state=None,\n",
       "    shrinking=True, tol=0.001, verbose=False)"
      ]
     },
     "execution_count": 130,
     "metadata": {},
     "output_type": "execute_result"
    }
   ],
   "source": [
    "svc = SVC(kernel='linear', C=1)\n",
    "svc.fit(X_train_pca,y_train)"
   ]
  },
  {
   "cell_type": "code",
   "execution_count": 131,
   "metadata": {},
   "outputs": [
    {
     "name": "stdout",
     "output_type": "stream",
     "text": [
      "0.8120805369127517\n",
      "0.67\n"
     ]
    }
   ],
   "source": [
    "print(svc.score(X_train_pca,y_train))\n",
    "print(svc.score(X_test_pca,y_test))"
   ]
  },
  {
   "cell_type": "code",
   "execution_count": 132,
   "metadata": {},
   "outputs": [
    {
     "data": {
      "text/plain": [
       "0.67"
      ]
     },
     "execution_count": 132,
     "metadata": {},
     "output_type": "execute_result"
    },
    {
     "data": {
      "text/plain": [
       "0.38855005753739935"
      ]
     },
     "execution_count": 132,
     "metadata": {},
     "output_type": "execute_result"
    }
   ],
   "source": [
    "y_pred = svc.predict(X_test_pca)\n",
    "accuracy_score(y_test,y_pred)\n",
    "precision_score(y_test, y_pred,average='macro')"
   ]
  },
  {
   "cell_type": "code",
   "execution_count": 133,
   "metadata": {},
   "outputs": [
    {
     "name": "stdout",
     "output_type": "stream",
     "text": [
      "Cross-validation scores:\n",
      "[0.52       0.54       0.64       0.62       0.63265306 0.65306122]\n",
      "[0.52       0.54       0.64       0.62       0.63265306 0.65306122]\n",
      "0.600952380952381\n"
     ]
    }
   ],
   "source": [
    "kfold = KFold(n_splits=6)\n",
    "print(\"Cross-validation scores:\\n{}\".format(cross_val_score(svc , X_train_pca, y_train, cv=kfold)))\n",
    "scores = cross_val_score(svc , X_train_pca, y_train, cv=kfold)\n",
    "print(scores)\n",
    "print(np.mean(scores))\n"
   ]
  },
  {
   "cell_type": "code",
   "execution_count": 134,
   "metadata": {},
   "outputs": [
    {
     "data": {
      "text/plain": [
       "SVC(C=1, cache_size=200, class_weight=None, coef0=0.0,\n",
       "    decision_function_shape='ovr', degree=3, gamma='auto_deprecated',\n",
       "    kernel='linear', max_iter=-1, probability=False, random_state=None,\n",
       "    shrinking=True, tol=0.001, verbose=False)"
      ]
     },
     "execution_count": 134,
     "metadata": {},
     "output_type": "execute_result"
    },
    {
     "name": "stdout",
     "output_type": "stream",
     "text": [
      "[[52  7  0  4  6  0  0  8  0  2]\n",
      " [ 1  2  0  0  0  0  0  0  1  0]\n",
      " [ 0  0  3  0  0  0  0  0  0  0]\n",
      " [ 0  0  0  0  0  0  0  0  0  0]\n",
      " [ 0  0  0  0  0  0  0  0  0  0]\n",
      " [ 1  0  0  0  0  0  0  0  0  0]\n",
      " [ 0  0  0  0  0  0  2  0  0  0]\n",
      " [ 1  0  0  0  0  0  0  8  0  2]\n",
      " [ 0  0  0  0  0  0  0  0  0  0]\n",
      " [ 0  0  0  0  0  0  0  0  0  0]]\n",
      "[0.7761194  0.30769231 1.         0.         0.         0.\n",
      " 1.         0.59259259 0.         0.        ]\n"
     ]
    }
   ],
   "source": [
    "svc = SVC(kernel = 'linear', C = 1 )\n",
    "svc.fit(X_train_pca, y_train)\n",
    "ypred = svc.predict(X_test_pca)\n",
    "cm = confusion_matrix(ypred,y_test)\n",
    "f = f1_score(ypred,y_test, average = None)\n",
    "print(cm)\n",
    "print(f)"
   ]
  },
  {
   "cell_type": "markdown",
   "metadata": {},
   "source": [
    "#### SVC - RBF kernel"
   ]
  },
  {
   "cell_type": "code",
   "execution_count": 135,
   "metadata": {},
   "outputs": [
    {
     "data": {
      "text/plain": [
       "GridSearchCV(cv=6, error_score='raise-deprecating',\n",
       "             estimator=SVC(C=1.0, cache_size=200, class_weight=None, coef0=0.0,\n",
       "                           decision_function_shape='ovr', degree=3,\n",
       "                           gamma='auto_deprecated', kernel='rbf', max_iter=-1,\n",
       "                           probability=False, random_state=None, shrinking=True,\n",
       "                           tol=0.001, verbose=False),\n",
       "             iid='warn', n_jobs=None,\n",
       "             param_grid={'C': [0.01, 0.1, 1, 10, 100],\n",
       "                         'gamma': [0.01, 0.1, 1, 10, 100]},\n",
       "             pre_dispatch='2*n_jobs', refit=True, return_train_score=True,\n",
       "             scoring=None, verbose=0)"
      ]
     },
     "execution_count": 135,
     "metadata": {},
     "output_type": "execute_result"
    }
   ],
   "source": [
    "model = SVC(kernel = 'rbf')\n",
    "\n",
    "parameters = {'C': [0.01, 0.1, 1, 10, 100], 'gamma' : [0.01, 0.1, 1, 10, 100]}\n",
    "\n",
    "grid_search = GridSearchCV(model,parameters, cv=6, return_train_score=True)\n",
    "grid_search.fit(X_train_pca, y_train)\n"
   ]
  },
  {
   "cell_type": "code",
   "execution_count": 136,
   "metadata": {},
   "outputs": [
    {
     "name": "stdout",
     "output_type": "stream",
     "text": [
      "Best parameters: {'C': 10, 'gamma': 0.1}\n",
      "Best cross-validation score: 0.63\n"
     ]
    }
   ],
   "source": [
    "print(\"Best parameters: {}\".format(grid_search.best_params_))\n",
    "print(\"Best cross-validation score: {:.2f}\".format(grid_search.best_score_))"
   ]
  },
  {
   "cell_type": "code",
   "execution_count": 137,
   "metadata": {},
   "outputs": [
    {
     "data": {
      "text/plain": [
       "SVC(C=10, cache_size=200, class_weight=None, coef0=0.0,\n",
       "    decision_function_shape='ovr', degree=3, gamma=0.1, kernel='rbf',\n",
       "    max_iter=-1, probability=False, random_state=None, shrinking=True,\n",
       "    tol=0.001, verbose=False)"
      ]
     },
     "execution_count": 137,
     "metadata": {},
     "output_type": "execute_result"
    },
    {
     "name": "stdout",
     "output_type": "stream",
     "text": [
      "0.8590604026845637\n",
      "0.69\n"
     ]
    }
   ],
   "source": [
    "svc1 = SVC(kernel='rbf', gamma=0.1, C=10)\n",
    "svc1.fit(X_train_pca,y_train)\n",
    "\n",
    "print(svc1.score(X_train_pca,y_train))\n",
    "print(svc1.score(X_test_pca,y_test))"
   ]
  },
  {
   "cell_type": "code",
   "execution_count": 138,
   "metadata": {},
   "outputs": [
    {
     "data": {
      "text/plain": [
       "0.69"
      ]
     },
     "execution_count": 138,
     "metadata": {},
     "output_type": "execute_result"
    },
    {
     "data": {
      "text/plain": [
       "0.5943977591036415"
      ]
     },
     "execution_count": 138,
     "metadata": {},
     "output_type": "execute_result"
    }
   ],
   "source": [
    "y_pred = svc1.predict(X_test_pca)\n",
    "accuracy_score(y_test,y_pred)\n",
    "precision_score(y_test, y_pred,average='macro')\n"
   ]
  },
  {
   "cell_type": "code",
   "execution_count": 139,
   "metadata": {},
   "outputs": [
    {
     "name": "stdout",
     "output_type": "stream",
     "text": [
      "[0.52       0.58       0.66       0.64       0.59183673 0.65306122]\n",
      "0.6074829931972789\n"
     ]
    }
   ],
   "source": [
    "from sklearn.model_selection import KFold\n",
    "from sklearn.model_selection import cross_val_score\n",
    "kfold = KFold(n_splits=6)\n",
    "#print(\"Cross-validation scores:\\n{}\".format(cross_val_score(svc , X_train_pca, y_train, cv=kfold)))\n",
    "scores = cross_val_score(svc1 , X_train_pca, y_train, cv=kfold)\n",
    "print(scores)\n",
    "print(np.mean(scores))\n"
   ]
  },
  {
   "cell_type": "code",
   "execution_count": 140,
   "metadata": {},
   "outputs": [
    {
     "data": {
      "text/plain": [
       "SVC(C=10, cache_size=200, class_weight=None, coef0=0.0,\n",
       "    decision_function_shape='ovr', degree=3, gamma=0.1, kernel='rbf',\n",
       "    max_iter=-1, probability=False, random_state=None, shrinking=True,\n",
       "    tol=0.001, verbose=False)"
      ]
     },
     "execution_count": 140,
     "metadata": {},
     "output_type": "execute_result"
    },
    {
     "name": "stdout",
     "output_type": "stream",
     "text": [
      "[[48  5  0  2  5  0  0  6  0  2]\n",
      " [ 2  4  0  0  0  0  0  0  1  0]\n",
      " [ 0  0  3  0  0  0  0  0  0  0]\n",
      " [ 0  0  0  1  0  0  0  0  0  0]\n",
      " [ 0  0  0  0  1  0  0  0  0  0]\n",
      " [ 3  0  0  0  0  0  0  0  0  0]\n",
      " [ 0  0  0  0  0  0  2  0  0  0]\n",
      " [ 2  0  0  1  0  0  0 10  0  2]\n",
      " [ 0  0  0  0  0  0  0  0  0  0]\n",
      " [ 0  0  0  0  0  0  0  0  0  0]]\n",
      "[0.7804878  0.5        1.         0.4        0.28571429 0.\n",
      " 1.         0.64516129 0.         0.        ]\n"
     ]
    }
   ],
   "source": [
    "from sklearn.metrics import f1_score\n",
    "svc1 = SVC(kernel = 'rbf', C = 10 , gamma = 0.1)\n",
    "svc1.fit(X_train_pca, y_train)\n",
    "ypred = svc1.predict(X_test_pca)\n",
    "f = f1_score(ypred,y_test, average = None)\n",
    "cm = confusion_matrix(ypred,y_test)\n",
    "print(cm)\n",
    "print(f)\n"
   ]
  },
  {
   "cell_type": "markdown",
   "metadata": {},
   "source": [
    "#### SVC - Poly Kernel "
   ]
  },
  {
   "cell_type": "code",
   "execution_count": 141,
   "metadata": {},
   "outputs": [
    {
     "data": {
      "text/plain": [
       "GridSearchCV(cv=6, error_score='raise-deprecating',\n",
       "             estimator=SVC(C=1.0, cache_size=200, class_weight=None, coef0=0.0,\n",
       "                           decision_function_shape='ovr', degree=3,\n",
       "                           gamma='auto_deprecated', kernel='poly', max_iter=-1,\n",
       "                           probability=False, random_state=None, shrinking=True,\n",
       "                           tol=0.001, verbose=False),\n",
       "             iid='warn', n_jobs=None,\n",
       "             param_grid={'C': [0.01, 0.1, 1, 10, 100], 'degree': [2, 3, 4, 5]},\n",
       "             pre_dispatch='2*n_jobs', refit=True, return_train_score=True,\n",
       "             scoring=None, verbose=0)"
      ]
     },
     "execution_count": 141,
     "metadata": {},
     "output_type": "execute_result"
    }
   ],
   "source": [
    "model = SVC(kernel = 'poly')\n",
    "\n",
    "parameters = {'C': [0.01, 0.1, 1, 10, 100], 'degree' : [2,3,4,5]}\n",
    "\n",
    "grid_search = GridSearchCV(model,parameters, cv=6, return_train_score=True)\n",
    "grid_search.fit(X_train_pca, y_train)\n"
   ]
  },
  {
   "cell_type": "code",
   "execution_count": 142,
   "metadata": {},
   "outputs": [
    {
     "name": "stdout",
     "output_type": "stream",
     "text": [
      "Best parameters: {'C': 100, 'degree': 2}\n",
      "Best cross-validation score: 0.58\n"
     ]
    }
   ],
   "source": [
    "print(\"Best parameters: {}\".format(grid_search.best_params_))\n",
    "print(\"Best cross-validation score: {:.2f}\".format(grid_search.best_score_))"
   ]
  },
  {
   "cell_type": "code",
   "execution_count": 143,
   "metadata": {},
   "outputs": [
    {
     "data": {
      "text/plain": [
       "SVC(C=100, cache_size=200, class_weight=None, coef0=0.0,\n",
       "    decision_function_shape='ovr', degree=2, gamma='auto_deprecated',\n",
       "    kernel='poly', max_iter=-1, probability=False, random_state=None,\n",
       "    shrinking=True, tol=0.001, verbose=False)"
      ]
     },
     "execution_count": 143,
     "metadata": {},
     "output_type": "execute_result"
    },
    {
     "name": "stdout",
     "output_type": "stream",
     "text": [
      "0.7348993288590604\n",
      "0.67\n"
     ]
    }
   ],
   "source": [
    "svc2 = SVC(kernel='poly', degree=2, C=100)\n",
    "svc2.fit(X_train_pca,y_train)\n",
    "\n",
    "print(svc2.score(X_train_pca,y_train))\n",
    "print(svc2.score(X_test_pca,y_test))"
   ]
  },
  {
   "cell_type": "code",
   "execution_count": 144,
   "metadata": {},
   "outputs": [
    {
     "data": {
      "text/plain": [
       "0.67"
      ]
     },
     "execution_count": 144,
     "metadata": {},
     "output_type": "execute_result"
    },
    {
     "data": {
      "text/plain": [
       "0.4877260981912145"
      ]
     },
     "execution_count": 144,
     "metadata": {},
     "output_type": "execute_result"
    }
   ],
   "source": [
    "y_pred = svc2.predict(X_test_pca)\n",
    "accuracy_score(y_test,y_pred)\n",
    "precision_score(y_test, y_pred,average='macro')"
   ]
  },
  {
   "cell_type": "code",
   "execution_count": 145,
   "metadata": {},
   "outputs": [
    {
     "name": "stdout",
     "output_type": "stream",
     "text": [
      "Cross-validation scores:\n",
      "[0.52       0.54       0.64       0.62       0.63265306 0.65306122]\n",
      "[0.52       0.5        0.64       0.6        0.55102041 0.65306122]\n",
      "0.5773469387755102\n"
     ]
    }
   ],
   "source": [
    "kfold = KFold(n_splits=6)\n",
    "print(\"Cross-validation scores:\\n{}\".format(cross_val_score(svc , X_train_pca, y_train, cv=kfold)))\n",
    "scores = cross_val_score(svc2 , X_train_pca, y_train, cv=kfold)\n",
    "print(scores)\n",
    "print(np.mean(scores))"
   ]
  },
  {
   "cell_type": "code",
   "execution_count": 146,
   "metadata": {},
   "outputs": [
    {
     "data": {
      "text/plain": [
       "SVC(C=100, cache_size=200, class_weight=None, coef0=0.0,\n",
       "    decision_function_shape='ovr', degree=2, gamma='auto_deprecated',\n",
       "    kernel='poly', max_iter=-1, probability=False, random_state=None,\n",
       "    shrinking=True, tol=0.001, verbose=False)"
      ]
     },
     "execution_count": 146,
     "metadata": {},
     "output_type": "execute_result"
    },
    {
     "name": "stdout",
     "output_type": "stream",
     "text": [
      "[[55  8  0  4  6  0 10  1  2]\n",
      " [ 0  1  0  0  0  0  0  0  0]\n",
      " [ 0  0  3  0  0  0  0  0  0]\n",
      " [ 0  0  0  0  0  0  0  0  0]\n",
      " [ 0  0  0  0  0  0  0  0  0]\n",
      " [ 0  0  0  0  0  2  0  0  0]\n",
      " [ 0  0  0  0  0  0  6  0  2]\n",
      " [ 0  0  0  0  0  0  0  0  0]\n",
      " [ 0  0  0  0  0  0  0  0  0]]\n",
      "[0.78014184 0.2        1.         0.         0.         1.\n",
      " 0.5        0.         0.        ]\n"
     ]
    }
   ],
   "source": [
    "svc2 = SVC(kernel = 'poly', C = 100 , degree = 2)\n",
    "svc2.fit(X_train_pca, y_train)\n",
    "ypred = svc2.predict(X_test_pca)\n",
    "f = f1_score(ypred,y_test, average = None)\n",
    "cm = confusion_matrix(ypred,y_test)\n",
    "print(cm)\n",
    "print(f)"
   ]
  },
  {
   "cell_type": "markdown",
   "metadata": {},
   "source": [
    "#### Decision Tree Classifier "
   ]
  },
  {
   "cell_type": "code",
   "execution_count": 147,
   "metadata": {},
   "outputs": [
    {
     "data": {
      "text/plain": [
       "DecisionTreeClassifier(class_weight=None, criterion='gini', max_depth=None,\n",
       "                       max_features=None, max_leaf_nodes=None,\n",
       "                       min_impurity_decrease=0.0, min_impurity_split=None,\n",
       "                       min_samples_leaf=1, min_samples_split=2,\n",
       "                       min_weight_fraction_leaf=0.0, presort=False,\n",
       "                       random_state=0, splitter='best')"
      ]
     },
     "execution_count": 147,
     "metadata": {},
     "output_type": "execute_result"
    },
    {
     "name": "stdout",
     "output_type": "stream",
     "text": [
      "Accuracy on training set: 1.000\n",
      "Accuracy on test set: 0.520\n"
     ]
    }
   ],
   "source": [
    "dtree = DecisionTreeClassifier(random_state=0)\n",
    "\n",
    "dtree.fit(X_train_pca, y_train)\n",
    "print(\"Accuracy on training set: {:.3f}\".format(dtree.score(X_train_pca, y_train)))\n",
    "print(\"Accuracy on test set: {:.3f}\".format(dtree.score(X_test_pca, y_test)))\n"
   ]
  },
  {
   "cell_type": "code",
   "execution_count": 148,
   "metadata": {},
   "outputs": [],
   "source": [
    "dtree_clf = DecisionTreeClassifier(random_state=0)\n",
    "parameters = { 'max_depth' : [1,2,3,4,5,6,7,8,9,10]}"
   ]
  },
  {
   "cell_type": "code",
   "execution_count": 149,
   "metadata": {},
   "outputs": [
    {
     "data": {
      "text/plain": [
       "GridSearchCV(cv=6, error_score='raise-deprecating',\n",
       "             estimator=DecisionTreeClassifier(class_weight=None,\n",
       "                                              criterion='gini', max_depth=None,\n",
       "                                              max_features=None,\n",
       "                                              max_leaf_nodes=None,\n",
       "                                              min_impurity_decrease=0.0,\n",
       "                                              min_impurity_split=None,\n",
       "                                              min_samples_leaf=1,\n",
       "                                              min_samples_split=2,\n",
       "                                              min_weight_fraction_leaf=0.0,\n",
       "                                              presort=False, random_state=0,\n",
       "                                              splitter='best'),\n",
       "             iid='warn', n_jobs=None,\n",
       "             param_grid={'max_depth': [1, 2, 3, 4, 5, 6, 7, 8, 9, 10]},\n",
       "             pre_dispatch='2*n_jobs', refit=True, return_train_score=True,\n",
       "             scoring=None, verbose=0)"
      ]
     },
     "execution_count": 149,
     "metadata": {},
     "output_type": "execute_result"
    }
   ],
   "source": [
    "grid_search = GridSearchCV(dtree_clf,parameters, cv=6, return_train_score=True)\n",
    "grid_search.fit(X_train_pca, y_train)"
   ]
  },
  {
   "cell_type": "code",
   "execution_count": 150,
   "metadata": {},
   "outputs": [
    {
     "name": "stdout",
     "output_type": "stream",
     "text": [
      "Best parameters: {'max_depth': 2}\n",
      "Best cross-validation score: 0.56\n"
     ]
    }
   ],
   "source": [
    "print(\"Best parameters: {}\".format(grid_search.best_params_))\n",
    "print(\"Best cross-validation score: {:.2f}\".format(grid_search.best_score_))"
   ]
  },
  {
   "cell_type": "code",
   "execution_count": 151,
   "metadata": {},
   "outputs": [
    {
     "data": {
      "text/plain": [
       "DecisionTreeClassifier(class_weight=None, criterion='gini', max_depth=2,\n",
       "                       max_features=None, max_leaf_nodes=None,\n",
       "                       min_impurity_decrease=0.0, min_impurity_split=None,\n",
       "                       min_samples_leaf=1, min_samples_split=2,\n",
       "                       min_weight_fraction_leaf=0.0, presort=False,\n",
       "                       random_state=0, splitter='best')"
      ]
     },
     "execution_count": 151,
     "metadata": {},
     "output_type": "execute_result"
    }
   ],
   "source": [
    "dtree = DecisionTreeClassifier(max_depth=2, random_state=0)\n",
    "dtree.fit(X_train_pca, y_train)"
   ]
  },
  {
   "cell_type": "code",
   "execution_count": 152,
   "metadata": {},
   "outputs": [
    {
     "name": "stdout",
     "output_type": "stream",
     "text": [
      "Accuracy on training set: 0.577\n",
      "Accuracy on test set: 0.600\n"
     ]
    }
   ],
   "source": [
    "print(\"Accuracy on training set: {:.3f}\".format(dtree.score(X_train_pca, y_train)))\n",
    "print(\"Accuracy on test set: {:.3f}\".format(dtree.score(X_test_pca, y_test)))"
   ]
  },
  {
   "cell_type": "code",
   "execution_count": 153,
   "metadata": {},
   "outputs": [
    {
     "data": {
      "text/plain": [
       "0.6"
      ]
     },
     "execution_count": 153,
     "metadata": {},
     "output_type": "execute_result"
    },
    {
     "data": {
      "text/plain": [
       "0.18673599708082467"
      ]
     },
     "execution_count": 153,
     "metadata": {},
     "output_type": "execute_result"
    }
   ],
   "source": [
    "y_pred = dtree.predict(X_test_pca)\n",
    "accuracy_score(y_test,y_pred)\n",
    "precision_score(y_test, y_pred,average='macro')"
   ]
  },
  {
   "cell_type": "code",
   "execution_count": 154,
   "metadata": {},
   "outputs": [
    {
     "name": "stdout",
     "output_type": "stream",
     "text": [
      "Cross-validation scores:\n",
      "[0.48       0.5        0.68       0.54       0.57142857 0.59183673]\n",
      "[0.48       0.5        0.68       0.54       0.57142857 0.59183673]\n",
      "0.5605442176870749\n"
     ]
    }
   ],
   "source": [
    "kfold = KFold(n_splits=6)\n",
    "print(\"Cross-validation scores:\\n{}\".format(cross_val_score(dtree , X_train_pca, y_train, cv=kfold)))\n",
    "scores = cross_val_score(dtree , X_train_pca, y_train, cv=kfold)\n",
    "print(scores)\n",
    "print(np.mean(scores))"
   ]
  },
  {
   "cell_type": "code",
   "execution_count": 155,
   "metadata": {},
   "outputs": [
    {
     "data": {
      "text/plain": [
       "DecisionTreeClassifier(class_weight=None, criterion='gini', max_depth=2,\n",
       "                       max_features=None, max_leaf_nodes=None,\n",
       "                       min_impurity_decrease=0.0, min_impurity_split=None,\n",
       "                       min_samples_leaf=1, min_samples_split=2,\n",
       "                       min_weight_fraction_leaf=0.0, presort=False,\n",
       "                       random_state=0, splitter='best')"
      ]
     },
     "execution_count": 155,
     "metadata": {},
     "output_type": "execute_result"
    },
    {
     "name": "stdout",
     "output_type": "stream",
     "text": [
      "[[53  5  0  4  4  0 16  1  4]\n",
      " [ 2  4  0  0  0  1  0  0  0]\n",
      " [ 0  0  3  0  2  1  0  0  0]\n",
      " [ 0  0  0  0  0  0  0  0  0]\n",
      " [ 0  0  0  0  0  0  0  0  0]\n",
      " [ 0  0  0  0  0  0  0  0  0]\n",
      " [ 0  0  0  0  0  0  0  0  0]\n",
      " [ 0  0  0  0  0  0  0  0  0]\n",
      " [ 0  0  0  0  0  0  0  0  0]]\n",
      "[0.74647887 0.5        0.66666667 0.         0.         0.\n",
      " 0.         0.         0.        ]\n"
     ]
    }
   ],
   "source": [
    "dtree = DecisionTreeClassifier(max_depth=2, random_state=0)\n",
    "dtree.fit(X_train_pca, y_train)\n",
    "ypred = dtree.predict(X_test_pca)\n",
    "cm = confusion_matrix(ypred,y_test)\n",
    "ft = f1_score(ypred,y_test,average = None)\n",
    "print(cm)\n",
    "print(ft)"
   ]
  },
  {
   "cell_type": "markdown",
   "metadata": {},
   "source": [
    "#### Random Forest Classifier"
   ]
  },
  {
   "cell_type": "code",
   "execution_count": 156,
   "metadata": {},
   "outputs": [
    {
     "data": {
      "text/plain": [
       "GridSearchCV(cv=6, error_score='raise-deprecating',\n",
       "             estimator=RandomForestClassifier(bootstrap=True, class_weight=None,\n",
       "                                              criterion='gini', max_depth=None,\n",
       "                                              max_features='auto',\n",
       "                                              max_leaf_nodes=None,\n",
       "                                              min_impurity_decrease=0.0,\n",
       "                                              min_impurity_split=None,\n",
       "                                              min_samples_leaf=1,\n",
       "                                              min_samples_split=2,\n",
       "                                              min_weight_fraction_leaf=0.0,\n",
       "                                              n_estimators='warn', n_jobs=-1,\n",
       "                                              oob_score=False, random_state=0,\n",
       "                                              verbose=0, warm_start=False),\n",
       "             iid='warn', n_jobs=None,\n",
       "             param_grid={'max_depth': [6, 8, 10, 12, 14],\n",
       "                         'n_estimators': [100, 200, 300, 400, 500]},\n",
       "             pre_dispatch='2*n_jobs', refit=True, return_train_score=False,\n",
       "             scoring=None, verbose=0)"
      ]
     },
     "execution_count": 156,
     "metadata": {},
     "output_type": "execute_result"
    }
   ],
   "source": [
    "from sklearn.ensemble import RandomForestClassifier\n",
    "rf = RandomForestClassifier(n_jobs= -1,random_state=0)\n",
    "\n",
    "param_grid = { 'n_estimators' : [100,200,300,400,500],\n",
    "          'max_depth': [6,8,10,12,14]\n",
    "             }\n",
    "\n",
    "grid_search = GridSearchCV(rf, param_grid,cv=6)\n",
    "grid_search.fit(X_train_pca,y_train)"
   ]
  },
  {
   "cell_type": "code",
   "execution_count": 157,
   "metadata": {},
   "outputs": [
    {
     "data": {
      "text/plain": [
       "{'max_depth': 14, 'n_estimators': 100}"
      ]
     },
     "execution_count": 157,
     "metadata": {},
     "output_type": "execute_result"
    }
   ],
   "source": [
    "grid_search.best_params_"
   ]
  },
  {
   "cell_type": "code",
   "execution_count": 158,
   "metadata": {},
   "outputs": [
    {
     "data": {
      "text/plain": [
       "RandomForestClassifier(bootstrap=True, class_weight=None, criterion='gini',\n",
       "                       max_depth=14, max_features='auto', max_leaf_nodes=None,\n",
       "                       min_impurity_decrease=0.0, min_impurity_split=None,\n",
       "                       min_samples_leaf=1, min_samples_split=2,\n",
       "                       min_weight_fraction_leaf=0.0, n_estimators=300,\n",
       "                       n_jobs=-1, oob_score=False, random_state=None, verbose=0,\n",
       "                       warm_start=False)"
      ]
     },
     "execution_count": 158,
     "metadata": {},
     "output_type": "execute_result"
    }
   ],
   "source": [
    "rf = RandomForestClassifier(n_estimators=300,max_depth=14,n_jobs=-1)\n",
    "rf.fit(X_train_pca, y_train)"
   ]
  },
  {
   "cell_type": "code",
   "execution_count": 159,
   "metadata": {},
   "outputs": [
    {
     "data": {
      "text/plain": [
       "0.58"
      ]
     },
     "execution_count": 159,
     "metadata": {},
     "output_type": "execute_result"
    },
    {
     "data": {
      "text/plain": [
       "0.18488649940262844"
      ]
     },
     "execution_count": 159,
     "metadata": {},
     "output_type": "execute_result"
    }
   ],
   "source": [
    "y_pred = rf.predict(X_test_pca)\n",
    "accuracy_score(y_test,y_pred)\n",
    "precision_score(y_test, y_pred,average='macro')"
   ]
  },
  {
   "cell_type": "code",
   "execution_count": 160,
   "metadata": {},
   "outputs": [
    {
     "name": "stdout",
     "output_type": "stream",
     "text": [
      "1.0\n",
      "0.58\n"
     ]
    }
   ],
   "source": [
    "print(rf.score(X_train_pca,y_train))\n",
    "print(rf.score(X_test_pca,y_test))"
   ]
  },
  {
   "cell_type": "markdown",
   "metadata": {},
   "source": [
    "#### Bagging for KNN Classifier"
   ]
  },
  {
   "cell_type": "code",
   "execution_count": 161,
   "metadata": {},
   "outputs": [
    {
     "data": {
      "text/plain": [
       "BaggingClassifier(base_estimator=KNeighborsClassifier(algorithm='auto',\n",
       "                                                      leaf_size=30,\n",
       "                                                      metric='minkowski',\n",
       "                                                      metric_params=None,\n",
       "                                                      n_jobs=None,\n",
       "                                                      n_neighbors=5, p=2,\n",
       "                                                      weights='uniform'),\n",
       "                  bootstrap=True, bootstrap_features=False, max_features=1.0,\n",
       "                  max_samples=100, n_estimators=500, n_jobs=-1, oob_score=False,\n",
       "                  random_state=0, verbose=0, warm_start=False)"
      ]
     },
     "execution_count": 161,
     "metadata": {},
     "output_type": "execute_result"
    },
    {
     "name": "stdout",
     "output_type": "stream",
     "text": [
      "Train score: 0.53\n",
      "Test score: 0.55\n"
     ]
    },
    {
     "data": {
      "text/plain": [
       "0.55"
      ]
     },
     "execution_count": 161,
     "metadata": {},
     "output_type": "execute_result"
    },
    {
     "data": {
      "text/plain": [
       "0.061111111111111116"
      ]
     },
     "execution_count": 161,
     "metadata": {},
     "output_type": "execute_result"
    }
   ],
   "source": [
    "from sklearn.ensemble import BaggingClassifier\n",
    "\n",
    "bag_clf = BaggingClassifier(knn, n_estimators=500, max_samples=100, bootstrap=True, n_jobs=-1, random_state=0)\n",
    "\n",
    "bag_clf.fit(X_train_pca, y_train)\n",
    "y_pred = bag_clf.predict(X_test_pca)\n",
    "\n",
    "print('Train score: {:.2f}'.format(bag_clf.score(X_train_pca, y_train)))\n",
    "print('Test score: {:.2f}'.format(bag_clf.score(X_test_pca, y_test)))\n",
    "accuracy_score(y_test,y_pred)\n",
    "precision_score(y_test, y_pred,average='macro')\n"
   ]
  },
  {
   "cell_type": "markdown",
   "metadata": {},
   "source": [
    "#### Bagging for Logistic Regression "
   ]
  },
  {
   "cell_type": "code",
   "execution_count": 162,
   "metadata": {},
   "outputs": [
    {
     "data": {
      "text/plain": [
       "BaggingClassifier(base_estimator=LogisticRegression(C=10, class_weight=None,\n",
       "                                                    dual=False,\n",
       "                                                    fit_intercept=True,\n",
       "                                                    intercept_scaling=1,\n",
       "                                                    l1_ratio=None, max_iter=100,\n",
       "                                                    multi_class='warn',\n",
       "                                                    n_jobs=None, penalty='l1',\n",
       "                                                    random_state=None,\n",
       "                                                    solver='warn', tol=0.0001,\n",
       "                                                    verbose=0,\n",
       "                                                    warm_start=False),\n",
       "                  bootstrap=True, bootstrap_features=False, max_features=1.0,\n",
       "                  max_samples=100, n_estimators=500, n_jobs=-1, oob_score=False,\n",
       "                  random_state=0, verbose=0, warm_start=False)"
      ]
     },
     "execution_count": 162,
     "metadata": {},
     "output_type": "execute_result"
    },
    {
     "name": "stdout",
     "output_type": "stream",
     "text": [
      "Train score: 0.72\n",
      "Test score: 0.65\n"
     ]
    },
    {
     "data": {
      "text/plain": [
       "0.65"
      ]
     },
     "execution_count": 162,
     "metadata": {},
     "output_type": "execute_result"
    },
    {
     "data": {
      "text/plain": [
       "0.41935366739288304"
      ]
     },
     "execution_count": 162,
     "metadata": {},
     "output_type": "execute_result"
    }
   ],
   "source": [
    "bag_clf = BaggingClassifier(log_l1, n_estimators=500, max_samples=100, bootstrap=True, n_jobs=-1, random_state=0)\n",
    "\n",
    "bag_clf.fit(X_train_pca, y_train)\n",
    "y_pred = bag_clf.predict(X_test_pca)\n",
    "\n",
    "print('Train score: {:.2f}'.format(bag_clf.score(X_train_pca, y_train)))\n",
    "print('Test score: {:.2f}'.format(bag_clf.score(X_test_pca, y_test)))\n",
    "accuracy_score(y_test,y_pred)\n",
    "precision_score(y_test, y_pred,average='macro')\n"
   ]
  },
  {
   "cell_type": "markdown",
   "metadata": {},
   "source": [
    "#### Bagging for Linear SVC"
   ]
  },
  {
   "cell_type": "code",
   "execution_count": 163,
   "metadata": {},
   "outputs": [
    {
     "data": {
      "text/plain": [
       "LinearSVC(C=1.0, class_weight=None, dual=True, fit_intercept=True,\n",
       "          intercept_scaling=1, loss='squared_hinge', max_iter=1000,\n",
       "          multi_class='ovr', penalty='l2', random_state=None, tol=0.0001,\n",
       "          verbose=0)"
      ]
     },
     "execution_count": 163,
     "metadata": {},
     "output_type": "execute_result"
    },
    {
     "data": {
      "text/plain": [
       "BaggingClassifier(base_estimator=LinearSVC(C=1.0, class_weight=None, dual=True,\n",
       "                                           fit_intercept=True,\n",
       "                                           intercept_scaling=1,\n",
       "                                           loss='squared_hinge', max_iter=1000,\n",
       "                                           multi_class='ovr', penalty='l2',\n",
       "                                           random_state=None, tol=0.0001,\n",
       "                                           verbose=0),\n",
       "                  bootstrap=True, bootstrap_features=False, max_features=1.0,\n",
       "                  max_samples=100, n_estimators=500, n_jobs=-1, oob_score=False,\n",
       "                  random_state=0, verbose=0, warm_start=False)"
      ]
     },
     "execution_count": 163,
     "metadata": {},
     "output_type": "execute_result"
    },
    {
     "name": "stdout",
     "output_type": "stream",
     "text": [
      "Train score: 0.86\n",
      "Test score: 0.72\n"
     ]
    },
    {
     "data": {
      "text/plain": [
       "0.72"
      ]
     },
     "execution_count": 163,
     "metadata": {},
     "output_type": "execute_result"
    },
    {
     "data": {
      "text/plain": [
       "0.5018108651911468"
      ]
     },
     "execution_count": 163,
     "metadata": {},
     "output_type": "execute_result"
    }
   ],
   "source": [
    "clf=LinearSVC()\n",
    "clf.fit(X_train_pca,y_train)\n",
    "bag_clf = BaggingClassifier(clf, n_estimators=500, max_samples=100, bootstrap=True, n_jobs=-1, random_state=0)\n",
    "\n",
    "bag_clf.fit(X_train_pca, y_train)\n",
    "y_pred = bag_clf.predict(X_test_pca)\n",
    "\n",
    "print('Train score: {:.2f}'.format(bag_clf.score(X_train_pca, y_train)))\n",
    "print('Test score: {:.2f}'.format(bag_clf.score(X_test_pca, y_test)))\n",
    "accuracy_score(y_test,y_pred)\n",
    "precision_score(y_test, y_pred,average='macro')\n"
   ]
  },
  {
   "cell_type": "markdown",
   "metadata": {},
   "source": [
    "#### Bagging for SVC - Linear Kernel "
   ]
  },
  {
   "cell_type": "code",
   "execution_count": 164,
   "metadata": {},
   "outputs": [
    {
     "data": {
      "text/plain": [
       "SVC(C=1, cache_size=200, class_weight=None, coef0=0.0,\n",
       "    decision_function_shape='ovr', degree=3, gamma='auto_deprecated',\n",
       "    kernel='linear', max_iter=-1, probability=False, random_state=None,\n",
       "    shrinking=True, tol=0.001, verbose=False)"
      ]
     },
     "execution_count": 164,
     "metadata": {},
     "output_type": "execute_result"
    },
    {
     "data": {
      "text/plain": [
       "BaggingClassifier(base_estimator=SVC(C=1, cache_size=200, class_weight=None,\n",
       "                                     coef0=0.0, decision_function_shape='ovr',\n",
       "                                     degree=3, gamma='auto_deprecated',\n",
       "                                     kernel='linear', max_iter=-1,\n",
       "                                     probability=False, random_state=None,\n",
       "                                     shrinking=True, tol=0.001, verbose=False),\n",
       "                  bootstrap=True, bootstrap_features=False, max_features=1.0,\n",
       "                  max_samples=100, n_estimators=500, n_jobs=-1, oob_score=False,\n",
       "                  random_state=0, verbose=0, warm_start=False)"
      ]
     },
     "execution_count": 164,
     "metadata": {},
     "output_type": "execute_result"
    },
    {
     "name": "stdout",
     "output_type": "stream",
     "text": [
      "Train score: 0.54\n",
      "Test score: 0.56\n"
     ]
    },
    {
     "data": {
      "text/plain": [
       "0.56"
      ]
     },
     "execution_count": 164,
     "metadata": {},
     "output_type": "execute_result"
    },
    {
     "data": {
      "text/plain": [
       "0.11855670103092783"
      ]
     },
     "execution_count": 164,
     "metadata": {},
     "output_type": "execute_result"
    }
   ],
   "source": [
    "svc=SVC(kernel = 'linear', C=1)\n",
    "svc.fit(X_train_pca,y_train)\n",
    "bag_clf = BaggingClassifier(svc, n_estimators=500, max_samples=100, bootstrap=True, n_jobs=-1, random_state=0)\n",
    "\n",
    "bag_clf.fit(X_train_pca, y_train)\n",
    "y_pred = bag_clf.predict(X_test_pca)\n",
    "\n",
    "print('Train score: {:.2f}'.format(bag_clf.score(X_train_pca, y_train)))\n",
    "print('Test score: {:.2f}'.format(bag_clf.score(X_test_pca, y_test)))\n",
    "accuracy_score(y_test,y_pred)\n",
    "precision_score(y_test, y_pred,average='macro')\n"
   ]
  },
  {
   "cell_type": "markdown",
   "metadata": {},
   "source": [
    "#### Bagging for SVC - RBF Kernel "
   ]
  },
  {
   "cell_type": "code",
   "execution_count": 165,
   "metadata": {},
   "outputs": [
    {
     "data": {
      "text/plain": [
       "SVC(C=10, cache_size=200, class_weight=None, coef0=0.0,\n",
       "    decision_function_shape='ovr', degree=3, gamma=0.1, kernel='rbf',\n",
       "    max_iter=-1, probability=False, random_state=None, shrinking=True,\n",
       "    tol=0.001, verbose=False)"
      ]
     },
     "execution_count": 165,
     "metadata": {},
     "output_type": "execute_result"
    },
    {
     "data": {
      "text/plain": [
       "BaggingClassifier(base_estimator=SVC(C=10, cache_size=200, class_weight=None,\n",
       "                                     coef0=0.0, decision_function_shape='ovr',\n",
       "                                     degree=3, gamma=0.1, kernel='rbf',\n",
       "                                     max_iter=-1, probability=False,\n",
       "                                     random_state=None, shrinking=True,\n",
       "                                     tol=0.001, verbose=False),\n",
       "                  bootstrap=True, bootstrap_features=False, max_features=1.0,\n",
       "                  max_samples=100, n_estimators=500, n_jobs=-1, oob_score=False,\n",
       "                  random_state=0, verbose=0, warm_start=False)"
      ]
     },
     "execution_count": 165,
     "metadata": {},
     "output_type": "execute_result"
    },
    {
     "name": "stdout",
     "output_type": "stream",
     "text": [
      "Train score: 0.56\n",
      "Test score: 0.55\n"
     ]
    },
    {
     "data": {
      "text/plain": [
       "0.55"
      ]
     },
     "execution_count": 165,
     "metadata": {},
     "output_type": "execute_result"
    },
    {
     "data": {
      "text/plain": [
       "0.09160756501182034"
      ]
     },
     "execution_count": 165,
     "metadata": {},
     "output_type": "execute_result"
    }
   ],
   "source": [
    "svc1=SVC(kernel = 'rbf', C=10, gamma = 0.1)\n",
    "svc1.fit(X_train_pca,y_train)\n",
    "bag_clf = BaggingClassifier(svc1, n_estimators=500, max_samples=100, bootstrap=True, n_jobs=-1, random_state=0)\n",
    "\n",
    "bag_clf.fit(X_train_pca, y_train)\n",
    "y_pred = bag_clf.predict(X_test_pca)\n",
    "\n",
    "print('Train score: {:.2f}'.format(bag_clf.score(X_train_pca, y_train)))\n",
    "print('Test score: {:.2f}'.format(bag_clf.score(X_test_pca, y_test)))\n",
    "accuracy_score(y_test,y_pred)\n",
    "precision_score(y_test, y_pred,average='macro')"
   ]
  },
  {
   "cell_type": "markdown",
   "metadata": {},
   "source": [
    "#### Bagging for SVC Poly kernel "
   ]
  },
  {
   "cell_type": "code",
   "execution_count": 166,
   "metadata": {},
   "outputs": [
    {
     "data": {
      "text/plain": [
       "SVC(C=100, cache_size=200, class_weight=None, coef0=0.0,\n",
       "    decision_function_shape='ovr', degree=2, gamma='auto_deprecated',\n",
       "    kernel='poly', max_iter=-1, probability=False, random_state=None,\n",
       "    shrinking=True, tol=0.001, verbose=False)"
      ]
     },
     "execution_count": 166,
     "metadata": {},
     "output_type": "execute_result"
    },
    {
     "data": {
      "text/plain": [
       "BaggingClassifier(base_estimator=SVC(C=100, cache_size=200, class_weight=None,\n",
       "                                     coef0=0.0, decision_function_shape='ovr',\n",
       "                                     degree=2, gamma='auto_deprecated',\n",
       "                                     kernel='poly', max_iter=-1,\n",
       "                                     probability=False, random_state=None,\n",
       "                                     shrinking=True, tol=0.001, verbose=False),\n",
       "                  bootstrap=True, bootstrap_features=False, max_features=1.0,\n",
       "                  max_samples=100, n_estimators=500, n_jobs=-1, oob_score=False,\n",
       "                  random_state=0, verbose=0, warm_start=False)"
      ]
     },
     "execution_count": 166,
     "metadata": {},
     "output_type": "execute_result"
    },
    {
     "name": "stdout",
     "output_type": "stream",
     "text": [
      "Train score: 0.53\n",
      "Test score: 0.55\n"
     ]
    },
    {
     "data": {
      "text/plain": [
       "0.55"
      ]
     },
     "execution_count": 166,
     "metadata": {},
     "output_type": "execute_result"
    },
    {
     "data": {
      "text/plain": [
       "0.061111111111111116"
      ]
     },
     "execution_count": 166,
     "metadata": {},
     "output_type": "execute_result"
    }
   ],
   "source": [
    "svc2=SVC(kernel = 'poly', C=100, degree = 2)\n",
    "svc2.fit(X_train_pca,y_train)\n",
    "bag_clf = BaggingClassifier(svc2, n_estimators=500, max_samples=100, bootstrap=True, n_jobs=-1, random_state=0)\n",
    "\n",
    "bag_clf.fit(X_train_pca, y_train)\n",
    "y_pred = bag_clf.predict(X_test_pca)\n",
    "\n",
    "print('Train score: {:.2f}'.format(bag_clf.score(X_train_pca, y_train)))\n",
    "print('Test score: {:.2f}'.format(bag_clf.score(X_test_pca, y_test)))\n",
    "accuracy_score(y_test,y_pred)\n",
    "precision_score(y_test, y_pred,average='macro')"
   ]
  },
  {
   "cell_type": "markdown",
   "metadata": {},
   "source": [
    "#### Bagging for Decision Tree"
   ]
  },
  {
   "cell_type": "code",
   "execution_count": 167,
   "metadata": {},
   "outputs": [
    {
     "data": {
      "text/plain": [
       "BaggingClassifier(base_estimator=DecisionTreeClassifier(class_weight=None,\n",
       "                                                        criterion='gini',\n",
       "                                                        max_depth=2,\n",
       "                                                        max_features=None,\n",
       "                                                        max_leaf_nodes=None,\n",
       "                                                        min_impurity_decrease=0.0,\n",
       "                                                        min_impurity_split=None,\n",
       "                                                        min_samples_leaf=1,\n",
       "                                                        min_samples_split=2,\n",
       "                                                        min_weight_fraction_leaf=0.0,\n",
       "                                                        presort=False,\n",
       "                                                        random_state=0,\n",
       "                                                        splitter='best'),\n",
       "                  bootstrap=True, bootstrap_features=False, max_features=1.0,\n",
       "                  max_samples=100, n_estimators=500, n_jobs=-1, oob_score=False,\n",
       "                  random_state=0, verbose=0, warm_start=False)"
      ]
     },
     "execution_count": 167,
     "metadata": {},
     "output_type": "execute_result"
    },
    {
     "name": "stdout",
     "output_type": "stream",
     "text": [
      "Train score: 0.54\n",
      "Test score: 0.55\n"
     ]
    },
    {
     "data": {
      "text/plain": [
       "0.55"
      ]
     },
     "execution_count": 167,
     "metadata": {},
     "output_type": "execute_result"
    },
    {
     "data": {
      "text/plain": [
       "0.061111111111111116"
      ]
     },
     "execution_count": 167,
     "metadata": {},
     "output_type": "execute_result"
    }
   ],
   "source": [
    "bag_clf = BaggingClassifier(dtree, n_estimators=500, max_samples=100, bootstrap=True, n_jobs=-1, random_state=0)\n",
    "\n",
    "bag_clf.fit(X_train_pca, y_train)\n",
    "y_pred = bag_clf.predict(X_test_pca)\n",
    "\n",
    "print('Train score: {:.2f}'.format(bag_clf.score(X_train_pca, y_train)))\n",
    "print('Test score: {:.2f}'.format(bag_clf.score(X_test_pca, y_test)))\n",
    "accuracy_score(y_test,y_pred)\n",
    "precision_score(y_test, y_pred,average='macro')\n"
   ]
  },
  {
   "cell_type": "markdown",
   "metadata": {},
   "source": [
    "#### Pasting for KNN Classifier "
   ]
  },
  {
   "cell_type": "code",
   "execution_count": 168,
   "metadata": {},
   "outputs": [
    {
     "data": {
      "text/plain": [
       "BaggingClassifier(base_estimator=KNeighborsClassifier(algorithm='auto',\n",
       "                                                      leaf_size=30,\n",
       "                                                      metric='minkowski',\n",
       "                                                      metric_params=None,\n",
       "                                                      n_jobs=None,\n",
       "                                                      n_neighbors=5, p=2,\n",
       "                                                      weights='uniform'),\n",
       "                  bootstrap=False, bootstrap_features=False, max_features=1.0,\n",
       "                  max_samples=100, n_estimators=500, n_jobs=-1, oob_score=False,\n",
       "                  random_state=0, verbose=0, warm_start=False)"
      ]
     },
     "execution_count": 168,
     "metadata": {},
     "output_type": "execute_result"
    },
    {
     "name": "stdout",
     "output_type": "stream",
     "text": [
      "Train score: 0.53\n",
      "Test score: 0.55\n"
     ]
    },
    {
     "data": {
      "text/plain": [
       "0.55"
      ]
     },
     "execution_count": 168,
     "metadata": {},
     "output_type": "execute_result"
    },
    {
     "data": {
      "text/plain": [
       "0.061111111111111116"
      ]
     },
     "execution_count": 168,
     "metadata": {},
     "output_type": "execute_result"
    }
   ],
   "source": [
    "bag_clf = BaggingClassifier(knn, n_estimators=500, max_samples=100, bootstrap=False, n_jobs=-1, random_state=0)\n",
    "\n",
    "bag_clf.fit(X_train_pca, y_train)\n",
    "y_pred = bag_clf.predict(X_test_pca)\n",
    "\n",
    "print('Train score: {:.2f}'.format(bag_clf.score(X_train_pca, y_train)))\n",
    "print('Test score: {:.2f}'.format(bag_clf.score(X_test_pca, y_test)))\n",
    "accuracy_score(y_test,y_pred)\n",
    "precision_score(y_test, y_pred,average='macro')"
   ]
  },
  {
   "cell_type": "markdown",
   "metadata": {},
   "source": [
    "#### Pasting for Logistic Regression "
   ]
  },
  {
   "cell_type": "code",
   "execution_count": 169,
   "metadata": {},
   "outputs": [
    {
     "data": {
      "text/plain": [
       "BaggingClassifier(base_estimator=LogisticRegression(C=10, class_weight=None,\n",
       "                                                    dual=False,\n",
       "                                                    fit_intercept=True,\n",
       "                                                    intercept_scaling=1,\n",
       "                                                    l1_ratio=None, max_iter=100,\n",
       "                                                    multi_class='warn',\n",
       "                                                    n_jobs=None, penalty='l1',\n",
       "                                                    random_state=None,\n",
       "                                                    solver='warn', tol=0.0001,\n",
       "                                                    verbose=0,\n",
       "                                                    warm_start=False),\n",
       "                  bootstrap=False, bootstrap_features=False, max_features=1.0,\n",
       "                  max_samples=100, n_estimators=500, n_jobs=-1, oob_score=False,\n",
       "                  random_state=0, verbose=0, warm_start=False)"
      ]
     },
     "execution_count": 169,
     "metadata": {},
     "output_type": "execute_result"
    },
    {
     "name": "stdout",
     "output_type": "stream",
     "text": [
      "Train score: 0.77\n",
      "Test score: 0.66\n"
     ]
    },
    {
     "data": {
      "text/plain": [
       "0.66"
      ]
     },
     "execution_count": 169,
     "metadata": {},
     "output_type": "execute_result"
    },
    {
     "data": {
      "text/plain": [
       "0.5141620685924484"
      ]
     },
     "execution_count": 169,
     "metadata": {},
     "output_type": "execute_result"
    }
   ],
   "source": [
    "bag_clf = BaggingClassifier(log_l1, n_estimators=500, max_samples=100, bootstrap=False, n_jobs=-1, random_state=0)\n",
    "\n",
    "bag_clf.fit(X_train_pca, y_train)\n",
    "y_pred = bag_clf.predict(X_test_pca)\n",
    "\n",
    "print('Train score: {:.2f}'.format(bag_clf.score(X_train_pca, y_train)))\n",
    "print('Test score: {:.2f}'.format(bag_clf.score(X_test_pca, y_test)))\n",
    "accuracy_score(y_test,y_pred)\n",
    "precision_score(y_test, y_pred,average='macro')"
   ]
  },
  {
   "cell_type": "markdown",
   "metadata": {},
   "source": [
    "#### Pasting for Linear SVC"
   ]
  },
  {
   "cell_type": "code",
   "execution_count": 170,
   "metadata": {},
   "outputs": [
    {
     "data": {
      "text/plain": [
       "LinearSVC(C=1.0, class_weight=None, dual=True, fit_intercept=True,\n",
       "          intercept_scaling=1, loss='squared_hinge', max_iter=1000,\n",
       "          multi_class='ovr', penalty='l2', random_state=None, tol=0.0001,\n",
       "          verbose=0)"
      ]
     },
     "execution_count": 170,
     "metadata": {},
     "output_type": "execute_result"
    },
    {
     "data": {
      "text/plain": [
       "BaggingClassifier(base_estimator=LinearSVC(C=1.0, class_weight=None, dual=True,\n",
       "                                           fit_intercept=True,\n",
       "                                           intercept_scaling=1,\n",
       "                                           loss='squared_hinge', max_iter=1000,\n",
       "                                           multi_class='ovr', penalty='l2',\n",
       "                                           random_state=None, tol=0.0001,\n",
       "                                           verbose=0),\n",
       "                  bootstrap=False, bootstrap_features=False, max_features=1.0,\n",
       "                  max_samples=100, n_estimators=500, n_jobs=-1, oob_score=False,\n",
       "                  random_state=0, verbose=0, warm_start=False)"
      ]
     },
     "execution_count": 170,
     "metadata": {},
     "output_type": "execute_result"
    },
    {
     "name": "stdout",
     "output_type": "stream",
     "text": [
      "Train score: 0.86\n",
      "Test score: 0.72\n"
     ]
    },
    {
     "data": {
      "text/plain": [
       "0.72"
      ]
     },
     "execution_count": 170,
     "metadata": {},
     "output_type": "execute_result"
    },
    {
     "data": {
      "text/plain": [
       "0.5018108651911468"
      ]
     },
     "execution_count": 170,
     "metadata": {},
     "output_type": "execute_result"
    }
   ],
   "source": [
    "clf=LinearSVC()\n",
    "clf.fit(X_train_pca,y_train)\n",
    "bag_clf = BaggingClassifier(clf, n_estimators=500, max_samples=100, bootstrap=False, n_jobs=-1, random_state=0)\n",
    "\n",
    "bag_clf.fit(X_train_pca, y_train)\n",
    "y_pred = bag_clf.predict(X_test_pca)\n",
    "\n",
    "print('Train score: {:.2f}'.format(bag_clf.score(X_train_pca, y_train)))\n",
    "print('Test score: {:.2f}'.format(bag_clf.score(X_test_pca, y_test)))\n",
    "accuracy_score(y_test,y_pred)\n",
    "precision_score(y_test, y_pred,average='macro')"
   ]
  },
  {
   "cell_type": "markdown",
   "metadata": {},
   "source": [
    "#### Pasting for SVC - Linear Kernel"
   ]
  },
  {
   "cell_type": "code",
   "execution_count": 171,
   "metadata": {},
   "outputs": [
    {
     "data": {
      "text/plain": [
       "SVC(C=1, cache_size=200, class_weight=None, coef0=0.0,\n",
       "    decision_function_shape='ovr', degree=3, gamma='auto_deprecated',\n",
       "    kernel='linear', max_iter=-1, probability=False, random_state=None,\n",
       "    shrinking=True, tol=0.001, verbose=False)"
      ]
     },
     "execution_count": 171,
     "metadata": {},
     "output_type": "execute_result"
    },
    {
     "data": {
      "text/plain": [
       "BaggingClassifier(base_estimator=SVC(C=1, cache_size=200, class_weight=None,\n",
       "                                     coef0=0.0, decision_function_shape='ovr',\n",
       "                                     degree=3, gamma='auto_deprecated',\n",
       "                                     kernel='linear', max_iter=-1,\n",
       "                                     probability=False, random_state=None,\n",
       "                                     shrinking=True, tol=0.001, verbose=False),\n",
       "                  bootstrap=False, bootstrap_features=False, max_features=1.0,\n",
       "                  max_samples=100, n_estimators=500, n_jobs=-1, oob_score=False,\n",
       "                  random_state=0, verbose=0, warm_start=False)"
      ]
     },
     "execution_count": 171,
     "metadata": {},
     "output_type": "execute_result"
    },
    {
     "name": "stdout",
     "output_type": "stream",
     "text": [
      "Train score: 0.54\n",
      "Test score: 0.56\n"
     ]
    },
    {
     "data": {
      "text/plain": [
       "0.56"
      ]
     },
     "execution_count": 171,
     "metadata": {},
     "output_type": "execute_result"
    },
    {
     "data": {
      "text/plain": [
       "0.11855670103092783"
      ]
     },
     "execution_count": 171,
     "metadata": {},
     "output_type": "execute_result"
    }
   ],
   "source": [
    "svc=SVC(kernel = 'linear', C=1)\n",
    "svc.fit(X_train_pca,y_train)\n",
    "bag_clf = BaggingClassifier(svc, n_estimators=500, max_samples=100, bootstrap=False, n_jobs=-1, random_state=0)\n",
    "\n",
    "bag_clf.fit(X_train_pca, y_train)\n",
    "y_pred = bag_clf.predict(X_test_pca)\n",
    "\n",
    "print('Train score: {:.2f}'.format(bag_clf.score(X_train_pca, y_train)))\n",
    "print('Test score: {:.2f}'.format(bag_clf.score(X_test_pca, y_test)))\n",
    "accuracy_score(y_test,y_pred)\n",
    "precision_score(y_test, y_pred,average='macro')"
   ]
  },
  {
   "cell_type": "markdown",
   "metadata": {},
   "source": [
    "#### Pasting for SVC - RBF Kernel "
   ]
  },
  {
   "cell_type": "code",
   "execution_count": 172,
   "metadata": {},
   "outputs": [
    {
     "data": {
      "text/plain": [
       "SVC(C=10, cache_size=200, class_weight=None, coef0=0.0,\n",
       "    decision_function_shape='ovr', degree=3, gamma=0.1, kernel='rbf',\n",
       "    max_iter=-1, probability=False, random_state=None, shrinking=True,\n",
       "    tol=0.001, verbose=False)"
      ]
     },
     "execution_count": 172,
     "metadata": {},
     "output_type": "execute_result"
    },
    {
     "data": {
      "text/plain": [
       "BaggingClassifier(base_estimator=SVC(C=10, cache_size=200, class_weight=None,\n",
       "                                     coef0=0.0, decision_function_shape='ovr',\n",
       "                                     degree=3, gamma=0.1, kernel='rbf',\n",
       "                                     max_iter=-1, probability=False,\n",
       "                                     random_state=None, shrinking=True,\n",
       "                                     tol=0.001, verbose=False),\n",
       "                  bootstrap=False, bootstrap_features=False, max_features=1.0,\n",
       "                  max_samples=100, n_estimators=500, n_jobs=-1, oob_score=False,\n",
       "                  random_state=0, verbose=0, warm_start=False)"
      ]
     },
     "execution_count": 172,
     "metadata": {},
     "output_type": "execute_result"
    },
    {
     "name": "stdout",
     "output_type": "stream",
     "text": [
      "Train score: 0.59\n",
      "Test score: 0.55\n"
     ]
    },
    {
     "data": {
      "text/plain": [
       "0.55"
      ]
     },
     "execution_count": 172,
     "metadata": {},
     "output_type": "execute_result"
    },
    {
     "data": {
      "text/plain": [
       "0.09160756501182034"
      ]
     },
     "execution_count": 172,
     "metadata": {},
     "output_type": "execute_result"
    }
   ],
   "source": [
    "svc1=SVC(kernel = 'rbf', C=10, gamma = 0.1)\n",
    "svc1.fit(X_train_pca,y_train)\n",
    "bag_clf = BaggingClassifier(svc1, n_estimators=500, max_samples=100, bootstrap=False, n_jobs=-1, random_state=0)\n",
    "\n",
    "bag_clf.fit(X_train_pca, y_train)\n",
    "y_pred = bag_clf.predict(X_test_pca)\n",
    "\n",
    "print('Train score: {:.2f}'.format(bag_clf.score(X_train_pca, y_train)))\n",
    "print('Test score: {:.2f}'.format(bag_clf.score(X_test_pca, y_test)))\n",
    "accuracy_score(y_test,y_pred)\n",
    "precision_score(y_test, y_pred,average='macro')"
   ]
  },
  {
   "cell_type": "markdown",
   "metadata": {},
   "source": [
    "#### Pasting for SVC Poly Kernel "
   ]
  },
  {
   "cell_type": "code",
   "execution_count": 173,
   "metadata": {},
   "outputs": [
    {
     "data": {
      "text/plain": [
       "SVC(C=100, cache_size=200, class_weight=None, coef0=0.0,\n",
       "    decision_function_shape='ovr', degree=2, gamma='auto_deprecated',\n",
       "    kernel='poly', max_iter=-1, probability=False, random_state=None,\n",
       "    shrinking=True, tol=0.001, verbose=False)"
      ]
     },
     "execution_count": 173,
     "metadata": {},
     "output_type": "execute_result"
    },
    {
     "data": {
      "text/plain": [
       "BaggingClassifier(base_estimator=SVC(C=100, cache_size=200, class_weight=None,\n",
       "                                     coef0=0.0, decision_function_shape='ovr',\n",
       "                                     degree=2, gamma='auto_deprecated',\n",
       "                                     kernel='poly', max_iter=-1,\n",
       "                                     probability=False, random_state=None,\n",
       "                                     shrinking=True, tol=0.001, verbose=False),\n",
       "                  bootstrap=False, bootstrap_features=False, max_features=1.0,\n",
       "                  max_samples=100, n_estimators=500, n_jobs=-1, oob_score=False,\n",
       "                  random_state=0, verbose=0, warm_start=False)"
      ]
     },
     "execution_count": 173,
     "metadata": {},
     "output_type": "execute_result"
    },
    {
     "name": "stdout",
     "output_type": "stream",
     "text": [
      "Train score: 0.53\n",
      "Test score: 0.55\n"
     ]
    },
    {
     "data": {
      "text/plain": [
       "0.55"
      ]
     },
     "execution_count": 173,
     "metadata": {},
     "output_type": "execute_result"
    },
    {
     "data": {
      "text/plain": [
       "0.061111111111111116"
      ]
     },
     "execution_count": 173,
     "metadata": {},
     "output_type": "execute_result"
    }
   ],
   "source": [
    "svc2=SVC(kernel = 'poly', C=100, degree = 2)\n",
    "svc2.fit(X_train_pca,y_train)\n",
    "bag_clf = BaggingClassifier(svc2, n_estimators=500, max_samples=100, bootstrap=False, n_jobs=-1, random_state=0)\n",
    "\n",
    "bag_clf.fit(X_train_pca, y_train)\n",
    "y_pred = bag_clf.predict(X_test_pca)\n",
    "\n",
    "print('Train score: {:.2f}'.format(bag_clf.score(X_train_pca, y_train)))\n",
    "print('Test score: {:.2f}'.format(bag_clf.score(X_test_pca, y_test)))\n",
    "accuracy_score(y_test,y_pred)\n",
    "precision_score(y_test, y_pred,average='macro')\n"
   ]
  },
  {
   "cell_type": "markdown",
   "metadata": {},
   "source": [
    "#### Pasting for Decision Tree"
   ]
  },
  {
   "cell_type": "code",
   "execution_count": 174,
   "metadata": {},
   "outputs": [
    {
     "data": {
      "text/plain": [
       "BaggingClassifier(base_estimator=DecisionTreeClassifier(class_weight=None,\n",
       "                                                        criterion='gini',\n",
       "                                                        max_depth=2,\n",
       "                                                        max_features=None,\n",
       "                                                        max_leaf_nodes=None,\n",
       "                                                        min_impurity_decrease=0.0,\n",
       "                                                        min_impurity_split=None,\n",
       "                                                        min_samples_leaf=1,\n",
       "                                                        min_samples_split=2,\n",
       "                                                        min_weight_fraction_leaf=0.0,\n",
       "                                                        presort=False,\n",
       "                                                        random_state=0,\n",
       "                                                        splitter='best'),\n",
       "                  bootstrap=False, bootstrap_features=False, max_features=1.0,\n",
       "                  max_samples=100, n_estimators=500, n_jobs=-1, oob_score=False,\n",
       "                  random_state=0, verbose=0, warm_start=False)"
      ]
     },
     "execution_count": 174,
     "metadata": {},
     "output_type": "execute_result"
    },
    {
     "name": "stdout",
     "output_type": "stream",
     "text": [
      "Train score: 0.56\n",
      "Test score: 0.56\n"
     ]
    },
    {
     "data": {
      "text/plain": [
       "0.56"
      ]
     },
     "execution_count": 174,
     "metadata": {},
     "output_type": "execute_result"
    },
    {
     "data": {
      "text/plain": [
       "0.11791383219954647"
      ]
     },
     "execution_count": 174,
     "metadata": {},
     "output_type": "execute_result"
    }
   ],
   "source": [
    "bag_clf = BaggingClassifier(dtree, n_estimators=500, max_samples=100, bootstrap=False, n_jobs=-1, random_state=0)\n",
    "\n",
    "bag_clf.fit(X_train_pca, y_train)\n",
    "y_pred = bag_clf.predict(X_test_pca)\n",
    "\n",
    "print('Train score: {:.2f}'.format(bag_clf.score(X_train_pca, y_train)))\n",
    "print('Test score: {:.2f}'.format(bag_clf.score(X_test_pca, y_test)))\n",
    "accuracy_score(y_test,y_pred)\n",
    "precision_score(y_test, y_pred,average='macro')"
   ]
  },
  {
   "cell_type": "markdown",
   "metadata": {},
   "source": [
    "#### Adaboosting for Logistic Regression"
   ]
  },
  {
   "cell_type": "code",
   "execution_count": 175,
   "metadata": {},
   "outputs": [
    {
     "data": {
      "text/plain": [
       "AdaBoostClassifier(algorithm='SAMME',\n",
       "                   base_estimator=LogisticRegression(C=10, class_weight=None,\n",
       "                                                     dual=False,\n",
       "                                                     fit_intercept=True,\n",
       "                                                     intercept_scaling=1,\n",
       "                                                     l1_ratio=None,\n",
       "                                                     max_iter=100,\n",
       "                                                     multi_class='warn',\n",
       "                                                     n_jobs=None, penalty='l1',\n",
       "                                                     random_state=None,\n",
       "                                                     solver='warn', tol=0.0001,\n",
       "                                                     verbose=0,\n",
       "                                                     warm_start=False),\n",
       "                   learning_rate=0.5, n_estimators=500, random_state=0)"
      ]
     },
     "execution_count": 175,
     "metadata": {},
     "output_type": "execute_result"
    },
    {
     "name": "stdout",
     "output_type": "stream",
     "text": [
      "Train score: 0.5336\n",
      "Test score: 0.5500\n"
     ]
    },
    {
     "data": {
      "text/plain": [
       "0.55"
      ]
     },
     "execution_count": 175,
     "metadata": {},
     "output_type": "execute_result"
    },
    {
     "data": {
      "text/plain": [
       "0.061111111111111116"
      ]
     },
     "execution_count": 175,
     "metadata": {},
     "output_type": "execute_result"
    }
   ],
   "source": [
    "from sklearn.ensemble import AdaBoostClassifier\n",
    "\n",
    "ada_clf = AdaBoostClassifier(\n",
    "    LogisticRegression(penalty = 'l1', C = 10), n_estimators = 500, learning_rate = 0.5,\n",
    "    algorithm=\"SAMME\", random_state=0)\n",
    "ada_clf.fit(X_train_pca, y_train)\n",
    "print('Train score: {:.4f}'.format(ada_clf.score(X_train_pca, y_train)))\n",
    "print('Test score: {:.4f}'.format(ada_clf.score(X_test_pca, y_test)))\n",
    "\n",
    "y_pred = ada_clf.predict(X_test_pca)\n",
    "\n",
    "accuracy_score(y_test,y_pred)\n",
    "precision_score(y_test, y_pred,average='macro')\n"
   ]
  },
  {
   "cell_type": "markdown",
   "metadata": {},
   "source": [
    "#### Adaboosting for Linear SVC"
   ]
  },
  {
   "cell_type": "code",
   "execution_count": 176,
   "metadata": {},
   "outputs": [
    {
     "data": {
      "text/plain": [
       "AdaBoostClassifier(algorithm='SAMME',\n",
       "                   base_estimator=LinearSVC(C=1.0, class_weight=None, dual=True,\n",
       "                                            fit_intercept=True,\n",
       "                                            intercept_scaling=1,\n",
       "                                            loss='squared_hinge', max_iter=1000,\n",
       "                                            multi_class='ovr', penalty='l2',\n",
       "                                            random_state=None, tol=0.0001,\n",
       "                                            verbose=0),\n",
       "                   learning_rate=0.5, n_estimators=500, random_state=0)"
      ]
     },
     "execution_count": 176,
     "metadata": {},
     "output_type": "execute_result"
    },
    {
     "name": "stdout",
     "output_type": "stream",
     "text": [
      "Train score: 0.8557\n",
      "Test score: 0.7200\n"
     ]
    },
    {
     "data": {
      "text/plain": [
       "0.72"
      ]
     },
     "execution_count": 176,
     "metadata": {},
     "output_type": "execute_result"
    },
    {
     "data": {
      "text/plain": [
       "0.5018108651911468"
      ]
     },
     "execution_count": 176,
     "metadata": {},
     "output_type": "execute_result"
    }
   ],
   "source": [
    "ada_clf = AdaBoostClassifier(\n",
    "    LinearSVC(),n_estimators = 500, learning_rate = 0.5,\n",
    "    algorithm=\"SAMME\", random_state=0)\n",
    "\n",
    "ada_clf.fit(X_train_pca, y_train)\n",
    "print('Train score: {:.4f}'.format(ada_clf.score(X_train_pca, y_train)))\n",
    "print('Test score: {:.4f}'.format(ada_clf.score(X_test_pca, y_test)))\n",
    "\n",
    "y_pred = ada_clf.predict(X_test_pca)\n",
    "\n",
    "accuracy_score(y_test,y_pred)\n",
    "precision_score(y_test, y_pred,average='macro')"
   ]
  },
  {
   "cell_type": "markdown",
   "metadata": {},
   "source": [
    "#### Adaboosting for SVC Linear Kernel "
   ]
  },
  {
   "cell_type": "code",
   "execution_count": 177,
   "metadata": {},
   "outputs": [
    {
     "data": {
      "text/plain": [
       "AdaBoostClassifier(algorithm='SAMME',\n",
       "                   base_estimator=SVC(C=1, cache_size=200, class_weight=None,\n",
       "                                      coef0=0.0, decision_function_shape='ovr',\n",
       "                                      degree=3, gamma='auto_deprecated',\n",
       "                                      kernel='linear', max_iter=-1,\n",
       "                                      probability=False, random_state=None,\n",
       "                                      shrinking=True, tol=0.001,\n",
       "                                      verbose=False),\n",
       "                   learning_rate=0.5, n_estimators=500, random_state=0)"
      ]
     },
     "execution_count": 177,
     "metadata": {},
     "output_type": "execute_result"
    },
    {
     "name": "stdout",
     "output_type": "stream",
     "text": [
      "Train score: 0.5336\n",
      "Test score: 0.5500\n"
     ]
    },
    {
     "data": {
      "text/plain": [
       "0.55"
      ]
     },
     "execution_count": 177,
     "metadata": {},
     "output_type": "execute_result"
    },
    {
     "data": {
      "text/plain": [
       "0.061111111111111116"
      ]
     },
     "execution_count": 177,
     "metadata": {},
     "output_type": "execute_result"
    }
   ],
   "source": [
    "ada_clf = AdaBoostClassifier(\n",
    "    SVC(kernel = 'linear', C=1), n_estimators = 500, learning_rate = 0.5,\n",
    "    algorithm=\"SAMME\", random_state=0)\n",
    "\n",
    "ada_clf.fit(X_train_pca, y_train)\n",
    "print('Train score: {:.4f}'.format(ada_clf.score(X_train_pca, y_train)))\n",
    "print('Test score: {:.4f}'.format(ada_clf.score(X_test_pca, y_test)))\n",
    "\n",
    "y_pred = ada_clf.predict(X_test_pca)\n",
    "\n",
    "accuracy_score(y_test,y_pred)\n",
    "precision_score(y_test, y_pred,average='macro')"
   ]
  },
  {
   "cell_type": "markdown",
   "metadata": {},
   "source": [
    "#### Adabossting for SVC RBF Kernel "
   ]
  },
  {
   "cell_type": "code",
   "execution_count": 178,
   "metadata": {},
   "outputs": [
    {
     "data": {
      "text/plain": [
       "AdaBoostClassifier(algorithm='SAMME',\n",
       "                   base_estimator=SVC(C=10, cache_size=200, class_weight=None,\n",
       "                                      coef0=0.0, decision_function_shape='ovr',\n",
       "                                      degree=3, gamma=0.1, kernel='rbf',\n",
       "                                      max_iter=-1, probability=False,\n",
       "                                      random_state=None, shrinking=True,\n",
       "                                      tol=0.001, verbose=False),\n",
       "                   learning_rate=0.5, n_estimators=500, random_state=0)"
      ]
     },
     "execution_count": 178,
     "metadata": {},
     "output_type": "execute_result"
    },
    {
     "name": "stdout",
     "output_type": "stream",
     "text": [
      "Train score: 0.5336\n",
      "Test score: 0.5500\n"
     ]
    },
    {
     "data": {
      "text/plain": [
       "0.55"
      ]
     },
     "execution_count": 178,
     "metadata": {},
     "output_type": "execute_result"
    },
    {
     "data": {
      "text/plain": [
       "0.061111111111111116"
      ]
     },
     "execution_count": 178,
     "metadata": {},
     "output_type": "execute_result"
    }
   ],
   "source": [
    "ada_clf = AdaBoostClassifier(\n",
    "    SVC(kernel = 'rbf', C=10, gamma = 0.1), n_estimators = 500, learning_rate = 0.5,\n",
    "    algorithm=\"SAMME\", random_state=0)\n",
    "\n",
    "ada_clf.fit(X_train_pca, y_train)\n",
    "print('Train score: {:.4f}'.format(ada_clf.score(X_train_pca, y_train)))\n",
    "print('Test score: {:.4f}'.format(ada_clf.score(X_test_pca, y_test)))\n",
    "\n",
    "y_pred = ada_clf.predict(X_test_pca)\n",
    "\n",
    "accuracy_score(y_test,y_pred)\n",
    "precision_score(y_test, y_pred,average='macro')"
   ]
  },
  {
   "cell_type": "markdown",
   "metadata": {},
   "source": [
    "#### Adaboosting for SVC Poly Kernel "
   ]
  },
  {
   "cell_type": "code",
   "execution_count": 179,
   "metadata": {},
   "outputs": [
    {
     "data": {
      "text/plain": [
       "AdaBoostClassifier(algorithm='SAMME',\n",
       "                   base_estimator=SVC(C=100, cache_size=200, class_weight=None,\n",
       "                                      coef0=0.0, decision_function_shape='ovr',\n",
       "                                      degree=2, gamma='auto_deprecated',\n",
       "                                      kernel='poly', max_iter=-1,\n",
       "                                      probability=False, random_state=None,\n",
       "                                      shrinking=True, tol=0.001,\n",
       "                                      verbose=False),\n",
       "                   learning_rate=0.5, n_estimators=500, random_state=0)"
      ]
     },
     "execution_count": 179,
     "metadata": {},
     "output_type": "execute_result"
    },
    {
     "name": "stdout",
     "output_type": "stream",
     "text": [
      "Train score: 0.5336\n",
      "Test score: 0.5500\n"
     ]
    },
    {
     "data": {
      "text/plain": [
       "0.55"
      ]
     },
     "execution_count": 179,
     "metadata": {},
     "output_type": "execute_result"
    },
    {
     "data": {
      "text/plain": [
       "0.061111111111111116"
      ]
     },
     "execution_count": 179,
     "metadata": {},
     "output_type": "execute_result"
    }
   ],
   "source": [
    "ada_clf = AdaBoostClassifier(\n",
    "    SVC(kernel = 'poly', C=100, degree = 2), n_estimators = 500, learning_rate = 0.5,\n",
    "    algorithm=\"SAMME\", random_state=0)\n",
    "\n",
    "ada_clf.fit(X_train_pca, y_train)\n",
    "print('Train score: {:.4f}'.format(ada_clf.score(X_train_pca, y_train)))\n",
    "print('Test score: {:.4f}'.format(ada_clf.score(X_test_pca, y_test)))\n",
    "\n",
    "y_pred = ada_clf.predict(X_test_pca)\n",
    "\n",
    "accuracy_score(y_test,y_pred)\n",
    "precision_score(y_test, y_pred,average='macro')\n"
   ]
  },
  {
   "cell_type": "markdown",
   "metadata": {},
   "source": [
    "#### Adaboosting for Decision Tree "
   ]
  },
  {
   "cell_type": "code",
   "execution_count": 180,
   "metadata": {},
   "outputs": [
    {
     "data": {
      "text/plain": [
       "AdaBoostClassifier(algorithm='SAMME',\n",
       "                   base_estimator=DecisionTreeClassifier(class_weight=None,\n",
       "                                                         criterion='gini',\n",
       "                                                         max_depth=5,\n",
       "                                                         max_features=None,\n",
       "                                                         max_leaf_nodes=None,\n",
       "                                                         min_impurity_decrease=0.0,\n",
       "                                                         min_impurity_split=None,\n",
       "                                                         min_samples_leaf=1,\n",
       "                                                         min_samples_split=2,\n",
       "                                                         min_weight_fraction_leaf=0.0,\n",
       "                                                         presort=False,\n",
       "                                                         random_state=None,\n",
       "                                                         splitter='best'),\n",
       "                   learning_rate=0.5, n_estimators=500, random_state=0)"
      ]
     },
     "execution_count": 180,
     "metadata": {},
     "output_type": "execute_result"
    },
    {
     "name": "stdout",
     "output_type": "stream",
     "text": [
      "Train score: 1.0000\n",
      "Test score: 0.6300\n"
     ]
    },
    {
     "data": {
      "text/plain": [
       "0.63"
      ]
     },
     "execution_count": 180,
     "metadata": {},
     "output_type": "execute_result"
    },
    {
     "data": {
      "text/plain": [
       "0.48382173382173377"
      ]
     },
     "execution_count": 180,
     "metadata": {},
     "output_type": "execute_result"
    }
   ],
   "source": [
    "ada_clf = AdaBoostClassifier(\n",
    "    DecisionTreeClassifier(max_depth = 5), n_estimators = 500, learning_rate = 0.5,\n",
    "    algorithm=\"SAMME\", random_state=0)\n",
    "\n",
    "ada_clf.fit(X_train_pca, y_train)\n",
    "print('Train score: {:.4f}'.format(ada_clf.score(X_train_pca, y_train)))\n",
    "print('Test score: {:.4f}'.format(ada_clf.score(X_test_pca, y_test)))\n",
    "\n",
    "y_pred = ada_clf.predict(X_test_pca)\n",
    "\n",
    "accuracy_score(y_test,y_pred)\n",
    "precision_score(y_test, y_pred,average='macro')\n"
   ]
  },
  {
   "cell_type": "markdown",
   "metadata": {},
   "source": [
    "#### Gradient Boosting "
   ]
  },
  {
   "cell_type": "code",
   "execution_count": 181,
   "metadata": {},
   "outputs": [
    {
     "data": {
      "text/plain": [
       "GridSearchCV(cv=5, error_score='raise-deprecating',\n",
       "             estimator=GradientBoostingClassifier(criterion='friedman_mse',\n",
       "                                                  init=None, learning_rate=0.1,\n",
       "                                                  loss='deviance', max_depth=3,\n",
       "                                                  max_features=None,\n",
       "                                                  max_leaf_nodes=None,\n",
       "                                                  min_impurity_decrease=0.0,\n",
       "                                                  min_impurity_split=None,\n",
       "                                                  min_samples_leaf=1,\n",
       "                                                  min_samples_split=2,\n",
       "                                                  min_weight_fraction_leaf=0.0,\n",
       "                                                  n_estimators=100,\n",
       "                                                  n_iter_no_change=None,\n",
       "                                                  presort='auto',\n",
       "                                                  random_state=0, subsample=1.0,\n",
       "                                                  tol=0.0001,\n",
       "                                                  validation_fraction=0.1,\n",
       "                                                  verbose=0, warm_start=False),\n",
       "             iid=False, n_jobs=None,\n",
       "             param_grid={'learning_rate': [0.1, 0.25, 0.5, 0.75, 1],\n",
       "                         'max_features': [2, 5, 7],\n",
       "                         'n_estimators': [50, 100, 200, 500]},\n",
       "             pre_dispatch='2*n_jobs', refit=True, return_train_score=False,\n",
       "             scoring=None, verbose=0)"
      ]
     },
     "execution_count": 181,
     "metadata": {},
     "output_type": "execute_result"
    },
    {
     "name": "stdout",
     "output_type": "stream",
     "text": [
      "{'learning_rate': 0.1, 'max_features': 5, 'n_estimators': 500}\n"
     ]
    }
   ],
   "source": [
    "from sklearn.ensemble import GradientBoostingClassifier\n",
    "\n",
    "params = {\n",
    "    'n_estimators': [50, 100, 200,500],\n",
    "    'learning_rate':[0.1, 0.25, 0.5, 0.75, 1],\n",
    "    'max_features':[2, 5,7 ]\n",
    "    }\n",
    "gc = GradientBoostingClassifier(random_state=0)\n",
    "\n",
    "gc_grid = GridSearchCV(estimator=gc, param_grid=params, cv=5,iid = False)\n",
    "gc_grid.fit(X_train_pca, y_train)\n",
    "best_params = gc_grid.best_params_\n",
    "print(best_params)"
   ]
  },
  {
   "cell_type": "code",
   "execution_count": 182,
   "metadata": {},
   "outputs": [
    {
     "data": {
      "text/plain": [
       "GradientBoostingClassifier(criterion='friedman_mse', init=None,\n",
       "                           learning_rate=0.1, loss='deviance', max_depth=3,\n",
       "                           max_features=7, max_leaf_nodes=None,\n",
       "                           min_impurity_decrease=0.0, min_impurity_split=None,\n",
       "                           min_samples_leaf=1, min_samples_split=2,\n",
       "                           min_weight_fraction_leaf=0.0, n_estimators=100,\n",
       "                           n_iter_no_change=None, presort='auto',\n",
       "                           random_state=0, subsample=1.0, tol=0.0001,\n",
       "                           validation_fraction=0.1, verbose=0,\n",
       "                           warm_start=False)"
      ]
     },
     "execution_count": 182,
     "metadata": {},
     "output_type": "execute_result"
    },
    {
     "name": "stdout",
     "output_type": "stream",
     "text": [
      "Best recall score: 0.1307\n",
      "Train score: 1.0000\n",
      "Test score: 0.5700\n"
     ]
    },
    {
     "data": {
      "text/plain": [
       "0.57"
      ]
     },
     "execution_count": 182,
     "metadata": {},
     "output_type": "execute_result"
    },
    {
     "data": {
      "text/plain": [
       "0.1764367816091954"
      ]
     },
     "execution_count": 182,
     "metadata": {},
     "output_type": "execute_result"
    }
   ],
   "source": [
    "gc = GradientBoostingClassifier(random_state=0,learning_rate= 0.1, max_features = 7, n_estimators = 100)\n",
    "gc.fit(X_train_pca, y_train)\n",
    "y_pred= gc.predict(X_test_pca)\n",
    "print(\"Best recall score: {:.4f}\".format(recall_score(y_test,y_pred,average='macro')))\n",
    "print('Train score: {:.4f}'.format(gc.score(X_train_pca, y_train)))\n",
    "print('Test score: {:.4f}'.format(gc.score(X_test_pca, y_test)))\n",
    "accuracy_score(y_test,y_pred)\n",
    "precision_score(y_test, y_pred,average='macro')\n"
   ]
  },
  {
   "cell_type": "markdown",
   "metadata": {},
   "source": [
    "### Prediction "
   ]
  },
  {
   "cell_type": "markdown",
   "metadata": {},
   "source": [
    "As per the above results calculated from the various machine learning models, The best model is \n",
    "##### Bagging with Decision Tree without PCA"
   ]
  },
  {
   "cell_type": "code",
   "execution_count": 286,
   "metadata": {},
   "outputs": [],
   "source": [
    "test=pd.read_csv(\"test.csv\", na_values='?')"
   ]
  },
  {
   "cell_type": "code",
   "execution_count": 287,
   "metadata": {},
   "outputs": [
    {
     "name": "stdout",
     "output_type": "stream",
     "text": [
      "<class 'pandas.core.frame.DataFrame'>\n",
      "RangeIndex: 52 entries, 0 to 51\n",
      "Data columns (total 280 columns):\n",
      " #   Column                        Dtype  \n",
      "---  ------                        -----  \n",
      " 0   Unnamed: 0                    int64  \n",
      " 1   age                           int64  \n",
      " 2   sex                           int64  \n",
      " 3   height                        int64  \n",
      " 4   weight                        int64  \n",
      " 5   QRSduration                   int64  \n",
      " 6   PRinterval                    int64  \n",
      " 7   Q-Tinterval                   int64  \n",
      " 8   Tinterval                     int64  \n",
      " 9   Pinterval                     int64  \n",
      " 10  QRS                           int64  \n",
      " 11  T                             float64\n",
      " 12  P                             float64\n",
      " 13  QRST                          int64  \n",
      " 14  J                             float64\n",
      " 15  heartrate                     int64  \n",
      " 16  chDI_Qwave                    int64  \n",
      " 17  chDI_Rwave                    int64  \n",
      " 18  chDI_Swave                    int64  \n",
      " 19  chDI_RPwave                   int64  \n",
      " 20  chDI_SPwave                   int64  \n",
      " 21  chDI_intrinsicReflecttions    int64  \n",
      " 22  chDI_RRwaveExists             int64  \n",
      " 23  chDI_DD_RRwaveExists          int64  \n",
      " 24  chDI_RPwaveExists             int64  \n",
      " 25  chDI_DD_RPwaveExists          int64  \n",
      " 26  chDI_RTwaveExists             int64  \n",
      " 27  chDI_DD_RTwaveExists          int64  \n",
      " 28  chDII_Qwave                   int64  \n",
      " 29  chDII_Rwave                   int64  \n",
      " 30  chDII_Swave                   int64  \n",
      " 31  chDII_RPwave                  int64  \n",
      " 32  chDII_SPwave                  int64  \n",
      " 33  chDII_intrinsicReflecttions   int64  \n",
      " 34  chDII_RRwaveExists            int64  \n",
      " 35  chDII_DD_RRwaveExists         int64  \n",
      " 36  chDII_RPwaveExists            int64  \n",
      " 37  chDII_DD_RPwaveExists         int64  \n",
      " 38  chDII_RTwaveExists            int64  \n",
      " 39  chDII_DD_RTwaveExists         int64  \n",
      " 40  chDIII_Qwave                  int64  \n",
      " 41  chDIII_Rwave                  int64  \n",
      " 42  chDIII_Swave                  int64  \n",
      " 43  chDIII_RPwave                 int64  \n",
      " 44  chDIII_SPwave                 int64  \n",
      " 45  chDIII_intrinsicReflecttions  int64  \n",
      " 46  chDIII_RRwaveExists           int64  \n",
      " 47  chDIII_DD_RRwaveExists        int64  \n",
      " 48  chDIII_RPwaveExists           int64  \n",
      " 49  chDIII_DD_RPwaveExists        int64  \n",
      " 50  chDIII_RTwaveExists           int64  \n",
      " 51  chDIII_DD_RTwaveExists        int64  \n",
      " 52  chAVR_Qwave                   int64  \n",
      " 53  chAVR_Rwave                   int64  \n",
      " 54  chAVR_Swave                   int64  \n",
      " 55  chAVR_RPwave                  int64  \n",
      " 56  chAVR_SPwave                  int64  \n",
      " 57  chAVR_intrinsicReflecttions   int64  \n",
      " 58  chAVR_RRwaveExists            int64  \n",
      " 59  chAVR_DD_RRwaveExists         int64  \n",
      " 60  chAVR_RPwaveExists            int64  \n",
      " 61  chAVR_DD_RPwaveExists         int64  \n",
      " 62  chAVR_RTwaveExists            int64  \n",
      " 63  chAVR_DD_RTwaveExists         int64  \n",
      " 64  chAVL_Qwave                   int64  \n",
      " 65  chAVL_Rwave                   int64  \n",
      " 66  chAVL_Swave                   int64  \n",
      " 67  chAVL_RPwave                  int64  \n",
      " 68  chAVL_SPwave                  int64  \n",
      " 69  chAVL_intrinsicReflecttions   int64  \n",
      " 70  chAVL_RRwaveExists            int64  \n",
      " 71  chAVL_DD_RRwaveExists         int64  \n",
      " 72  chAVL_RPwaveExists            int64  \n",
      " 73  chAVL_DD_RPwaveExists         int64  \n",
      " 74  chAVL_RTwaveExists            int64  \n",
      " 75  chAVL_DD_RTwaveExists         int64  \n",
      " 76  chAVF_Qwave                   int64  \n",
      " 77  chAVF_Rwave                   int64  \n",
      " 78  chAVF_Swave                   int64  \n",
      " 79  chAVF_RPwave                  int64  \n",
      " 80  chAVF_SPwave                  int64  \n",
      " 81  chAVF_intrinsicReflecttions   int64  \n",
      " 82  chAVF_RRwaveExists            int64  \n",
      " 83  chAVF_DD_RRwaveExists         int64  \n",
      " 84  chAVF_RPwaveExists            int64  \n",
      " 85  chAVF_DD_RPwaveExists         int64  \n",
      " 86  chAVF_RTwaveExists            int64  \n",
      " 87  chAVF_DD_RTwaveExists         int64  \n",
      " 88  chV1_Qwave                    int64  \n",
      " 89  chV1_Rwave                    int64  \n",
      " 90  chV1_Swave                    int64  \n",
      " 91  chV1_RPwave                   int64  \n",
      " 92  chV1_SPwave                   int64  \n",
      " 93  chV1_intrinsicReflecttions    int64  \n",
      " 94  chV1_RRwaveExists             int64  \n",
      " 95  chV1_DD_RRwaveExists          int64  \n",
      " 96  chV1_RPwaveExists             int64  \n",
      " 97  chV1_DD_RPwaveExists          int64  \n",
      " 98  chV1_RTwaveExists             int64  \n",
      " 99  chV1_DD_RTwaveExists          int64  \n",
      " 100 chV2_Qwave                    int64  \n",
      " 101 chV2_Rwave                    int64  \n",
      " 102 chV2_Swave                    int64  \n",
      " 103 chV2_RPwave                   int64  \n",
      " 104 chV2_SPwave                   int64  \n",
      " 105 chV2_intrinsicReflecttions    int64  \n",
      " 106 chV2_RRwaveExists             int64  \n",
      " 107 chV2_DD_RRwaveExists          int64  \n",
      " 108 chV2_RPwaveExists             int64  \n",
      " 109 chV2_DD_RPwaveExists          int64  \n",
      " 110 chV2_RTwaveExists             int64  \n",
      " 111 chV2_DD_RTwaveExists          int64  \n",
      " 112 chV3_Qwave                    int64  \n",
      " 113 chV3_Rwave                    int64  \n",
      " 114 chV3_Swave                    int64  \n",
      " 115 chV3_RPwave                   int64  \n",
      " 116 chV3_SPwave                   int64  \n",
      " 117 chV3_intrinsicReflecttions    int64  \n",
      " 118 chV3_RRwaveExists             int64  \n",
      " 119 chV3_DD_RRwaveExists          int64  \n",
      " 120 chV3_RPwaveExists             int64  \n",
      " 121 chV3_DD_RPwaveExists          int64  \n",
      " 122 chV3_RTwaveExists             int64  \n",
      " 123 chV3_DD_RTwaveExists          int64  \n",
      " 124 chV4_Qwave                    int64  \n",
      " 125 chV4_Rwave                    int64  \n",
      " 126 chV4_Swave                    int64  \n",
      " 127 chV4_RPwave                   int64  \n",
      " 128 chV4_SPwave                   int64  \n",
      " 129 chV4_intrinsicReflecttions    int64  \n",
      " 130 chV4_RRwaveExists             int64  \n",
      " 131 chV4_DD_RRwaveExists          int64  \n",
      " 132 chV4_RPwaveExists             int64  \n",
      " 133 chV4_DD_RPwaveExists          int64  \n",
      " 134 chV4_RTwaveExists             int64  \n",
      " 135 chV4_DD_RTwaveExists          int64  \n",
      " 136 chV5_Qwave                    int64  \n",
      " 137 chV5_Rwave                    int64  \n",
      " 138 chV5_Swave                    int64  \n",
      " 139 chV5_RPwave                   int64  \n",
      " 140 chV5_SPwave                   int64  \n",
      " 141 chV5_intrinsicReflecttions    int64  \n",
      " 142 chV5_RRwaveExists             int64  \n",
      " 143 chV5_DD_RRwaveExists          int64  \n",
      " 144 chV5_RPwaveExists             int64  \n",
      " 145 chV5_DD_RPwaveExists          int64  \n",
      " 146 chV5_RTwaveExists             int64  \n",
      " 147 chV5_DD_RTwaveExists          int64  \n",
      " 148 chV6_Qwave                    int64  \n",
      " 149 chV6_Rwave                    int64  \n",
      " 150 chV6_Swave                    int64  \n",
      " 151 chV6_RPwave                   int64  \n",
      " 152 chV6_SPwave                   int64  \n",
      " 153 chV6_intrinsicReflecttions    int64  \n",
      " 154 chV6_RRwaveExists             int64  \n",
      " 155 chV6_DD_RRwaveExists          int64  \n",
      " 156 chV6_RPwaveExists             int64  \n",
      " 157 chV6_DD_RPwaveExists          int64  \n",
      " 158 chV6_RTwaveExists             int64  \n",
      " 159 chV6_DD_RTwaveExists          int64  \n",
      " 160 chDI_JJwaveAmp                float64\n",
      " 161 chDI_QwaveAmp                 float64\n",
      " 162 chDI_RwaveAmp                 float64\n",
      " 163 chDI_SwaveAmp                 float64\n",
      " 164 chDI_RPwaveAmp                float64\n",
      " 165 chDI_SPwaveAmp                int64  \n",
      " 166 chDI_PwaveAmp                 float64\n",
      " 167 chDI_TwaveAmp                 float64\n",
      " 168 chDI_QRSA                     float64\n",
      " 169 chDI_QRSTA                    float64\n",
      " 170 chDII_JJwaveAmp               float64\n",
      " 171 chDII_QwaveAmp                float64\n",
      " 172 chDII_RwaveAmp                float64\n",
      " 173 chDII_SwaveAmp                float64\n",
      " 174 chDII_RPwaveAmp               float64\n",
      " 175 chDII_SPwaveAmp               int64  \n",
      " 176 chDII_PwaveAmp                float64\n",
      " 177 chDII_TwaveAmp                float64\n",
      " 178 chDII_QRSA                    float64\n",
      " 179 chDII_QRSTA                   float64\n",
      " 180 chDIII_JJwaveAmp              float64\n",
      " 181 chDIII_QwaveAmp               float64\n",
      " 182 chDIII_RwaveAmp               float64\n",
      " 183 chDIII_SwaveAmp               float64\n",
      " 184 chDIII_RPwaveAmp              float64\n",
      " 185 chDIII_SPwaveAmp              float64\n",
      " 186 chDIII_PwaveAmp               float64\n",
      " 187 chDIII_TwaveAmp               float64\n",
      " 188 chDIII_QRSA                   float64\n",
      " 189 chDIII_QRSTA                  float64\n",
      " 190 chAVR_JJwaveAmp               float64\n",
      " 191 chAVR_QwaveAmp                float64\n",
      " 192 chAVR_RwaveAmp                float64\n",
      " 193 chAVR_SwaveAmp                float64\n",
      " 194 chAVR_RPwaveAmp               float64\n",
      " 195 chAVR_SPwaveAmp               int64  \n",
      " 196 chAVR_PwaveAmp                float64\n",
      " 197 chAVR_TwaveAmp                float64\n",
      " 198 chAVR_QRSA                    float64\n",
      " 199 chAVR_QRSTA                   float64\n",
      " 200 chAVL_JJwaveAmp               float64\n",
      " 201 chAVL_QwaveAmp                float64\n",
      " 202 chAVL_RwaveAmp                float64\n",
      " 203 chAVL_SwaveAmp                float64\n",
      " 204 chAVL_RPwaveAmp               float64\n",
      " 205 chAVL_SPwaveAmp               int64  \n",
      " 206 chAVL_PwaveAmp                float64\n",
      " 207 chAVL_TwaveAmp                float64\n",
      " 208 chAVL_QRSA                    float64\n",
      " 209 chAVL_QRSTA                   float64\n",
      " 210 chAVF_JJwaveAmp               float64\n",
      " 211 chAVF_QwaveAmp                float64\n",
      " 212 chAVF_RwaveAmp                float64\n",
      " 213 chAVF_SwaveAmp                float64\n",
      " 214 chAVF_RPwaveAmp               float64\n",
      " 215 chAVF_SPwaveAmp               int64  \n",
      " 216 chAVF_PwaveAmp                float64\n",
      " 217 chAVF_TwaveAmp                float64\n",
      " 218 chAVF_QRSA                    float64\n",
      " 219 chAVF_QRSTA                   float64\n",
      " 220 chV1_JJwaveAmp                float64\n",
      " 221 chV1_QwaveAmp                 float64\n",
      " 222 chV1_RwaveAmp                 float64\n",
      " 223 chV1_SwaveAmp                 float64\n",
      " 224 chV1_RPwaveAmp                float64\n",
      " 225 chV1_SPwaveAmp                int64  \n",
      " 226 chV1_PwaveAmp                 float64\n",
      " 227 chV1_TwaveAmp                 float64\n",
      " 228 chV1_QRSA                     float64\n",
      " 229 chV1_QRSTA                    float64\n",
      " 230 chV2_JJwaveAmp                float64\n",
      " 231 chV2_QwaveAmp                 float64\n",
      " 232 chV2_RwaveAmp                 float64\n",
      " 233 chV2_SwaveAmp                 float64\n",
      " 234 chV2_RPwaveAmp                float64\n",
      " 235 chV2_SPwaveAmp                int64  \n",
      " 236 chV2_PwaveAmp                 float64\n",
      " 237 chV2_TwaveAmp                 float64\n",
      " 238 chV2_QRSA                     float64\n",
      " 239 chV2_QRSTA                    float64\n",
      " 240 chV3_JJwaveAmp                float64\n",
      " 241 chV3_QwaveAmp                 float64\n",
      " 242 chV3_RwaveAmp                 float64\n",
      " 243 chV3_SwaveAmp                 float64\n",
      " 244 chV3_RPwaveAmp                int64  \n",
      " 245 chV3_SPwaveAmp                int64  \n",
      " 246 chV3_PwaveAmp                 float64\n",
      " 247 chV3_TwaveAmp                 float64\n",
      " 248 chV3_QRSA                     float64\n",
      " 249 chV3_QRSTA                    float64\n",
      " 250 chV4_JJwaveAmp                float64\n",
      " 251 chV4_QwaveAmp                 float64\n",
      " 252 chV4_RwaveAmp                 float64\n",
      " 253 chV4_SwaveAmp                 float64\n",
      " 254 chV4_RPwaveAmp                float64\n",
      " 255 chV4_SPwaveAmp                int64  \n",
      " 256 chV4_PwaveAmp                 float64\n",
      " 257 chV4_TwaveAmp                 float64\n",
      " 258 chV4_QRSA                     float64\n",
      " 259 chV4_QRSTA                    float64\n",
      " 260 chV5_JJwaveAmp                float64\n",
      " 261 chV5_QwaveAmp                 float64\n",
      " 262 chV5_RwaveAmp                 float64\n",
      " 263 chV5_SwaveAmp                 float64\n",
      " 264 chV5_RPwaveAmp                int64  \n",
      " 265 chV5_SPwaveAmp                int64  \n",
      " 266 chV5_PwaveAmp                 float64\n",
      " 267 chV5_TwaveAmp                 float64\n",
      " 268 chV5_QRSA                     float64\n",
      " 269 chV5_QRSTA                    float64\n",
      " 270 chV6_JJwaveAmp                float64\n",
      " 271 chV6_QwaveAmp                 float64\n",
      " 272 chV6_RwaveAmp                 float64\n",
      " 273 chV6_SwaveAmp                 float64\n",
      " 274 chV6_RPwaveAmp                int64  \n",
      " 275 chV6_SPwaveAmp                int64  \n",
      " 276 chV6_PwaveAmp                 float64\n",
      " 277 chV6_TwaveAmp                 float64\n",
      " 278 chV6_QRSA                     float64\n",
      " 279 chV6_QRSTA                    float64\n",
      "dtypes: float64(109), int64(171)\n",
      "memory usage: 113.9 KB\n"
     ]
    }
   ],
   "source": [
    "test.info(10)"
   ]
  },
  {
   "cell_type": "code",
   "execution_count": 288,
   "metadata": {},
   "outputs": [
    {
     "data": {
      "text/html": [
       "<div>\n",
       "<style scoped>\n",
       "    .dataframe tbody tr th:only-of-type {\n",
       "        vertical-align: middle;\n",
       "    }\n",
       "\n",
       "    .dataframe tbody tr th {\n",
       "        vertical-align: top;\n",
       "    }\n",
       "\n",
       "    .dataframe thead th {\n",
       "        text-align: right;\n",
       "    }\n",
       "</style>\n",
       "<table border=\"1\" class=\"dataframe\">\n",
       "  <thead>\n",
       "    <tr style=\"text-align: right;\">\n",
       "      <th></th>\n",
       "      <th>Unnamed: 0</th>\n",
       "      <th>age</th>\n",
       "      <th>sex</th>\n",
       "      <th>height</th>\n",
       "      <th>weight</th>\n",
       "      <th>QRSduration</th>\n",
       "      <th>PRinterval</th>\n",
       "      <th>Q-Tinterval</th>\n",
       "      <th>Tinterval</th>\n",
       "      <th>Pinterval</th>\n",
       "      <th>...</th>\n",
       "      <th>chV6_JJwaveAmp</th>\n",
       "      <th>chV6_QwaveAmp</th>\n",
       "      <th>chV6_RwaveAmp</th>\n",
       "      <th>chV6_SwaveAmp</th>\n",
       "      <th>chV6_RPwaveAmp</th>\n",
       "      <th>chV6_SPwaveAmp</th>\n",
       "      <th>chV6_PwaveAmp</th>\n",
       "      <th>chV6_TwaveAmp</th>\n",
       "      <th>chV6_QRSA</th>\n",
       "      <th>chV6_QRSTA</th>\n",
       "    </tr>\n",
       "  </thead>\n",
       "  <tbody>\n",
       "    <tr>\n",
       "      <th>0</th>\n",
       "      <td>9</td>\n",
       "      <td>50</td>\n",
       "      <td>1</td>\n",
       "      <td>167</td>\n",
       "      <td>67</td>\n",
       "      <td>89</td>\n",
       "      <td>130</td>\n",
       "      <td>383</td>\n",
       "      <td>156</td>\n",
       "      <td>73</td>\n",
       "      <td>...</td>\n",
       "      <td>-0.5</td>\n",
       "      <td>-0.6</td>\n",
       "      <td>10.8</td>\n",
       "      <td>-1.7</td>\n",
       "      <td>0</td>\n",
       "      <td>0</td>\n",
       "      <td>0.8</td>\n",
       "      <td>0.9</td>\n",
       "      <td>20.1</td>\n",
       "      <td>25.1</td>\n",
       "    </tr>\n",
       "    <tr>\n",
       "      <th>1</th>\n",
       "      <td>25</td>\n",
       "      <td>44</td>\n",
       "      <td>0</td>\n",
       "      <td>169</td>\n",
       "      <td>80</td>\n",
       "      <td>109</td>\n",
       "      <td>128</td>\n",
       "      <td>382</td>\n",
       "      <td>195</td>\n",
       "      <td>60</td>\n",
       "      <td>...</td>\n",
       "      <td>-0.7</td>\n",
       "      <td>0.0</td>\n",
       "      <td>6.9</td>\n",
       "      <td>0.0</td>\n",
       "      <td>0</td>\n",
       "      <td>0</td>\n",
       "      <td>0.4</td>\n",
       "      <td>1.3</td>\n",
       "      <td>20.7</td>\n",
       "      <td>29.2</td>\n",
       "    </tr>\n",
       "    <tr>\n",
       "      <th>2</th>\n",
       "      <td>31</td>\n",
       "      <td>58</td>\n",
       "      <td>1</td>\n",
       "      <td>163</td>\n",
       "      <td>68</td>\n",
       "      <td>71</td>\n",
       "      <td>136</td>\n",
       "      <td>339</td>\n",
       "      <td>152</td>\n",
       "      <td>76</td>\n",
       "      <td>...</td>\n",
       "      <td>0.0</td>\n",
       "      <td>0.0</td>\n",
       "      <td>6.9</td>\n",
       "      <td>-0.8</td>\n",
       "      <td>0</td>\n",
       "      <td>0</td>\n",
       "      <td>0.4</td>\n",
       "      <td>1.4</td>\n",
       "      <td>13.5</td>\n",
       "      <td>25.5</td>\n",
       "    </tr>\n",
       "    <tr>\n",
       "      <th>3</th>\n",
       "      <td>32</td>\n",
       "      <td>50</td>\n",
       "      <td>1</td>\n",
       "      <td>160</td>\n",
       "      <td>73</td>\n",
       "      <td>75</td>\n",
       "      <td>125</td>\n",
       "      <td>353</td>\n",
       "      <td>183</td>\n",
       "      <td>63</td>\n",
       "      <td>...</td>\n",
       "      <td>-0.2</td>\n",
       "      <td>-0.5</td>\n",
       "      <td>8.1</td>\n",
       "      <td>-0.8</td>\n",
       "      <td>0</td>\n",
       "      <td>0</td>\n",
       "      <td>0.7</td>\n",
       "      <td>2.5</td>\n",
       "      <td>14.5</td>\n",
       "      <td>39.5</td>\n",
       "    </tr>\n",
       "    <tr>\n",
       "      <th>4</th>\n",
       "      <td>39</td>\n",
       "      <td>45</td>\n",
       "      <td>0</td>\n",
       "      <td>175</td>\n",
       "      <td>80</td>\n",
       "      <td>94</td>\n",
       "      <td>163</td>\n",
       "      <td>401</td>\n",
       "      <td>159</td>\n",
       "      <td>106</td>\n",
       "      <td>...</td>\n",
       "      <td>-0.4</td>\n",
       "      <td>0.0</td>\n",
       "      <td>3.1</td>\n",
       "      <td>0.0</td>\n",
       "      <td>0</td>\n",
       "      <td>0</td>\n",
       "      <td>0.4</td>\n",
       "      <td>1.0</td>\n",
       "      <td>10.5</td>\n",
       "      <td>17.9</td>\n",
       "    </tr>\n",
       "    <tr>\n",
       "      <th>5</th>\n",
       "      <td>47</td>\n",
       "      <td>30</td>\n",
       "      <td>1</td>\n",
       "      <td>158</td>\n",
       "      <td>57</td>\n",
       "      <td>73</td>\n",
       "      <td>137</td>\n",
       "      <td>369</td>\n",
       "      <td>143</td>\n",
       "      <td>77</td>\n",
       "      <td>...</td>\n",
       "      <td>-0.6</td>\n",
       "      <td>0.0</td>\n",
       "      <td>9.5</td>\n",
       "      <td>0.0</td>\n",
       "      <td>0</td>\n",
       "      <td>0</td>\n",
       "      <td>0.4</td>\n",
       "      <td>0.5</td>\n",
       "      <td>22.8</td>\n",
       "      <td>26.0</td>\n",
       "    </tr>\n",
       "    <tr>\n",
       "      <th>6</th>\n",
       "      <td>70</td>\n",
       "      <td>37</td>\n",
       "      <td>1</td>\n",
       "      <td>155</td>\n",
       "      <td>60</td>\n",
       "      <td>76</td>\n",
       "      <td>166</td>\n",
       "      <td>384</td>\n",
       "      <td>172</td>\n",
       "      <td>100</td>\n",
       "      <td>...</td>\n",
       "      <td>-0.1</td>\n",
       "      <td>0.0</td>\n",
       "      <td>7.7</td>\n",
       "      <td>0.0</td>\n",
       "      <td>0</td>\n",
       "      <td>0</td>\n",
       "      <td>0.6</td>\n",
       "      <td>1.9</td>\n",
       "      <td>26.1</td>\n",
       "      <td>40.5</td>\n",
       "    </tr>\n",
       "    <tr>\n",
       "      <th>7</th>\n",
       "      <td>72</td>\n",
       "      <td>31</td>\n",
       "      <td>1</td>\n",
       "      <td>161</td>\n",
       "      <td>73</td>\n",
       "      <td>93</td>\n",
       "      <td>173</td>\n",
       "      <td>361</td>\n",
       "      <td>164</td>\n",
       "      <td>108</td>\n",
       "      <td>...</td>\n",
       "      <td>0.0</td>\n",
       "      <td>-0.7</td>\n",
       "      <td>8.5</td>\n",
       "      <td>0.0</td>\n",
       "      <td>0</td>\n",
       "      <td>0</td>\n",
       "      <td>0.7</td>\n",
       "      <td>1.5</td>\n",
       "      <td>31.5</td>\n",
       "      <td>43.5</td>\n",
       "    </tr>\n",
       "    <tr>\n",
       "      <th>8</th>\n",
       "      <td>87</td>\n",
       "      <td>40</td>\n",
       "      <td>0</td>\n",
       "      <td>162</td>\n",
       "      <td>65</td>\n",
       "      <td>114</td>\n",
       "      <td>191</td>\n",
       "      <td>383</td>\n",
       "      <td>222</td>\n",
       "      <td>98</td>\n",
       "      <td>...</td>\n",
       "      <td>-0.1</td>\n",
       "      <td>-1.6</td>\n",
       "      <td>8.8</td>\n",
       "      <td>-1.2</td>\n",
       "      <td>0</td>\n",
       "      <td>0</td>\n",
       "      <td>0.6</td>\n",
       "      <td>-0.6</td>\n",
       "      <td>14.0</td>\n",
       "      <td>9.0</td>\n",
       "    </tr>\n",
       "    <tr>\n",
       "      <th>9</th>\n",
       "      <td>88</td>\n",
       "      <td>68</td>\n",
       "      <td>0</td>\n",
       "      <td>161</td>\n",
       "      <td>70</td>\n",
       "      <td>170</td>\n",
       "      <td>192</td>\n",
       "      <td>419</td>\n",
       "      <td>264</td>\n",
       "      <td>116</td>\n",
       "      <td>...</td>\n",
       "      <td>-2.0</td>\n",
       "      <td>0.0</td>\n",
       "      <td>10.1</td>\n",
       "      <td>-2.6</td>\n",
       "      <td>0</td>\n",
       "      <td>0</td>\n",
       "      <td>0.0</td>\n",
       "      <td>-3.3</td>\n",
       "      <td>46.7</td>\n",
       "      <td>2.5</td>\n",
       "    </tr>\n",
       "    <tr>\n",
       "      <th>10</th>\n",
       "      <td>99</td>\n",
       "      <td>36</td>\n",
       "      <td>1</td>\n",
       "      <td>160</td>\n",
       "      <td>70</td>\n",
       "      <td>78</td>\n",
       "      <td>118</td>\n",
       "      <td>241</td>\n",
       "      <td>152</td>\n",
       "      <td>68</td>\n",
       "      <td>...</td>\n",
       "      <td>-0.9</td>\n",
       "      <td>0.0</td>\n",
       "      <td>11.8</td>\n",
       "      <td>0.0</td>\n",
       "      <td>0</td>\n",
       "      <td>0</td>\n",
       "      <td>0.5</td>\n",
       "      <td>-0.5</td>\n",
       "      <td>28.3</td>\n",
       "      <td>24.1</td>\n",
       "    </tr>\n",
       "    <tr>\n",
       "      <th>11</th>\n",
       "      <td>115</td>\n",
       "      <td>39</td>\n",
       "      <td>1</td>\n",
       "      <td>160</td>\n",
       "      <td>45</td>\n",
       "      <td>75</td>\n",
       "      <td>163</td>\n",
       "      <td>418</td>\n",
       "      <td>155</td>\n",
       "      <td>90</td>\n",
       "      <td>...</td>\n",
       "      <td>0.1</td>\n",
       "      <td>-0.4</td>\n",
       "      <td>5.3</td>\n",
       "      <td>-1.3</td>\n",
       "      <td>0</td>\n",
       "      <td>0</td>\n",
       "      <td>0.6</td>\n",
       "      <td>1.9</td>\n",
       "      <td>8.2</td>\n",
       "      <td>22.2</td>\n",
       "    </tr>\n",
       "    <tr>\n",
       "      <th>12</th>\n",
       "      <td>117</td>\n",
       "      <td>28</td>\n",
       "      <td>1</td>\n",
       "      <td>159</td>\n",
       "      <td>56</td>\n",
       "      <td>96</td>\n",
       "      <td>153</td>\n",
       "      <td>340</td>\n",
       "      <td>152</td>\n",
       "      <td>90</td>\n",
       "      <td>...</td>\n",
       "      <td>0.0</td>\n",
       "      <td>0.0</td>\n",
       "      <td>3.1</td>\n",
       "      <td>-1.8</td>\n",
       "      <td>0</td>\n",
       "      <td>0</td>\n",
       "      <td>0.6</td>\n",
       "      <td>1.6</td>\n",
       "      <td>1.8</td>\n",
       "      <td>13.0</td>\n",
       "    </tr>\n",
       "    <tr>\n",
       "      <th>13</th>\n",
       "      <td>127</td>\n",
       "      <td>61</td>\n",
       "      <td>0</td>\n",
       "      <td>185</td>\n",
       "      <td>95</td>\n",
       "      <td>95</td>\n",
       "      <td>197</td>\n",
       "      <td>340</td>\n",
       "      <td>139</td>\n",
       "      <td>132</td>\n",
       "      <td>...</td>\n",
       "      <td>-0.6</td>\n",
       "      <td>-0.7</td>\n",
       "      <td>12.0</td>\n",
       "      <td>-2.3</td>\n",
       "      <td>0</td>\n",
       "      <td>0</td>\n",
       "      <td>0.8</td>\n",
       "      <td>1.7</td>\n",
       "      <td>26.4</td>\n",
       "      <td>34.5</td>\n",
       "    </tr>\n",
       "    <tr>\n",
       "      <th>14</th>\n",
       "      <td>147</td>\n",
       "      <td>34</td>\n",
       "      <td>1</td>\n",
       "      <td>155</td>\n",
       "      <td>54</td>\n",
       "      <td>86</td>\n",
       "      <td>127</td>\n",
       "      <td>369</td>\n",
       "      <td>157</td>\n",
       "      <td>78</td>\n",
       "      <td>...</td>\n",
       "      <td>-0.3</td>\n",
       "      <td>0.0</td>\n",
       "      <td>8.6</td>\n",
       "      <td>-0.8</td>\n",
       "      <td>0</td>\n",
       "      <td>0</td>\n",
       "      <td>0.7</td>\n",
       "      <td>1.8</td>\n",
       "      <td>17.5</td>\n",
       "      <td>31.9</td>\n",
       "    </tr>\n",
       "    <tr>\n",
       "      <th>15</th>\n",
       "      <td>151</td>\n",
       "      <td>32</td>\n",
       "      <td>0</td>\n",
       "      <td>173</td>\n",
       "      <td>75</td>\n",
       "      <td>111</td>\n",
       "      <td>171</td>\n",
       "      <td>347</td>\n",
       "      <td>235</td>\n",
       "      <td>94</td>\n",
       "      <td>...</td>\n",
       "      <td>0.0</td>\n",
       "      <td>0.0</td>\n",
       "      <td>9.9</td>\n",
       "      <td>-2.5</td>\n",
       "      <td>0</td>\n",
       "      <td>0</td>\n",
       "      <td>0.1</td>\n",
       "      <td>2.4</td>\n",
       "      <td>17.2</td>\n",
       "      <td>43.6</td>\n",
       "    </tr>\n",
       "    <tr>\n",
       "      <th>16</th>\n",
       "      <td>163</td>\n",
       "      <td>24</td>\n",
       "      <td>0</td>\n",
       "      <td>176</td>\n",
       "      <td>72</td>\n",
       "      <td>92</td>\n",
       "      <td>153</td>\n",
       "      <td>336</td>\n",
       "      <td>165</td>\n",
       "      <td>76</td>\n",
       "      <td>...</td>\n",
       "      <td>0.1</td>\n",
       "      <td>0.0</td>\n",
       "      <td>6.8</td>\n",
       "      <td>-1.2</td>\n",
       "      <td>0</td>\n",
       "      <td>0</td>\n",
       "      <td>0.0</td>\n",
       "      <td>2.1</td>\n",
       "      <td>17.1</td>\n",
       "      <td>35.5</td>\n",
       "    </tr>\n",
       "    <tr>\n",
       "      <th>17</th>\n",
       "      <td>165</td>\n",
       "      <td>25</td>\n",
       "      <td>1</td>\n",
       "      <td>162</td>\n",
       "      <td>48</td>\n",
       "      <td>74</td>\n",
       "      <td>115</td>\n",
       "      <td>377</td>\n",
       "      <td>116</td>\n",
       "      <td>67</td>\n",
       "      <td>...</td>\n",
       "      <td>-0.1</td>\n",
       "      <td>0.0</td>\n",
       "      <td>8.7</td>\n",
       "      <td>0.0</td>\n",
       "      <td>0</td>\n",
       "      <td>0</td>\n",
       "      <td>0.5</td>\n",
       "      <td>0.6</td>\n",
       "      <td>22.6</td>\n",
       "      <td>25.2</td>\n",
       "    </tr>\n",
       "    <tr>\n",
       "      <th>18</th>\n",
       "      <td>172</td>\n",
       "      <td>32</td>\n",
       "      <td>1</td>\n",
       "      <td>163</td>\n",
       "      <td>65</td>\n",
       "      <td>100</td>\n",
       "      <td>145</td>\n",
       "      <td>377</td>\n",
       "      <td>152</td>\n",
       "      <td>101</td>\n",
       "      <td>...</td>\n",
       "      <td>-0.2</td>\n",
       "      <td>0.0</td>\n",
       "      <td>12.0</td>\n",
       "      <td>-5.5</td>\n",
       "      <td>0</td>\n",
       "      <td>0</td>\n",
       "      <td>0.6</td>\n",
       "      <td>3.3</td>\n",
       "      <td>12.1</td>\n",
       "      <td>40.4</td>\n",
       "    </tr>\n",
       "    <tr>\n",
       "      <th>19</th>\n",
       "      <td>174</td>\n",
       "      <td>55</td>\n",
       "      <td>1</td>\n",
       "      <td>156</td>\n",
       "      <td>78</td>\n",
       "      <td>88</td>\n",
       "      <td>0</td>\n",
       "      <td>380</td>\n",
       "      <td>138</td>\n",
       "      <td>0</td>\n",
       "      <td>...</td>\n",
       "      <td>-0.2</td>\n",
       "      <td>0.0</td>\n",
       "      <td>4.9</td>\n",
       "      <td>-1.2</td>\n",
       "      <td>0</td>\n",
       "      <td>0</td>\n",
       "      <td>-0.2</td>\n",
       "      <td>2.0</td>\n",
       "      <td>12.6</td>\n",
       "      <td>36.6</td>\n",
       "    </tr>\n",
       "  </tbody>\n",
       "</table>\n",
       "<p>20 rows × 280 columns</p>\n",
       "</div>"
      ],
      "text/plain": [
       "    Unnamed: 0  age  sex  height  weight  QRSduration  PRinterval  \\\n",
       "0            9   50    1     167      67           89         130   \n",
       "1           25   44    0     169      80          109         128   \n",
       "2           31   58    1     163      68           71         136   \n",
       "3           32   50    1     160      73           75         125   \n",
       "4           39   45    0     175      80           94         163   \n",
       "5           47   30    1     158      57           73         137   \n",
       "6           70   37    1     155      60           76         166   \n",
       "7           72   31    1     161      73           93         173   \n",
       "8           87   40    0     162      65          114         191   \n",
       "9           88   68    0     161      70          170         192   \n",
       "10          99   36    1     160      70           78         118   \n",
       "11         115   39    1     160      45           75         163   \n",
       "12         117   28    1     159      56           96         153   \n",
       "13         127   61    0     185      95           95         197   \n",
       "14         147   34    1     155      54           86         127   \n",
       "15         151   32    0     173      75          111         171   \n",
       "16         163   24    0     176      72           92         153   \n",
       "17         165   25    1     162      48           74         115   \n",
       "18         172   32    1     163      65          100         145   \n",
       "19         174   55    1     156      78           88           0   \n",
       "\n",
       "    Q-Tinterval  Tinterval  Pinterval  ...  chV6_JJwaveAmp  chV6_QwaveAmp  \\\n",
       "0           383        156         73  ...            -0.5           -0.6   \n",
       "1           382        195         60  ...            -0.7            0.0   \n",
       "2           339        152         76  ...             0.0            0.0   \n",
       "3           353        183         63  ...            -0.2           -0.5   \n",
       "4           401        159        106  ...            -0.4            0.0   \n",
       "5           369        143         77  ...            -0.6            0.0   \n",
       "6           384        172        100  ...            -0.1            0.0   \n",
       "7           361        164        108  ...             0.0           -0.7   \n",
       "8           383        222         98  ...            -0.1           -1.6   \n",
       "9           419        264        116  ...            -2.0            0.0   \n",
       "10          241        152         68  ...            -0.9            0.0   \n",
       "11          418        155         90  ...             0.1           -0.4   \n",
       "12          340        152         90  ...             0.0            0.0   \n",
       "13          340        139        132  ...            -0.6           -0.7   \n",
       "14          369        157         78  ...            -0.3            0.0   \n",
       "15          347        235         94  ...             0.0            0.0   \n",
       "16          336        165         76  ...             0.1            0.0   \n",
       "17          377        116         67  ...            -0.1            0.0   \n",
       "18          377        152        101  ...            -0.2            0.0   \n",
       "19          380        138          0  ...            -0.2            0.0   \n",
       "\n",
       "    chV6_RwaveAmp  chV6_SwaveAmp  chV6_RPwaveAmp  chV6_SPwaveAmp  \\\n",
       "0            10.8           -1.7               0               0   \n",
       "1             6.9            0.0               0               0   \n",
       "2             6.9           -0.8               0               0   \n",
       "3             8.1           -0.8               0               0   \n",
       "4             3.1            0.0               0               0   \n",
       "5             9.5            0.0               0               0   \n",
       "6             7.7            0.0               0               0   \n",
       "7             8.5            0.0               0               0   \n",
       "8             8.8           -1.2               0               0   \n",
       "9            10.1           -2.6               0               0   \n",
       "10           11.8            0.0               0               0   \n",
       "11            5.3           -1.3               0               0   \n",
       "12            3.1           -1.8               0               0   \n",
       "13           12.0           -2.3               0               0   \n",
       "14            8.6           -0.8               0               0   \n",
       "15            9.9           -2.5               0               0   \n",
       "16            6.8           -1.2               0               0   \n",
       "17            8.7            0.0               0               0   \n",
       "18           12.0           -5.5               0               0   \n",
       "19            4.9           -1.2               0               0   \n",
       "\n",
       "    chV6_PwaveAmp  chV6_TwaveAmp  chV6_QRSA  chV6_QRSTA  \n",
       "0             0.8            0.9       20.1        25.1  \n",
       "1             0.4            1.3       20.7        29.2  \n",
       "2             0.4            1.4       13.5        25.5  \n",
       "3             0.7            2.5       14.5        39.5  \n",
       "4             0.4            1.0       10.5        17.9  \n",
       "5             0.4            0.5       22.8        26.0  \n",
       "6             0.6            1.9       26.1        40.5  \n",
       "7             0.7            1.5       31.5        43.5  \n",
       "8             0.6           -0.6       14.0         9.0  \n",
       "9             0.0           -3.3       46.7         2.5  \n",
       "10            0.5           -0.5       28.3        24.1  \n",
       "11            0.6            1.9        8.2        22.2  \n",
       "12            0.6            1.6        1.8        13.0  \n",
       "13            0.8            1.7       26.4        34.5  \n",
       "14            0.7            1.8       17.5        31.9  \n",
       "15            0.1            2.4       17.2        43.6  \n",
       "16            0.0            2.1       17.1        35.5  \n",
       "17            0.5            0.6       22.6        25.2  \n",
       "18            0.6            3.3       12.1        40.4  \n",
       "19           -0.2            2.0       12.6        36.6  \n",
       "\n",
       "[20 rows x 280 columns]"
      ]
     },
     "execution_count": 288,
     "metadata": {},
     "output_type": "execute_result"
    }
   ],
   "source": [
    "test.head(20)"
   ]
  },
  {
   "cell_type": "code",
   "execution_count": 289,
   "metadata": {},
   "outputs": [
    {
     "data": {
      "text/html": [
       "<div>\n",
       "<style scoped>\n",
       "    .dataframe tbody tr th:only-of-type {\n",
       "        vertical-align: middle;\n",
       "    }\n",
       "\n",
       "    .dataframe tbody tr th {\n",
       "        vertical-align: top;\n",
       "    }\n",
       "\n",
       "    .dataframe thead th {\n",
       "        text-align: right;\n",
       "    }\n",
       "</style>\n",
       "<table border=\"1\" class=\"dataframe\">\n",
       "  <thead>\n",
       "    <tr style=\"text-align: right;\">\n",
       "      <th></th>\n",
       "      <th>Unnamed: 0</th>\n",
       "      <th>age</th>\n",
       "      <th>sex</th>\n",
       "      <th>height</th>\n",
       "      <th>weight</th>\n",
       "      <th>QRSduration</th>\n",
       "      <th>PRinterval</th>\n",
       "      <th>Q-Tinterval</th>\n",
       "      <th>Tinterval</th>\n",
       "      <th>Pinterval</th>\n",
       "      <th>...</th>\n",
       "      <th>chV6_JJwaveAmp</th>\n",
       "      <th>chV6_QwaveAmp</th>\n",
       "      <th>chV6_RwaveAmp</th>\n",
       "      <th>chV6_SwaveAmp</th>\n",
       "      <th>chV6_RPwaveAmp</th>\n",
       "      <th>chV6_SPwaveAmp</th>\n",
       "      <th>chV6_PwaveAmp</th>\n",
       "      <th>chV6_TwaveAmp</th>\n",
       "      <th>chV6_QRSA</th>\n",
       "      <th>chV6_QRSTA</th>\n",
       "    </tr>\n",
       "  </thead>\n",
       "  <tbody>\n",
       "    <tr>\n",
       "      <th>count</th>\n",
       "      <td>52.000000</td>\n",
       "      <td>52.000000</td>\n",
       "      <td>52.000000</td>\n",
       "      <td>52.000000</td>\n",
       "      <td>52.000000</td>\n",
       "      <td>52.000000</td>\n",
       "      <td>52.000000</td>\n",
       "      <td>52.000000</td>\n",
       "      <td>52.000000</td>\n",
       "      <td>52.000000</td>\n",
       "      <td>...</td>\n",
       "      <td>52.000000</td>\n",
       "      <td>52.000000</td>\n",
       "      <td>52.000000</td>\n",
       "      <td>52.000000</td>\n",
       "      <td>52.0</td>\n",
       "      <td>52.0</td>\n",
       "      <td>52.00000</td>\n",
       "      <td>52.000000</td>\n",
       "      <td>52.000000</td>\n",
       "      <td>52.000000</td>\n",
       "    </tr>\n",
       "    <tr>\n",
       "      <th>mean</th>\n",
       "      <td>221.826923</td>\n",
       "      <td>44.807692</td>\n",
       "      <td>0.538462</td>\n",
       "      <td>166.134615</td>\n",
       "      <td>70.576923</td>\n",
       "      <td>90.307692</td>\n",
       "      <td>148.980769</td>\n",
       "      <td>356.942308</td>\n",
       "      <td>172.653846</td>\n",
       "      <td>88.230769</td>\n",
       "      <td>...</td>\n",
       "      <td>-0.376923</td>\n",
       "      <td>-0.392308</td>\n",
       "      <td>9.225000</td>\n",
       "      <td>-1.192308</td>\n",
       "      <td>0.0</td>\n",
       "      <td>0.0</td>\n",
       "      <td>0.47500</td>\n",
       "      <td>1.030769</td>\n",
       "      <td>20.686538</td>\n",
       "      <td>28.953846</td>\n",
       "    </tr>\n",
       "    <tr>\n",
       "      <th>std</th>\n",
       "      <td>124.498795</td>\n",
       "      <td>13.083500</td>\n",
       "      <td>0.503382</td>\n",
       "      <td>8.593269</td>\n",
       "      <td>12.225570</td>\n",
       "      <td>15.774810</td>\n",
       "      <td>43.256413</td>\n",
       "      <td>33.142245</td>\n",
       "      <td>36.500274</td>\n",
       "      <td>29.607640</td>\n",
       "      <td>...</td>\n",
       "      <td>0.519281</td>\n",
       "      <td>0.679633</td>\n",
       "      <td>3.359148</td>\n",
       "      <td>1.242206</td>\n",
       "      <td>0.0</td>\n",
       "      <td>0.0</td>\n",
       "      <td>0.32532</td>\n",
       "      <td>1.398113</td>\n",
       "      <td>11.376361</td>\n",
       "      <td>12.815913</td>\n",
       "    </tr>\n",
       "    <tr>\n",
       "      <th>min</th>\n",
       "      <td>9.000000</td>\n",
       "      <td>18.000000</td>\n",
       "      <td>0.000000</td>\n",
       "      <td>150.000000</td>\n",
       "      <td>45.000000</td>\n",
       "      <td>71.000000</td>\n",
       "      <td>0.000000</td>\n",
       "      <td>241.000000</td>\n",
       "      <td>116.000000</td>\n",
       "      <td>0.000000</td>\n",
       "      <td>...</td>\n",
       "      <td>-2.000000</td>\n",
       "      <td>-3.500000</td>\n",
       "      <td>2.300000</td>\n",
       "      <td>-5.500000</td>\n",
       "      <td>0.0</td>\n",
       "      <td>0.0</td>\n",
       "      <td>-0.30000</td>\n",
       "      <td>-3.300000</td>\n",
       "      <td>1.200000</td>\n",
       "      <td>1.500000</td>\n",
       "    </tr>\n",
       "    <tr>\n",
       "      <th>25%</th>\n",
       "      <td>124.500000</td>\n",
       "      <td>34.750000</td>\n",
       "      <td>0.000000</td>\n",
       "      <td>160.000000</td>\n",
       "      <td>64.500000</td>\n",
       "      <td>78.000000</td>\n",
       "      <td>137.000000</td>\n",
       "      <td>340.000000</td>\n",
       "      <td>147.750000</td>\n",
       "      <td>76.000000</td>\n",
       "      <td>...</td>\n",
       "      <td>-0.625000</td>\n",
       "      <td>-0.500000</td>\n",
       "      <td>6.975000</td>\n",
       "      <td>-1.800000</td>\n",
       "      <td>0.0</td>\n",
       "      <td>0.0</td>\n",
       "      <td>0.40000</td>\n",
       "      <td>0.400000</td>\n",
       "      <td>13.875000</td>\n",
       "      <td>20.275000</td>\n",
       "    </tr>\n",
       "    <tr>\n",
       "      <th>50%</th>\n",
       "      <td>199.500000</td>\n",
       "      <td>45.000000</td>\n",
       "      <td>1.000000</td>\n",
       "      <td>164.500000</td>\n",
       "      <td>70.000000</td>\n",
       "      <td>87.500000</td>\n",
       "      <td>155.000000</td>\n",
       "      <td>357.000000</td>\n",
       "      <td>164.500000</td>\n",
       "      <td>91.500000</td>\n",
       "      <td>...</td>\n",
       "      <td>-0.250000</td>\n",
       "      <td>0.000000</td>\n",
       "      <td>9.200000</td>\n",
       "      <td>-0.950000</td>\n",
       "      <td>0.0</td>\n",
       "      <td>0.0</td>\n",
       "      <td>0.50000</td>\n",
       "      <td>1.500000</td>\n",
       "      <td>18.600000</td>\n",
       "      <td>27.950000</td>\n",
       "    </tr>\n",
       "    <tr>\n",
       "      <th>75%</th>\n",
       "      <td>325.500000</td>\n",
       "      <td>55.500000</td>\n",
       "      <td>1.000000</td>\n",
       "      <td>175.000000</td>\n",
       "      <td>78.250000</td>\n",
       "      <td>96.000000</td>\n",
       "      <td>173.000000</td>\n",
       "      <td>379.250000</td>\n",
       "      <td>191.250000</td>\n",
       "      <td>102.250000</td>\n",
       "      <td>...</td>\n",
       "      <td>-0.075000</td>\n",
       "      <td>0.000000</td>\n",
       "      <td>10.875000</td>\n",
       "      <td>0.000000</td>\n",
       "      <td>0.0</td>\n",
       "      <td>0.0</td>\n",
       "      <td>0.70000</td>\n",
       "      <td>1.925000</td>\n",
       "      <td>25.875000</td>\n",
       "      <td>37.325000</td>\n",
       "    </tr>\n",
       "    <tr>\n",
       "      <th>max</th>\n",
       "      <td>438.000000</td>\n",
       "      <td>72.000000</td>\n",
       "      <td>1.000000</td>\n",
       "      <td>186.000000</td>\n",
       "      <td>95.000000</td>\n",
       "      <td>170.000000</td>\n",
       "      <td>205.000000</td>\n",
       "      <td>419.000000</td>\n",
       "      <td>292.000000</td>\n",
       "      <td>149.000000</td>\n",
       "      <td>...</td>\n",
       "      <td>0.800000</td>\n",
       "      <td>0.000000</td>\n",
       "      <td>21.100000</td>\n",
       "      <td>0.000000</td>\n",
       "      <td>0.0</td>\n",
       "      <td>0.0</td>\n",
       "      <td>1.10000</td>\n",
       "      <td>3.300000</td>\n",
       "      <td>49.900000</td>\n",
       "      <td>60.600000</td>\n",
       "    </tr>\n",
       "  </tbody>\n",
       "</table>\n",
       "<p>8 rows × 280 columns</p>\n",
       "</div>"
      ],
      "text/plain": [
       "       Unnamed: 0        age        sex      height     weight  QRSduration  \\\n",
       "count   52.000000  52.000000  52.000000   52.000000  52.000000    52.000000   \n",
       "mean   221.826923  44.807692   0.538462  166.134615  70.576923    90.307692   \n",
       "std    124.498795  13.083500   0.503382    8.593269  12.225570    15.774810   \n",
       "min      9.000000  18.000000   0.000000  150.000000  45.000000    71.000000   \n",
       "25%    124.500000  34.750000   0.000000  160.000000  64.500000    78.000000   \n",
       "50%    199.500000  45.000000   1.000000  164.500000  70.000000    87.500000   \n",
       "75%    325.500000  55.500000   1.000000  175.000000  78.250000    96.000000   \n",
       "max    438.000000  72.000000   1.000000  186.000000  95.000000   170.000000   \n",
       "\n",
       "       PRinterval  Q-Tinterval   Tinterval   Pinterval  ...  chV6_JJwaveAmp  \\\n",
       "count   52.000000    52.000000   52.000000   52.000000  ...       52.000000   \n",
       "mean   148.980769   356.942308  172.653846   88.230769  ...       -0.376923   \n",
       "std     43.256413    33.142245   36.500274   29.607640  ...        0.519281   \n",
       "min      0.000000   241.000000  116.000000    0.000000  ...       -2.000000   \n",
       "25%    137.000000   340.000000  147.750000   76.000000  ...       -0.625000   \n",
       "50%    155.000000   357.000000  164.500000   91.500000  ...       -0.250000   \n",
       "75%    173.000000   379.250000  191.250000  102.250000  ...       -0.075000   \n",
       "max    205.000000   419.000000  292.000000  149.000000  ...        0.800000   \n",
       "\n",
       "       chV6_QwaveAmp  chV6_RwaveAmp  chV6_SwaveAmp  chV6_RPwaveAmp  \\\n",
       "count      52.000000      52.000000      52.000000            52.0   \n",
       "mean       -0.392308       9.225000      -1.192308             0.0   \n",
       "std         0.679633       3.359148       1.242206             0.0   \n",
       "min        -3.500000       2.300000      -5.500000             0.0   \n",
       "25%        -0.500000       6.975000      -1.800000             0.0   \n",
       "50%         0.000000       9.200000      -0.950000             0.0   \n",
       "75%         0.000000      10.875000       0.000000             0.0   \n",
       "max         0.000000      21.100000       0.000000             0.0   \n",
       "\n",
       "       chV6_SPwaveAmp  chV6_PwaveAmp  chV6_TwaveAmp  chV6_QRSA  chV6_QRSTA  \n",
       "count            52.0       52.00000      52.000000  52.000000   52.000000  \n",
       "mean              0.0        0.47500       1.030769  20.686538   28.953846  \n",
       "std               0.0        0.32532       1.398113  11.376361   12.815913  \n",
       "min               0.0       -0.30000      -3.300000   1.200000    1.500000  \n",
       "25%               0.0        0.40000       0.400000  13.875000   20.275000  \n",
       "50%               0.0        0.50000       1.500000  18.600000   27.950000  \n",
       "75%               0.0        0.70000       1.925000  25.875000   37.325000  \n",
       "max               0.0        1.10000       3.300000  49.900000   60.600000  \n",
       "\n",
       "[8 rows x 280 columns]"
      ]
     },
     "execution_count": 289,
     "metadata": {},
     "output_type": "execute_result"
    }
   ],
   "source": [
    "test.describe()"
   ]
  },
  {
   "cell_type": "markdown",
   "metadata": {},
   "source": [
    "We have a column 'Unnamed' which has logically no significance to the dataset. We do not have knowledge on the column. I could only be an ID. Hence we're dropping that column. "
   ]
  },
  {
   "cell_type": "code",
   "execution_count": 290,
   "metadata": {},
   "outputs": [],
   "source": [
    "test.drop(test.columns[0], inplace = True, axis = 1)"
   ]
  },
  {
   "cell_type": "code",
   "execution_count": 291,
   "metadata": {},
   "outputs": [
    {
     "data": {
      "text/html": [
       "<div>\n",
       "<style scoped>\n",
       "    .dataframe tbody tr th:only-of-type {\n",
       "        vertical-align: middle;\n",
       "    }\n",
       "\n",
       "    .dataframe tbody tr th {\n",
       "        vertical-align: top;\n",
       "    }\n",
       "\n",
       "    .dataframe thead th {\n",
       "        text-align: right;\n",
       "    }\n",
       "</style>\n",
       "<table border=\"1\" class=\"dataframe\">\n",
       "  <thead>\n",
       "    <tr style=\"text-align: right;\">\n",
       "      <th></th>\n",
       "      <th>age</th>\n",
       "      <th>sex</th>\n",
       "      <th>height</th>\n",
       "      <th>weight</th>\n",
       "      <th>QRSduration</th>\n",
       "      <th>PRinterval</th>\n",
       "      <th>Q-Tinterval</th>\n",
       "      <th>Tinterval</th>\n",
       "      <th>Pinterval</th>\n",
       "      <th>QRS</th>\n",
       "      <th>...</th>\n",
       "      <th>chV6_JJwaveAmp</th>\n",
       "      <th>chV6_QwaveAmp</th>\n",
       "      <th>chV6_RwaveAmp</th>\n",
       "      <th>chV6_SwaveAmp</th>\n",
       "      <th>chV6_RPwaveAmp</th>\n",
       "      <th>chV6_SPwaveAmp</th>\n",
       "      <th>chV6_PwaveAmp</th>\n",
       "      <th>chV6_TwaveAmp</th>\n",
       "      <th>chV6_QRSA</th>\n",
       "      <th>chV6_QRSTA</th>\n",
       "    </tr>\n",
       "  </thead>\n",
       "  <tbody>\n",
       "    <tr>\n",
       "      <th>0</th>\n",
       "      <td>50</td>\n",
       "      <td>1</td>\n",
       "      <td>167</td>\n",
       "      <td>67</td>\n",
       "      <td>89</td>\n",
       "      <td>130</td>\n",
       "      <td>383</td>\n",
       "      <td>156</td>\n",
       "      <td>73</td>\n",
       "      <td>85</td>\n",
       "      <td>...</td>\n",
       "      <td>-0.5</td>\n",
       "      <td>-0.6</td>\n",
       "      <td>10.8</td>\n",
       "      <td>-1.7</td>\n",
       "      <td>0</td>\n",
       "      <td>0</td>\n",
       "      <td>0.8</td>\n",
       "      <td>0.9</td>\n",
       "      <td>20.1</td>\n",
       "      <td>25.1</td>\n",
       "    </tr>\n",
       "    <tr>\n",
       "      <th>1</th>\n",
       "      <td>44</td>\n",
       "      <td>0</td>\n",
       "      <td>169</td>\n",
       "      <td>80</td>\n",
       "      <td>109</td>\n",
       "      <td>128</td>\n",
       "      <td>382</td>\n",
       "      <td>195</td>\n",
       "      <td>60</td>\n",
       "      <td>-34</td>\n",
       "      <td>...</td>\n",
       "      <td>-0.7</td>\n",
       "      <td>0.0</td>\n",
       "      <td>6.9</td>\n",
       "      <td>0.0</td>\n",
       "      <td>0</td>\n",
       "      <td>0</td>\n",
       "      <td>0.4</td>\n",
       "      <td>1.3</td>\n",
       "      <td>20.7</td>\n",
       "      <td>29.2</td>\n",
       "    </tr>\n",
       "    <tr>\n",
       "      <th>2</th>\n",
       "      <td>58</td>\n",
       "      <td>1</td>\n",
       "      <td>163</td>\n",
       "      <td>68</td>\n",
       "      <td>71</td>\n",
       "      <td>136</td>\n",
       "      <td>339</td>\n",
       "      <td>152</td>\n",
       "      <td>76</td>\n",
       "      <td>13</td>\n",
       "      <td>...</td>\n",
       "      <td>0.0</td>\n",
       "      <td>0.0</td>\n",
       "      <td>6.9</td>\n",
       "      <td>-0.8</td>\n",
       "      <td>0</td>\n",
       "      <td>0</td>\n",
       "      <td>0.4</td>\n",
       "      <td>1.4</td>\n",
       "      <td>13.5</td>\n",
       "      <td>25.5</td>\n",
       "    </tr>\n",
       "    <tr>\n",
       "      <th>3</th>\n",
       "      <td>50</td>\n",
       "      <td>1</td>\n",
       "      <td>160</td>\n",
       "      <td>73</td>\n",
       "      <td>75</td>\n",
       "      <td>125</td>\n",
       "      <td>353</td>\n",
       "      <td>183</td>\n",
       "      <td>63</td>\n",
       "      <td>38</td>\n",
       "      <td>...</td>\n",
       "      <td>-0.2</td>\n",
       "      <td>-0.5</td>\n",
       "      <td>8.1</td>\n",
       "      <td>-0.8</td>\n",
       "      <td>0</td>\n",
       "      <td>0</td>\n",
       "      <td>0.7</td>\n",
       "      <td>2.5</td>\n",
       "      <td>14.5</td>\n",
       "      <td>39.5</td>\n",
       "    </tr>\n",
       "    <tr>\n",
       "      <th>4</th>\n",
       "      <td>45</td>\n",
       "      <td>0</td>\n",
       "      <td>175</td>\n",
       "      <td>80</td>\n",
       "      <td>94</td>\n",
       "      <td>163</td>\n",
       "      <td>401</td>\n",
       "      <td>159</td>\n",
       "      <td>106</td>\n",
       "      <td>-57</td>\n",
       "      <td>...</td>\n",
       "      <td>-0.4</td>\n",
       "      <td>0.0</td>\n",
       "      <td>3.1</td>\n",
       "      <td>0.0</td>\n",
       "      <td>0</td>\n",
       "      <td>0</td>\n",
       "      <td>0.4</td>\n",
       "      <td>1.0</td>\n",
       "      <td>10.5</td>\n",
       "      <td>17.9</td>\n",
       "    </tr>\n",
       "  </tbody>\n",
       "</table>\n",
       "<p>5 rows × 279 columns</p>\n",
       "</div>"
      ],
      "text/plain": [
       "   age  sex  height  weight  QRSduration  PRinterval  Q-Tinterval  Tinterval  \\\n",
       "0   50    1     167      67           89         130          383        156   \n",
       "1   44    0     169      80          109         128          382        195   \n",
       "2   58    1     163      68           71         136          339        152   \n",
       "3   50    1     160      73           75         125          353        183   \n",
       "4   45    0     175      80           94         163          401        159   \n",
       "\n",
       "   Pinterval  QRS  ...  chV6_JJwaveAmp  chV6_QwaveAmp  chV6_RwaveAmp  \\\n",
       "0         73   85  ...            -0.5           -0.6           10.8   \n",
       "1         60  -34  ...            -0.7            0.0            6.9   \n",
       "2         76   13  ...             0.0            0.0            6.9   \n",
       "3         63   38  ...            -0.2           -0.5            8.1   \n",
       "4        106  -57  ...            -0.4            0.0            3.1   \n",
       "\n",
       "   chV6_SwaveAmp  chV6_RPwaveAmp  chV6_SPwaveAmp  chV6_PwaveAmp  \\\n",
       "0           -1.7               0               0            0.8   \n",
       "1            0.0               0               0            0.4   \n",
       "2           -0.8               0               0            0.4   \n",
       "3           -0.8               0               0            0.7   \n",
       "4            0.0               0               0            0.4   \n",
       "\n",
       "   chV6_TwaveAmp  chV6_QRSA  chV6_QRSTA  \n",
       "0            0.9       20.1        25.1  \n",
       "1            1.3       20.7        29.2  \n",
       "2            1.4       13.5        25.5  \n",
       "3            2.5       14.5        39.5  \n",
       "4            1.0       10.5        17.9  \n",
       "\n",
       "[5 rows x 279 columns]"
      ]
     },
     "execution_count": 291,
     "metadata": {},
     "output_type": "execute_result"
    }
   ],
   "source": [
    "test.head()"
   ]
  },
  {
   "cell_type": "code",
   "execution_count": 292,
   "metadata": {},
   "outputs": [
    {
     "data": {
      "text/plain": [
       "Index(['T', 'P', 'J'], dtype='object')"
      ]
     },
     "execution_count": 292,
     "metadata": {},
     "output_type": "execute_result"
    }
   ],
   "source": [
    "test.columns[test.isnull().any()]"
   ]
  },
  {
   "cell_type": "code",
   "execution_count": 293,
   "metadata": {},
   "outputs": [
    {
     "data": {
      "text/plain": [
       "49"
      ]
     },
     "execution_count": 293,
     "metadata": {},
     "output_type": "execute_result"
    }
   ],
   "source": [
    "test.isnull().sum().sum()"
   ]
  },
  {
   "cell_type": "code",
   "execution_count": 294,
   "metadata": {},
   "outputs": [
    {
     "data": {
      "text/plain": [
       "age             0\n",
       "sex             0\n",
       "height          0\n",
       "weight          0\n",
       "QRSduration     0\n",
       "PRinterval      0\n",
       "Q-Tinterval     0\n",
       "Tinterval       0\n",
       "Pinterval       0\n",
       "QRS             0\n",
       "T               1\n",
       "P               5\n",
       "QRST            0\n",
       "J              43\n",
       "heartrate       0\n",
       "chDI_Qwave      0\n",
       "chDI_Rwave      0\n",
       "chDI_Swave      0\n",
       "chDI_RPwave     0\n",
       "chDI_SPwave     0\n",
       "dtype: int64"
      ]
     },
     "execution_count": 294,
     "metadata": {},
     "output_type": "execute_result"
    }
   ],
   "source": [
    "test.isnull().sum().head(20)"
   ]
  },
  {
   "cell_type": "markdown",
   "metadata": {},
   "source": [
    "Filling Test dataset with mean and median from train."
   ]
  },
  {
   "cell_type": "code",
   "execution_count": 295,
   "metadata": {},
   "outputs": [],
   "source": [
    "test['T']=test['T'].fillna(test['T'].median())"
   ]
  },
  {
   "cell_type": "code",
   "execution_count": 296,
   "metadata": {},
   "outputs": [],
   "source": [
    "test['P']=test['P'].fillna(test['P'].mean())"
   ]
  },
  {
   "cell_type": "code",
   "execution_count": 297,
   "metadata": {},
   "outputs": [
    {
     "data": {
      "text/plain": [
       "43"
      ]
     },
     "execution_count": 297,
     "metadata": {},
     "output_type": "execute_result"
    }
   ],
   "source": [
    "test['J'].isnull().sum()"
   ]
  },
  {
   "cell_type": "markdown",
   "metadata": {},
   "source": [
    "Too many null values. Dropping J. "
   ]
  },
  {
   "cell_type": "code",
   "execution_count": 298,
   "metadata": {},
   "outputs": [],
   "source": [
    "test.drop(['J'], inplace = True, axis = 1)"
   ]
  },
  {
   "cell_type": "code",
   "execution_count": 299,
   "metadata": {},
   "outputs": [
    {
     "data": {
      "text/html": [
       "<div>\n",
       "<style scoped>\n",
       "    .dataframe tbody tr th:only-of-type {\n",
       "        vertical-align: middle;\n",
       "    }\n",
       "\n",
       "    .dataframe tbody tr th {\n",
       "        vertical-align: top;\n",
       "    }\n",
       "\n",
       "    .dataframe thead th {\n",
       "        text-align: right;\n",
       "    }\n",
       "</style>\n",
       "<table border=\"1\" class=\"dataframe\">\n",
       "  <thead>\n",
       "    <tr style=\"text-align: right;\">\n",
       "      <th></th>\n",
       "      <th>age</th>\n",
       "      <th>sex</th>\n",
       "      <th>height</th>\n",
       "      <th>weight</th>\n",
       "      <th>QRSduration</th>\n",
       "      <th>PRinterval</th>\n",
       "      <th>Q-Tinterval</th>\n",
       "      <th>Tinterval</th>\n",
       "      <th>Pinterval</th>\n",
       "      <th>QRS</th>\n",
       "      <th>...</th>\n",
       "      <th>chV6_JJwaveAmp</th>\n",
       "      <th>chV6_QwaveAmp</th>\n",
       "      <th>chV6_RwaveAmp</th>\n",
       "      <th>chV6_SwaveAmp</th>\n",
       "      <th>chV6_RPwaveAmp</th>\n",
       "      <th>chV6_SPwaveAmp</th>\n",
       "      <th>chV6_PwaveAmp</th>\n",
       "      <th>chV6_TwaveAmp</th>\n",
       "      <th>chV6_QRSA</th>\n",
       "      <th>chV6_QRSTA</th>\n",
       "    </tr>\n",
       "  </thead>\n",
       "  <tbody>\n",
       "    <tr>\n",
       "      <th>0</th>\n",
       "      <td>50</td>\n",
       "      <td>1</td>\n",
       "      <td>167</td>\n",
       "      <td>67</td>\n",
       "      <td>89</td>\n",
       "      <td>130</td>\n",
       "      <td>383</td>\n",
       "      <td>156</td>\n",
       "      <td>73</td>\n",
       "      <td>85</td>\n",
       "      <td>...</td>\n",
       "      <td>-0.5</td>\n",
       "      <td>-0.6</td>\n",
       "      <td>10.8</td>\n",
       "      <td>-1.7</td>\n",
       "      <td>0</td>\n",
       "      <td>0</td>\n",
       "      <td>0.8</td>\n",
       "      <td>0.9</td>\n",
       "      <td>20.1</td>\n",
       "      <td>25.1</td>\n",
       "    </tr>\n",
       "    <tr>\n",
       "      <th>1</th>\n",
       "      <td>44</td>\n",
       "      <td>0</td>\n",
       "      <td>169</td>\n",
       "      <td>80</td>\n",
       "      <td>109</td>\n",
       "      <td>128</td>\n",
       "      <td>382</td>\n",
       "      <td>195</td>\n",
       "      <td>60</td>\n",
       "      <td>-34</td>\n",
       "      <td>...</td>\n",
       "      <td>-0.7</td>\n",
       "      <td>0.0</td>\n",
       "      <td>6.9</td>\n",
       "      <td>0.0</td>\n",
       "      <td>0</td>\n",
       "      <td>0</td>\n",
       "      <td>0.4</td>\n",
       "      <td>1.3</td>\n",
       "      <td>20.7</td>\n",
       "      <td>29.2</td>\n",
       "    </tr>\n",
       "    <tr>\n",
       "      <th>2</th>\n",
       "      <td>58</td>\n",
       "      <td>1</td>\n",
       "      <td>163</td>\n",
       "      <td>68</td>\n",
       "      <td>71</td>\n",
       "      <td>136</td>\n",
       "      <td>339</td>\n",
       "      <td>152</td>\n",
       "      <td>76</td>\n",
       "      <td>13</td>\n",
       "      <td>...</td>\n",
       "      <td>0.0</td>\n",
       "      <td>0.0</td>\n",
       "      <td>6.9</td>\n",
       "      <td>-0.8</td>\n",
       "      <td>0</td>\n",
       "      <td>0</td>\n",
       "      <td>0.4</td>\n",
       "      <td>1.4</td>\n",
       "      <td>13.5</td>\n",
       "      <td>25.5</td>\n",
       "    </tr>\n",
       "    <tr>\n",
       "      <th>3</th>\n",
       "      <td>50</td>\n",
       "      <td>1</td>\n",
       "      <td>160</td>\n",
       "      <td>73</td>\n",
       "      <td>75</td>\n",
       "      <td>125</td>\n",
       "      <td>353</td>\n",
       "      <td>183</td>\n",
       "      <td>63</td>\n",
       "      <td>38</td>\n",
       "      <td>...</td>\n",
       "      <td>-0.2</td>\n",
       "      <td>-0.5</td>\n",
       "      <td>8.1</td>\n",
       "      <td>-0.8</td>\n",
       "      <td>0</td>\n",
       "      <td>0</td>\n",
       "      <td>0.7</td>\n",
       "      <td>2.5</td>\n",
       "      <td>14.5</td>\n",
       "      <td>39.5</td>\n",
       "    </tr>\n",
       "    <tr>\n",
       "      <th>4</th>\n",
       "      <td>45</td>\n",
       "      <td>0</td>\n",
       "      <td>175</td>\n",
       "      <td>80</td>\n",
       "      <td>94</td>\n",
       "      <td>163</td>\n",
       "      <td>401</td>\n",
       "      <td>159</td>\n",
       "      <td>106</td>\n",
       "      <td>-57</td>\n",
       "      <td>...</td>\n",
       "      <td>-0.4</td>\n",
       "      <td>0.0</td>\n",
       "      <td>3.1</td>\n",
       "      <td>0.0</td>\n",
       "      <td>0</td>\n",
       "      <td>0</td>\n",
       "      <td>0.4</td>\n",
       "      <td>1.0</td>\n",
       "      <td>10.5</td>\n",
       "      <td>17.9</td>\n",
       "    </tr>\n",
       "  </tbody>\n",
       "</table>\n",
       "<p>5 rows × 278 columns</p>\n",
       "</div>"
      ],
      "text/plain": [
       "   age  sex  height  weight  QRSduration  PRinterval  Q-Tinterval  Tinterval  \\\n",
       "0   50    1     167      67           89         130          383        156   \n",
       "1   44    0     169      80          109         128          382        195   \n",
       "2   58    1     163      68           71         136          339        152   \n",
       "3   50    1     160      73           75         125          353        183   \n",
       "4   45    0     175      80           94         163          401        159   \n",
       "\n",
       "   Pinterval  QRS  ...  chV6_JJwaveAmp  chV6_QwaveAmp  chV6_RwaveAmp  \\\n",
       "0         73   85  ...            -0.5           -0.6           10.8   \n",
       "1         60  -34  ...            -0.7            0.0            6.9   \n",
       "2         76   13  ...             0.0            0.0            6.9   \n",
       "3         63   38  ...            -0.2           -0.5            8.1   \n",
       "4        106  -57  ...            -0.4            0.0            3.1   \n",
       "\n",
       "   chV6_SwaveAmp  chV6_RPwaveAmp  chV6_SPwaveAmp  chV6_PwaveAmp  \\\n",
       "0           -1.7               0               0            0.8   \n",
       "1            0.0               0               0            0.4   \n",
       "2           -0.8               0               0            0.4   \n",
       "3           -0.8               0               0            0.7   \n",
       "4            0.0               0               0            0.4   \n",
       "\n",
       "   chV6_TwaveAmp  chV6_QRSA  chV6_QRSTA  \n",
       "0            0.9       20.1        25.1  \n",
       "1            1.3       20.7        29.2  \n",
       "2            1.4       13.5        25.5  \n",
       "3            2.5       14.5        39.5  \n",
       "4            1.0       10.5        17.9  \n",
       "\n",
       "[5 rows x 278 columns]"
      ]
     },
     "execution_count": 299,
     "metadata": {},
     "output_type": "execute_result"
    }
   ],
   "source": [
    "test.head()"
   ]
  },
  {
   "cell_type": "code",
   "execution_count": 300,
   "metadata": {},
   "outputs": [
    {
     "data": {
      "text/plain": [
       "age                           0\n",
       "sex                           0\n",
       "height                        0\n",
       "weight                        0\n",
       "QRSduration                   0\n",
       "PRinterval                    0\n",
       "Q-Tinterval                   0\n",
       "Tinterval                     0\n",
       "Pinterval                     0\n",
       "QRS                           0\n",
       "T                             0\n",
       "P                             0\n",
       "QRST                          0\n",
       "heartrate                     0\n",
       "chDI_Qwave                    0\n",
       "chDI_Rwave                    0\n",
       "chDI_Swave                    0\n",
       "chDI_RPwave                   0\n",
       "chDI_SPwave                   0\n",
       "chDI_intrinsicReflecttions    0\n",
       "dtype: int64"
      ]
     },
     "execution_count": 300,
     "metadata": {},
     "output_type": "execute_result"
    }
   ],
   "source": [
    "test.isnull().sum().head(20)"
   ]
  },
  {
   "cell_type": "code",
   "execution_count": 301,
   "metadata": {},
   "outputs": [
    {
     "data": {
      "text/plain": [
       "0"
      ]
     },
     "execution_count": 301,
     "metadata": {},
     "output_type": "execute_result"
    }
   ],
   "source": [
    "test.isnull().sum().sum()"
   ]
  },
  {
   "cell_type": "code",
   "execution_count": 302,
   "metadata": {},
   "outputs": [],
   "source": [
    "test = scaler.transform(test)"
   ]
  },
  {
   "cell_type": "code",
   "execution_count": 303,
   "metadata": {},
   "outputs": [
    {
     "data": {
      "text/plain": [
       "array([[0.59756098, 1.        , 0.7125    , ..., 0.4742268 , 0.48345865,\n",
       "        0.41229773],\n",
       "       [0.52439024, 0.        , 0.7375    , ..., 0.51546392, 0.48796992,\n",
       "        0.43883495],\n",
       "       [0.69512195, 1.        , 0.6625    , ..., 0.5257732 , 0.43383459,\n",
       "        0.41488673],\n",
       "       ...,\n",
       "       [0.6097561 , 0.        , 0.95      , ..., 0.54639175, 0.40300752,\n",
       "        0.4012945 ],\n",
       "       [0.37804878, 1.        , 0.675     , ..., 0.62886598, 0.47593985,\n",
       "        0.48478964],\n",
       "       [0.43902439, 0.        , 0.8125    , ..., 0.44329897, 0.55864662,\n",
       "        0.4763754 ]])"
      ]
     },
     "execution_count": 303,
     "metadata": {},
     "output_type": "execute_result"
    }
   ],
   "source": [
    "test"
   ]
  },
  {
   "cell_type": "code",
   "execution_count": 304,
   "metadata": {},
   "outputs": [
    {
     "data": {
      "text/plain": [
       "BaggingClassifier(base_estimator=DecisionTreeClassifier(class_weight=None,\n",
       "                                                        criterion='gini',\n",
       "                                                        max_depth=5,\n",
       "                                                        max_features=None,\n",
       "                                                        max_leaf_nodes=None,\n",
       "                                                        min_impurity_decrease=0.0,\n",
       "                                                        min_impurity_split=None,\n",
       "                                                        min_samples_leaf=1,\n",
       "                                                        min_samples_split=2,\n",
       "                                                        min_weight_fraction_leaf=0.0,\n",
       "                                                        presort=False,\n",
       "                                                        random_state=None,\n",
       "                                                        splitter='best'),\n",
       "                  bootstrap=True, bootstrap_features=False, max_features=1.0,\n",
       "                  max_samples=100, n_estimators=500, n_jobs=-1, oob_score=False,\n",
       "                  random_state=0, verbose=0, warm_start=False)"
      ]
     },
     "execution_count": 304,
     "metadata": {},
     "output_type": "execute_result"
    },
    {
     "data": {
      "text/plain": [
       "array([10,  1,  1,  1,  6,  1,  6,  1,  1,  2,  2,  1,  1,  1,  1,  1,  1,\n",
       "        1,  1,  1,  1,  4,  1,  2,  1,  6,  2,  1,  1,  2,  1,  4,  1,  1,\n",
       "        1,  1,  1,  1,  2,  1,  1, 10,  1,  2,  1,  1,  1,  1,  2,  1,  1,\n",
       "        1], dtype=int64)"
      ]
     },
     "execution_count": 304,
     "metadata": {},
     "output_type": "execute_result"
    }
   ],
   "source": [
    "dtree= DecisionTreeClassifier(max_depth = 5)\n",
    "bag_clf = BaggingClassifier(dtree, n_estimators=500, max_samples=100, bootstrap=True, n_jobs=-1, random_state=0)\n",
    "\n",
    "bag_clf.fit(X_train, y_train)\n",
    "y_pred = bag_clf.predict(test)\n",
    "y_pred"
   ]
  },
  {
   "cell_type": "code",
   "execution_count": 305,
   "metadata": {},
   "outputs": [],
   "source": [
    "np.savetxt(\"final_test_prediction.csv\",y_pred,delimiter=\",\")"
   ]
  },
  {
   "cell_type": "code",
   "execution_count": null,
   "metadata": {},
   "outputs": [],
   "source": []
  }
 ],
 "metadata": {
  "kernelspec": {
   "display_name": "Python 3",
   "language": "python",
   "name": "python3"
  },
  "language_info": {
   "codemirror_mode": {
    "name": "ipython",
    "version": 3
   },
   "file_extension": ".py",
   "mimetype": "text/x-python",
   "name": "python",
   "nbconvert_exporter": "python",
   "pygments_lexer": "ipython3",
   "version": "3.7.4"
  }
 },
 "nbformat": 4,
 "nbformat_minor": 2
}
